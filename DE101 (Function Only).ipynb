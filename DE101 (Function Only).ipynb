{
 "cells": [
  {
   "cell_type": "markdown",
   "metadata": {},
   "source": [
    "# Differential Evolution (DE) Algorithm"
   ]
  },
  {
   "cell_type": "code",
   "execution_count": 28,
   "metadata": {},
   "outputs": [],
   "source": [
    "#------------------------------------------------------------------------------+\n",
    "#   CHIA E TUNGOM\n",
    "#   Simple Differential Evolution (DE) Algorithm in Python\n",
    "#   Feb, 2020\n",
    "#------------------------------------------------------------------------------+"
   ]
  },
  {
   "cell_type": "code",
   "execution_count": 29,
   "metadata": {},
   "outputs": [],
   "source": [
    "# Import dependensies\n",
    "\n",
    "import random\n",
    "import math"
   ]
  },
  {
   "cell_type": "markdown",
   "metadata": {},
   "source": [
    "# Initialize Population "
   ]
  },
  {
   "cell_type": "code",
   "execution_count": 30,
   "metadata": {},
   "outputs": [
    {
     "name": "stdout",
     "output_type": "stream",
     "text": [
      "[(-10, 10), (-10, 10), (-10, 10)]\n",
      "[[1.123333685412609, -8.672887343308249, -5.341757321416187], [-7.7460425236966435, 4.53536414185006, -1.046214806465116], [-4.66401793920838, -9.590596022493521, -3.8180108795864403], [-4.309358043632336, -1.1414814506136786, -0.515760893834516], [-3.762620284230964, 4.775940649245129, -5.988129840983129]]\n"
     ]
    }
   ],
   "source": [
    "# 1. Start by defining the search bound then generate vectors with given predefined dimensions \n",
    "\n",
    "dim = 3                                                 # dimension of vector\n",
    "bound = (-10, 10)                                     # (lower, upper) bound for one dimensional vector\n",
    "bounds = [bound for i in range(dim)]                # for a 3 dimensionsal vector\n",
    "\n",
    "print(bounds)\n",
    "\n",
    "# 2. generate a population of random vectors (X) within the bound each with dimension D (dim)\n",
    "\n",
    "pop = 5\n",
    "X = [[random.uniform(bounds[i][0], bounds[i][1]) for i in range(dim)] for i in range(pop)]\n",
    "print(X)"
   ]
  },
  {
   "cell_type": "markdown",
   "metadata": {},
   "source": [
    "# Mutation Operation "
   ]
  },
  {
   "cell_type": "code",
   "execution_count": 31,
   "metadata": {},
   "outputs": [
    {
     "name": "stdout",
     "output_type": "stream",
     "text": [
      "[[-4.66401793920838, -9.590596022493521, -3.8180108795864403], [-4.309358043632336, -1.1414814506136786, -0.515760893834516], [-7.7460425236966435, 4.53536414185006, -1.046214806465116]]\n",
      "1.5003539470104397\n"
     ]
    },
    {
     "data": {
      "text/plain": [
       "[[-4.311678335093483, -5.777173363835716, -7.344623547641642],\n",
       " [-4.349755873192657, -1.7853447851056443, -0.4185029351033936],\n",
       " [11.987366099099415, -18.678897225958607, -13.616032246341875],\n",
       " [6.861744968829574, -8.326319276563186, -12.460947628384508],\n",
       " [-13.376063363520611, 3.383358875964351, 0.4013344982635889]]"
      ]
     },
     "execution_count": 31,
     "metadata": {},
     "output_type": "execute_result"
    }
   ],
   "source": [
    "# 3. generate a mutant vector (V) for each target vector \n",
    "#   V(i,g+1) = X(r1, g) + F *(X(r2, g)-X(r3, g))       r1 != r2 != r3   F = mutation rate [0,2]\n",
    "#                                                      DE best 1 scheme X(r1, g) = X(best, g)      g= generation\n",
    "\n",
    "index = [i for i in range(dim)]\n",
    "\n",
    "def selectI(I, Vector, n=3):   \n",
    "    \"\"\"\" I: the vector which cannot be selected\n",
    "         Vector: List of vectors \n",
    "         n: number of indices to be selected    \"\"\"\n",
    "    si = []\n",
    "    V = Vector.copy()        # so not to alter Vector\n",
    "    V.remove(I)\n",
    "    for i in range (n):\n",
    "        a = random.choice(V)\n",
    "        si.append(a)\n",
    "        V.remove(a)\n",
    "    return si \n",
    "\n",
    "Sel = selectI(X[0], X, 3)\n",
    "print(Sel)\n",
    "\n",
    "F = random.uniform(0,2)\n",
    "print(F)\n",
    "\n",
    "def MutateX(a,b,c,F=1.3):\n",
    "    \n",
    "    d = []\n",
    "    e = []\n",
    "    \n",
    "    for i in range(len(a)):\n",
    "        d.append( F*(b[i]-c[i]) )\n",
    "        \n",
    "    for i in range (len(a)):\n",
    "        e.append( a[i] + d[i] )\n",
    "        \n",
    "    return e\n",
    "\n",
    "MutateX(Sel[0], Sel[1], Sel[2], random.uniform(0,2))\n",
    "\n",
    "V=[]\n",
    "for i in range(pop):\n",
    "    \n",
    "    Sel = selectI(X[i], X, 3)\n",
    "    \n",
    "    V.append( MutateX(Sel[0], Sel[1], Sel[2], random.uniform(0,2)) )\n",
    "    \n",
    "V   "
   ]
  },
  {
   "cell_type": "markdown",
   "metadata": {},
   "source": [
    "# CrossOver Operation "
   ]
  },
  {
   "cell_type": "code",
   "execution_count": 32,
   "metadata": {},
   "outputs": [
    {
     "data": {
      "text/plain": [
       "[[-4.311678335093483, -8.672887343308249, -7.344623547641642],\n",
       " [-7.7460425236966435, -1.7853447851056443, -1.046214806465116],\n",
       " [11.987366099099415, -9.590596022493521, -13.616032246341875],\n",
       " [6.861744968829574, -1.1414814506136786, -12.460947628384508],\n",
       " [-13.376063363520611, 3.383358875964351, -5.988129840983129]]"
      ]
     },
     "execution_count": 32,
     "metadata": {},
     "output_type": "execute_result"
    }
   ],
   "source": [
    "# CrossOver Operator\n",
    "\n",
    "# 4. generate a trial vectors (U) using target and mutant vector (Binomial variant)\n",
    "\n",
    "# select V(i, g+1)^j   if rand(j) <= CR or j = a(j)    CR = crossOver probability, a(j) = selected dimension of U(i, g+1)\n",
    "# else select x(i,g)\n",
    "\n",
    "#CR = 0.5\n",
    "#randj = [random.random() for i in range(dim)]\n",
    "#indexs = [i for i in range(dim)]\n",
    "\n",
    "def BinomialU(X, V, dim=dim, pop=pop, CR = 0.5):\n",
    "    \"\"\" X: vectors\n",
    "        V: Mutant vectors\n",
    "        returns U: trial vector\"\"\"\n",
    "    U = []\n",
    "    indexs = [i for i in range(dim)]\n",
    "    CR = 0.5\n",
    "    \n",
    "    for i in range(pop):\n",
    "        randj = [random.random() for i in range(dim)]\n",
    "        rj = random.choice(indexs)\n",
    "        U.append([])\n",
    "        \n",
    "        for j in range(dim):\n",
    "            if randj[j] <= CR or j == rj:\n",
    "                U[i].append(V[i][j])\n",
    "            else:\n",
    "                U[i].append(X[i][j])\n",
    "            \n",
    "    return U\n",
    "\n",
    "\n",
    "U = BinomialU(X,V)     \n",
    "U"
   ]
  },
  {
   "cell_type": "markdown",
   "metadata": {},
   "source": [
    "# Selection Operation "
   ]
  },
  {
   "cell_type": "code",
   "execution_count": 33,
   "metadata": {},
   "outputs": [
    {
     "data": {
      "text/plain": [
       "[[1.123333685412609, -8.672887343308249, -5.341757321416187],\n",
       " [-7.7460425236966435, -1.7853447851056443, -1.046214806465116],\n",
       " [-4.66401793920838, -9.590596022493521, -3.8180108795864403],\n",
       " [-4.309358043632336, -1.1414814506136786, -0.515760893834516],\n",
       " [-3.762620284230964, 4.775940649245129, -5.988129840983129]]"
      ]
     },
     "execution_count": 33,
     "metadata": {},
     "output_type": "execute_result"
    }
   ],
   "source": [
    "# compare fitness of Ui and Xi.the better one survives \n",
    "\n",
    "# 5. Define objective function \n",
    "\n",
    "def sphere(x):\n",
    "    ans = 0\n",
    "    for i in range(len(x)):\n",
    "        ans += x[i]**2\n",
    "        \n",
    "    return ans\n",
    "\n",
    "# 6. Use objective function to select next generation\n",
    "\n",
    "def Selection(X, U, pop=pop):\n",
    "    \"\"\"\" U: trial vector\n",
    "         X: original Vector\n",
    "         returns a New X with either U[i] or X[i] at position i \"\"\"\n",
    "    NewX = []\n",
    "    for i in range(pop):\n",
    "        if sphere(U[i]) < sphere(X[i]):\n",
    "            \n",
    "            NewX.append(U[i])\n",
    "        else:\n",
    "            NewX.append(X[i])\n",
    "        \n",
    "    return NewX\n",
    "\n",
    "Selection(X,U)"
   ]
  },
  {
   "cell_type": "code",
   "execution_count": 34,
   "metadata": {},
   "outputs": [
    {
     "data": {
      "text/plain": [
       "20.1395559499228"
      ]
     },
     "execution_count": 34,
     "metadata": {},
     "output_type": "execute_result"
    }
   ],
   "source": [
    "min ([sphere(i) for i in X])"
   ]
  },
  {
   "cell_type": "markdown",
   "metadata": {},
   "source": [
    "# DE (Putting it all together) "
   ]
  },
  {
   "cell_type": "code",
   "execution_count": 48,
   "metadata": {},
   "outputs": [],
   "source": [
    "# Write a DE Loop\n",
    "\n",
    "# input: dim, pop, bounds, function\n",
    "\n",
    "def DE(dim, bound, function, pop = 10, runs = 20):\n",
    "    \n",
    "    F = 0.5\n",
    "    bounds = [bound for i in range(dim)]\n",
    "    X = [[random.uniform(bounds[i][0], bounds[i][1]) for i in range(dim)] for i in range(pop)]\n",
    "    \n",
    "    EvolutionMatrix = []\n",
    "    EvolutionMatrix.append(X)\n",
    "    \n",
    "    for i in range(runs):\n",
    "        \n",
    "        V = []\n",
    "        S = []\n",
    "        #print(\"HERE NOW\")\n",
    "        \n",
    "        for j in range(pop):\n",
    "            S = selectI(X[j], X, 3)\n",
    "            V.append(MutateX(S[0], S[1], S[2], F))\n",
    "            \n",
    "        U = BinomialU(X, V, dim, pop)\n",
    "        X = Selection(X, U, pop)\n",
    "        f = [function(i) for i in X]\n",
    "        best = min(f)\n",
    "        I = f.index(best)     # find index of best position \n",
    "        \n",
    "        EvolutionMatrix.append(X)\n",
    "        \n",
    "        #print(\"ITERATION \" , i , \"BEST:  \", min([function(i) for i in X]))\n",
    "        \n",
    "    print(X[I]) \n",
    "    \n",
    "    return min([function(i) for i in X]), EvolutionMatrix "
   ]
  },
  {
   "cell_type": "markdown",
   "metadata": {},
   "source": [
    "# Example: Find minimum of a 5D sphere "
   ]
  },
  {
   "cell_type": "code",
   "execution_count": 50,
   "metadata": {},
   "outputs": [
    {
     "name": "stdout",
     "output_type": "stream",
     "text": [
      "[7.359243309193974e-44, 2.325744558796283e-43, 7.404263148623624e-44, -2.8446795068641423e-43, 1.5530784682848962e-43]\n",
      "1.7003157726773314e-85\n"
     ]
    }
   ],
   "source": [
    "\n",
    "dimensions = 5\n",
    "bound = (-10,10)\n",
    "\n",
    "fx, M = DE(dimensions, bound, sphere, pop = 20, runs= 1000)\n",
    "\n",
    "print(fx)"
   ]
  },
  {
   "cell_type": "markdown",
   "metadata": {},
   "source": [
    "# Simulate 2D Evolution "
   ]
  },
  {
   "cell_type": "code",
   "execution_count": 51,
   "metadata": {},
   "outputs": [
    {
     "name": "stdout",
     "output_type": "stream",
     "text": [
      "[-4.137016180984583e-11, 2.2138839063817058e-11]\n"
     ]
    }
   ],
   "source": [
    "dimensions = 2\n",
    "bound = (-10,10)\n",
    "\n",
    "fx, Swarm = DE(dimensions, bound, sphere, pop = 10, runs= 100)"
   ]
  },
  {
   "cell_type": "code",
   "execution_count": 52,
   "metadata": {},
   "outputs": [
    {
     "data": {
      "text/html": [
       "<div>\n",
       "<table border=\"1\" class=\"dataframe\">\n",
       "  <thead>\n",
       "    <tr style=\"text-align: right;\">\n",
       "      <th></th>\n",
       "      <th>0</th>\n",
       "      <th>1</th>\n",
       "      <th>2</th>\n",
       "      <th>3</th>\n",
       "      <th>4</th>\n",
       "      <th>5</th>\n",
       "      <th>6</th>\n",
       "      <th>7</th>\n",
       "      <th>8</th>\n",
       "      <th>9</th>\n",
       "    </tr>\n",
       "  </thead>\n",
       "  <tbody>\n",
       "    <tr>\n",
       "      <th>0</th>\n",
       "      <td>[-7.7736722477822955, -3.027641368060321]</td>\n",
       "      <td>[1.419999582725195, -6.321539856235033]</td>\n",
       "      <td>[2.1830793417919097, -7.687879048081621]</td>\n",
       "      <td>[3.0941830052089454, 0.5235317648432929]</td>\n",
       "      <td>[0.5457215916529599, -8.323136929686958]</td>\n",
       "      <td>[-3.3470510948975774, -5.782859309450408]</td>\n",
       "      <td>[-1.562070328863518, -6.495320443064649]</td>\n",
       "      <td>[-3.076453926331329, -9.912334646262952]</td>\n",
       "      <td>[-9.539681405194091, 0.05163804606282696]</td>\n",
       "      <td>[2.318806488017948, -4.744467257018156]</td>\n",
       "    </tr>\n",
       "    <tr>\n",
       "      <th>1</th>\n",
       "      <td>[4.148078965467184, -0.3903764784678616]</td>\n",
       "      <td>[1.419999582725195, -4.097267791524158]</td>\n",
       "      <td>[2.1830793417919097, -2.013099622343445]</td>\n",
       "      <td>[3.0941830052089454, 0.5235317648432929]</td>\n",
       "      <td>[1.5616146892840428, -6.452974358617308]</td>\n",
       "      <td>[-3.3470510948975774, -5.782859309450408]</td>\n",
       "      <td>[-4.509244363880825, -3.923487204694541]</td>\n",
       "      <td>[4.525800542184584, -8.055379393737198]</td>\n",
       "      <td>[-9.539681405194091, 0.05163804606282696]</td>\n",
       "      <td>[2.318806488017948, -4.744467257018156]</td>\n",
       "    </tr>\n",
       "    <tr>\n",
       "      <th>2</th>\n",
       "      <td>[4.148078965467184, -0.3903764784678616]</td>\n",
       "      <td>[1.419999582725195, -4.097267791524158]</td>\n",
       "      <td>[2.1830793417919097, -2.013099622343445]</td>\n",
       "      <td>[3.0941830052089454, 0.5235317648432929]</td>\n",
       "      <td>[-0.06471885079343798, -6.452974358617308]</td>\n",
       "      <td>[-3.3470510948975774, -5.782859309450408]</td>\n",
       "      <td>[-4.509244363880825, -3.923487204694541]</td>\n",
       "      <td>[-5.036192344009944, -3.466533083038964]</td>\n",
       "      <td>[-9.539681405194091, 0.05163804606282696]</td>\n",
       "      <td>[2.318806488017948, -4.744467257018156]</td>\n",
       "    </tr>\n",
       "    <tr>\n",
       "      <th>3</th>\n",
       "      <td>[4.148078965467184, -0.3903764784678616]</td>\n",
       "      <td>[1.419999582725195, -4.097267791524158]</td>\n",
       "      <td>[1.0323113241296964, -2.013099622343445]</td>\n",
       "      <td>[3.0941830052089454, 0.5235317648432929]</td>\n",
       "      <td>[-0.06471885079343798, -6.452974358617308]</td>\n",
       "      <td>[-3.3470510948975774, -5.782859309450408]</td>\n",
       "      <td>[-3.456741416008752, -3.923487204694541]</td>\n",
       "      <td>[0.9705961300788184, -3.466533083038964]</td>\n",
       "      <td>[-5.569313851441271, -4.518115732489024]</td>\n",
       "      <td>[2.318806488017948, -4.744467257018156]</td>\n",
       "    </tr>\n",
       "    <tr>\n",
       "      <th>4</th>\n",
       "      <td>[-4.099988997952877, -0.3903764784678616]</td>\n",
       "      <td>[1.419999582725195, -4.097267791524158]</td>\n",
       "      <td>[1.0323113241296964, -2.013099622343445]</td>\n",
       "      <td>[3.0941830052089454, 0.5235317648432929]</td>\n",
       "      <td>[0.6558125058419719, 0.6104220582581013]</td>\n",
       "      <td>[1.450857179750634, -5.782859309450408]</td>\n",
       "      <td>[1.3957814651432683, -3.923487204694541]</td>\n",
       "      <td>[0.9705961300788184, -3.466533083038964]</td>\n",
       "      <td>[-5.569313851441271, -4.518115732489024]</td>\n",
       "      <td>[-0.6705699919732513, -4.744467257018156]</td>\n",
       "    </tr>\n",
       "  </tbody>\n",
       "</table>\n",
       "</div>"
      ],
      "text/plain": [
       "                                           0  \\\n",
       "0  [-7.7736722477822955, -3.027641368060321]   \n",
       "1   [4.148078965467184, -0.3903764784678616]   \n",
       "2   [4.148078965467184, -0.3903764784678616]   \n",
       "3   [4.148078965467184, -0.3903764784678616]   \n",
       "4  [-4.099988997952877, -0.3903764784678616]   \n",
       "\n",
       "                                         1  \\\n",
       "0  [1.419999582725195, -6.321539856235033]   \n",
       "1  [1.419999582725195, -4.097267791524158]   \n",
       "2  [1.419999582725195, -4.097267791524158]   \n",
       "3  [1.419999582725195, -4.097267791524158]   \n",
       "4  [1.419999582725195, -4.097267791524158]   \n",
       "\n",
       "                                          2  \\\n",
       "0  [2.1830793417919097, -7.687879048081621]   \n",
       "1  [2.1830793417919097, -2.013099622343445]   \n",
       "2  [2.1830793417919097, -2.013099622343445]   \n",
       "3  [1.0323113241296964, -2.013099622343445]   \n",
       "4  [1.0323113241296964, -2.013099622343445]   \n",
       "\n",
       "                                          3  \\\n",
       "0  [3.0941830052089454, 0.5235317648432929]   \n",
       "1  [3.0941830052089454, 0.5235317648432929]   \n",
       "2  [3.0941830052089454, 0.5235317648432929]   \n",
       "3  [3.0941830052089454, 0.5235317648432929]   \n",
       "4  [3.0941830052089454, 0.5235317648432929]   \n",
       "\n",
       "                                            4  \\\n",
       "0    [0.5457215916529599, -8.323136929686958]   \n",
       "1    [1.5616146892840428, -6.452974358617308]   \n",
       "2  [-0.06471885079343798, -6.452974358617308]   \n",
       "3  [-0.06471885079343798, -6.452974358617308]   \n",
       "4    [0.6558125058419719, 0.6104220582581013]   \n",
       "\n",
       "                                           5  \\\n",
       "0  [-3.3470510948975774, -5.782859309450408]   \n",
       "1  [-3.3470510948975774, -5.782859309450408]   \n",
       "2  [-3.3470510948975774, -5.782859309450408]   \n",
       "3  [-3.3470510948975774, -5.782859309450408]   \n",
       "4    [1.450857179750634, -5.782859309450408]   \n",
       "\n",
       "                                          6  \\\n",
       "0  [-1.562070328863518, -6.495320443064649]   \n",
       "1  [-4.509244363880825, -3.923487204694541]   \n",
       "2  [-4.509244363880825, -3.923487204694541]   \n",
       "3  [-3.456741416008752, -3.923487204694541]   \n",
       "4  [1.3957814651432683, -3.923487204694541]   \n",
       "\n",
       "                                          7  \\\n",
       "0  [-3.076453926331329, -9.912334646262952]   \n",
       "1   [4.525800542184584, -8.055379393737198]   \n",
       "2  [-5.036192344009944, -3.466533083038964]   \n",
       "3  [0.9705961300788184, -3.466533083038964]   \n",
       "4  [0.9705961300788184, -3.466533083038964]   \n",
       "\n",
       "                                           8  \\\n",
       "0  [-9.539681405194091, 0.05163804606282696]   \n",
       "1  [-9.539681405194091, 0.05163804606282696]   \n",
       "2  [-9.539681405194091, 0.05163804606282696]   \n",
       "3   [-5.569313851441271, -4.518115732489024]   \n",
       "4   [-5.569313851441271, -4.518115732489024]   \n",
       "\n",
       "                                           9  \n",
       "0    [2.318806488017948, -4.744467257018156]  \n",
       "1    [2.318806488017948, -4.744467257018156]  \n",
       "2    [2.318806488017948, -4.744467257018156]  \n",
       "3    [2.318806488017948, -4.744467257018156]  \n",
       "4  [-0.6705699919732513, -4.744467257018156]  "
      ]
     },
     "execution_count": 52,
     "metadata": {},
     "output_type": "execute_result"
    }
   ],
   "source": [
    "import pandas as pd\n",
    "\n",
    "#d={\"Particle\": 1, \"Evolution\":None, \"Position\":None, \"Velocity\":None, \"best_Position\":None, \"Error\":None,  \"best_Error\":None }\n",
    "#df = pd.DataFrame(data = d, index = \"Particle\")\n",
    "\n",
    "# make a dataframe from original swarm data structure\n",
    "SF = pd.DataFrame(Swarm)\n",
    "\n",
    "SF.head()"
   ]
  },
  {
   "cell_type": "code",
   "execution_count": 53,
   "metadata": {},
   "outputs": [
    {
     "data": {
      "text/html": [
       "<div>\n",
       "<table border=\"1\" class=\"dataframe\">\n",
       "  <thead>\n",
       "    <tr style=\"text-align: right;\">\n",
       "      <th></th>\n",
       "      <th>Particle</th>\n",
       "      <th>Evolution</th>\n",
       "      <th>Position</th>\n",
       "    </tr>\n",
       "  </thead>\n",
       "  <tbody>\n",
       "    <tr>\n",
       "      <th>0</th>\n",
       "      <td>0.0</td>\n",
       "      <td>0.0</td>\n",
       "      <td>[-7.7736722477822955, -3.027641368060321]</td>\n",
       "    </tr>\n",
       "    <tr>\n",
       "      <th>1</th>\n",
       "      <td>1.0</td>\n",
       "      <td>0.0</td>\n",
       "      <td>[1.419999582725195, -6.321539856235033]</td>\n",
       "    </tr>\n",
       "    <tr>\n",
       "      <th>2</th>\n",
       "      <td>2.0</td>\n",
       "      <td>0.0</td>\n",
       "      <td>[2.1830793417919097, -7.687879048081621]</td>\n",
       "    </tr>\n",
       "    <tr>\n",
       "      <th>3</th>\n",
       "      <td>3.0</td>\n",
       "      <td>0.0</td>\n",
       "      <td>[3.0941830052089454, 0.5235317648432929]</td>\n",
       "    </tr>\n",
       "    <tr>\n",
       "      <th>4</th>\n",
       "      <td>4.0</td>\n",
       "      <td>0.0</td>\n",
       "      <td>[0.5457215916529599, -8.323136929686958]</td>\n",
       "    </tr>\n",
       "  </tbody>\n",
       "</table>\n",
       "</div>"
      ],
      "text/plain": [
       "   Particle  Evolution                                   Position\n",
       "0       0.0        0.0  [-7.7736722477822955, -3.027641368060321]\n",
       "1       1.0        0.0    [1.419999582725195, -6.321539856235033]\n",
       "2       2.0        0.0   [2.1830793417919097, -7.687879048081621]\n",
       "3       3.0        0.0   [3.0941830052089454, 0.5235317648432929]\n",
       "4       4.0        0.0   [0.5457215916529599, -8.323136929686958]"
      ]
     },
     "execution_count": 53,
     "metadata": {},
     "output_type": "execute_result"
    }
   ],
   "source": [
    "# Write a Loop to populate Dataframe of Swarm\n",
    "\n",
    "DF1 = pd.DataFrame(columns=[\"Particle\",\"Evolution\",\"Position\"])\n",
    "\n",
    "for i in range(len(Swarm)):\n",
    "    for j in range(len(Swarm[0])):\n",
    "        \n",
    "        DF1 = DF1.append({\"Particle\": j, \"Evolution\": i, \"Position\":Swarm[i][j]}, ignore_index=True)\n",
    "        \n",
    "        \n",
    "DF1.head()"
   ]
  },
  {
   "cell_type": "code",
   "execution_count": 54,
   "metadata": {},
   "outputs": [
    {
     "data": {
      "text/html": [
       "<div>\n",
       "<table border=\"1\" class=\"dataframe\">\n",
       "  <thead>\n",
       "    <tr style=\"text-align: right;\">\n",
       "      <th></th>\n",
       "      <th>Particle</th>\n",
       "      <th>Evolution</th>\n",
       "      <th>Position</th>\n",
       "      <th>PositionX</th>\n",
       "      <th>PositionY</th>\n",
       "      <th>size</th>\n",
       "    </tr>\n",
       "  </thead>\n",
       "  <tbody>\n",
       "    <tr>\n",
       "      <th>0</th>\n",
       "      <td>0.0</td>\n",
       "      <td>0.0</td>\n",
       "      <td>[-7.7736722477822955, -3.027641368060321]</td>\n",
       "      <td>-7.773672</td>\n",
       "      <td>-3.027641</td>\n",
       "      <td>5</td>\n",
       "    </tr>\n",
       "    <tr>\n",
       "      <th>1</th>\n",
       "      <td>1.0</td>\n",
       "      <td>0.0</td>\n",
       "      <td>[1.419999582725195, -6.321539856235033]</td>\n",
       "      <td>1.420000</td>\n",
       "      <td>-6.321540</td>\n",
       "      <td>5</td>\n",
       "    </tr>\n",
       "    <tr>\n",
       "      <th>2</th>\n",
       "      <td>2.0</td>\n",
       "      <td>0.0</td>\n",
       "      <td>[2.1830793417919097, -7.687879048081621]</td>\n",
       "      <td>2.183079</td>\n",
       "      <td>-7.687879</td>\n",
       "      <td>5</td>\n",
       "    </tr>\n",
       "    <tr>\n",
       "      <th>3</th>\n",
       "      <td>3.0</td>\n",
       "      <td>0.0</td>\n",
       "      <td>[3.0941830052089454, 0.5235317648432929]</td>\n",
       "      <td>3.094183</td>\n",
       "      <td>0.523532</td>\n",
       "      <td>5</td>\n",
       "    </tr>\n",
       "    <tr>\n",
       "      <th>4</th>\n",
       "      <td>4.0</td>\n",
       "      <td>0.0</td>\n",
       "      <td>[0.5457215916529599, -8.323136929686958]</td>\n",
       "      <td>0.545722</td>\n",
       "      <td>-8.323137</td>\n",
       "      <td>5</td>\n",
       "    </tr>\n",
       "  </tbody>\n",
       "</table>\n",
       "</div>"
      ],
      "text/plain": [
       "   Particle  Evolution                                   Position  PositionX  \\\n",
       "0       0.0        0.0  [-7.7736722477822955, -3.027641368060321]  -7.773672   \n",
       "1       1.0        0.0    [1.419999582725195, -6.321539856235033]   1.420000   \n",
       "2       2.0        0.0   [2.1830793417919097, -7.687879048081621]   2.183079   \n",
       "3       3.0        0.0   [3.0941830052089454, 0.5235317648432929]   3.094183   \n",
       "4       4.0        0.0   [0.5457215916529599, -8.323136929686958]   0.545722   \n",
       "\n",
       "   PositionY  size  \n",
       "0  -3.027641     5  \n",
       "1  -6.321540     5  \n",
       "2  -7.687879     5  \n",
       "3   0.523532     5  \n",
       "4  -8.323137     5  "
      ]
     },
     "execution_count": 54,
     "metadata": {},
     "output_type": "execute_result"
    }
   ],
   "source": [
    "DF1[[\"PositionX\", \"PositionY\"]] = pd.DataFrame(DF1.Position.values.tolist(), index = DF1.index)\n",
    "DF1[\"size\"] = 5\n",
    "DF1.head()"
   ]
  },
  {
   "cell_type": "code",
   "execution_count": 55,
   "metadata": {},
   "outputs": [
    {
     "data": {
      "application/vnd.plotly.v1+json": {
       "config": {
        "plotlyServerURL": "https://plot.ly"
       },
       "data": [
        {
         "hoverlabel": {
          "namelength": 0
         },
         "hovertemplate": "Evolution=0.0<br>PositionX=%{x}<br>PositionY=%{y}<br>size=%{marker.size}<br>Particle=%{marker.color}",
         "ids": [
          0,
          1,
          2,
          3,
          4,
          5,
          6,
          7,
          8,
          9
         ],
         "legendgroup": "",
         "marker": {
          "color": [
           0,
           1,
           2,
           3,
           4,
           5,
           6,
           7,
           8,
           9
          ],
          "coloraxis": "coloraxis",
          "size": [
           5,
           5,
           5,
           5,
           5,
           5,
           5,
           5,
           5,
           5
          ],
          "sizemode": "area",
          "sizeref": 0.029585798816568046,
          "symbol": "circle"
         },
         "mode": "markers",
         "name": "",
         "showlegend": false,
         "type": "scatter",
         "x": [
          -7.7736722477822955,
          1.419999582725195,
          2.1830793417919097,
          3.0941830052089454,
          0.5457215916529599,
          -3.3470510948975774,
          -1.562070328863518,
          -3.076453926331329,
          -9.539681405194091,
          2.318806488017948
         ],
         "xaxis": "x",
         "y": [
          -3.027641368060321,
          -6.321539856235033,
          -7.687879048081621,
          0.5235317648432929,
          -8.323136929686958,
          -5.782859309450408,
          -6.495320443064649,
          -9.912334646262952,
          0.05163804606282696,
          -4.744467257018156
         ],
         "yaxis": "y"
        }
       ],
       "frames": [
        {
         "data": [
          {
           "hoverlabel": {
            "namelength": 0
           },
           "hovertemplate": "Evolution=0.0<br>PositionX=%{x}<br>PositionY=%{y}<br>size=%{marker.size}<br>Particle=%{marker.color}",
           "ids": [
            0,
            1,
            2,
            3,
            4,
            5,
            6,
            7,
            8,
            9
           ],
           "legendgroup": "",
           "marker": {
            "color": [
             0,
             1,
             2,
             3,
             4,
             5,
             6,
             7,
             8,
             9
            ],
            "coloraxis": "coloraxis",
            "size": [
             5,
             5,
             5,
             5,
             5,
             5,
             5,
             5,
             5,
             5
            ],
            "sizemode": "area",
            "sizeref": 0.029585798816568046,
            "symbol": "circle"
           },
           "mode": "markers",
           "name": "",
           "showlegend": false,
           "type": "scatter",
           "x": [
            -7.7736722477822955,
            1.419999582725195,
            2.1830793417919097,
            3.0941830052089454,
            0.5457215916529599,
            -3.3470510948975774,
            -1.562070328863518,
            -3.076453926331329,
            -9.539681405194091,
            2.318806488017948
           ],
           "xaxis": "x",
           "y": [
            -3.027641368060321,
            -6.321539856235033,
            -7.687879048081621,
            0.5235317648432929,
            -8.323136929686958,
            -5.782859309450408,
            -6.495320443064649,
            -9.912334646262952,
            0.05163804606282696,
            -4.744467257018156
           ],
           "yaxis": "y"
          }
         ],
         "name": "0.0"
        },
        {
         "data": [
          {
           "hoverlabel": {
            "namelength": 0
           },
           "hovertemplate": "Evolution=1.0<br>PositionX=%{x}<br>PositionY=%{y}<br>size=%{marker.size}<br>Particle=%{marker.color}",
           "ids": [
            0,
            1,
            2,
            3,
            4,
            5,
            6,
            7,
            8,
            9
           ],
           "legendgroup": "",
           "marker": {
            "color": [
             0,
             1,
             2,
             3,
             4,
             5,
             6,
             7,
             8,
             9
            ],
            "coloraxis": "coloraxis",
            "size": [
             5,
             5,
             5,
             5,
             5,
             5,
             5,
             5,
             5,
             5
            ],
            "sizemode": "area",
            "sizeref": 0.029585798816568046,
            "symbol": "circle"
           },
           "mode": "markers",
           "name": "",
           "showlegend": false,
           "type": "scatter",
           "x": [
            4.148078965467184,
            1.419999582725195,
            2.1830793417919097,
            3.0941830052089454,
            1.5616146892840428,
            -3.3470510948975774,
            -4.509244363880825,
            4.525800542184584,
            -9.539681405194091,
            2.318806488017948
           ],
           "xaxis": "x",
           "y": [
            -0.3903764784678616,
            -4.097267791524158,
            -2.013099622343445,
            0.5235317648432929,
            -6.452974358617308,
            -5.782859309450408,
            -3.923487204694541,
            -8.055379393737198,
            0.05163804606282696,
            -4.744467257018156
           ],
           "yaxis": "y"
          }
         ],
         "name": "1.0"
        },
        {
         "data": [
          {
           "hoverlabel": {
            "namelength": 0
           },
           "hovertemplate": "Evolution=2.0<br>PositionX=%{x}<br>PositionY=%{y}<br>size=%{marker.size}<br>Particle=%{marker.color}",
           "ids": [
            0,
            1,
            2,
            3,
            4,
            5,
            6,
            7,
            8,
            9
           ],
           "legendgroup": "",
           "marker": {
            "color": [
             0,
             1,
             2,
             3,
             4,
             5,
             6,
             7,
             8,
             9
            ],
            "coloraxis": "coloraxis",
            "size": [
             5,
             5,
             5,
             5,
             5,
             5,
             5,
             5,
             5,
             5
            ],
            "sizemode": "area",
            "sizeref": 0.029585798816568046,
            "symbol": "circle"
           },
           "mode": "markers",
           "name": "",
           "showlegend": false,
           "type": "scatter",
           "x": [
            4.148078965467184,
            1.419999582725195,
            2.1830793417919097,
            3.0941830052089454,
            -0.06471885079343798,
            -3.3470510948975774,
            -4.509244363880825,
            -5.036192344009944,
            -9.539681405194091,
            2.318806488017948
           ],
           "xaxis": "x",
           "y": [
            -0.3903764784678616,
            -4.097267791524158,
            -2.013099622343445,
            0.5235317648432929,
            -6.452974358617308,
            -5.782859309450408,
            -3.923487204694541,
            -3.466533083038964,
            0.05163804606282696,
            -4.744467257018156
           ],
           "yaxis": "y"
          }
         ],
         "name": "2.0"
        },
        {
         "data": [
          {
           "hoverlabel": {
            "namelength": 0
           },
           "hovertemplate": "Evolution=3.0<br>PositionX=%{x}<br>PositionY=%{y}<br>size=%{marker.size}<br>Particle=%{marker.color}",
           "ids": [
            0,
            1,
            2,
            3,
            4,
            5,
            6,
            7,
            8,
            9
           ],
           "legendgroup": "",
           "marker": {
            "color": [
             0,
             1,
             2,
             3,
             4,
             5,
             6,
             7,
             8,
             9
            ],
            "coloraxis": "coloraxis",
            "size": [
             5,
             5,
             5,
             5,
             5,
             5,
             5,
             5,
             5,
             5
            ],
            "sizemode": "area",
            "sizeref": 0.029585798816568046,
            "symbol": "circle"
           },
           "mode": "markers",
           "name": "",
           "showlegend": false,
           "type": "scatter",
           "x": [
            4.148078965467184,
            1.419999582725195,
            1.0323113241296964,
            3.0941830052089454,
            -0.06471885079343798,
            -3.3470510948975774,
            -3.456741416008752,
            0.9705961300788184,
            -5.569313851441271,
            2.318806488017948
           ],
           "xaxis": "x",
           "y": [
            -0.3903764784678616,
            -4.097267791524158,
            -2.013099622343445,
            0.5235317648432929,
            -6.452974358617308,
            -5.782859309450408,
            -3.923487204694541,
            -3.466533083038964,
            -4.518115732489024,
            -4.744467257018156
           ],
           "yaxis": "y"
          }
         ],
         "name": "3.0"
        },
        {
         "data": [
          {
           "hoverlabel": {
            "namelength": 0
           },
           "hovertemplate": "Evolution=4.0<br>PositionX=%{x}<br>PositionY=%{y}<br>size=%{marker.size}<br>Particle=%{marker.color}",
           "ids": [
            0,
            1,
            2,
            3,
            4,
            5,
            6,
            7,
            8,
            9
           ],
           "legendgroup": "",
           "marker": {
            "color": [
             0,
             1,
             2,
             3,
             4,
             5,
             6,
             7,
             8,
             9
            ],
            "coloraxis": "coloraxis",
            "size": [
             5,
             5,
             5,
             5,
             5,
             5,
             5,
             5,
             5,
             5
            ],
            "sizemode": "area",
            "sizeref": 0.029585798816568046,
            "symbol": "circle"
           },
           "mode": "markers",
           "name": "",
           "showlegend": false,
           "type": "scatter",
           "x": [
            -4.099988997952877,
            1.419999582725195,
            1.0323113241296964,
            3.0941830052089454,
            0.6558125058419719,
            1.450857179750634,
            1.3957814651432683,
            0.9705961300788184,
            -5.569313851441271,
            -0.6705699919732513
           ],
           "xaxis": "x",
           "y": [
            -0.3903764784678616,
            -4.097267791524158,
            -2.013099622343445,
            0.5235317648432929,
            0.6104220582581013,
            -5.782859309450408,
            -3.923487204694541,
            -3.466533083038964,
            -4.518115732489024,
            -4.744467257018156
           ],
           "yaxis": "y"
          }
         ],
         "name": "4.0"
        },
        {
         "data": [
          {
           "hoverlabel": {
            "namelength": 0
           },
           "hovertemplate": "Evolution=5.0<br>PositionX=%{x}<br>PositionY=%{y}<br>size=%{marker.size}<br>Particle=%{marker.color}",
           "ids": [
            0,
            1,
            2,
            3,
            4,
            5,
            6,
            7,
            8,
            9
           ],
           "legendgroup": "",
           "marker": {
            "color": [
             0,
             1,
             2,
             3,
             4,
             5,
             6,
             7,
             8,
             9
            ],
            "coloraxis": "coloraxis",
            "size": [
             5,
             5,
             5,
             5,
             5,
             5,
             5,
             5,
             5,
             5
            ],
            "sizemode": "area",
            "sizeref": 0.029585798816568046,
            "symbol": "circle"
           },
           "mode": "markers",
           "name": "",
           "showlegend": false,
           "type": "scatter",
           "x": [
            -4.099988997952877,
            1.419999582725195,
            -1.0680923289275823,
            0.8076095978065081,
            0.6558125058419719,
            1.450857179750634,
            1.3957814651432683,
            0.9705961300788184,
            -3.911739588809015,
            -0.6705699919732513
           ],
           "xaxis": "x",
           "y": [
            -0.3903764784678616,
            -4.097267791524158,
            -1.5478265731639018,
            0.5235317648432929,
            0.6104220582581013,
            -5.782859309450408,
            -3.923487204694541,
            -3.466533083038964,
            -1.7021373187686348,
            -4.325744852351947
           ],
           "yaxis": "y"
          }
         ],
         "name": "5.0"
        },
        {
         "data": [
          {
           "hoverlabel": {
            "namelength": 0
           },
           "hovertemplate": "Evolution=6.0<br>PositionX=%{x}<br>PositionY=%{y}<br>size=%{marker.size}<br>Particle=%{marker.color}",
           "ids": [
            0,
            1,
            2,
            3,
            4,
            5,
            6,
            7,
            8,
            9
           ],
           "legendgroup": "",
           "marker": {
            "color": [
             0,
             1,
             2,
             3,
             4,
             5,
             6,
             7,
             8,
             9
            ],
            "coloraxis": "coloraxis",
            "size": [
             5,
             5,
             5,
             5,
             5,
             5,
             5,
             5,
             5,
             5
            ],
            "sizemode": "area",
            "sizeref": 0.029585798816568046,
            "symbol": "circle"
           },
           "mode": "markers",
           "name": "",
           "showlegend": false,
           "type": "scatter",
           "x": [
            1.1897031362481196,
            1.419999582725195,
            -1.0680923289275823,
            0.8076095978065081,
            0.6558125058419719,
            1.450857179750634,
            0.6502177856880849,
            0.9705961300788184,
            -3.911739588809015,
            -0.6705699919732513
           ],
           "xaxis": "x",
           "y": [
            -1.8303131600478366,
            -4.097267791524158,
            -1.5478265731639018,
            0.5235317648432929,
            0.6104220582581013,
            1.7982523740234209,
            2.562009335491825,
            0.4198576137781407,
            -1.7021373187686348,
            -4.325744852351947
           ],
           "yaxis": "y"
          }
         ],
         "name": "6.0"
        },
        {
         "data": [
          {
           "hoverlabel": {
            "namelength": 0
           },
           "hovertemplate": "Evolution=7.0<br>PositionX=%{x}<br>PositionY=%{y}<br>size=%{marker.size}<br>Particle=%{marker.color}",
           "ids": [
            0,
            1,
            2,
            3,
            4,
            5,
            6,
            7,
            8,
            9
           ],
           "legendgroup": "",
           "marker": {
            "color": [
             0,
             1,
             2,
             3,
             4,
             5,
             6,
             7,
             8,
             9
            ],
            "coloraxis": "coloraxis",
            "size": [
             5,
             5,
             5,
             5,
             5,
             5,
             5,
             5,
             5,
             5
            ],
            "sizemode": "area",
            "sizeref": 0.029585798816568046,
            "symbol": "circle"
           },
           "mode": "markers",
           "name": "",
           "showlegend": false,
           "type": "scatter",
           "x": [
            1.1897031362481196,
            -3.83024632267286,
            -1.0680923289275823,
            0.8076095978065081,
            0.6558125058419719,
            1.450857179750634,
            0.6502177856880849,
            0.9705961300788184,
            0.8946975840965503,
            -0.28763317767896035
           ],
           "xaxis": "x",
           "y": [
            0.3764124670707365,
            -1.753974394301211,
            -1.5478265731639018,
            0.5235317648432929,
            0.6104220582581013,
            1.7982523740234209,
            -0.3001107270118468,
            0.4198576137781407,
            -1.7021373187686348,
            1.5263301664882278
           ],
           "yaxis": "y"
          }
         ],
         "name": "7.0"
        },
        {
         "data": [
          {
           "hoverlabel": {
            "namelength": 0
           },
           "hovertemplate": "Evolution=8.0<br>PositionX=%{x}<br>PositionY=%{y}<br>size=%{marker.size}<br>Particle=%{marker.color}",
           "ids": [
            0,
            1,
            2,
            3,
            4,
            5,
            6,
            7,
            8,
            9
           ],
           "legendgroup": "",
           "marker": {
            "color": [
             0,
             1,
             2,
             3,
             4,
             5,
             6,
             7,
             8,
             9
            ],
            "coloraxis": "coloraxis",
            "size": [
             5,
             5,
             5,
             5,
             5,
             5,
             5,
             5,
             5,
             5
            ],
            "sizemode": "area",
            "sizeref": 0.029585798816568046,
            "symbol": "circle"
           },
           "mode": "markers",
           "name": "",
           "showlegend": false,
           "type": "scatter",
           "x": [
            -1.0301430559364482,
            -1.6972069828064718,
            -0.2061399115428052,
            0.8076095978065081,
            0.6558125058419719,
            1.450857179750634,
            0.6502177856880849,
            0.9705961300788184,
            0.8946975840965503,
            -0.28763317767896035
           ],
           "xaxis": "x",
           "y": [
            -0.48682910689051395,
            -0.9945902968088582,
            1.4744930909556517,
            0.5235317648432929,
            0.6104220582581013,
            1.7982523740234209,
            -0.3001107270118468,
            0.4198576137781407,
            -1.7021373187686348,
            1.5263301664882278
           ],
           "yaxis": "y"
          }
         ],
         "name": "8.0"
        },
        {
         "data": [
          {
           "hoverlabel": {
            "namelength": 0
           },
           "hovertemplate": "Evolution=9.0<br>PositionX=%{x}<br>PositionY=%{y}<br>size=%{marker.size}<br>Particle=%{marker.color}",
           "ids": [
            0,
            1,
            2,
            3,
            4,
            5,
            6,
            7,
            8,
            9
           ],
           "legendgroup": "",
           "marker": {
            "color": [
             0,
             1,
             2,
             3,
             4,
             5,
             6,
             7,
             8,
             9
            ],
            "coloraxis": "coloraxis",
            "size": [
             5,
             5,
             5,
             5,
             5,
             5,
             5,
             5,
             5,
             5
            ],
            "sizemode": "area",
            "sizeref": 0.029585798816568046,
            "symbol": "circle"
           },
           "mode": "markers",
           "name": "",
           "showlegend": false,
           "type": "scatter",
           "x": [
            0.6178632328508379,
            1.0141401232238394,
            -0.2061399115428052,
            0.8076095978065081,
            0.6558125058419719,
            1.3041280935138302,
            0.6502177856880849,
            0.9705961300788184,
            -0.2699039877647227,
            -0.28763317767896035
           ],
           "xaxis": "x",
           "y": [
            -0.4505754080152866,
            -0.9945902968088582,
            1.4744930909556517,
            0.5235317648432929,
            0.6104220582581013,
            0.6737382087373128,
            -0.3001107270118468,
            0.4198576137781407,
            -0.7226831266788267,
            1.5263301664882278
           ],
           "yaxis": "y"
          }
         ],
         "name": "9.0"
        },
        {
         "data": [
          {
           "hoverlabel": {
            "namelength": 0
           },
           "hovertemplate": "Evolution=10.0<br>PositionX=%{x}<br>PositionY=%{y}<br>size=%{marker.size}<br>Particle=%{marker.color}",
           "ids": [
            0,
            1,
            2,
            3,
            4,
            5,
            6,
            7,
            8,
            9
           ],
           "legendgroup": "",
           "marker": {
            "color": [
             0,
             1,
             2,
             3,
             4,
             5,
             6,
             7,
             8,
             9
            ],
            "coloraxis": "coloraxis",
            "size": [
             5,
             5,
             5,
             5,
             5,
             5,
             5,
             5,
             5,
             5
            ],
            "sizemode": "area",
            "sizeref": 0.029585798816568046,
            "symbol": "circle"
           },
           "mode": "markers",
           "name": "",
           "showlegend": false,
           "type": "scatter",
           "x": [
            0.2369707669099339,
            0.8412698467104829,
            -0.2061399115428052,
            -0.3511338966878006,
            0.6558125058419719,
            0.7668629647384305,
            0.6502177856880849,
            0.5540792364974356,
            -0.2699039877647227,
            -0.28763317767896035
           ],
           "xaxis": "x",
           "y": [
            -0.4505754080152866,
            -0.9945902968088582,
            -0.5827690508812884,
            0.6403288381825663,
            0.6104220582581013,
            0.5494503026095809,
            -0.3001107270118468,
            0.4198576137781407,
            -0.7226831266788267,
            1.5263301664882278
           ],
           "yaxis": "y"
          }
         ],
         "name": "10.0"
        },
        {
         "data": [
          {
           "hoverlabel": {
            "namelength": 0
           },
           "hovertemplate": "Evolution=11.0<br>PositionX=%{x}<br>PositionY=%{y}<br>size=%{marker.size}<br>Particle=%{marker.color}",
           "ids": [
            0,
            1,
            2,
            3,
            4,
            5,
            6,
            7,
            8,
            9
           ],
           "legendgroup": "",
           "marker": {
            "color": [
             0,
             1,
             2,
             3,
             4,
             5,
             6,
             7,
             8,
             9
            ],
            "coloraxis": "coloraxis",
            "size": [
             5,
             5,
             5,
             5,
             5,
             5,
             5,
             5,
             5,
             5
            ],
            "sizemode": "area",
            "sizeref": 0.029585798816568046,
            "symbol": "circle"
           },
           "mode": "markers",
           "name": "",
           "showlegend": false,
           "type": "scatter",
           "x": [
            0.2369707669099339,
            0.8412698467104829,
            -0.2061399115428052,
            0.06757779835681776,
            0.6558125058419719,
            0.7668629647384305,
            -0.40200053136006875,
            0.5540792364974356,
            -0.2699039877647227,
            -0.15527327687053705
           ],
           "xaxis": "x",
           "y": [
            0.10644963845675015,
            -0.9945902968088582,
            -0.5827690508812884,
            -0.14625206296729398,
            0.6104220582581013,
            0.5494503026095809,
            -0.3001107270118468,
            0.4198576137781407,
            -0.7226831266788267,
            -0.4874868286413081
           ],
           "yaxis": "y"
          }
         ],
         "name": "11.0"
        },
        {
         "data": [
          {
           "hoverlabel": {
            "namelength": 0
           },
           "hovertemplate": "Evolution=12.0<br>PositionX=%{x}<br>PositionY=%{y}<br>size=%{marker.size}<br>Particle=%{marker.color}",
           "ids": [
            0,
            1,
            2,
            3,
            4,
            5,
            6,
            7,
            8,
            9
           ],
           "legendgroup": "",
           "marker": {
            "color": [
             0,
             1,
             2,
             3,
             4,
             5,
             6,
             7,
             8,
             9
            ],
            "coloraxis": "coloraxis",
            "size": [
             5,
             5,
             5,
             5,
             5,
             5,
             5,
             5,
             5,
             5
            ],
            "sizemode": "area",
            "sizeref": 0.029585798816568046,
            "symbol": "circle"
           },
           "mode": "markers",
           "name": "",
           "showlegend": false,
           "type": "scatter",
           "x": [
            -0.09974804742230775,
            0.3736332417304833,
            -0.29057499374639134,
            0.06757779835681776,
            -0.2444706704285886,
            -0.29057499374639134,
            -0.40200053136006875,
            0.5540792364974356,
            -0.2699039877647227,
            -0.15527327687053705
           ],
           "xaxis": "x",
           "y": [
            0.10644963845675015,
            -0.9945902968088582,
            -0.12949334417483976,
            0.07982305085465302,
            -0.6750420155588366,
            0.5494503026095809,
            -0.3001107270118468,
            0.4198576137781407,
            -0.7226831266788267,
            -0.4874868286413081
           ],
           "yaxis": "y"
          }
         ],
         "name": "12.0"
        },
        {
         "data": [
          {
           "hoverlabel": {
            "namelength": 0
           },
           "hovertemplate": "Evolution=13.0<br>PositionX=%{x}<br>PositionY=%{y}<br>size=%{marker.size}<br>Particle=%{marker.color}",
           "ids": [
            0,
            1,
            2,
            3,
            4,
            5,
            6,
            7,
            8,
            9
           ],
           "legendgroup": "",
           "marker": {
            "color": [
             0,
             1,
             2,
             3,
             4,
             5,
             6,
             7,
             8,
             9
            ],
            "coloraxis": "coloraxis",
            "size": [
             5,
             5,
             5,
             5,
             5,
             5,
             5,
             5,
             5,
             5
            ],
            "sizemode": "area",
            "sizeref": 0.029585798816568046,
            "symbol": "circle"
           },
           "mode": "markers",
           "name": "",
           "showlegend": false,
           "type": "scatter",
           "x": [
            -0.09974804742230775,
            -0.07572977736781838,
            -0.24147415772271819,
            0.06757779835681776,
            -0.2444706704285886,
            -0.29057499374639134,
            -0.40200053136006875,
            -0.05985980370849525,
            -0.2699039877647227,
            -0.15527327687053705
           ],
           "xaxis": "x",
           "y": [
            0.10644963845675015,
            -0.2737889267920967,
            -0.12949334417483976,
            0.07982305085465302,
            0.09200698790157563,
            0.5494503026095809,
            -0.3001107270118468,
            0.4198576137781407,
            -0.7226831266788267,
            -0.21677184039734043
           ],
           "yaxis": "y"
          }
         ],
         "name": "13.0"
        },
        {
         "data": [
          {
           "hoverlabel": {
            "namelength": 0
           },
           "hovertemplate": "Evolution=14.0<br>PositionX=%{x}<br>PositionY=%{y}<br>size=%{marker.size}<br>Particle=%{marker.color}",
           "ids": [
            0,
            1,
            2,
            3,
            4,
            5,
            6,
            7,
            8,
            9
           ],
           "legendgroup": "",
           "marker": {
            "color": [
             0,
             1,
             2,
             3,
             4,
             5,
             6,
             7,
             8,
             9
            ],
            "coloraxis": "coloraxis",
            "size": [
             5,
             5,
             5,
             5,
             5,
             5,
             5,
             5,
             5,
             5
            ],
            "sizemode": "area",
            "sizeref": 0.029585798816568046,
            "symbol": "circle"
           },
           "mode": "markers",
           "name": "",
           "showlegend": false,
           "type": "scatter",
           "x": [
            -0.09974804742230775,
            -0.07572977736781838,
            -0.2231116746670736,
            0.06757779835681776,
            -0.2444706704285886,
            -0.29057499374639134,
            -0.05025118484242333,
            -0.22132154866821008,
            -0.2699039877647227,
            0.06899284563846247
           ],
           "xaxis": "x",
           "y": [
            0.10644963845675015,
            0.22379875632142945,
            0.06478019514949696,
            0.07982305085465302,
            0.036746542274679994,
            0.5494503026095809,
            0.35449852983114327,
            -0.00548564056385048,
            -0.2535345319382436,
            -0.21677184039734043
           ],
           "yaxis": "y"
          }
         ],
         "name": "14.0"
        },
        {
         "data": [
          {
           "hoverlabel": {
            "namelength": 0
           },
           "hovertemplate": "Evolution=15.0<br>PositionX=%{x}<br>PositionY=%{y}<br>size=%{marker.size}<br>Particle=%{marker.color}",
           "ids": [
            0,
            1,
            2,
            3,
            4,
            5,
            6,
            7,
            8,
            9
           ],
           "legendgroup": "",
           "marker": {
            "color": [
             0,
             1,
             2,
             3,
             4,
             5,
             6,
             7,
             8,
             9
            ],
            "coloraxis": "coloraxis",
            "size": [
             5,
             5,
             5,
             5,
             5,
             5,
             5,
             5,
             5,
             5
            ],
            "sizemode": "area",
            "sizeref": 0.029585798816568046,
            "symbol": "circle"
           },
           "mode": "markers",
           "name": "",
           "showlegend": false,
           "type": "scatter",
           "x": [
            -0.09974804742230775,
            0.05689830047606026,
            -0.2231116746670736,
            0.06757779835681776,
            -0.2444706704285886,
            -0.1004782086577606,
            -0.05025118484242333,
            -0.22132154866821008,
            -0.040833555822687204,
            0.06899284563846247
           ],
           "xaxis": "x",
           "y": [
            0.10644963845675015,
            0.06580622441724454,
            0.06478019514949696,
            0.07982305085465302,
            0.036746542274679994,
            0.5494503026095809,
            0.35449852983114327,
            -0.00548564056385048,
            -0.030888101031494974,
            -0.21677184039734043
           ],
           "yaxis": "y"
          }
         ],
         "name": "15.0"
        },
        {
         "data": [
          {
           "hoverlabel": {
            "namelength": 0
           },
           "hovertemplate": "Evolution=16.0<br>PositionX=%{x}<br>PositionY=%{y}<br>size=%{marker.size}<br>Particle=%{marker.color}",
           "ids": [
            0,
            1,
            2,
            3,
            4,
            5,
            6,
            7,
            8,
            9
           ],
           "legendgroup": "",
           "marker": {
            "color": [
             0,
             1,
             2,
             3,
             4,
             5,
             6,
             7,
             8,
             9
            ],
            "coloraxis": "coloraxis",
            "size": [
             5,
             5,
             5,
             5,
             5,
             5,
             5,
             5,
             5,
             5
            ],
            "sizemode": "area",
            "sizeref": 0.029585798816568046,
            "symbol": "circle"
           },
           "mode": "markers",
           "name": "",
           "showlegend": false,
           "type": "scatter",
           "x": [
            -0.09974804742230775,
            0.05689830047606026,
            -0.2231116746670736,
            0.06757779835681776,
            0.12719981359726068,
            0.03812055255700749,
            0.15871685777901096,
            -0.22132154866821008,
            -0.04021144231702238,
            -0.06594706773035583
           ],
           "xaxis": "x",
           "y": [
            0.10644963845675015,
            0.06580622441724454,
            0.06478019514949696,
            0.07982305085465302,
            -0.20581213425958883,
            0.14849192059877558,
            0.03198890276415706,
            -0.00548564056385048,
            -0.030888101031494974,
            0.06658778535772386
           ],
           "yaxis": "y"
          }
         ],
         "name": "16.0"
        },
        {
         "data": [
          {
           "hoverlabel": {
            "namelength": 0
           },
           "hovertemplate": "Evolution=17.0<br>PositionX=%{x}<br>PositionY=%{y}<br>size=%{marker.size}<br>Particle=%{marker.color}",
           "ids": [
            0,
            1,
            2,
            3,
            4,
            5,
            6,
            7,
            8,
            9
           ],
           "legendgroup": "",
           "marker": {
            "color": [
             0,
             1,
             2,
             3,
             4,
             5,
             6,
             7,
             8,
             9
            ],
            "coloraxis": "coloraxis",
            "size": [
             5,
             5,
             5,
             5,
             5,
             5,
             5,
             5,
             5,
             5
            ],
            "sizemode": "area",
            "sizeref": 0.029585798816568046,
            "symbol": "circle"
           },
           "mode": "markers",
           "name": "",
           "showlegend": false,
           "type": "scatter",
           "x": [
            0.0804456110634845,
            0.05689830047606026,
            -0.1903031005979016,
            0.06757779835681776,
            0.12719981359726068,
            0.03812055255700749,
            0.15871685777901096,
            -0.22132154866821008,
            -0.04021144231702238,
            -0.06594706773035583
           ],
           "xaxis": "x",
           "y": [
            0.031085107660043604,
            0.06580622441724454,
            0.1191508686905724,
            0.052765868353458784,
            -0.20581213425958883,
            0.14849192059877558,
            0.03198890276415706,
            -0.00548564056385048,
            -0.030888101031494974,
            0.06658778535772386
           ],
           "yaxis": "y"
          }
         ],
         "name": "17.0"
        },
        {
         "data": [
          {
           "hoverlabel": {
            "namelength": 0
           },
           "hovertemplate": "Evolution=18.0<br>PositionX=%{x}<br>PositionY=%{y}<br>size=%{marker.size}<br>Particle=%{marker.color}",
           "ids": [
            0,
            1,
            2,
            3,
            4,
            5,
            6,
            7,
            8,
            9
           ],
           "legendgroup": "",
           "marker": {
            "color": [
             0,
             1,
             2,
             3,
             4,
             5,
             6,
             7,
             8,
             9
            ],
            "coloraxis": "coloraxis",
            "size": [
             5,
             5,
             5,
             5,
             5,
             5,
             5,
             5,
             5,
             5
            ],
            "sizemode": "area",
            "sizeref": 0.029585798816568046,
            "symbol": "circle"
           },
           "mode": "markers",
           "name": "",
           "showlegend": false,
           "type": "scatter",
           "x": [
            0.0804456110634845,
            0.007249271666564326,
            -0.1903031005979016,
            0.06757779835681776,
            0.12719981359726068,
            0.03812055255700749,
            0.15871685777901096,
            -0.0268114443725926,
            -0.04021144231702238,
            -0.01724985991525324
           ],
           "xaxis": "x",
           "y": [
            0.031085107660043604,
            0.06580622441724454,
            0.1191508686905724,
            0.052765868353458784,
            -0.20581213425958883,
            0.06297550710992635,
            0.03198890276415706,
            0.06703968290978059,
            -0.030888101031494974,
            0.06658778535772386
           ],
           "yaxis": "y"
          }
         ],
         "name": "18.0"
        },
        {
         "data": [
          {
           "hoverlabel": {
            "namelength": 0
           },
           "hovertemplate": "Evolution=19.0<br>PositionX=%{x}<br>PositionY=%{y}<br>size=%{marker.size}<br>Particle=%{marker.color}",
           "ids": [
            0,
            1,
            2,
            3,
            4,
            5,
            6,
            7,
            8,
            9
           ],
           "legendgroup": "",
           "marker": {
            "color": [
             0,
             1,
             2,
             3,
             4,
             5,
             6,
             7,
             8,
             9
            ],
            "coloraxis": "coloraxis",
            "size": [
             5,
             5,
             5,
             5,
             5,
             5,
             5,
             5,
             5,
             5
            ],
            "sizemode": "area",
            "sizeref": 0.029585798816568046,
            "symbol": "circle"
           },
           "mode": "markers",
           "name": "",
           "showlegend": false,
           "type": "scatter",
           "x": [
            0.0804456110634845,
            0.007249271666564326,
            -0.1903031005979016,
            0.06757779835681776,
            -0.1363894266314488,
            0.03812055255700749,
            0.15871685777901096,
            -0.0268114443725926,
            -0.04021144231702238,
            -0.01724985991525324
           ],
           "xaxis": "x",
           "y": [
            0.031085107660043604,
            0.06580622441724454,
            0.07029125842627054,
            0.052765868353458784,
            0.10655649007313402,
            0.06297550710992635,
            0.03198890276415706,
            -0.01674904043045236,
            -0.030888101031494974,
            0.06658778535772386
           ],
           "yaxis": "y"
          }
         ],
         "name": "19.0"
        },
        {
         "data": [
          {
           "hoverlabel": {
            "namelength": 0
           },
           "hovertemplate": "Evolution=20.0<br>PositionX=%{x}<br>PositionY=%{y}<br>size=%{marker.size}<br>Particle=%{marker.color}",
           "ids": [
            0,
            1,
            2,
            3,
            4,
            5,
            6,
            7,
            8,
            9
           ],
           "legendgroup": "",
           "marker": {
            "color": [
             0,
             1,
             2,
             3,
             4,
             5,
             6,
             7,
             8,
             9
            ],
            "coloraxis": "coloraxis",
            "size": [
             5,
             5,
             5,
             5,
             5,
             5,
             5,
             5,
             5,
             5
            ],
            "sizemode": "area",
            "sizeref": 0.029585798816568046,
            "symbol": "circle"
           },
           "mode": "markers",
           "name": "",
           "showlegend": false,
           "type": "scatter",
           "x": [
            0.08229510080700395,
            0.007249271666564326,
            -0.013913257586674176,
            0.06757779835681776,
            -0.13297559339282417,
            -0.020377538019259234,
            0.09130815534861111,
            -0.0268114443725926,
            -0.04021144231702238,
            -0.01724985991525324
           ],
           "xaxis": "x",
           "y": [
            0.015216544688361783,
            0.06580622441724454,
            0.08175142414218592,
            0.052765868353458784,
            -0.05525707262879968,
            -0.02758942077715995,
            0.10111303107782854,
            -0.01674904043045236,
            -0.030888101031494974,
            0.06658778535772386
           ],
           "yaxis": "y"
          }
         ],
         "name": "20.0"
        },
        {
         "data": [
          {
           "hoverlabel": {
            "namelength": 0
           },
           "hovertemplate": "Evolution=21.0<br>PositionX=%{x}<br>PositionY=%{y}<br>size=%{marker.size}<br>Particle=%{marker.color}",
           "ids": [
            0,
            1,
            2,
            3,
            4,
            5,
            6,
            7,
            8,
            9
           ],
           "legendgroup": "",
           "marker": {
            "color": [
             0,
             1,
             2,
             3,
             4,
             5,
             6,
             7,
             8,
             9
            ],
            "coloraxis": "coloraxis",
            "size": [
             5,
             5,
             5,
             5,
             5,
             5,
             5,
             5,
             5,
             5
            ],
            "sizemode": "area",
            "sizeref": 0.029585798816568046,
            "symbol": "circle"
           },
           "mode": "markers",
           "name": "",
           "showlegend": false,
           "type": "scatter",
           "x": [
            0.08229510080700395,
            0.007249271666564326,
            -0.013913257586674176,
            0.06757779835681776,
            -0.13297559339282417,
            -0.020377538019259234,
            -0.08899792520478567,
            -0.0268114443725926,
            -0.04021144231702238,
            0.028400480470083873
           ],
           "xaxis": "x",
           "y": [
            0.015216544688361783,
            -0.014905308472087903,
            0.08175142414218592,
            0.052765868353458784,
            -0.05525707262879968,
            -0.02758942077715995,
            -0.015079428063490316,
            -0.01674904043045236,
            -0.030888101031494974,
            -0.026610440004115096
           ],
           "yaxis": "y"
          }
         ],
         "name": "21.0"
        },
        {
         "data": [
          {
           "hoverlabel": {
            "namelength": 0
           },
           "hovertemplate": "Evolution=22.0<br>PositionX=%{x}<br>PositionY=%{y}<br>size=%{marker.size}<br>Particle=%{marker.color}",
           "ids": [
            0,
            1,
            2,
            3,
            4,
            5,
            6,
            7,
            8,
            9
           ],
           "legendgroup": "",
           "marker": {
            "color": [
             0,
             1,
             2,
             3,
             4,
             5,
             6,
             7,
             8,
             9
            ],
            "coloraxis": "coloraxis",
            "size": [
             5,
             5,
             5,
             5,
             5,
             5,
             5,
             5,
             5,
             5
            ],
            "sizemode": "area",
            "sizeref": 0.029585798816568046,
            "symbol": "circle"
           },
           "mode": "markers",
           "name": "",
           "showlegend": false,
           "type": "scatter",
           "x": [
            0.07652407890575888,
            0.007249271666564326,
            -0.013913257586674176,
            0.06757779835681776,
            0.018487760520412386,
            -0.020377538019259234,
            -0.08899792520478567,
            -0.0268114443725926,
            -0.04021144231702238,
            0.028400480470083873
           ],
           "xaxis": "x",
           "y": [
            -0.02652338020841389,
            -0.014905308472087903,
            -0.07403173446134818,
            0.01438173850488076,
            -0.05525707262879968,
            -0.003553894233381663,
            -0.015079428063490316,
            -0.01674904043045236,
            -0.030888101031494974,
            -0.026610440004115096
           ],
           "yaxis": "y"
          }
         ],
         "name": "22.0"
        },
        {
         "data": [
          {
           "hoverlabel": {
            "namelength": 0
           },
           "hovertemplate": "Evolution=23.0<br>PositionX=%{x}<br>PositionY=%{y}<br>size=%{marker.size}<br>Particle=%{marker.color}",
           "ids": [
            0,
            1,
            2,
            3,
            4,
            5,
            6,
            7,
            8,
            9
           ],
           "legendgroup": "",
           "marker": {
            "color": [
             0,
             1,
             2,
             3,
             4,
             5,
             6,
             7,
             8,
             9
            ],
            "coloraxis": "coloraxis",
            "size": [
             5,
             5,
             5,
             5,
             5,
             5,
             5,
             5,
             5,
             5
            ],
            "sizemode": "area",
            "sizeref": 0.029585798816568046,
            "symbol": "circle"
           },
           "mode": "markers",
           "name": "",
           "showlegend": false,
           "type": "scatter",
           "x": [
            0.03659887308528171,
            0.007249271666564326,
            0.011722411941034884,
            -0.05997976601211242,
            0.018487760520412386,
            -0.020377538019259234,
            -0.08899792520478567,
            -0.0268114443725926,
            0.03648455794072123,
            0.028400480470083873
           ],
           "xaxis": "x",
           "y": [
            -0.027089794270740257,
            -0.014905308472087903,
            -0.03535786782873523,
            0.01438173850488076,
            -0.05525707262879968,
            -0.003553894233381663,
            -0.015079428063490316,
            -0.01674904043045236,
            0.015216544688361783,
            -0.026610440004115096
           ],
           "yaxis": "y"
          }
         ],
         "name": "23.0"
        },
        {
         "data": [
          {
           "hoverlabel": {
            "namelength": 0
           },
           "hovertemplate": "Evolution=24.0<br>PositionX=%{x}<br>PositionY=%{y}<br>size=%{marker.size}<br>Particle=%{marker.color}",
           "ids": [
            0,
            1,
            2,
            3,
            4,
            5,
            6,
            7,
            8,
            9
           ],
           "legendgroup": "",
           "marker": {
            "color": [
             0,
             1,
             2,
             3,
             4,
             5,
             6,
             7,
             8,
             9
            ],
            "coloraxis": "coloraxis",
            "size": [
             5,
             5,
             5,
             5,
             5,
             5,
             5,
             5,
             5,
             5
            ],
            "sizemode": "area",
            "sizeref": 0.029585798816568046,
            "symbol": "circle"
           },
           "mode": "markers",
           "name": "",
           "showlegend": false,
           "type": "scatter",
           "x": [
            0.03659887308528171,
            0.007249271666564326,
            0.011722411941034884,
            -0.05997976601211242,
            0.018487760520412386,
            -0.020377538019259234,
            -0.08899792520478567,
            -0.0268114443725926,
            0.03648455794072123,
            0.028400480470083873
           ],
           "xaxis": "x",
           "y": [
            -0.027089794270740257,
            -0.014905308472087903,
            -0.03535786782873523,
            0.01438173850488076,
            -0.05525707262879968,
            -0.003553894233381663,
            -0.015079428063490316,
            -0.01674904043045236,
            0.015216544688361783,
            -0.026610440004115096
           ],
           "yaxis": "y"
          }
         ],
         "name": "24.0"
        },
        {
         "data": [
          {
           "hoverlabel": {
            "namelength": 0
           },
           "hovertemplate": "Evolution=25.0<br>PositionX=%{x}<br>PositionY=%{y}<br>size=%{marker.size}<br>Particle=%{marker.color}",
           "ids": [
            0,
            1,
            2,
            3,
            4,
            5,
            6,
            7,
            8,
            9
           ],
           "legendgroup": "",
           "marker": {
            "color": [
             0,
             1,
             2,
             3,
             4,
             5,
             6,
             7,
             8,
             9
            ],
            "coloraxis": "coloraxis",
            "size": [
             5,
             5,
             5,
             5,
             5,
             5,
             5,
             5,
             5,
             5
            ],
            "sizemode": "area",
            "sizeref": 0.029585798816568046,
            "symbol": "circle"
           },
           "mode": "markers",
           "name": "",
           "showlegend": false,
           "type": "scatter",
           "x": [
            -0.003247520686573045,
            0.007249271666564326,
            0.002288679492518493,
            0.02180975723136254,
            0.018487760520412386,
            -0.020377538019259234,
            -0.08899792520478567,
            -0.0268114443725926,
            0.01968750223868774,
            0.028400480470083873
           ],
           "xaxis": "x",
           "y": [
            -0.04259323256352217,
            -0.014905308472087903,
            -0.03285256118579458,
            0.01438173850488076,
            -0.05525707262879968,
            -0.0005384622618950022,
            -0.015079428063490316,
            -0.01674904043045236,
            0.015216544688361783,
            -0.026610440004115096
           ],
           "yaxis": "y"
          }
         ],
         "name": "25.0"
        },
        {
         "data": [
          {
           "hoverlabel": {
            "namelength": 0
           },
           "hovertemplate": "Evolution=26.0<br>PositionX=%{x}<br>PositionY=%{y}<br>size=%{marker.size}<br>Particle=%{marker.color}",
           "ids": [
            0,
            1,
            2,
            3,
            4,
            5,
            6,
            7,
            8,
            9
           ],
           "legendgroup": "",
           "marker": {
            "color": [
             0,
             1,
             2,
             3,
             4,
             5,
             6,
             7,
             8,
             9
            ],
            "coloraxis": "coloraxis",
            "size": [
             5,
             5,
             5,
             5,
             5,
             5,
             5,
             5,
             5,
             5
            ],
            "sizemode": "area",
            "sizeref": 0.029585798816568046,
            "symbol": "circle"
           },
           "mode": "markers",
           "name": "",
           "showlegend": false,
           "type": "scatter",
           "x": [
            -0.003247520686573045,
            0.007249271666564326,
            0.002288679492518493,
            0.02180975723136254,
            0.028252510905030833,
            -0.020377538019259234,
            -0.08899792520478567,
            -0.0268114443725926,
            0.01968750223868774,
            -0.02659665330532094
           ],
           "xaxis": "x",
           "y": [
            -0.04052648934461414,
            -0.014905308472087903,
            -0.03285256118579458,
            0.01438173850488076,
            -0.0058108404624518,
            -0.0005384622618950022,
            -0.015079428063490316,
            -0.01674904043045236,
            0.015216544688361783,
            -0.015599388842119845
           ],
           "yaxis": "y"
          }
         ],
         "name": "26.0"
        },
        {
         "data": [
          {
           "hoverlabel": {
            "namelength": 0
           },
           "hovertemplate": "Evolution=27.0<br>PositionX=%{x}<br>PositionY=%{y}<br>size=%{marker.size}<br>Particle=%{marker.color}",
           "ids": [
            0,
            1,
            2,
            3,
            4,
            5,
            6,
            7,
            8,
            9
           ],
           "legendgroup": "",
           "marker": {
            "color": [
             0,
             1,
             2,
             3,
             4,
             5,
             6,
             7,
             8,
             9
            ],
            "coloraxis": "coloraxis",
            "size": [
             5,
             5,
             5,
             5,
             5,
             5,
             5,
             5,
             5,
             5
            ],
            "sizemode": "area",
            "sizeref": 0.029585798816568046,
            "symbol": "circle"
           },
           "mode": "markers",
           "name": "",
           "showlegend": false,
           "type": "scatter",
           "x": [
            0.020972268122631726,
            0.007249271666564326,
            0.002288679492518493,
            0.02180975723136254,
            0.028252510905030833,
            0.005451890686511578,
            -0.08899792520478567,
            -0.0268114443725926,
            0.01968750223868774,
            -0.02659665330532094
           ],
           "xaxis": "x",
           "y": [
            -0.02045436395093613,
            -0.014905308472087903,
            -0.03285256118579458,
            0.01438173850488076,
            -0.0058108404624518,
            -0.01649193640753596,
            -0.015079428063490316,
            -0.01674904043045236,
            0.015216544688361783,
            -0.015599388842119845
           ],
           "yaxis": "y"
          }
         ],
         "name": "27.0"
        },
        {
         "data": [
          {
           "hoverlabel": {
            "namelength": 0
           },
           "hovertemplate": "Evolution=28.0<br>PositionX=%{x}<br>PositionY=%{y}<br>size=%{marker.size}<br>Particle=%{marker.color}",
           "ids": [
            0,
            1,
            2,
            3,
            4,
            5,
            6,
            7,
            8,
            9
           ],
           "legendgroup": "",
           "marker": {
            "color": [
             0,
             1,
             2,
             3,
             4,
             5,
             6,
             7,
             8,
             9
            ],
            "coloraxis": "coloraxis",
            "size": [
             5,
             5,
             5,
             5,
             5,
             5,
             5,
             5,
             5,
             5
            ],
            "sizemode": "area",
            "sizeref": 0.029585798816568046,
            "symbol": "circle"
           },
           "mode": "markers",
           "name": "",
           "showlegend": false,
           "type": "scatter",
           "x": [
            0.011308137612129286,
            0.007249271666564326,
            -0.008775000329351933,
            0.02180975723136254,
            -0.0043086481829104455,
            0.005451890686511578,
            0.019911140626294326,
            -0.0268114443725926,
            0.007990352416375556,
            -0.02659665330532094
           ],
           "xaxis": "x",
           "y": [
            0.009834504500062709,
            -0.014905308472087903,
            -0.014459034689379846,
            0.01438173850488076,
            -0.0058108404624518,
            -0.01649193640753596,
            -0.02003696085919562,
            -0.01674904043045236,
            0.015216544688361783,
            -0.015599388842119845
           ],
           "yaxis": "y"
          }
         ],
         "name": "28.0"
        },
        {
         "data": [
          {
           "hoverlabel": {
            "namelength": 0
           },
           "hovertemplate": "Evolution=29.0<br>PositionX=%{x}<br>PositionY=%{y}<br>size=%{marker.size}<br>Particle=%{marker.color}",
           "ids": [
            0,
            1,
            2,
            3,
            4,
            5,
            6,
            7,
            8,
            9
           ],
           "legendgroup": "",
           "marker": {
            "color": [
             0,
             1,
             2,
             3,
             4,
             5,
             6,
             7,
             8,
             9
            ],
            "coloraxis": "coloraxis",
            "size": [
             5,
             5,
             5,
             5,
             5,
             5,
             5,
             5,
             5,
             5
            ],
            "sizemode": "area",
            "sizeref": 0.029585798816568046,
            "symbol": "circle"
           },
           "mode": "markers",
           "name": "",
           "showlegend": false,
           "type": "scatter",
           "x": [
            0.011308137612129286,
            0.007249271666564326,
            -0.008775000329351933,
            -0.008141315113176532,
            -0.0043086481829104455,
            0.005451890686511578,
            0.019911140626294326,
            -0.0030349328656938436,
            0.007990352416375556,
            -0.02659665330532094
           ],
           "xaxis": "x",
           "y": [
            0.009834504500062709,
            -0.005003285188808106,
            -0.014459034689379846,
            0.015087992676903582,
            -0.0058108404624518,
            -0.01649193640753596,
            -0.004585882097067595,
            0.012623467584970596,
            0.015216544688361783,
            -0.015599388842119845
           ],
           "yaxis": "y"
          }
         ],
         "name": "29.0"
        },
        {
         "data": [
          {
           "hoverlabel": {
            "namelength": 0
           },
           "hovertemplate": "Evolution=30.0<br>PositionX=%{x}<br>PositionY=%{y}<br>size=%{marker.size}<br>Particle=%{marker.color}",
           "ids": [
            0,
            1,
            2,
            3,
            4,
            5,
            6,
            7,
            8,
            9
           ],
           "legendgroup": "",
           "marker": {
            "color": [
             0,
             1,
             2,
             3,
             4,
             5,
             6,
             7,
             8,
             9
            ],
            "coloraxis": "coloraxis",
            "size": [
             5,
             5,
             5,
             5,
             5,
             5,
             5,
             5,
             5,
             5
            ],
            "sizemode": "area",
            "sizeref": 0.029585798816568046,
            "symbol": "circle"
           },
           "mode": "markers",
           "name": "",
           "showlegend": false,
           "type": "scatter",
           "x": [
            0.011308137612129286,
            0.007249271666564326,
            -0.008775000329351933,
            -0.008141315113176532,
            -0.0043086481829104455,
            0.005451890686511578,
            0.013464026684469707,
            0.0002413612596872134,
            0.00016413505092403857,
            -0.02659665330532094
           ],
           "xaxis": "x",
           "y": [
            0.009834504500062709,
            -0.005003285188808106,
            0.011066767046029203,
            0.00014199265321827512,
            -0.0058108404624518,
            -0.01649193640753596,
            -0.011764061657250089,
            0.012623467584970596,
            0.004940230310228687,
            0.013639918444048653
           ],
           "yaxis": "y"
          }
         ],
         "name": "30.0"
        },
        {
         "data": [
          {
           "hoverlabel": {
            "namelength": 0
           },
           "hovertemplate": "Evolution=31.0<br>PositionX=%{x}<br>PositionY=%{y}<br>size=%{marker.size}<br>Particle=%{marker.color}",
           "ids": [
            0,
            1,
            2,
            3,
            4,
            5,
            6,
            7,
            8,
            9
           ],
           "legendgroup": "",
           "marker": {
            "color": [
             0,
             1,
             2,
             3,
             4,
             5,
             6,
             7,
             8,
             9
            ],
            "coloraxis": "coloraxis",
            "size": [
             5,
             5,
             5,
             5,
             5,
             5,
             5,
             5,
             5,
             5
            ],
            "sizemode": "area",
            "sizeref": 0.029585798816568046,
            "symbol": "circle"
           },
           "mode": "markers",
           "name": "",
           "showlegend": false,
           "type": "scatter",
           "x": [
            0.011308137612129286,
            0.007249271666564326,
            -0.008644976174002863,
            -0.008141315113176532,
            -0.0043086481829104455,
            0.010177395129373181,
            0.013464026684469707,
            0.0002413612596872134,
            0.00016413505092403857,
            -0.0021250545125790984
           ],
           "xaxis": "x",
           "y": [
            0.009834504500062709,
            -0.005003285188808106,
            0.011066767046029203,
            0.00014199265321827512,
            -0.00036623277632075353,
            0.00916406007403623,
            -0.011764061657250089,
            0.012623467584970596,
            0.004940230310228687,
            0.013639918444048653
           ],
           "yaxis": "y"
          }
         ],
         "name": "31.0"
        },
        {
         "data": [
          {
           "hoverlabel": {
            "namelength": 0
           },
           "hovertemplate": "Evolution=32.0<br>PositionX=%{x}<br>PositionY=%{y}<br>size=%{marker.size}<br>Particle=%{marker.color}",
           "ids": [
            0,
            1,
            2,
            3,
            4,
            5,
            6,
            7,
            8,
            9
           ],
           "legendgroup": "",
           "marker": {
            "color": [
             0,
             1,
             2,
             3,
             4,
             5,
             6,
             7,
             8,
             9
            ],
            "coloraxis": "coloraxis",
            "size": [
             5,
             5,
             5,
             5,
             5,
             5,
             5,
             5,
             5,
             5
            ],
            "sizemode": "area",
            "sizeref": 0.029585798816568046,
            "symbol": "circle"
           },
           "mode": "markers",
           "name": "",
           "showlegend": false,
           "type": "scatter",
           "x": [
            0.011308137612129286,
            0.007249271666564326,
            -0.008644976174002863,
            -0.008141315113176532,
            -0.0043086481829104455,
            0.010177395129373181,
            -0.008499986369342318,
            0.0002413612596872134,
            0.00016413505092403857,
            -0.0021250545125790984
           ],
           "xaxis": "x",
           "y": [
            0.00651082853076151,
            -0.005003285188808106,
            -0.0052124886997429705,
            0.00014199265321827512,
            -0.00036623277632075353,
            0.00916406007403623,
            -0.006606970242196914,
            -0.002511238890056445,
            0.004940230310228687,
            0.013639918444048653
           ],
           "yaxis": "y"
          }
         ],
         "name": "32.0"
        },
        {
         "data": [
          {
           "hoverlabel": {
            "namelength": 0
           },
           "hovertemplate": "Evolution=33.0<br>PositionX=%{x}<br>PositionY=%{y}<br>size=%{marker.size}<br>Particle=%{marker.color}",
           "ids": [
            0,
            1,
            2,
            3,
            4,
            5,
            6,
            7,
            8,
            9
           ],
           "legendgroup": "",
           "marker": {
            "color": [
             0,
             1,
             2,
             3,
             4,
             5,
             6,
             7,
             8,
             9
            ],
            "coloraxis": "coloraxis",
            "size": [
             5,
             5,
             5,
             5,
             5,
             5,
             5,
             5,
             5,
             5
            ],
            "sizemode": "area",
            "sizeref": 0.029585798816568046,
            "symbol": "circle"
           },
           "mode": "markers",
           "name": "",
           "showlegend": false,
           "type": "scatter",
           "x": [
            0.011308137612129286,
            -1.0469270725952003e-05,
            -0.008644976174002863,
            -0.008141315113176532,
            -0.0043086481829104455,
            -0.003698146396331494,
            0.0014175137952410453,
            0.0002413612596872134,
            0.00016413505092403857,
            -0.0021250545125790984
           ],
           "xaxis": "x",
           "y": [
            0.00651082853076151,
            -0.005188479566537068,
            -0.0020959365317879362,
            0.00014199265321827512,
            -0.00036623277632075353,
            0.0014926175580615379,
            0.008668160694530257,
            -0.002511238890056445,
            0.004940230310228687,
            0.013639918444048653
           ],
           "yaxis": "y"
          }
         ],
         "name": "33.0"
        },
        {
         "data": [
          {
           "hoverlabel": {
            "namelength": 0
           },
           "hovertemplate": "Evolution=34.0<br>PositionX=%{x}<br>PositionY=%{y}<br>size=%{marker.size}<br>Particle=%{marker.color}",
           "ids": [
            0,
            1,
            2,
            3,
            4,
            5,
            6,
            7,
            8,
            9
           ],
           "legendgroup": "",
           "marker": {
            "color": [
             0,
             1,
             2,
             3,
             4,
             5,
             6,
             7,
             8,
             9
            ],
            "coloraxis": "coloraxis",
            "size": [
             5,
             5,
             5,
             5,
             5,
             5,
             5,
             5,
             5,
             5
            ],
            "sizemode": "area",
            "sizeref": 0.029585798816568046,
            "symbol": "circle"
           },
           "mode": "markers",
           "name": "",
           "showlegend": false,
           "type": "scatter",
           "x": [
            -0.0005522400327683083,
            -1.0469270725952003e-05,
            -0.008644976174002863,
            -0.008141315113176532,
            -0.0043086481829104455,
            -0.003698146396331494,
            0.0014175137952410453,
            0.0002413612596872134,
            0.00016413505092403857,
            -0.0021250545125790984
           ],
           "xaxis": "x",
           "y": [
            0.00651082853076151,
            -0.005188479566537068,
            -0.0020959365317879362,
            0.00014199265321827512,
            -0.00036623277632075353,
            0.0014926175580615379,
            -0.004749168075062656,
            -0.002511238890056445,
            0.004940230310228687,
            0.013639918444048653
           ],
           "yaxis": "y"
          }
         ],
         "name": "34.0"
        },
        {
         "data": [
          {
           "hoverlabel": {
            "namelength": 0
           },
           "hovertemplate": "Evolution=35.0<br>PositionX=%{x}<br>PositionY=%{y}<br>size=%{marker.size}<br>Particle=%{marker.color}",
           "ids": [
            0,
            1,
            2,
            3,
            4,
            5,
            6,
            7,
            8,
            9
           ],
           "legendgroup": "",
           "marker": {
            "color": [
             0,
             1,
             2,
             3,
             4,
             5,
             6,
             7,
             8,
             9
            ],
            "coloraxis": "coloraxis",
            "size": [
             5,
             5,
             5,
             5,
             5,
             5,
             5,
             5,
             5,
             5
            ],
            "sizemode": "area",
            "sizeref": 0.029585798816568046,
            "symbol": "circle"
           },
           "mode": "markers",
           "name": "",
           "showlegend": false,
           "type": "scatter",
           "x": [
            -0.005278234124100787,
            -1.0469270725952003e-05,
            -0.008644976174002863,
            0.000577606997050964,
            0.0013473429370571945,
            -0.003698146396331494,
            0.0014175137952410453,
            0.0002413612596872134,
            -0.0019077281964050333,
            -0.002698945938151707
           ],
           "xaxis": "x",
           "y": [
            -0.0020494749961526763,
            -0.005188479566537068,
            -0.0020959365317879362,
            -0.006307444159040174,
            -0.00036623277632075353,
            0.0014926175580615379,
            -0.004749168075062656,
            -0.002511238890056445,
            -0.00010011549494828766,
            0.007131697959599639
           ],
           "yaxis": "y"
          }
         ],
         "name": "35.0"
        },
        {
         "data": [
          {
           "hoverlabel": {
            "namelength": 0
           },
           "hovertemplate": "Evolution=36.0<br>PositionX=%{x}<br>PositionY=%{y}<br>size=%{marker.size}<br>Particle=%{marker.color}",
           "ids": [
            0,
            1,
            2,
            3,
            4,
            5,
            6,
            7,
            8,
            9
           ],
           "legendgroup": "",
           "marker": {
            "color": [
             0,
             1,
             2,
             3,
             4,
             5,
             6,
             7,
             8,
             9
            ],
            "coloraxis": "coloraxis",
            "size": [
             5,
             5,
             5,
             5,
             5,
             5,
             5,
             5,
             5,
             5
            ],
            "sizemode": "area",
            "sizeref": 0.029585798816568046,
            "symbol": "circle"
           },
           "mode": "markers",
           "name": "",
           "showlegend": false,
           "type": "scatter",
           "x": [
            -0.005278234124100787,
            -0.0014806228696454121,
            -0.003110070128554578,
            0.000577606997050964,
            0.0013473429370571945,
            -0.003698146396331494,
            0.0014175137952410453,
            0.0002413612596872134,
            -0.0019077281964050333,
            0.002061334470040693
           ],
           "xaxis": "x",
           "y": [
            -0.0020494749961526763,
            -0.0003670111417090269,
            0.0003736529655584322,
            -0.006307444159040174,
            -0.00036623277632075353,
            0.0014926175580615379,
            -0.004737941873847978,
            -0.002511238890056445,
            -0.00010011549494828766,
            -0.00014657703058354758
           ],
           "yaxis": "y"
          }
         ],
         "name": "36.0"
        },
        {
         "data": [
          {
           "hoverlabel": {
            "namelength": 0
           },
           "hovertemplate": "Evolution=37.0<br>PositionX=%{x}<br>PositionY=%{y}<br>size=%{marker.size}<br>Particle=%{marker.color}",
           "ids": [
            0,
            1,
            2,
            3,
            4,
            5,
            6,
            7,
            8,
            9
           ],
           "legendgroup": "",
           "marker": {
            "color": [
             0,
             1,
             2,
             3,
             4,
             5,
             6,
             7,
             8,
             9
            ],
            "coloraxis": "coloraxis",
            "size": [
             5,
             5,
             5,
             5,
             5,
             5,
             5,
             5,
             5,
             5
            ],
            "sizemode": "area",
            "sizeref": 0.029585798816568046,
            "symbol": "circle"
           },
           "mode": "markers",
           "name": "",
           "showlegend": false,
           "type": "scatter",
           "x": [
            -0.0004263247675617256,
            -0.0014806228696454121,
            -0.0020336137083304027,
            0.000577606997050964,
            0.0013473429370571945,
            -0.003698146396331494,
            -0.0010013063370407852,
            0.0022748871334205036,
            -0.0019077281964050333,
            0.002061334470040693
           ],
           "xaxis": "x",
           "y": [
            -0.0020494749961526763,
            -0.0003670111417090269,
            -0.0014395141985768726,
            -0.00021555646842422952,
            -0.00036623277632075353,
            0.0014926175580615379,
            0.0005924254419894981,
            -0.0002800248539639172,
            -0.00010011549494828766,
            -0.00014657703058354758
           ],
           "yaxis": "y"
          }
         ],
         "name": "37.0"
        },
        {
         "data": [
          {
           "hoverlabel": {
            "namelength": 0
           },
           "hovertemplate": "Evolution=38.0<br>PositionX=%{x}<br>PositionY=%{y}<br>size=%{marker.size}<br>Particle=%{marker.color}",
           "ids": [
            0,
            1,
            2,
            3,
            4,
            5,
            6,
            7,
            8,
            9
           ],
           "legendgroup": "",
           "marker": {
            "color": [
             0,
             1,
             2,
             3,
             4,
             5,
             6,
             7,
             8,
             9
            ],
            "coloraxis": "coloraxis",
            "size": [
             5,
             5,
             5,
             5,
             5,
             5,
             5,
             5,
             5,
             5
            ],
            "sizemode": "area",
            "sizeref": 0.029585798816568046,
            "symbol": "circle"
           },
           "mode": "markers",
           "name": "",
           "showlegend": false,
           "type": "scatter",
           "x": [
            -0.0004263247675617256,
            -0.0008592890712814127,
            -0.0020336137083304027,
            0.000577606997050964,
            0.0013473429370571945,
            -0.003698146396331494,
            -2.9973194872075486e-05,
            -0.0018654908396485274,
            -0.0019077281964050333,
            0.002061334470040693
           ],
           "xaxis": "x",
           "y": [
            -0.0001323496877181315,
            -0.0003670111417090269,
            -0.0014395141985768726,
            -0.00021555646842422952,
            -0.00036623277632075353,
            -0.0010134797257056894,
            0.0005924254419894981,
            -0.00029167298776076487,
            -0.00010011549494828766,
            -0.00014657703058354758
           ],
           "yaxis": "y"
          }
         ],
         "name": "38.0"
        },
        {
         "data": [
          {
           "hoverlabel": {
            "namelength": 0
           },
           "hovertemplate": "Evolution=39.0<br>PositionX=%{x}<br>PositionY=%{y}<br>size=%{marker.size}<br>Particle=%{marker.color}",
           "ids": [
            0,
            1,
            2,
            3,
            4,
            5,
            6,
            7,
            8,
            9
           ],
           "legendgroup": "",
           "marker": {
            "color": [
             0,
             1,
             2,
             3,
             4,
             5,
             6,
             7,
             8,
             9
            ],
            "coloraxis": "coloraxis",
            "size": [
             5,
             5,
             5,
             5,
             5,
             5,
             5,
             5,
             5,
             5
            ],
            "sizemode": "area",
            "sizeref": 0.029585798816568046,
            "symbol": "circle"
           },
           "mode": "markers",
           "name": "",
           "showlegend": false,
           "type": "scatter",
           "x": [
            -0.0004263247675617256,
            -0.0008592890712814127,
            -0.0002718173820201492,
            0.000577606997050964,
            0.0013473429370571945,
            0.0033107555919018048,
            -2.9973194872075486e-05,
            -0.0018654908396485274,
            -0.0019077281964050333,
            0.002061334470040693
           ],
           "xaxis": "x",
           "y": [
            -0.0001323496877181315,
            -0.0003670111417090269,
            0.0003404495240454913,
            -0.00021555646842422952,
            -0.00036623277632075353,
            -0.0002936847977321449,
            0.0005924254419894981,
            -0.00029167298776076487,
            -0.00010011549494828766,
            -0.00014657703058354758
           ],
           "yaxis": "y"
          }
         ],
         "name": "39.0"
        },
        {
         "data": [
          {
           "hoverlabel": {
            "namelength": 0
           },
           "hovertemplate": "Evolution=40.0<br>PositionX=%{x}<br>PositionY=%{y}<br>size=%{marker.size}<br>Particle=%{marker.color}",
           "ids": [
            0,
            1,
            2,
            3,
            4,
            5,
            6,
            7,
            8,
            9
           ],
           "legendgroup": "",
           "marker": {
            "color": [
             0,
             1,
             2,
             3,
             4,
             5,
             6,
             7,
             8,
             9
            ],
            "coloraxis": "coloraxis",
            "size": [
             5,
             5,
             5,
             5,
             5,
             5,
             5,
             5,
             5,
             5
            ],
            "sizemode": "area",
            "sizeref": 0.029585798816568046,
            "symbol": "circle"
           },
           "mode": "markers",
           "name": "",
           "showlegend": false,
           "type": "scatter",
           "x": [
            -0.0004263247675617256,
            -0.0008592890712814127,
            -0.0002718173820201492,
            0.000577606997050964,
            0.0013473429370571945,
            0.0007952241507880201,
            -2.9973194872075486e-05,
            -0.0018654908396485274,
            -0.0019077281964050333,
            -0.0019849818891758218
           ],
           "xaxis": "x",
           "y": [
            -0.0001323496877181315,
            -0.0003670111417090269,
            0.0003404495240454913,
            -0.00021555646842422952,
            -0.00017040794738639917,
            -9.429142804986382e-05,
            0.0005924254419894981,
            -0.00029167298776076487,
            -0.00010011549494828766,
            -0.00033651510083009906
           ],
           "yaxis": "y"
          }
         ],
         "name": "40.0"
        },
        {
         "data": [
          {
           "hoverlabel": {
            "namelength": 0
           },
           "hovertemplate": "Evolution=41.0<br>PositionX=%{x}<br>PositionY=%{y}<br>size=%{marker.size}<br>Particle=%{marker.color}",
           "ids": [
            0,
            1,
            2,
            3,
            4,
            5,
            6,
            7,
            8,
            9
           ],
           "legendgroup": "",
           "marker": {
            "color": [
             0,
             1,
             2,
             3,
             4,
             5,
             6,
             7,
             8,
             9
            ],
            "coloraxis": "coloraxis",
            "size": [
             5,
             5,
             5,
             5,
             5,
             5,
             5,
             5,
             5,
             5
            ],
            "sizemode": "area",
            "sizeref": 0.029585798816568046,
            "symbol": "circle"
           },
           "mode": "markers",
           "name": "",
           "showlegend": false,
           "type": "scatter",
           "x": [
            -0.0004263247675617256,
            -0.0008592890712814127,
            -4.1332365393323064e-06,
            0.00047106842393686114,
            0.0004914340548265003,
            0.0007952241507880201,
            -2.9973194872075486e-05,
            -0.0001502653744271384,
            -0.001253581378596442,
            0.0014561515139257224
           ],
           "xaxis": "x",
           "y": [
            -0.0001323496877181315,
            -0.0003670111417090269,
            -0.0001733199808356111,
            -0.00026832036185357635,
            0.000309699527157,
            -9.429142804986382e-05,
            0.0005924254419894981,
            -0.00029167298776076487,
            -0.00010011549494828766,
            -0.00033651510083009906
           ],
           "yaxis": "y"
          }
         ],
         "name": "41.0"
        },
        {
         "data": [
          {
           "hoverlabel": {
            "namelength": 0
           },
           "hovertemplate": "Evolution=42.0<br>PositionX=%{x}<br>PositionY=%{y}<br>size=%{marker.size}<br>Particle=%{marker.color}",
           "ids": [
            0,
            1,
            2,
            3,
            4,
            5,
            6,
            7,
            8,
            9
           ],
           "legendgroup": "",
           "marker": {
            "color": [
             0,
             1,
             2,
             3,
             4,
             5,
             6,
             7,
             8,
             9
            ],
            "coloraxis": "coloraxis",
            "size": [
             5,
             5,
             5,
             5,
             5,
             5,
             5,
             5,
             5,
             5
            ],
            "sizemode": "area",
            "sizeref": 0.029585798816568046,
            "symbol": "circle"
           },
           "mode": "markers",
           "name": "",
           "showlegend": false,
           "type": "scatter",
           "x": [
            4.349050656582095e-05,
            -0.0008592890712814127,
            -4.1332365393323064e-06,
            0.00047106842393686114,
            0.0004914340548265003,
            -0.00020429313911709537,
            -2.9973194872075486e-05,
            -0.0001502653744271384,
            -0.0006091447856212514,
            0.0012439207465373134
           ],
           "xaxis": "x",
           "y": [
            -0.00036516594229028424,
            -0.0003670111417090269,
            -0.0001733199808356111,
            -0.00026832036185357635,
            -0.0001895902812047811,
            -0.0006066756962865898,
            -0.0002871697109023738,
            -0.00029167298776076487,
            -0.00010011549494828766,
            -0.00016227676511758625
           ],
           "yaxis": "y"
          }
         ],
         "name": "42.0"
        },
        {
         "data": [
          {
           "hoverlabel": {
            "namelength": 0
           },
           "hovertemplate": "Evolution=43.0<br>PositionX=%{x}<br>PositionY=%{y}<br>size=%{marker.size}<br>Particle=%{marker.color}",
           "ids": [
            0,
            1,
            2,
            3,
            4,
            5,
            6,
            7,
            8,
            9
           ],
           "legendgroup": "",
           "marker": {
            "color": [
             0,
             1,
             2,
             3,
             4,
             5,
             6,
             7,
             8,
             9
            ],
            "coloraxis": "coloraxis",
            "size": [
             5,
             5,
             5,
             5,
             5,
             5,
             5,
             5,
             5,
             5
            ],
            "sizemode": "area",
            "sizeref": 0.029585798816568046,
            "symbol": "circle"
           },
           "mode": "markers",
           "name": "",
           "showlegend": false,
           "type": "scatter",
           "x": [
            4.349050656582095e-05,
            -0.0008592890712814127,
            -4.1332365393323064e-06,
            -0.0002777568405549918,
            -0.0004187911747440009,
            0.00020762763536602124,
            -2.9973194872075486e-05,
            -0.0001502653744271384,
            -0.0006091447856212514,
            0.0002018482594519124
           ],
           "xaxis": "x",
           "y": [
            -0.00036516594229028424,
            -4.709369658029261e-05,
            -0.0001733199808356111,
            -0.00026832036185357635,
            -0.0001895902812047811,
            -0.0003346699014113564,
            -0.0002871697109023738,
            -0.00029167298776076487,
            -0.00010011549494828766,
            -9.606317322773803e-05
           ],
           "yaxis": "y"
          }
         ],
         "name": "43.0"
        },
        {
         "data": [
          {
           "hoverlabel": {
            "namelength": 0
           },
           "hovertemplate": "Evolution=44.0<br>PositionX=%{x}<br>PositionY=%{y}<br>size=%{marker.size}<br>Particle=%{marker.color}",
           "ids": [
            0,
            1,
            2,
            3,
            4,
            5,
            6,
            7,
            8,
            9
           ],
           "legendgroup": "",
           "marker": {
            "color": [
             0,
             1,
             2,
             3,
             4,
             5,
             6,
             7,
             8,
             9
            ],
            "coloraxis": "coloraxis",
            "size": [
             5,
             5,
             5,
             5,
             5,
             5,
             5,
             5,
             5,
             5
            ],
            "sizemode": "area",
            "sizeref": 0.029585798816568046,
            "symbol": "circle"
           },
           "mode": "markers",
           "name": "",
           "showlegend": false,
           "type": "scatter",
           "x": [
            4.349050656582095e-05,
            -0.0008592890712814127,
            -4.1332365393323064e-06,
            -0.0002257296579191278,
            0.0001685626493959016,
            0.00020762763536602124,
            -2.9973194872075486e-05,
            -0.0001502653744271384,
            -0.0002661761015891323,
            0.0002018482594519124
           ],
           "xaxis": "x",
           "y": [
            -0.00036516594229028424,
            -4.709369658029261e-05,
            -0.0001733199808356111,
            -3.2950031100078785e-05,
            -0.0001895902812047811,
            -3.688666976516114e-05,
            -0.0002871697109023738,
            -0.00029167298776076487,
            -0.00038722625659808274,
            -9.606317322773803e-05
           ],
           "yaxis": "y"
          }
         ],
         "name": "44.0"
        },
        {
         "data": [
          {
           "hoverlabel": {
            "namelength": 0
           },
           "hovertemplate": "Evolution=45.0<br>PositionX=%{x}<br>PositionY=%{y}<br>size=%{marker.size}<br>Particle=%{marker.color}",
           "ids": [
            0,
            1,
            2,
            3,
            4,
            5,
            6,
            7,
            8,
            9
           ],
           "legendgroup": "",
           "marker": {
            "color": [
             0,
             1,
             2,
             3,
             4,
             5,
             6,
             7,
             8,
             9
            ],
            "coloraxis": "coloraxis",
            "size": [
             5,
             5,
             5,
             5,
             5,
             5,
             5,
             5,
             5,
             5
            ],
            "sizemode": "area",
            "sizeref": 0.029585798816568046,
            "symbol": "circle"
           },
           "mode": "markers",
           "name": "",
           "showlegend": false,
           "type": "scatter",
           "x": [
            4.349050656582095e-05,
            6.641327221543612e-05,
            -4.1332365393323064e-06,
            -0.0002257296579191278,
            0.0001685626493959016,
            8.282522601394559e-06,
            -2.9973194872075486e-05,
            -0.0001502653744271384,
            0.00013047684570314207,
            0.00014748154558848978
           ],
           "xaxis": "x",
           "y": [
            -0.00036516594229028424,
            -0.00029364130709330606,
            -0.0001733199808356111,
            -3.2950031100078785e-05,
            -0.0001895902812047811,
            0.00011263151058509356,
            -9.487033099895155e-05,
            -0.00029167298776076487,
            -0.00038722625659808274,
            -3.9138308194356676e-05
           ],
           "yaxis": "y"
          }
         ],
         "name": "45.0"
        },
        {
         "data": [
          {
           "hoverlabel": {
            "namelength": 0
           },
           "hovertemplate": "Evolution=46.0<br>PositionX=%{x}<br>PositionY=%{y}<br>size=%{marker.size}<br>Particle=%{marker.color}",
           "ids": [
            0,
            1,
            2,
            3,
            4,
            5,
            6,
            7,
            8,
            9
           ],
           "legendgroup": "",
           "marker": {
            "color": [
             0,
             1,
             2,
             3,
             4,
             5,
             6,
             7,
             8,
             9
            ],
            "coloraxis": "coloraxis",
            "size": [
             5,
             5,
             5,
             5,
             5,
             5,
             5,
             5,
             5,
             5
            ],
            "sizemode": "area",
            "sizeref": 0.029585798816568046,
            "symbol": "circle"
           },
           "mode": "markers",
           "name": "",
           "showlegend": false,
           "type": "scatter",
           "x": [
            -0.00017884665487988958,
            6.641327221543612e-05,
            -4.1332365393323064e-06,
            -0.0002257296579191278,
            0.0001566324068817333,
            8.282522601394559e-06,
            -2.9973194872075486e-05,
            -3.231688449809009e-05,
            0.00013047684570314207,
            4.9698386136184385e-05
           ],
           "xaxis": "x",
           "y": [
            -0.00022113767078215564,
            -0.00029364130709330606,
            -0.0001733199808356111,
            -3.2950031100078785e-05,
            -0.0001895902812047811,
            0.00011263151058509356,
            -9.487033099895155e-05,
            -0.00029167298776076487,
            -0.00038722625659808274,
            -3.9138308194356676e-05
           ],
           "yaxis": "y"
          }
         ],
         "name": "46.0"
        },
        {
         "data": [
          {
           "hoverlabel": {
            "namelength": 0
           },
           "hovertemplate": "Evolution=47.0<br>PositionX=%{x}<br>PositionY=%{y}<br>size=%{marker.size}<br>Particle=%{marker.color}",
           "ids": [
            0,
            1,
            2,
            3,
            4,
            5,
            6,
            7,
            8,
            9
           ],
           "legendgroup": "",
           "marker": {
            "color": [
             0,
             1,
             2,
             3,
             4,
             5,
             6,
             7,
             8,
             9
            ],
            "coloraxis": "coloraxis",
            "size": [
             5,
             5,
             5,
             5,
             5,
             5,
             5,
             5,
             5,
             5
            ],
            "sizemode": "area",
            "sizeref": 0.029585798816568046,
            "symbol": "circle"
           },
           "mode": "markers",
           "name": "",
           "showlegend": false,
           "type": "scatter",
           "x": [
            7.726362856128377e-05,
            6.641327221543612e-05,
            -4.1332365393323064e-06,
            0.00013592447511433838,
            -6.730770412407679e-05,
            8.282522601394559e-06,
            2.6256884616565276e-05,
            -3.231688449809009e-05,
            0.00018704779586109824,
            5.300059505308728e-06
           ],
           "xaxis": "x",
           "y": [
            -0.00022109661525427003,
            -0.00014549502496119927,
            -0.0001733199808356111,
            -0.00011370537181505598,
            -0.00011192907903694285,
            0.00011263151058509356,
            5.495551164668176e-05,
            -0.0002485459673408233,
            -0.00025164010588796227,
            -3.9138308194356676e-05
           ],
           "yaxis": "y"
          }
         ],
         "name": "47.0"
        },
        {
         "data": [
          {
           "hoverlabel": {
            "namelength": 0
           },
           "hovertemplate": "Evolution=48.0<br>PositionX=%{x}<br>PositionY=%{y}<br>size=%{marker.size}<br>Particle=%{marker.color}",
           "ids": [
            0,
            1,
            2,
            3,
            4,
            5,
            6,
            7,
            8,
            9
           ],
           "legendgroup": "",
           "marker": {
            "color": [
             0,
             1,
             2,
             3,
             4,
             5,
             6,
             7,
             8,
             9
            ],
            "coloraxis": "coloraxis",
            "size": [
             5,
             5,
             5,
             5,
             5,
             5,
             5,
             5,
             5,
             5
            ],
            "sizemode": "area",
            "sizeref": 0.029585798816568046,
            "symbol": "circle"
           },
           "mode": "markers",
           "name": "",
           "showlegend": false,
           "type": "scatter",
           "x": [
            7.562196297332838e-05,
            2.476565306852236e-05,
            -4.1332365393323064e-06,
            0.00013592447511433838,
            -6.730770412407679e-05,
            8.282522601394559e-06,
            2.438716951361038e-06,
            -3.231688449809009e-05,
            -9.659458868140448e-05,
            5.300059505308728e-06
           ],
           "xaxis": "x",
           "y": [
            0.00010648098283649377,
            -2.092939774304335e-05,
            -0.0001733199808356111,
            -0.00011370537181505598,
            -0.00011192907903694285,
            0.00011263151058509356,
            5.495551164668176e-05,
            -0.0002485459673408233,
            -0.00025164010588796227,
            -3.9138308194356676e-05
           ],
           "yaxis": "y"
          }
         ],
         "name": "48.0"
        },
        {
         "data": [
          {
           "hoverlabel": {
            "namelength": 0
           },
           "hovertemplate": "Evolution=49.0<br>PositionX=%{x}<br>PositionY=%{y}<br>size=%{marker.size}<br>Particle=%{marker.color}",
           "ids": [
            0,
            1,
            2,
            3,
            4,
            5,
            6,
            7,
            8,
            9
           ],
           "legendgroup": "",
           "marker": {
            "color": [
             0,
             1,
             2,
             3,
             4,
             5,
             6,
             7,
             8,
             9
            ],
            "coloraxis": "coloraxis",
            "size": [
             5,
             5,
             5,
             5,
             5,
             5,
             5,
             5,
             5,
             5
            ],
            "sizemode": "area",
            "sizeref": 0.029585798816568046,
            "symbol": "circle"
           },
           "mode": "markers",
           "name": "",
           "showlegend": false,
           "type": "scatter",
           "x": [
            7.562196297332838e-05,
            2.476565306852236e-05,
            -4.1332365393323064e-06,
            5.13367381016083e-05,
            -6.730770412407679e-05,
            8.282522601394559e-06,
            2.438716951361038e-06,
            -3.231688449809009e-05,
            2.2738420501103364e-05,
            5.300059505308728e-06
           ],
           "xaxis": "x",
           "y": [
            0.00010648098283649377,
            -2.092939774304335e-05,
            -0.0001733199808356111,
            6.3615324525930725e-06,
            -0.00011192907903694285,
            0.00011263151058509356,
            5.495551164668176e-05,
            -1.7854133868743458e-05,
            -0.00025164010588796227,
            -3.9138308194356676e-05
           ],
           "yaxis": "y"
          }
         ],
         "name": "49.0"
        },
        {
         "data": [
          {
           "hoverlabel": {
            "namelength": 0
           },
           "hovertemplate": "Evolution=50.0<br>PositionX=%{x}<br>PositionY=%{y}<br>size=%{marker.size}<br>Particle=%{marker.color}",
           "ids": [
            0,
            1,
            2,
            3,
            4,
            5,
            6,
            7,
            8,
            9
           ],
           "legendgroup": "",
           "marker": {
            "color": [
             0,
             1,
             2,
             3,
             4,
             5,
             6,
             7,
             8,
             9
            ],
            "coloraxis": "coloraxis",
            "size": [
             5,
             5,
             5,
             5,
             5,
             5,
             5,
             5,
             5,
             5
            ],
            "sizemode": "area",
            "sizeref": 0.029585798816568046,
            "symbol": "circle"
           },
           "mode": "markers",
           "name": "",
           "showlegend": false,
           "type": "scatter",
           "x": [
            7.562196297332838e-05,
            2.476565306852236e-05,
            -3.535639641137464e-05,
            5.13367381016083e-05,
            -6.730770412407679e-05,
            8.282522601394559e-06,
            2.438716951361038e-06,
            4.996545856047887e-06,
            2.2738420501103364e-05,
            5.300059505308728e-06
           ],
           "xaxis": "x",
           "y": [
            0.00010648098283649377,
            -2.092939774304335e-05,
            -5.732478316433645e-05,
            6.3615324525930725e-06,
            -2.092939774304335e-05,
            -6.349398097291664e-05,
            5.495551164668176e-05,
            -1.7854133868743458e-05,
            -0.00025164010588796227,
            -3.9138308194356676e-05
           ],
           "yaxis": "y"
          }
         ],
         "name": "50.0"
        },
        {
         "data": [
          {
           "hoverlabel": {
            "namelength": 0
           },
           "hovertemplate": "Evolution=51.0<br>PositionX=%{x}<br>PositionY=%{y}<br>size=%{marker.size}<br>Particle=%{marker.color}",
           "ids": [
            0,
            1,
            2,
            3,
            4,
            5,
            6,
            7,
            8,
            9
           ],
           "legendgroup": "",
           "marker": {
            "color": [
             0,
             1,
             2,
             3,
             4,
             5,
             6,
             7,
             8,
             9
            ],
            "coloraxis": "coloraxis",
            "size": [
             5,
             5,
             5,
             5,
             5,
             5,
             5,
             5,
             5,
             5
            ],
            "sizemode": "area",
            "sizeref": 0.029585798816568046,
            "symbol": "circle"
           },
           "mode": "markers",
           "name": "",
           "showlegend": false,
           "type": "scatter",
           "x": [
            -4.7892319984933646e-06,
            2.476565306852236e-05,
            -3.535639641137464e-05,
            5.13367381016083e-05,
            3.1664249339872927e-07,
            8.282522601394559e-06,
            2.438716951361038e-06,
            4.996545856047887e-06,
            3.6570711326353916e-06,
            5.300059505308728e-06
           ],
           "xaxis": "x",
           "y": [
            0.00010648098283649377,
            -2.092939774304335e-05,
            -5.732478316433645e-05,
            6.3615324525930725e-06,
            3.3675918540009928e-06,
            -6.349398097291664e-05,
            5.495551164668176e-05,
            -1.7854133868743458e-05,
            -1.6318384642270087e-05,
            -3.9138308194356676e-05
           ],
           "yaxis": "y"
          }
         ],
         "name": "51.0"
        },
        {
         "data": [
          {
           "hoverlabel": {
            "namelength": 0
           },
           "hovertemplate": "Evolution=52.0<br>PositionX=%{x}<br>PositionY=%{y}<br>size=%{marker.size}<br>Particle=%{marker.color}",
           "ids": [
            0,
            1,
            2,
            3,
            4,
            5,
            6,
            7,
            8,
            9
           ],
           "legendgroup": "",
           "marker": {
            "color": [
             0,
             1,
             2,
             3,
             4,
             5,
             6,
             7,
             8,
             9
            ],
            "coloraxis": "coloraxis",
            "size": [
             5,
             5,
             5,
             5,
             5,
             5,
             5,
             5,
             5,
             5
            ],
            "sizemode": "area",
            "sizeref": 0.029585798816568046,
            "symbol": "circle"
           },
           "mode": "markers",
           "name": "",
           "showlegend": false,
           "type": "scatter",
           "x": [
            -4.7892319984933646e-06,
            2.476565306852236e-05,
            -3.535639641137464e-05,
            -1.4502741802122574e-06,
            3.1664249339872927e-07,
            -7.2940798302457785e-06,
            2.438716951361038e-06,
            4.996545856047887e-06,
            3.6570711326353916e-06,
            5.300059505308728e-06
           ],
           "xaxis": "x",
           "y": [
            0.00010648098283649377,
            -2.092939774304335e-05,
            5.726101819706839e-05,
            6.3615324525930725e-06,
            3.3675918540009928e-06,
            -6.349398097291664e-05,
            5.495551164668176e-05,
            -1.7854133868743458e-05,
            -1.6318384642270087e-05,
            -3.9138308194356676e-05
           ],
           "yaxis": "y"
          }
         ],
         "name": "52.0"
        },
        {
         "data": [
          {
           "hoverlabel": {
            "namelength": 0
           },
           "hovertemplate": "Evolution=53.0<br>PositionX=%{x}<br>PositionY=%{y}<br>size=%{marker.size}<br>Particle=%{marker.color}",
           "ids": [
            0,
            1,
            2,
            3,
            4,
            5,
            6,
            7,
            8,
            9
           ],
           "legendgroup": "",
           "marker": {
            "color": [
             0,
             1,
             2,
             3,
             4,
             5,
             6,
             7,
             8,
             9
            ],
            "coloraxis": "coloraxis",
            "size": [
             5,
             5,
             5,
             5,
             5,
             5,
             5,
             5,
             5,
             5
            ],
            "sizemode": "area",
            "sizeref": 0.029585798816568046,
            "symbol": "circle"
           },
           "mode": "markers",
           "name": "",
           "showlegend": false,
           "type": "scatter",
           "x": [
            -1.4206674266696289e-05,
            2.476565306852236e-05,
            -5.980427174378524e-06,
            -1.4502741802122574e-06,
            3.1664249339872927e-07,
            -4.7362509255589296e-06,
            2.438716951361038e-06,
            4.996545856047887e-06,
            3.6570711326353916e-06,
            1.1041338866893447e-06
           ],
           "xaxis": "x",
           "y": [
            -2.3486067746874393e-06,
            5.704322705822003e-06,
            -8.810244535278987e-06,
            6.3615324525930725e-06,
            3.3675918540009928e-06,
            -2.695858909440012e-05,
            5.495551164668176e-05,
            -1.7854133868743458e-05,
            -1.6318384642270087e-05,
            -3.9138308194356676e-05
           ],
           "yaxis": "y"
          }
         ],
         "name": "53.0"
        },
        {
         "data": [
          {
           "hoverlabel": {
            "namelength": 0
           },
           "hovertemplate": "Evolution=54.0<br>PositionX=%{x}<br>PositionY=%{y}<br>size=%{marker.size}<br>Particle=%{marker.color}",
           "ids": [
            0,
            1,
            2,
            3,
            4,
            5,
            6,
            7,
            8,
            9
           ],
           "legendgroup": "",
           "marker": {
            "color": [
             0,
             1,
             2,
             3,
             4,
             5,
             6,
             7,
             8,
             9
            ],
            "coloraxis": "coloraxis",
            "size": [
             5,
             5,
             5,
             5,
             5,
             5,
             5,
             5,
             5,
             5
            ],
            "sizemode": "area",
            "sizeref": 0.029585798816568046,
            "symbol": "circle"
           },
           "mode": "markers",
           "name": "",
           "showlegend": false,
           "type": "scatter",
           "x": [
            -1.4206674266696289e-05,
            -3.796481052760153e-06,
            -5.980427174378524e-06,
            -1.4502741802122574e-06,
            3.1664249339872927e-07,
            1.7779670254092913e-07,
            2.438716951361038e-06,
            4.996545856047887e-06,
            3.6570711326353916e-06,
            -1.647175076377942e-05
           ],
           "xaxis": "x",
           "y": [
            -2.3486067746874393e-06,
            6.598410734296767e-06,
            -8.810244535278987e-06,
            6.3615324525930725e-06,
            3.3675918540009928e-06,
            -1.4100063815247908e-05,
            -6.444172092700163e-06,
            -1.7854133868743458e-05,
            -1.6318384642270087e-05,
            -9.93449526862347e-06
           ],
           "yaxis": "y"
          }
         ],
         "name": "54.0"
        },
        {
         "data": [
          {
           "hoverlabel": {
            "namelength": 0
           },
           "hovertemplate": "Evolution=55.0<br>PositionX=%{x}<br>PositionY=%{y}<br>size=%{marker.size}<br>Particle=%{marker.color}",
           "ids": [
            0,
            1,
            2,
            3,
            4,
            5,
            6,
            7,
            8,
            9
           ],
           "legendgroup": "",
           "marker": {
            "color": [
             0,
             1,
             2,
             3,
             4,
             5,
             6,
             7,
             8,
             9
            ],
            "coloraxis": "coloraxis",
            "size": [
             5,
             5,
             5,
             5,
             5,
             5,
             5,
             5,
             5,
             5
            ],
            "sizemode": "area",
            "sizeref": 0.029585798816568046,
            "symbol": "circle"
           },
           "mode": "markers",
           "name": "",
           "showlegend": false,
           "type": "scatter",
           "x": [
            -1.4206674266696289e-05,
            -3.796481052760153e-06,
            -5.980427174378524e-06,
            -1.4502741802122574e-06,
            3.1664249339872927e-07,
            1.7779670254092913e-07,
            2.438716951361038e-06,
            1.6005093595559504e-06,
            3.6570711326353916e-06,
            5.08536298746765e-07
           ],
           "xaxis": "x",
           "y": [
            -2.3486067746874393e-06,
            6.598410734296767e-06,
            -8.810244535278987e-06,
            6.3615324525930725e-06,
            3.3675918540009928e-06,
            2.6481531530044394e-06,
            -6.444172092700163e-06,
            -1.7854133868743458e-05,
            -1.6318384642270087e-05,
            -9.93449526862347e-06
           ],
           "yaxis": "y"
          }
         ],
         "name": "55.0"
        },
        {
         "data": [
          {
           "hoverlabel": {
            "namelength": 0
           },
           "hovertemplate": "Evolution=56.0<br>PositionX=%{x}<br>PositionY=%{y}<br>size=%{marker.size}<br>Particle=%{marker.color}",
           "ids": [
            0,
            1,
            2,
            3,
            4,
            5,
            6,
            7,
            8,
            9
           ],
           "legendgroup": "",
           "marker": {
            "color": [
             0,
             1,
             2,
             3,
             4,
             5,
             6,
             7,
             8,
             9
            ],
            "coloraxis": "coloraxis",
            "size": [
             5,
             5,
             5,
             5,
             5,
             5,
             5,
             5,
             5,
             5
            ],
            "sizemode": "area",
            "sizeref": 0.029585798816568046,
            "symbol": "circle"
           },
           "mode": "markers",
           "name": "",
           "showlegend": false,
           "type": "scatter",
           "x": [
            -1.4206674266696289e-05,
            -3.796481052760153e-06,
            -3.0851247242526426e-06,
            -7.753305674104557e-07,
            3.1664249339872927e-07,
            1.7779670254092913e-07,
            -2.087279794542204e-06,
            7.5354019852624555e-06,
            3.6570711326353916e-06,
            5.08536298746765e-07
           ],
           "xaxis": "x",
           "y": [
            -2.3486067746874393e-06,
            6.598410734296767e-06,
            -8.810244535278987e-06,
            -4.336735780786884e-06,
            3.3675918540009928e-06,
            2.6481531530044394e-06,
            -4.937735340931591e-06,
            -1.1447910939635756e-06,
            -1.0268245374807428e-05,
            5.415374513007355e-06
           ],
           "yaxis": "y"
          }
         ],
         "name": "56.0"
        },
        {
         "data": [
          {
           "hoverlabel": {
            "namelength": 0
           },
           "hovertemplate": "Evolution=57.0<br>PositionX=%{x}<br>PositionY=%{y}<br>size=%{marker.size}<br>Particle=%{marker.color}",
           "ids": [
            0,
            1,
            2,
            3,
            4,
            5,
            6,
            7,
            8,
            9
           ],
           "legendgroup": "",
           "marker": {
            "color": [
             0,
             1,
             2,
             3,
             4,
             5,
             6,
             7,
             8,
             9
            ],
            "coloraxis": "coloraxis",
            "size": [
             5,
             5,
             5,
             5,
             5,
             5,
             5,
             5,
             5,
             5
            ],
            "sizemode": "area",
            "sizeref": 0.029585798816568046,
            "symbol": "circle"
           },
           "mode": "markers",
           "name": "",
           "showlegend": false,
           "type": "scatter",
           "x": [
            -1.991332891868186e-06,
            -3.796481052760153e-06,
            -3.0851247242526426e-06,
            -8.158957551428373e-07,
            3.1664249339872927e-07,
            1.7779670254092913e-07,
            -2.087279794542204e-06,
            7.5354019852624555e-06,
            3.6570711326353916e-06,
            5.08536298746765e-07
           ],
           "xaxis": "x",
           "y": [
            -3.913844011428409e-06,
            6.598410734296767e-06,
            3.942717436126515e-06,
            -4.2535239296702223e-07,
            3.3675918540009928e-06,
            2.6481531530044394e-06,
            -4.937735340931591e-06,
            -1.1447910939635756e-06,
            2.776073743356287e-06,
            5.415374513007355e-06
           ],
           "yaxis": "y"
          }
         ],
         "name": "57.0"
        },
        {
         "data": [
          {
           "hoverlabel": {
            "namelength": 0
           },
           "hovertemplate": "Evolution=58.0<br>PositionX=%{x}<br>PositionY=%{y}<br>size=%{marker.size}<br>Particle=%{marker.color}",
           "ids": [
            0,
            1,
            2,
            3,
            4,
            5,
            6,
            7,
            8,
            9
           ],
           "legendgroup": "",
           "marker": {
            "color": [
             0,
             1,
             2,
             3,
             4,
             5,
             6,
             7,
             8,
             9
            ],
            "coloraxis": "coloraxis",
            "size": [
             5,
             5,
             5,
             5,
             5,
             5,
             5,
             5,
             5,
             5
            ],
            "sizemode": "area",
            "sizeref": 0.029585798816568046,
            "symbol": "circle"
           },
           "mode": "markers",
           "name": "",
           "showlegend": false,
           "type": "scatter",
           "x": [
            -1.991332891868186e-06,
            1.1232696711706946e-06,
            2.0562797084459605e-06,
            -8.158957551428373e-07,
            3.1664249339872927e-07,
            1.7779670254092913e-07,
            -2.087279794542204e-06,
            7.5354019852624555e-06,
            -2.4429579587959593e-06,
            5.08536298746765e-07
           ],
           "xaxis": "x",
           "y": [
            -3.913844011428409e-06,
            -2.3857848116269536e-06,
            3.4315521491769167e-06,
            -4.2535239296702223e-07,
            3.3675918540009928e-06,
            2.6481531530044394e-06,
            -4.937735340931591e-06,
            -1.1447910939635756e-06,
            2.776073743356287e-06,
            5.415374513007355e-06
           ],
           "yaxis": "y"
          }
         ],
         "name": "58.0"
        },
        {
         "data": [
          {
           "hoverlabel": {
            "namelength": 0
           },
           "hovertemplate": "Evolution=59.0<br>PositionX=%{x}<br>PositionY=%{y}<br>size=%{marker.size}<br>Particle=%{marker.color}",
           "ids": [
            0,
            1,
            2,
            3,
            4,
            5,
            6,
            7,
            8,
            9
           ],
           "legendgroup": "",
           "marker": {
            "color": [
             0,
             1,
             2,
             3,
             4,
             5,
             6,
             7,
             8,
             9
            ],
            "coloraxis": "coloraxis",
            "size": [
             5,
             5,
             5,
             5,
             5,
             5,
             5,
             5,
             5,
             5
            ],
            "sizemode": "area",
            "sizeref": 0.029585798816568046,
            "symbol": "circle"
           },
           "mode": "markers",
           "name": "",
           "showlegend": false,
           "type": "scatter",
           "x": [
            -1.991332891868186e-06,
            1.1232696711706946e-06,
            2.0562797084459605e-06,
            -8.158957551428373e-07,
            3.1664249339872927e-07,
            1.7779670254092913e-07,
            -2.087279794542204e-06,
            -1.948434003684404e-06,
            -2.4429579587959593e-06,
            5.08536298746765e-07
           ],
           "xaxis": "x",
           "y": [
            2.975892355914754e-06,
            -2.3857848116269536e-06,
            3.4315521491769167e-06,
            -4.2535239296702223e-07,
            3.3675918540009928e-06,
            2.6481531530044394e-06,
            -4.937735340931591e-06,
            -1.1447910939635756e-06,
            2.776073743356287e-06,
            5.415374513007355e-06
           ],
           "yaxis": "y"
          }
         ],
         "name": "59.0"
        },
        {
         "data": [
          {
           "hoverlabel": {
            "namelength": 0
           },
           "hovertemplate": "Evolution=60.0<br>PositionX=%{x}<br>PositionY=%{y}<br>size=%{marker.size}<br>Particle=%{marker.color}",
           "ids": [
            0,
            1,
            2,
            3,
            4,
            5,
            6,
            7,
            8,
            9
           ],
           "legendgroup": "",
           "marker": {
            "color": [
             0,
             1,
             2,
             3,
             4,
             5,
             6,
             7,
             8,
             9
            ],
            "coloraxis": "coloraxis",
            "size": [
             5,
             5,
             5,
             5,
             5,
             5,
             5,
             5,
             5,
             5
            ],
            "sizemode": "area",
            "sizeref": 0.029585798816568046,
            "symbol": "circle"
           },
           "mode": "markers",
           "name": "",
           "showlegend": false,
           "type": "scatter",
           "x": [
            -1.991332891868186e-06,
            1.1232696711706946e-06,
            -1.6839662056562214e-06,
            -6.920219049826865e-07,
            3.1664249339872927e-07,
            1.7779670254092913e-07,
            3.493979663210969e-07,
            -1.948434003684404e-06,
            -2.4429579587959593e-06,
            6.764794823486162e-07
           ],
           "xaxis": "x",
           "y": [
            2.975892355914754e-06,
            -2.3857848116269536e-06,
            3.4315521491769167e-06,
            -4.2535239296702223e-07,
            3.3675918540009928e-06,
            2.6481531530044394e-06,
            -1.3938736297117345e-06,
            -1.1447910939635756e-06,
            2.776073743356287e-06,
            3.135793093854564e-06
           ],
           "yaxis": "y"
          }
         ],
         "name": "60.0"
        },
        {
         "data": [
          {
           "hoverlabel": {
            "namelength": 0
           },
           "hovertemplate": "Evolution=61.0<br>PositionX=%{x}<br>PositionY=%{y}<br>size=%{marker.size}<br>Particle=%{marker.color}",
           "ids": [
            0,
            1,
            2,
            3,
            4,
            5,
            6,
            7,
            8,
            9
           ],
           "legendgroup": "",
           "marker": {
            "color": [
             0,
             1,
             2,
             3,
             4,
             5,
             6,
             7,
             8,
             9
            ],
            "coloraxis": "coloraxis",
            "size": [
             5,
             5,
             5,
             5,
             5,
             5,
             5,
             5,
             5,
             5
            ],
            "sizemode": "area",
            "sizeref": 0.029585798816568046,
            "symbol": "circle"
           },
           "mode": "markers",
           "name": "",
           "showlegend": false,
           "type": "scatter",
           "x": [
            1.4125133194337634e-06,
            -3.009791024877207e-08,
            1.063415334773415e-06,
            -6.920219049826865e-07,
            3.1664249339872927e-07,
            1.7779670254092913e-07,
            3.493979663210969e-07,
            -1.948434003684404e-06,
            -2.4429579587959593e-06,
            4.036092360048157e-07
           ],
           "xaxis": "x",
           "y": [
            2.975892355914754e-06,
            -1.7216128326220493e-06,
            3.4315521491769167e-06,
            -4.2535239296702223e-07,
            3.3675918540009928e-06,
            -2.026065461128677e-06,
            -1.3938736297117345e-06,
            -1.1447910939635756e-06,
            2.776073743356287e-06,
            3.135793093854564e-06
           ],
           "yaxis": "y"
          }
         ],
         "name": "61.0"
        },
        {
         "data": [
          {
           "hoverlabel": {
            "namelength": 0
           },
           "hovertemplate": "Evolution=62.0<br>PositionX=%{x}<br>PositionY=%{y}<br>size=%{marker.size}<br>Particle=%{marker.color}",
           "ids": [
            0,
            1,
            2,
            3,
            4,
            5,
            6,
            7,
            8,
            9
           ],
           "legendgroup": "",
           "marker": {
            "color": [
             0,
             1,
             2,
             3,
             4,
             5,
             6,
             7,
             8,
             9
            ],
            "coloraxis": "coloraxis",
            "size": [
             5,
             5,
             5,
             5,
             5,
             5,
             5,
             5,
             5,
             5
            ],
            "sizemode": "area",
            "sizeref": 0.029585798816568046,
            "symbol": "circle"
           },
           "mode": "markers",
           "name": "",
           "showlegend": false,
           "type": "scatter",
           "x": [
            -1.952473568997168e-07,
            -3.009791024877207e-08,
            1.3085660130389128e-06,
            -6.920219049826865e-07,
            -1.0729659767777676e-06,
            1.7779670254092913e-07,
            3.493979663210969e-07,
            1.3385461054271136e-08,
            1.0707035811623647e-06,
            4.036092360048157e-07
           ],
           "xaxis": "x",
           "y": [
            -8.170518910532609e-07,
            -1.7216128326220493e-06,
            -1.6822844990409714e-06,
            -4.2535239296702223e-07,
            -2.7455041621252303e-06,
            8.549696582774335e-07,
            -1.3938736297117345e-06,
            -1.1447910939635756e-06,
            2.776073743356287e-06,
            3.135793093854564e-06
           ],
           "yaxis": "y"
          }
         ],
         "name": "62.0"
        },
        {
         "data": [
          {
           "hoverlabel": {
            "namelength": 0
           },
           "hovertemplate": "Evolution=63.0<br>PositionX=%{x}<br>PositionY=%{y}<br>size=%{marker.size}<br>Particle=%{marker.color}",
           "ids": [
            0,
            1,
            2,
            3,
            4,
            5,
            6,
            7,
            8,
            9
           ],
           "legendgroup": "",
           "marker": {
            "color": [
             0,
             1,
             2,
             3,
             4,
             5,
             6,
             7,
             8,
             9
            ],
            "coloraxis": "coloraxis",
            "size": [
             5,
             5,
             5,
             5,
             5,
             5,
             5,
             5,
             5,
             5
            ],
            "sizemode": "area",
            "sizeref": 0.029585798816568046,
            "symbol": "circle"
           },
           "mode": "markers",
           "name": "",
           "showlegend": false,
           "type": "scatter",
           "x": [
            -1.952473568997168e-07,
            -3.009791024877207e-08,
            1.3085660130389128e-06,
            -6.920219049826865e-07,
            1.3829981567905772e-07,
            1.7779670254092913e-07,
            3.493979663210969e-07,
            1.3385461054271136e-08,
            1.0707035811623647e-06,
            -5.02273966697752e-07
           ],
           "xaxis": "x",
           "y": [
            -8.170518910532609e-07,
            -1.7216128326220493e-06,
            -9.212562985412219e-07,
            -4.2535239296702223e-07,
            -2.7455041621252303e-06,
            8.549696582774335e-07,
            -1.3938736297117345e-06,
            -1.1447910939635756e-06,
            2.776073743356287e-06,
            -2.6148279151186486e-07
           ],
           "yaxis": "y"
          }
         ],
         "name": "63.0"
        },
        {
         "data": [
          {
           "hoverlabel": {
            "namelength": 0
           },
           "hovertemplate": "Evolution=64.0<br>PositionX=%{x}<br>PositionY=%{y}<br>size=%{marker.size}<br>Particle=%{marker.color}",
           "ids": [
            0,
            1,
            2,
            3,
            4,
            5,
            6,
            7,
            8,
            9
           ],
           "legendgroup": "",
           "marker": {
            "color": [
             0,
             1,
             2,
             3,
             4,
             5,
             6,
             7,
             8,
             9
            ],
            "coloraxis": "coloraxis",
            "size": [
             5,
             5,
             5,
             5,
             5,
             5,
             5,
             5,
             5,
             5
            ],
            "sizemode": "area",
            "sizeref": 0.029585798816568046,
            "symbol": "circle"
           },
           "mode": "markers",
           "name": "",
           "showlegend": false,
           "type": "scatter",
           "x": [
            -1.952473568997168e-07,
            -3.009791024877207e-08,
            -4.20068345954423e-07,
            4.5371437529809085e-07,
            -3.3057166973819376e-09,
            1.7779670254092913e-07,
            3.493979663210969e-07,
            1.3385461054271136e-08,
            3.8668708972054256e-07,
            -5.02273966697752e-07
           ],
           "xaxis": "x",
           "y": [
            -8.170518910532609e-07,
            -1.7216128326220493e-06,
            7.383975846086397e-07,
            -4.2535239296702223e-07,
            -2.7455041621252303e-06,
            8.549696582774335e-07,
            -1.3938736297117345e-06,
            -1.1447910939635756e-06,
            -2.9413539111683496e-06,
            -2.6148279151186486e-07
           ],
           "yaxis": "y"
          }
         ],
         "name": "64.0"
        },
        {
         "data": [
          {
           "hoverlabel": {
            "namelength": 0
           },
           "hovertemplate": "Evolution=65.0<br>PositionX=%{x}<br>PositionY=%{y}<br>size=%{marker.size}<br>Particle=%{marker.color}",
           "ids": [
            0,
            1,
            2,
            3,
            4,
            5,
            6,
            7,
            8,
            9
           ],
           "legendgroup": "",
           "marker": {
            "color": [
             0,
             1,
             2,
             3,
             4,
             5,
             6,
             7,
             8,
             9
            ],
            "coloraxis": "coloraxis",
            "size": [
             5,
             5,
             5,
             5,
             5,
             5,
             5,
             5,
             5,
             5
            ],
            "sizemode": "area",
            "sizeref": 0.029585798816568046,
            "symbol": "circle"
           },
           "mode": "markers",
           "name": "",
           "showlegend": false,
           "type": "scatter",
           "x": [
            -1.952473568997168e-07,
            -3.009791024877207e-08,
            -4.20068345954423e-07,
            4.5371437529809085e-07,
            -3.3057166973819376e-09,
            1.7779670254092913e-07,
            3.493979663210969e-07,
            1.3385461054271136e-08,
            3.8668708972054256e-07,
            -5.02273966697752e-07
           ],
           "xaxis": "x",
           "y": [
            -8.170518910532609e-07,
            9.823655898641181e-08,
            7.383975846086397e-07,
            -4.2535239296702223e-07,
            -2.7455041621252303e-06,
            -6.925106231791814e-07,
            -1.3938736297117345e-06,
            -1.1447910939635756e-06,
            1.538754118689467e-06,
            -2.6148279151186486e-07
           ],
           "yaxis": "y"
          }
         ],
         "name": "65.0"
        },
        {
         "data": [
          {
           "hoverlabel": {
            "namelength": 0
           },
           "hovertemplate": "Evolution=66.0<br>PositionX=%{x}<br>PositionY=%{y}<br>size=%{marker.size}<br>Particle=%{marker.color}",
           "ids": [
            0,
            1,
            2,
            3,
            4,
            5,
            6,
            7,
            8,
            9
           ],
           "legendgroup": "",
           "marker": {
            "color": [
             0,
             1,
             2,
             3,
             4,
             5,
             6,
             7,
             8,
             9
            ],
            "coloraxis": "coloraxis",
            "size": [
             5,
             5,
             5,
             5,
             5,
             5,
             5,
             5,
             5,
             5
            ],
            "sizemode": "area",
            "sizeref": 0.029585798816568046,
            "symbol": "circle"
           },
           "mode": "markers",
           "name": "",
           "showlegend": false,
           "type": "scatter",
           "x": [
            -1.952473568997168e-07,
            -3.009791024877207e-08,
            9.790449907516259e-09,
            -2.437165044451836e-07,
            4.084067132477317e-08,
            6.554366554276812e-08,
            3.493979663210969e-07,
            2.4283397641911522e-08,
            -2.0334144245007594e-07,
            -5.02273966697752e-07
           ],
           "xaxis": "x",
           "y": [
            -8.170518910532609e-07,
            9.823655898641181e-08,
            7.383975846086397e-07,
            -4.2535239296702223e-07,
            -6.371922158041225e-07,
            -6.605304755912194e-07,
            6.801115477742428e-07,
            -4.147260734084834e-07,
            1.538754118689467e-06,
            -2.6148279151186486e-07
           ],
           "yaxis": "y"
          }
         ],
         "name": "66.0"
        },
        {
         "data": [
          {
           "hoverlabel": {
            "namelength": 0
           },
           "hovertemplate": "Evolution=67.0<br>PositionX=%{x}<br>PositionY=%{y}<br>size=%{marker.size}<br>Particle=%{marker.color}",
           "ids": [
            0,
            1,
            2,
            3,
            4,
            5,
            6,
            7,
            8,
            9
           ],
           "legendgroup": "",
           "marker": {
            "color": [
             0,
             1,
             2,
             3,
             4,
             5,
             6,
             7,
             8,
             9
            ],
            "coloraxis": "coloraxis",
            "size": [
             5,
             5,
             5,
             5,
             5,
             5,
             5,
             5,
             5,
             5
            ],
            "sizemode": "area",
            "sizeref": 0.029585798816568046,
            "symbol": "circle"
           },
           "mode": "markers",
           "name": "",
           "showlegend": false,
           "type": "scatter",
           "x": [
            2.0653140327219334e-08,
            -3.009791024877207e-08,
            4.632103863670906e-07,
            -1.4814192436101706e-07,
            4.084067132477317e-08,
            6.554366554276812e-08,
            -1.3248813797746213e-07,
            2.4283397641911522e-08,
            -1.2420427274216635e-07,
            5.0018554834139666e-08
           ],
           "xaxis": "x",
           "y": [
            -8.170518910532609e-07,
            9.823655898641181e-08,
            -2.9662854827473233e-07,
            8.306721361842645e-09,
            -4.3950542026272437e-07,
            -6.605304755912194e-07,
            6.801115477742428e-07,
            -4.147260734084834e-07,
            -9.51467969985135e-07,
            2.726442461516165e-08
           ],
           "yaxis": "y"
          }
         ],
         "name": "67.0"
        },
        {
         "data": [
          {
           "hoverlabel": {
            "namelength": 0
           },
           "hovertemplate": "Evolution=68.0<br>PositionX=%{x}<br>PositionY=%{y}<br>size=%{marker.size}<br>Particle=%{marker.color}",
           "ids": [
            0,
            1,
            2,
            3,
            4,
            5,
            6,
            7,
            8,
            9
           ],
           "legendgroup": "",
           "marker": {
            "color": [
             0,
             1,
             2,
             3,
             4,
             5,
             6,
             7,
             8,
             9
            ],
            "coloraxis": "coloraxis",
            "size": [
             5,
             5,
             5,
             5,
             5,
             5,
             5,
             5,
             5,
             5
            ],
            "sizemode": "area",
            "sizeref": 0.029585798816568046,
            "symbol": "circle"
           },
           "mode": "markers",
           "name": "",
           "showlegend": false,
           "type": "scatter",
           "x": [
            2.0653140327219334e-08,
            -3.009791024877207e-08,
            4.632103863670906e-07,
            -1.4814192436101706e-07,
            4.084067132477317e-08,
            9.707173608083681e-08,
            -1.559044797153313e-07,
            2.4283397641911522e-08,
            3.712198209068219e-07,
            5.0018554834139666e-08
           ],
           "xaxis": "x",
           "y": [
            2.8324569947636695e-07,
            9.823655898641181e-08,
            -2.8263077303207283e-07,
            8.306721361842645e-09,
            -4.3950542026272437e-07,
            5.52116689100935e-07,
            3.522041714650332e-07,
            -4.147260734084834e-07,
            -8.12998110409507e-07,
            2.726442461516165e-08
           ],
           "yaxis": "y"
          }
         ],
         "name": "68.0"
        },
        {
         "data": [
          {
           "hoverlabel": {
            "namelength": 0
           },
           "hovertemplate": "Evolution=69.0<br>PositionX=%{x}<br>PositionY=%{y}<br>size=%{marker.size}<br>Particle=%{marker.color}",
           "ids": [
            0,
            1,
            2,
            3,
            4,
            5,
            6,
            7,
            8,
            9
           ],
           "legendgroup": "",
           "marker": {
            "color": [
             0,
             1,
             2,
             3,
             4,
             5,
             6,
             7,
             8,
             9
            ],
            "coloraxis": "coloraxis",
            "size": [
             5,
             5,
             5,
             5,
             5,
             5,
             5,
             5,
             5,
             5
            ],
            "sizemode": "area",
            "sizeref": 0.029585798816568046,
            "symbol": "circle"
           },
           "mode": "markers",
           "name": "",
           "showlegend": false,
           "type": "scatter",
           "x": [
            2.0653140327219334e-08,
            -3.009791024877207e-08,
            1.1292183956741928e-07,
            -1.4814192436101706e-07,
            4.084067132477317e-08,
            9.707173608083681e-08,
            5.829719167557049e-08,
            -2.403020120594495e-07,
            3.712198209068219e-07,
            5.0018554834139666e-08
           ],
           "xaxis": "x",
           "y": [
            2.8324569947636695e-07,
            9.823655898641181e-08,
            -9.971938162414904e-08,
            8.306721361842645e-09,
            -4.3950542026272437e-07,
            5.52116689100935e-07,
            1.4874751188041158e-08,
            2.1473468240777104e-07,
            -2.2507820107710037e-07,
            2.726442461516165e-08
           ],
           "yaxis": "y"
          }
         ],
         "name": "69.0"
        },
        {
         "data": [
          {
           "hoverlabel": {
            "namelength": 0
           },
           "hovertemplate": "Evolution=70.0<br>PositionX=%{x}<br>PositionY=%{y}<br>size=%{marker.size}<br>Particle=%{marker.color}",
           "ids": [
            0,
            1,
            2,
            3,
            4,
            5,
            6,
            7,
            8,
            9
           ],
           "legendgroup": "",
           "marker": {
            "color": [
             0,
             1,
             2,
             3,
             4,
             5,
             6,
             7,
             8,
             9
            ],
            "coloraxis": "coloraxis",
            "size": [
             5,
             5,
             5,
             5,
             5,
             5,
             5,
             5,
             5,
             5
            ],
            "sizemode": "area",
            "sizeref": 0.029585798816568046,
            "symbol": "circle"
           },
           "mode": "markers",
           "name": "",
           "showlegend": false,
           "type": "scatter",
           "x": [
            2.0653140327219334e-08,
            -3.009791024877207e-08,
            1.1292183956741928e-07,
            -1.4814192436101706e-07,
            6.8724288605248e-08,
            -1.12101340239694e-07,
            5.829719167557049e-08,
            2.2256607554247435e-08,
            2.187054289042828e-07,
            5.0018554834139666e-08
           ],
           "xaxis": "x",
           "y": [
            2.8324569947636695e-07,
            9.823655898641181e-08,
            -9.971938162414904e-08,
            8.306721361842645e-09,
            -5.803847772496371e-08,
            1.7819974068113033e-07,
            1.4874751188041158e-08,
            -1.5501826813124652e-07,
            -2.2507820107710037e-07,
            2.726442461516165e-08
           ],
           "yaxis": "y"
          }
         ],
         "name": "70.0"
        },
        {
         "data": [
          {
           "hoverlabel": {
            "namelength": 0
           },
           "hovertemplate": "Evolution=71.0<br>PositionX=%{x}<br>PositionY=%{y}<br>size=%{marker.size}<br>Particle=%{marker.color}",
           "ids": [
            0,
            1,
            2,
            3,
            4,
            5,
            6,
            7,
            8,
            9
           ],
           "legendgroup": "",
           "marker": {
            "color": [
             0,
             1,
             2,
             3,
             4,
             5,
             6,
             7,
             8,
             9
            ],
            "coloraxis": "coloraxis",
            "size": [
             5,
             5,
             5,
             5,
             5,
             5,
             5,
             5,
             5,
             5
            ],
            "sizemode": "area",
            "sizeref": 0.029585798816568046,
            "symbol": "circle"
           },
           "mode": "markers",
           "name": "",
           "showlegend": false,
           "type": "scatter",
           "x": [
            8.153103220107077e-08,
            -3.009791024877207e-08,
            -8.777996615591319e-08,
            -1.4814192436101706e-07,
            -1.3075195951162263e-08,
            -2.07450433632179e-08,
            5.829719167557049e-08,
            2.2256607554247435e-08,
            -1.874510744121353e-08,
            1.704305908940868e-08
           ],
           "xaxis": "x",
           "y": [
            6.336464639118256e-08,
            9.823655898641181e-08,
            -9.971938162414904e-08,
            8.306721361842645e-09,
            -7.596220959560336e-08,
            5.5585107816349135e-08,
            1.4874751188041158e-08,
            -1.5501826813124652e-07,
            -1.1503667728388727e-07,
            2.726442461516165e-08
           ],
           "yaxis": "y"
          }
         ],
         "name": "71.0"
        },
        {
         "data": [
          {
           "hoverlabel": {
            "namelength": 0
           },
           "hovertemplate": "Evolution=72.0<br>PositionX=%{x}<br>PositionY=%{y}<br>size=%{marker.size}<br>Particle=%{marker.color}",
           "ids": [
            0,
            1,
            2,
            3,
            4,
            5,
            6,
            7,
            8,
            9
           ],
           "legendgroup": "",
           "marker": {
            "color": [
             0,
             1,
             2,
             3,
             4,
             5,
             6,
             7,
             8,
             9
            ],
            "coloraxis": "coloraxis",
            "size": [
             5,
             5,
             5,
             5,
             5,
             5,
             5,
             5,
             5,
             5
            ],
            "sizemode": "area",
            "sizeref": 0.029585798816568046,
            "symbol": "circle"
           },
           "mode": "markers",
           "name": "",
           "showlegend": false,
           "type": "scatter",
           "x": [
            8.153103220107077e-08,
            1.6562016372249406e-08,
            -8.777996615591319e-08,
            5.656417660880288e-08,
            -1.3075195951162263e-08,
            -2.07450433632179e-08,
            5.829719167557049e-08,
            2.6445921568231936e-08,
            -9.12812310046776e-09,
            1.704305908940868e-08
           ],
           "xaxis": "x",
           "y": [
            6.336464639118256e-08,
            9.823655898641181e-08,
            -9.971938162414904e-08,
            6.9092463010076615e-09,
            -7.596220959560336e-08,
            5.5585107816349135e-08,
            1.4874751188041158e-08,
            -9.631738790975735e-08,
            7.983005541791984e-08,
            2.726442461516165e-08
           ],
           "yaxis": "y"
          }
         ],
         "name": "72.0"
        },
        {
         "data": [
          {
           "hoverlabel": {
            "namelength": 0
           },
           "hovertemplate": "Evolution=73.0<br>PositionX=%{x}<br>PositionY=%{y}<br>size=%{marker.size}<br>Particle=%{marker.color}",
           "ids": [
            0,
            1,
            2,
            3,
            4,
            5,
            6,
            7,
            8,
            9
           ],
           "legendgroup": "",
           "marker": {
            "color": [
             0,
             1,
             2,
             3,
             4,
             5,
             6,
             7,
             8,
             9
            ],
            "coloraxis": "coloraxis",
            "size": [
             5,
             5,
             5,
             5,
             5,
             5,
             5,
             5,
             5,
             5
            ],
            "sizemode": "area",
            "sizeref": 0.029585798816568046,
            "symbol": "circle"
           },
           "mode": "markers",
           "name": "",
           "showlegend": false,
           "type": "scatter",
           "x": [
            8.153103220107077e-08,
            1.6562016372249406e-08,
            3.929099130459052e-08,
            5.656417660880288e-08,
            -1.3075195951162263e-08,
            -2.07450433632179e-08,
            -3.580417088350337e-08,
            2.6445921568231936e-08,
            -9.12812310046776e-09,
            1.704305908940868e-08
           ],
           "xaxis": "x",
           "y": [
            8.461840465377373e-09,
            9.823655898641181e-08,
            -8.711413612551137e-08,
            6.9092463010076615e-09,
            -7.596220959560336e-08,
            5.5585107816349135e-08,
            3.97179071096663e-09,
            7.788138067225782e-08,
            7.983005541791984e-08,
            2.726442461516165e-08
           ],
           "yaxis": "y"
          }
         ],
         "name": "73.0"
        },
        {
         "data": [
          {
           "hoverlabel": {
            "namelength": 0
           },
           "hovertemplate": "Evolution=74.0<br>PositionX=%{x}<br>PositionY=%{y}<br>size=%{marker.size}<br>Particle=%{marker.color}",
           "ids": [
            0,
            1,
            2,
            3,
            4,
            5,
            6,
            7,
            8,
            9
           ],
           "legendgroup": "",
           "marker": {
            "color": [
             0,
             1,
             2,
             3,
             4,
             5,
             6,
             7,
             8,
             9
            ],
            "coloraxis": "coloraxis",
            "size": [
             5,
             5,
             5,
             5,
             5,
             5,
             5,
             5,
             5,
             5
            ],
            "sizemode": "area",
            "sizeref": 0.029585798816568046,
            "symbol": "circle"
           },
           "mode": "markers",
           "name": "",
           "showlegend": false,
           "type": "scatter",
           "x": [
            -4.592134580579758e-08,
            -1.432250849503861e-08,
            3.929099130459052e-08,
            5.656417660880288e-08,
            4.7061076423312886e-08,
            -2.07450433632179e-08,
            -3.580417088350337e-08,
            2.6445921568231936e-08,
            -6.804815743933442e-08,
            1.704305908940868e-08
           ],
           "xaxis": "x",
           "y": [
            8.461840465377373e-09,
            -2.691265058253546e-08,
            5.680083103810631e-08,
            6.9092463010076615e-09,
            -4.4085197355768595e-08,
            5.5585107816349135e-08,
            3.97179071096663e-09,
            7.788138067225782e-08,
            1.3373082785858768e-08,
            2.726442461516165e-08
           ],
           "yaxis": "y"
          }
         ],
         "name": "74.0"
        },
        {
         "data": [
          {
           "hoverlabel": {
            "namelength": 0
           },
           "hovertemplate": "Evolution=75.0<br>PositionX=%{x}<br>PositionY=%{y}<br>size=%{marker.size}<br>Particle=%{marker.color}",
           "ids": [
            0,
            1,
            2,
            3,
            4,
            5,
            6,
            7,
            8,
            9
           ],
           "legendgroup": "",
           "marker": {
            "color": [
             0,
             1,
             2,
             3,
             4,
             5,
             6,
             7,
             8,
             9
            ],
            "coloraxis": "coloraxis",
            "size": [
             5,
             5,
             5,
             5,
             5,
             5,
             5,
             5,
             5,
             5
            ],
            "sizemode": "area",
            "sizeref": 0.029585798816568046,
            "symbol": "circle"
           },
           "mode": "markers",
           "name": "",
           "showlegend": false,
           "type": "scatter",
           "x": [
            -4.592134580579758e-08,
            -1.432250849503861e-08,
            3.929099130459052e-08,
            5.656417660880288e-08,
            4.7061076423312886e-08,
            -2.07450433632179e-08,
            -3.580417088350337e-08,
            2.6445921568231936e-08,
            4.5440210501211956e-08,
            1.704305908940868e-08
           ],
           "xaxis": "x",
           "y": [
            8.461840465377373e-09,
            -2.691265058253546e-08,
            4.885914997148385e-08,
            6.9092463010076615e-09,
            -4.4085197355768595e-08,
            5.5585107816349135e-08,
            3.97179071096663e-09,
            7.788138067225782e-08,
            -7.858956910464667e-09,
            2.726442461516165e-08
           ],
           "yaxis": "y"
          }
         ],
         "name": "75.0"
        },
        {
         "data": [
          {
           "hoverlabel": {
            "namelength": 0
           },
           "hovertemplate": "Evolution=76.0<br>PositionX=%{x}<br>PositionY=%{y}<br>size=%{marker.size}<br>Particle=%{marker.color}",
           "ids": [
            0,
            1,
            2,
            3,
            4,
            5,
            6,
            7,
            8,
            9
           ],
           "legendgroup": "",
           "marker": {
            "color": [
             0,
             1,
             2,
             3,
             4,
             5,
             6,
             7,
             8,
             9
            ],
            "coloraxis": "coloraxis",
            "size": [
             5,
             5,
             5,
             5,
             5,
             5,
             5,
             5,
             5,
             5
            ],
            "sizemode": "area",
            "sizeref": 0.029585798816568046,
            "symbol": "circle"
           },
           "mode": "markers",
           "name": "",
           "showlegend": false,
           "type": "scatter",
           "x": [
            -4.592134580579758e-08,
            -1.432250849503861e-08,
            3.929099130459052e-08,
            -1.691011965719008e-08,
            -1.604361212380627e-08,
            -1.2838300408716606e-08,
            -3.580417088350337e-08,
            2.6445921568231936e-08,
            4.5440210501211956e-08,
            1.704305908940868e-08
           ],
           "xaxis": "x",
           "y": [
            8.461840465377373e-09,
            -2.691265058253546e-08,
            4.885914997148385e-08,
            -1.0188550889627112e-08,
            -4.4085197355768595e-08,
            1.7737577779126254e-08,
            3.97179071096663e-09,
            -3.888116377153439e-09,
            -7.858956910464667e-09,
            2.726442461516165e-08
           ],
           "yaxis": "y"
          }
         ],
         "name": "76.0"
        },
        {
         "data": [
          {
           "hoverlabel": {
            "namelength": 0
           },
           "hovertemplate": "Evolution=77.0<br>PositionX=%{x}<br>PositionY=%{y}<br>size=%{marker.size}<br>Particle=%{marker.color}",
           "ids": [
            0,
            1,
            2,
            3,
            4,
            5,
            6,
            7,
            8,
            9
           ],
           "legendgroup": "",
           "marker": {
            "color": [
             0,
             1,
             2,
             3,
             4,
             5,
             6,
             7,
             8,
             9
            ],
            "coloraxis": "coloraxis",
            "size": [
             5,
             5,
             5,
             5,
             5,
             5,
             5,
             5,
             5,
             5
            ],
            "sizemode": "area",
            "sizeref": 0.029585798816568046,
            "symbol": "circle"
           },
           "mode": "markers",
           "name": "",
           "showlegend": false,
           "type": "scatter",
           "x": [
            -1.4132105989792341e-08,
            -1.432250849503861e-08,
            -5.1486954675727014e-08,
            -1.691011965719008e-08,
            -1.604361212380627e-08,
            -1.2838300408716606e-08,
            2.3371311969921216e-08,
            2.0637461436856865e-08,
            4.5440210501211956e-08,
            1.704305908940868e-08
           ],
           "xaxis": "x",
           "y": [
            8.461840465377373e-09,
            -2.691265058253546e-08,
            -2.3116746887881925e-08,
            -1.0188550889627112e-08,
            -4.4085197355768595e-08,
            1.7737577779126254e-08,
            2.447093706382082e-08,
            -3.888116377153439e-09,
            -7.858956910464667e-09,
            5.253669757123933e-09
           ],
           "yaxis": "y"
          }
         ],
         "name": "77.0"
        },
        {
         "data": [
          {
           "hoverlabel": {
            "namelength": 0
           },
           "hovertemplate": "Evolution=78.0<br>PositionX=%{x}<br>PositionY=%{y}<br>size=%{marker.size}<br>Particle=%{marker.color}",
           "ids": [
            0,
            1,
            2,
            3,
            4,
            5,
            6,
            7,
            8,
            9
           ],
           "legendgroup": "",
           "marker": {
            "color": [
             0,
             1,
             2,
             3,
             4,
             5,
             6,
             7,
             8,
             9
            ],
            "coloraxis": "coloraxis",
            "size": [
             5,
             5,
             5,
             5,
             5,
             5,
             5,
             5,
             5,
             5
            ],
            "sizemode": "area",
            "sizeref": 0.029585798816568046,
            "symbol": "circle"
           },
           "mode": "markers",
           "name": "",
           "showlegend": false,
           "type": "scatter",
           "x": [
            -1.4132105989792341e-08,
            -1.432250849503861e-08,
            -5.1486954675727014e-08,
            -1.691011965719008e-08,
            4.077817725041251e-08,
            9.329772494931097e-10,
            2.3371311969921216e-08,
            2.0637461436856865e-08,
            -1.6168015614029077e-08,
            1.704305908940868e-08
           ],
           "xaxis": "x",
           "y": [
            -6.056264196725119e-09,
            2.2198864543762127e-09,
            9.891538413998373e-09,
            -1.0188550889627112e-08,
            1.3441627599570527e-08,
            1.7737577779126254e-08,
            2.447093706382082e-08,
            -3.888116377153439e-09,
            -7.858956910464667e-09,
            5.253669757123933e-09
           ],
           "yaxis": "y"
          }
         ],
         "name": "78.0"
        },
        {
         "data": [
          {
           "hoverlabel": {
            "namelength": 0
           },
           "hovertemplate": "Evolution=79.0<br>PositionX=%{x}<br>PositionY=%{y}<br>size=%{marker.size}<br>Particle=%{marker.color}",
           "ids": [
            0,
            1,
            2,
            3,
            4,
            5,
            6,
            7,
            8,
            9
           ],
           "legendgroup": "",
           "marker": {
            "color": [
             0,
             1,
             2,
             3,
             4,
             5,
             6,
             7,
             8,
             9
            ],
            "coloraxis": "coloraxis",
            "size": [
             5,
             5,
             5,
             5,
             5,
             5,
             5,
             5,
             5,
             5
            ],
            "sizemode": "area",
            "sizeref": 0.029585798816568046,
            "symbol": "circle"
           },
           "mode": "markers",
           "name": "",
           "showlegend": false,
           "type": "scatter",
           "x": [
            -1.4132105989792341e-08,
            -5.690952296976025e-09,
            3.622504397645738e-08,
            -1.691011965719008e-08,
            -2.3795758486294935e-08,
            9.329772494931097e-10,
            2.3371311969921216e-08,
            2.0637461436856865e-08,
            -1.6168015614029077e-08,
            4.0802300304043615e-09
           ],
           "xaxis": "x",
           "y": [
            -6.056264196725119e-09,
            2.2198864543762127e-09,
            1.7668505997710866e-09,
            -1.0188550889627112e-08,
            -1.5617802572839688e-08,
            1.7737577779126254e-08,
            2.447093706382082e-08,
            -3.888116377153439e-09,
            -7.858956910464667e-09,
            5.253669757123933e-09
           ],
           "yaxis": "y"
          }
         ],
         "name": "79.0"
        },
        {
         "data": [
          {
           "hoverlabel": {
            "namelength": 0
           },
           "hovertemplate": "Evolution=80.0<br>PositionX=%{x}<br>PositionY=%{y}<br>size=%{marker.size}<br>Particle=%{marker.color}",
           "ids": [
            0,
            1,
            2,
            3,
            4,
            5,
            6,
            7,
            8,
            9
           ],
           "legendgroup": "",
           "marker": {
            "color": [
             0,
             1,
             2,
             3,
             4,
             5,
             6,
             7,
             8,
             9
            ],
            "coloraxis": "coloraxis",
            "size": [
             5,
             5,
             5,
             5,
             5,
             5,
             5,
             5,
             5,
             5
            ],
            "sizemode": "area",
            "sizeref": 0.029585798816568046,
            "symbol": "circle"
           },
           "mode": "markers",
           "name": "",
           "showlegend": false,
           "type": "scatter",
           "x": [
            -8.631503953963827e-09,
            -5.690952296976025e-09,
            -3.6550426727392875e-09,
            -1.691011965719008e-08,
            -1.0450902103044259e-08,
            9.329772494931097e-10,
            1.142815209329033e-08,
            2.0637461436856865e-08,
            -3.898848998758187e-09,
            -3.898848998758187e-09
           ],
           "xaxis": "x",
           "y": [
            -6.056264196725119e-09,
            2.2198864543762127e-09,
            1.7668505997710866e-09,
            -1.0188550889627112e-08,
            -1.5617802572839688e-08,
            1.7737577779126254e-08,
            2.5458688102501776e-08,
            -3.888116377153439e-09,
            1.2956808591068969e-08,
            5.253669757123933e-09
           ],
           "yaxis": "y"
          }
         ],
         "name": "80.0"
        },
        {
         "data": [
          {
           "hoverlabel": {
            "namelength": 0
           },
           "hovertemplate": "Evolution=81.0<br>PositionX=%{x}<br>PositionY=%{y}<br>size=%{marker.size}<br>Particle=%{marker.color}",
           "ids": [
            0,
            1,
            2,
            3,
            4,
            5,
            6,
            7,
            8,
            9
           ],
           "legendgroup": "",
           "marker": {
            "color": [
             0,
             1,
             2,
             3,
             4,
             5,
             6,
             7,
             8,
             9
            ],
            "coloraxis": "coloraxis",
            "size": [
             5,
             5,
             5,
             5,
             5,
             5,
             5,
             5,
             5,
             5
            ],
            "sizemode": "area",
            "sizeref": 0.029585798816568046,
            "symbol": "circle"
           },
           "mode": "markers",
           "name": "",
           "showlegend": false,
           "type": "scatter",
           "x": [
            8.596477795517369e-09,
            -5.690952296976025e-09,
            -3.6550426727392875e-09,
            -1.691011965719008e-08,
            -1.0450902103044259e-08,
            9.329772494931097e-10,
            -1.2887151951364677e-09,
            2.0637461436856865e-08,
            -3.898848998758187e-09,
            -3.898848998758187e-09
           ],
           "xaxis": "x",
           "y": [
            -6.056264196725119e-09,
            2.2198864543762127e-09,
            1.7668505997710866e-09,
            9.114224918811694e-09,
            -1.5617802572839688e-08,
            1.7737577779126254e-08,
            2.5458688102501776e-08,
            -3.888116377153439e-09,
            1.2956808591068969e-08,
            5.253669757123933e-09
           ],
           "yaxis": "y"
          }
         ],
         "name": "81.0"
        },
        {
         "data": [
          {
           "hoverlabel": {
            "namelength": 0
           },
           "hovertemplate": "Evolution=82.0<br>PositionX=%{x}<br>PositionY=%{y}<br>size=%{marker.size}<br>Particle=%{marker.color}",
           "ids": [
            0,
            1,
            2,
            3,
            4,
            5,
            6,
            7,
            8,
            9
           ],
           "legendgroup": "",
           "marker": {
            "color": [
             0,
             1,
             2,
             3,
             4,
             5,
             6,
             7,
             8,
             9
            ],
            "coloraxis": "coloraxis",
            "size": [
             5,
             5,
             5,
             5,
             5,
             5,
             5,
             5,
             5,
             5
            ],
            "sizemode": "area",
            "sizeref": 0.029585798816568046,
            "symbol": "circle"
           },
           "mode": "markers",
           "name": "",
           "showlegend": false,
           "type": "scatter",
           "x": [
            8.596477795517369e-09,
            -5.690952296976025e-09,
            -3.6550426727392875e-09,
            9.509164194177157e-09,
            -1.0450902103044259e-08,
            -1.0024609232886516e-08,
            -1.2887151951364677e-09,
            -1.1098588430221295e-09,
            -3.898848998758187e-09,
            -3.898848998758187e-09
           ],
           "xaxis": "x",
           "y": [
            -6.056264196725119e-09,
            2.2198864543762127e-09,
            1.7668505997710866e-09,
            -1.2871508159937393e-09,
            1.1108898397036243e-09,
            9.165227155372035e-09,
            2.5458688102501776e-08,
            -3.888116377153439e-09,
            -2.7826960691139924e-09,
            5.253669757123933e-09
           ],
           "yaxis": "y"
          }
         ],
         "name": "82.0"
        },
        {
         "data": [
          {
           "hoverlabel": {
            "namelength": 0
           },
           "hovertemplate": "Evolution=83.0<br>PositionX=%{x}<br>PositionY=%{y}<br>size=%{marker.size}<br>Particle=%{marker.color}",
           "ids": [
            0,
            1,
            2,
            3,
            4,
            5,
            6,
            7,
            8,
            9
           ],
           "legendgroup": "",
           "marker": {
            "color": [
             0,
             1,
             2,
             3,
             4,
             5,
             6,
             7,
             8,
             9
            ],
            "coloraxis": "coloraxis",
            "size": [
             5,
             5,
             5,
             5,
             5,
             5,
             5,
             5,
             5,
             5
            ],
            "sizemode": "area",
            "sizeref": 0.029585798816568046,
            "symbol": "circle"
           },
           "mode": "markers",
           "name": "",
           "showlegend": false,
           "type": "scatter",
           "x": [
            7.716726312528771e-10,
            -1.1668120321270178e-09,
            -3.6550426727392875e-09,
            9.509164194177157e-09,
            -1.0450902103044259e-08,
            5.137804554115649e-09,
            5.533597678453205e-09,
            -1.1098588430221295e-09,
            -3.898848998758187e-09,
            -3.898848998758187e-09
           ],
           "xaxis": "x",
           "y": [
            2.754166648695401e-09,
            2.2198864543762127e-09,
            1.7668505997710866e-09,
            -1.2871508159937393e-09,
            1.1108898397036243e-09,
            9.165227155372035e-09,
            -8.230258448210496e-11,
            -3.888116377153439e-09,
            -2.7826960691139924e-09,
            5.253669757123933e-09
           ],
           "yaxis": "y"
          }
         ],
         "name": "83.0"
        },
        {
         "data": [
          {
           "hoverlabel": {
            "namelength": 0
           },
           "hovertemplate": "Evolution=84.0<br>PositionX=%{x}<br>PositionY=%{y}<br>size=%{marker.size}<br>Particle=%{marker.color}",
           "ids": [
            0,
            1,
            2,
            3,
            4,
            5,
            6,
            7,
            8,
            9
           ],
           "legendgroup": "",
           "marker": {
            "color": [
             0,
             1,
             2,
             3,
             4,
             5,
             6,
             7,
             8,
             9
            ],
            "coloraxis": "coloraxis",
            "size": [
             5,
             5,
             5,
             5,
             5,
             5,
             5,
             5,
             5,
             5
            ],
            "sizemode": "area",
            "sizeref": 0.029585798816568046,
            "symbol": "circle"
           },
           "mode": "markers",
           "name": "",
           "showlegend": false,
           "type": "scatter",
           "x": [
            7.716726312528771e-10,
            -1.1668120321270178e-09,
            -3.6550426727392875e-09,
            9.509164194177157e-09,
            -9.879556800126796e-10,
            5.137804554115649e-09,
            5.533597678453205e-09,
            -1.1098588430221295e-09,
            5.434843785194025e-10,
            -3.898848998758187e-09
           ],
           "xaxis": "x",
           "y": [
            2.754166648695401e-09,
            2.2198864543762127e-09,
            1.7668505997710866e-09,
            -1.2871508159937393e-09,
            -1.6133430427108996e-09,
            9.165227155372035e-09,
            -8.230258448210496e-11,
            -3.888116377153439e-09,
            -2.7826960691139924e-09,
            5.253669757123933e-09
           ],
           "yaxis": "y"
          }
         ],
         "name": "84.0"
        },
        {
         "data": [
          {
           "hoverlabel": {
            "namelength": 0
           },
           "hovertemplate": "Evolution=85.0<br>PositionX=%{x}<br>PositionY=%{y}<br>size=%{marker.size}<br>Particle=%{marker.color}",
           "ids": [
            0,
            1,
            2,
            3,
            4,
            5,
            6,
            7,
            8,
            9
           ],
           "legendgroup": "",
           "marker": {
            "color": [
             0,
             1,
             2,
             3,
             4,
             5,
             6,
             7,
             8,
             9
            ],
            "coloraxis": "coloraxis",
            "size": [
             5,
             5,
             5,
             5,
             5,
             5,
             5,
             5,
             5,
             5
            ],
            "sizemode": "area",
            "sizeref": 0.029585798816568046,
            "symbol": "circle"
           },
           "mode": "markers",
           "name": "",
           "showlegend": false,
           "type": "scatter",
           "x": [
            7.716726312528771e-10,
            -1.1668120321270178e-09,
            -3.6550426727392875e-09,
            -6.150099322706189e-09,
            -5.771207380205201e-10,
            -5.470795587841557e-09,
            3.6063644955835666e-09,
            -1.1098588430221295e-09,
            5.434843785194025e-10,
            -3.898848998758187e-09
           ],
           "xaxis": "x",
           "y": [
            2.754166648695401e-09,
            2.2198864543762127e-09,
            1.7668505997710866e-09,
            4.166538574551429e-10,
            -1.6133430427108996e-09,
            -2.361115669271026e-09,
            2.606589029927475e-09,
            -3.888116377153439e-09,
            -2.7826960691139924e-09,
            5.253669757123933e-09
           ],
           "yaxis": "y"
          }
         ],
         "name": "85.0"
        },
        {
         "data": [
          {
           "hoverlabel": {
            "namelength": 0
           },
           "hovertemplate": "Evolution=86.0<br>PositionX=%{x}<br>PositionY=%{y}<br>size=%{marker.size}<br>Particle=%{marker.color}",
           "ids": [
            0,
            1,
            2,
            3,
            4,
            5,
            6,
            7,
            8,
            9
           ],
           "legendgroup": "",
           "marker": {
            "color": [
             0,
             1,
             2,
             3,
             4,
             5,
             6,
             7,
             8,
             9
            ],
            "coloraxis": "coloraxis",
            "size": [
             5,
             5,
             5,
             5,
             5,
             5,
             5,
             5,
             5,
             5
            ],
            "sizemode": "area",
            "sizeref": 0.029585798816568046,
            "symbol": "circle"
           },
           "mode": "markers",
           "name": "",
           "showlegend": false,
           "type": "scatter",
           "x": [
            7.716726312528771e-10,
            -1.1668120321270178e-09,
            -3.6550426727392875e-09,
            -3.3472804045367314e-09,
            -5.771207380205201e-10,
            1.6766304493207048e-09,
            -5.338085631920706e-10,
            -1.1098588430221295e-09,
            5.434843785194025e-10,
            -3.898848998758187e-09
           ],
           "xaxis": "x",
           "y": [
            2.754166648695401e-09,
            2.2198864543762127e-09,
            1.7668505997710866e-09,
            2.983386808317419e-09,
            -1.6133430427108996e-09,
            -2.361115669271026e-09,
            4.3244917587543005e-09,
            -3.888116377153439e-09,
            -2.7826960691139924e-09,
            5.253669757123933e-09
           ],
           "yaxis": "y"
          }
         ],
         "name": "86.0"
        },
        {
         "data": [
          {
           "hoverlabel": {
            "namelength": 0
           },
           "hovertemplate": "Evolution=87.0<br>PositionX=%{x}<br>PositionY=%{y}<br>size=%{marker.size}<br>Particle=%{marker.color}",
           "ids": [
            0,
            1,
            2,
            3,
            4,
            5,
            6,
            7,
            8,
            9
           ],
           "legendgroup": "",
           "marker": {
            "color": [
             0,
             1,
             2,
             3,
             4,
             5,
             6,
             7,
             8,
             9
            ],
            "coloraxis": "coloraxis",
            "size": [
             5,
             5,
             5,
             5,
             5,
             5,
             5,
             5,
             5,
             5
            ],
            "sizemode": "area",
            "sizeref": 0.029585798816568046,
            "symbol": "circle"
           },
           "mode": "markers",
           "name": "",
           "showlegend": false,
           "type": "scatter",
           "x": [
            7.716726312528771e-10,
            -1.1668120321270178e-09,
            -3.6550426727392875e-09,
            -3.3472804045367314e-09,
            -5.771207380205201e-10,
            1.6766304493207048e-09,
            -5.338085631920706e-10,
            -1.1098588430221295e-09,
            5.434843785194025e-10,
            3.2133964213113955e-10
           ],
           "xaxis": "x",
           "y": [
            2.754166648695401e-09,
            2.2198864543762127e-09,
            1.7668505997710866e-09,
            2.983386808317419e-09,
            -1.6133430427108996e-09,
            -2.361115669271026e-09,
            4.2838695888972694e-09,
            -3.888116377153439e-09,
            -2.7826960691139924e-09,
            1.823200497009198e-09
           ],
           "yaxis": "y"
          }
         ],
         "name": "87.0"
        },
        {
         "data": [
          {
           "hoverlabel": {
            "namelength": 0
           },
           "hovertemplate": "Evolution=88.0<br>PositionX=%{x}<br>PositionY=%{y}<br>size=%{marker.size}<br>Particle=%{marker.color}",
           "ids": [
            0,
            1,
            2,
            3,
            4,
            5,
            6,
            7,
            8,
            9
           ],
           "legendgroup": "",
           "marker": {
            "color": [
             0,
             1,
             2,
             3,
             4,
             5,
             6,
             7,
             8,
             9
            ],
            "coloraxis": "coloraxis",
            "size": [
             5,
             5,
             5,
             5,
             5,
             5,
             5,
             5,
             5,
             5
            ],
            "sizemode": "area",
            "sizeref": 0.029585798816568046,
            "symbol": "circle"
           },
           "mode": "markers",
           "name": "",
           "showlegend": false,
           "type": "scatter",
           "x": [
            7.716726312528771e-10,
            -1.1668120321270178e-09,
            -3.6550426727392875e-09,
            -1.3211965751495988e-09,
            -5.771207380205201e-10,
            2.4863873146615366e-10,
            -5.338085631920706e-10,
            -1.1098588430221295e-09,
            8.51271270066035e-10,
            3.2133964213113955e-10
           ],
           "xaxis": "x",
           "y": [
            2.754166648695401e-09,
            2.2198864543762127e-09,
            1.7668505997710866e-09,
            2.983386808317419e-09,
            -1.6133430427108996e-09,
            -8.660813205704362e-10,
            4.2838695888972694e-09,
            -3.888116377153439e-09,
            1.9855046633831103e-09,
            1.823200497009198e-09
           ],
           "yaxis": "y"
          }
         ],
         "name": "88.0"
        },
        {
         "data": [
          {
           "hoverlabel": {
            "namelength": 0
           },
           "hovertemplate": "Evolution=89.0<br>PositionX=%{x}<br>PositionY=%{y}<br>size=%{marker.size}<br>Particle=%{marker.color}",
           "ids": [
            0,
            1,
            2,
            3,
            4,
            5,
            6,
            7,
            8,
            9
           ],
           "legendgroup": "",
           "marker": {
            "color": [
             0,
             1,
             2,
             3,
             4,
             5,
             6,
             7,
             8,
             9
            ],
            "coloraxis": "coloraxis",
            "size": [
             5,
             5,
             5,
             5,
             5,
             5,
             5,
             5,
             5,
             5
            ],
            "sizemode": "area",
            "sizeref": 0.029585798816568046,
            "symbol": "circle"
           },
           "mode": "markers",
           "name": "",
           "showlegend": false,
           "type": "scatter",
           "x": [
            7.716726312528771e-10,
            -8.483418931287678e-10,
            -3.6550426727392875e-09,
            -1.3211965751495988e-09,
            -5.771207380205201e-10,
            2.4863873146615366e-10,
            -5.338085631920706e-10,
            -6.543130095318107e-10,
            8.51271270066035e-10,
            3.2133964213113955e-10
           ],
           "xaxis": "x",
           "y": [
            2.754166648695401e-09,
            -2.0779923925205205e-09,
            1.7668505997710866e-09,
            2.983386808317419e-09,
            -1.3315643964135377e-09,
            -8.660813205704362e-10,
            2.3221415694763527e-09,
            -3.888116377153439e-09,
            3.642532253735995e-10,
            6.690387032123489e-10
           ],
           "yaxis": "y"
          }
         ],
         "name": "89.0"
        },
        {
         "data": [
          {
           "hoverlabel": {
            "namelength": 0
           },
           "hovertemplate": "Evolution=90.0<br>PositionX=%{x}<br>PositionY=%{y}<br>size=%{marker.size}<br>Particle=%{marker.color}",
           "ids": [
            0,
            1,
            2,
            3,
            4,
            5,
            6,
            7,
            8,
            9
           ],
           "legendgroup": "",
           "marker": {
            "color": [
             0,
             1,
             2,
             3,
             4,
             5,
             6,
             7,
             8,
             9
            ],
            "coloraxis": "coloraxis",
            "size": [
             5,
             5,
             5,
             5,
             5,
             5,
             5,
             5,
             5,
             5
            ],
            "sizemode": "area",
            "sizeref": 0.029585798816568046,
            "symbol": "circle"
           },
           "mode": "markers",
           "name": "",
           "showlegend": false,
           "type": "scatter",
           "x": [
            7.716726312528771e-10,
            -8.483418931287678e-10,
            -3.6550426727392875e-09,
            -1.3211965751495988e-09,
            -4.1788566852139515e-10,
            2.4863873146615366e-10,
            -5.338085631920706e-10,
            -6.543130095318107e-10,
            8.51271270066035e-10,
            3.2133964213113955e-10
           ],
           "xaxis": "x",
           "y": [
            2.754166648695401e-09,
            -2.0779923925205205e-09,
            1.7668505997710866e-09,
            -2.9089468431249055e-09,
            -1.3315643964135377e-09,
            -8.660813205704362e-10,
            2.3221415694763527e-09,
            -3.888116377153439e-09,
            3.642532253735995e-10,
            6.690387032123489e-10
           ],
           "yaxis": "y"
          }
         ],
         "name": "90.0"
        },
        {
         "data": [
          {
           "hoverlabel": {
            "namelength": 0
           },
           "hovertemplate": "Evolution=91.0<br>PositionX=%{x}<br>PositionY=%{y}<br>size=%{marker.size}<br>Particle=%{marker.color}",
           "ids": [
            0,
            1,
            2,
            3,
            4,
            5,
            6,
            7,
            8,
            9
           ],
           "legendgroup": "",
           "marker": {
            "color": [
             0,
             1,
             2,
             3,
             4,
             5,
             6,
             7,
             8,
             9
            ],
            "coloraxis": "coloraxis",
            "size": [
             5,
             5,
             5,
             5,
             5,
             5,
             5,
             5,
             5,
             5
            ],
            "sizemode": "area",
            "sizeref": 0.029585798816568046,
            "symbol": "circle"
           },
           "mode": "markers",
           "name": "",
           "showlegend": false,
           "type": "scatter",
           "x": [
            -5.150796931349933e-10,
            -1.09603008058873e-09,
            -3.6550426727392875e-09,
            -1.3211965751495988e-09,
            -4.1788566852139515e-10,
            2.4863873146615366e-10,
            -5.338085631920706e-10,
            -2.1376342383505275e-10,
            8.51271270066035e-10,
            3.2133964213113955e-10
           ],
           "xaxis": "x",
           "y": [
            2.754166648695401e-09,
            -1.8663828703833793e-09,
            -4.92867322516945e-10,
            -2.9089468431249055e-09,
            -1.0820938601799603e-09,
            -8.660813205704362e-10,
            2.3221415694763527e-09,
            -1.230083581626952e-09,
            3.642532253735995e-10,
            6.690387032123489e-10
           ],
           "yaxis": "y"
          }
         ],
         "name": "91.0"
        },
        {
         "data": [
          {
           "hoverlabel": {
            "namelength": 0
           },
           "hovertemplate": "Evolution=92.0<br>PositionX=%{x}<br>PositionY=%{y}<br>size=%{marker.size}<br>Particle=%{marker.color}",
           "ids": [
            0,
            1,
            2,
            3,
            4,
            5,
            6,
            7,
            8,
            9
           ],
           "legendgroup": "",
           "marker": {
            "color": [
             0,
             1,
             2,
             3,
             4,
             5,
             6,
             7,
             8,
             9
            ],
            "coloraxis": "coloraxis",
            "size": [
             5,
             5,
             5,
             5,
             5,
             5,
             5,
             5,
             5,
             5
            ],
            "sizemode": "area",
            "sizeref": 0.029585798816568046,
            "symbol": "circle"
           },
           "mode": "markers",
           "name": "",
           "showlegend": false,
           "type": "scatter",
           "x": [
            2.544487375060467e-10,
            -1.09603008058873e-09,
            3.86368825222797e-11,
            -1.3211965751495988e-09,
            -7.235436384762457e-11,
            2.4863873146615366e-10,
            -9.939689582455588e-10,
            -2.1376342383505275e-10,
            5.711542294728235e-10,
            3.2133964213113955e-10
           ],
           "xaxis": "x",
           "y": [
            -5.819430852734888e-10,
            -1.8663828703833793e-09,
            3.5935982794443777e-09,
            -2.4109975769546254e-09,
            -1.0820938601799603e-09,
            -8.660813205704362e-10,
            -1.940377731106875e-09,
            -1.230083581626952e-09,
            3.642532253735995e-10,
            6.690387032123489e-10
           ],
           "yaxis": "y"
          }
         ],
         "name": "92.0"
        },
        {
         "data": [
          {
           "hoverlabel": {
            "namelength": 0
           },
           "hovertemplate": "Evolution=93.0<br>PositionX=%{x}<br>PositionY=%{y}<br>size=%{marker.size}<br>Particle=%{marker.color}",
           "ids": [
            0,
            1,
            2,
            3,
            4,
            5,
            6,
            7,
            8,
            9
           ],
           "legendgroup": "",
           "marker": {
            "color": [
             0,
             1,
             2,
             3,
             4,
             5,
             6,
             7,
             8,
             9
            ],
            "coloraxis": "coloraxis",
            "size": [
             5,
             5,
             5,
             5,
             5,
             5,
             5,
             5,
             5,
             5
            ],
            "sizemode": "area",
            "sizeref": 0.029585798816568046,
            "symbol": "circle"
           },
           "mode": "markers",
           "name": "",
           "showlegend": false,
           "type": "scatter",
           "x": [
            -1.3946765506782755e-10,
            -1.09603008058873e-09,
            9.457607477821266e-10,
            4.1065768181593437e-10,
            -7.235436384762457e-11,
            2.4863873146615366e-10,
            5.703930281263777e-10,
            -2.1376342383505275e-10,
            5.711542294728235e-10,
            3.2133964213113955e-10
           ],
           "xaxis": "x",
           "y": [
            2.398967677488915e-10,
            -1.8663828703833793e-09,
            1.3334905615996814e-09,
            -2.4109975769546254e-09,
            9.006051348922471e-10,
            -8.660813205704362e-10,
            -1.429077777936563e-10,
            -1.230083581626952e-09,
            3.642532253735995e-10,
            6.690387032123489e-10
           ],
           "yaxis": "y"
          }
         ],
         "name": "93.0"
        },
        {
         "data": [
          {
           "hoverlabel": {
            "namelength": 0
           },
           "hovertemplate": "Evolution=94.0<br>PositionX=%{x}<br>PositionY=%{y}<br>size=%{marker.size}<br>Particle=%{marker.color}",
           "ids": [
            0,
            1,
            2,
            3,
            4,
            5,
            6,
            7,
            8,
            9
           ],
           "legendgroup": "",
           "marker": {
            "color": [
             0,
             1,
             2,
             3,
             4,
             5,
             6,
             7,
             8,
             9
            ],
            "coloraxis": "coloraxis",
            "size": [
             5,
             5,
             5,
             5,
             5,
             5,
             5,
             5,
             5,
             5
            ],
            "sizemode": "area",
            "sizeref": 0.029585798816568046,
            "symbol": "circle"
           },
           "mode": "markers",
           "name": "",
           "showlegend": false,
           "type": "scatter",
           "x": [
            -1.3946765506782755e-10,
            -1.09603008058873e-09,
            9.457607477821266e-10,
            4.1065768181593437e-10,
            -7.235436384762457e-11,
            -6.48525210882703e-10,
            5.703930281263777e-10,
            -2.1376342383505275e-10,
            5.711542294728235e-10,
            3.2133964213113955e-10
           ],
           "xaxis": "x",
           "y": [
            2.398967677488915e-10,
            -1.8663828703833793e-09,
            1.3334905615996814e-09,
            -2.4109975769546254e-09,
            9.006051348922471e-10,
            2.3454054395174353e-11,
            -1.429077777936563e-10,
            -1.230083581626952e-09,
            3.642532253735995e-10,
            6.690387032123489e-10
           ],
           "yaxis": "y"
          }
         ],
         "name": "94.0"
        },
        {
         "data": [
          {
           "hoverlabel": {
            "namelength": 0
           },
           "hovertemplate": "Evolution=95.0<br>PositionX=%{x}<br>PositionY=%{y}<br>size=%{marker.size}<br>Particle=%{marker.color}",
           "ids": [
            0,
            1,
            2,
            3,
            4,
            5,
            6,
            7,
            8,
            9
           ],
           "legendgroup": "",
           "marker": {
            "color": [
             0,
             1,
             2,
             3,
             4,
             5,
             6,
             7,
             8,
             9
            ],
            "coloraxis": "coloraxis",
            "size": [
             5,
             5,
             5,
             5,
             5,
             5,
             5,
             5,
             5,
             5
            ],
            "sizemode": "area",
            "sizeref": 0.029585798816568046,
            "symbol": "circle"
           },
           "mode": "markers",
           "name": "",
           "showlegend": false,
           "type": "scatter",
           "x": [
            -3.830489003171693e-11,
            8.208534541112847e-10,
            9.457607477821266e-10,
            -1.394676550678275e-10,
            -7.235436384762457e-11,
            -6.48525210882703e-10,
            5.703930281263777e-10,
            -2.1376342383505275e-10,
            5.711542294728235e-10,
            -1.0950224823123717e-10
           ],
           "xaxis": "x",
           "y": [
            2.398967677488915e-10,
            -1.8663828703833793e-09,
            1.1825393945581022e-09,
            2.398967677488915e-10,
            9.006051348922471e-10,
            2.3454054395174353e-11,
            -1.429077777936563e-10,
            3.4171089031938466e-10,
            3.642532253735995e-10,
            1.6561496020432538e-10
           ],
           "yaxis": "y"
          }
         ],
         "name": "95.0"
        },
        {
         "data": [
          {
           "hoverlabel": {
            "namelength": 0
           },
           "hovertemplate": "Evolution=96.0<br>PositionX=%{x}<br>PositionY=%{y}<br>size=%{marker.size}<br>Particle=%{marker.color}",
           "ids": [
            0,
            1,
            2,
            3,
            4,
            5,
            6,
            7,
            8,
            9
           ],
           "legendgroup": "",
           "marker": {
            "color": [
             0,
             1,
             2,
             3,
             4,
             5,
             6,
             7,
             8,
             9
            ],
            "coloraxis": "coloraxis",
            "size": [
             5,
             5,
             5,
             5,
             5,
             5,
             5,
             5,
             5,
             5
            ],
            "sizemode": "area",
            "sizeref": 0.029585798816568046,
            "symbol": "circle"
           },
           "mode": "markers",
           "name": "",
           "showlegend": false,
           "type": "scatter",
           "x": [
            -3.830489003171693e-11,
            1.3004382625790542e-10,
            -1.0950224823123719e-10,
            -1.394676550678275e-10,
            -7.235436384762457e-11,
            1.265648150169776e-10,
            5.703930281263777e-10,
            -2.1376342383505275e-10,
            5.711542294728235e-10,
            -1.0950224823123717e-10
           ],
           "xaxis": "x",
           "y": [
            2.398967677488915e-10,
            3.10977220653467e-10,
            9.515121961774938e-10,
            2.398967677488915e-10,
            9.006051348922471e-10,
            4.410300229040217e-10,
            -1.429077777936563e-10,
            3.4171089031938466e-10,
            3.642532253735995e-10,
            1.6561496020432538e-10
           ],
           "yaxis": "y"
          }
         ],
         "name": "96.0"
        },
        {
         "data": [
          {
           "hoverlabel": {
            "namelength": 0
           },
           "hovertemplate": "Evolution=97.0<br>PositionX=%{x}<br>PositionY=%{y}<br>size=%{marker.size}<br>Particle=%{marker.color}",
           "ids": [
            0,
            1,
            2,
            3,
            4,
            5,
            6,
            7,
            8,
            9
           ],
           "legendgroup": "",
           "marker": {
            "color": [
             0,
             1,
             2,
             3,
             4,
             5,
             6,
             7,
             8,
             9
            ],
            "coloraxis": "coloraxis",
            "size": [
             5,
             5,
             5,
             5,
             5,
             5,
             5,
             5,
             5,
             5
            ],
            "sizemode": "area",
            "sizeref": 0.029585798816568046,
            "symbol": "circle"
           },
           "mode": "markers",
           "name": "",
           "showlegend": false,
           "type": "scatter",
           "x": [
            -3.830489003171693e-11,
            1.3004382625790542e-10,
            1.9522731152103304e-10,
            -1.394676550678275e-10,
            3.5195793281260545e-10,
            1.265648150169776e-10,
            8.941693063336497e-11,
            -2.1376342383505275e-10,
            -1.2244291815987368e-10,
            -1.0950224823123717e-10
           ],
           "xaxis": "x",
           "y": [
            -6.417259578978732e-11,
            -2.050860066060103e-10,
            2.2779318901667937e-10,
            -1.4096823894916484e-11,
            1.9008320304628008e-11,
            4.410300229040217e-10,
            4.919370841892683e-10,
            3.4171089031938466e-10,
            -9.04574158227863e-11,
            1.6561496020432538e-10
           ],
           "yaxis": "y"
          }
         ],
         "name": "97.0"
        },
        {
         "data": [
          {
           "hoverlabel": {
            "namelength": 0
           },
           "hovertemplate": "Evolution=98.0<br>PositionX=%{x}<br>PositionY=%{y}<br>size=%{marker.size}<br>Particle=%{marker.color}",
           "ids": [
            0,
            1,
            2,
            3,
            4,
            5,
            6,
            7,
            8,
            9
           ],
           "legendgroup": "",
           "marker": {
            "color": [
             0,
             1,
             2,
             3,
             4,
             5,
             6,
             7,
             8,
             9
            ],
            "coloraxis": "coloraxis",
            "size": [
             5,
             5,
             5,
             5,
             5,
             5,
             5,
             5,
             5,
             5
            ],
            "sizemode": "area",
            "sizeref": 0.029585798816568046,
            "symbol": "circle"
           },
           "mode": "markers",
           "name": "",
           "showlegend": false,
           "type": "scatter",
           "x": [
            -3.830489003171693e-11,
            -1.0571448078879622e-10,
            -2.979252157774002e-11,
            -1.394676550678275e-10,
            -1.8630382849241463e-10,
            1.265648150169776e-10,
            -1.7302430067792897e-10,
            1.250156097331251e-10,
            -1.2244291815987368e-10,
            -1.0950224823123717e-10
           ],
           "xaxis": "x",
           "y": [
            -6.417259578978732e-11,
            -2.050860066060103e-10,
            2.2779318901667937e-10,
            -1.4096823894916484e-11,
            1.9008320304628008e-11,
            4.410300229040217e-10,
            -6.541952987535088e-11,
            3.770433061922119e-10,
            -9.04574158227863e-11,
            1.6561496020432538e-10
           ],
           "yaxis": "y"
          }
         ],
         "name": "98.0"
        },
        {
         "data": [
          {
           "hoverlabel": {
            "namelength": 0
           },
           "hovertemplate": "Evolution=99.0<br>PositionX=%{x}<br>PositionY=%{y}<br>size=%{marker.size}<br>Particle=%{marker.color}",
           "ids": [
            0,
            1,
            2,
            3,
            4,
            5,
            6,
            7,
            8,
            9
           ],
           "legendgroup": "",
           "marker": {
            "color": [
             0,
             1,
             2,
             3,
             4,
             5,
             6,
             7,
             8,
             9
            ],
            "coloraxis": "coloraxis",
            "size": [
             5,
             5,
             5,
             5,
             5,
             5,
             5,
             5,
             5,
             5
            ],
            "sizemode": "area",
            "sizeref": 0.029585798816568046,
            "symbol": "circle"
           },
           "mode": "markers",
           "name": "",
           "showlegend": false,
           "type": "scatter",
           "x": [
            -3.830489003171693e-11,
            -1.0571448078879622e-10,
            2.6577037045653354e-11,
            1.2845869873819805e-10,
            9.393674236875937e-11,
            1.265648150169776e-10,
            4.830916155964029e-11,
            -6.5438638083710275e-12,
            -1.2915934438224376e-11,
            -9.136405079550795e-11
           ],
           "xaxis": "x",
           "y": [
            -6.417259578978732e-11,
            1.8905218059989896e-10,
            2.2779318901667937e-10,
            -1.4096823894916484e-11,
            1.9008320304628008e-11,
            -3.830597508698399e-11,
            -6.541952987535088e-11,
            5.134464925005081e-11,
            -9.04574158227863e-11,
            1.5518842111564874e-10
           ],
           "yaxis": "y"
          }
         ],
         "name": "99.0"
        },
        {
         "data": [
          {
           "hoverlabel": {
            "namelength": 0
           },
           "hovertemplate": "Evolution=100.0<br>PositionX=%{x}<br>PositionY=%{y}<br>size=%{marker.size}<br>Particle=%{marker.color}",
           "ids": [
            0,
            1,
            2,
            3,
            4,
            5,
            6,
            7,
            8,
            9
           ],
           "legendgroup": "",
           "marker": {
            "color": [
             0,
             1,
             2,
             3,
             4,
             5,
             6,
             7,
             8,
             9
            ],
            "coloraxis": "coloraxis",
            "size": [
             5,
             5,
             5,
             5,
             5,
             5,
             5,
             5,
             5,
             5
            ],
            "sizemode": "area",
            "sizeref": 0.029585798816568046,
            "symbol": "circle"
           },
           "mode": "markers",
           "name": "",
           "showlegend": false,
           "type": "scatter",
           "x": [
            -3.830489003171693e-11,
            -1.0571448078879622e-10,
            2.6577037045653354e-11,
            1.2845869873819805e-10,
            9.393674236875937e-11,
            -3.511885471679025e-11,
            4.830916155964029e-11,
            -6.5438638083710275e-12,
            -4.137016180984583e-11,
            -9.136405079550795e-11
           ],
           "xaxis": "x",
           "y": [
            5.399322651059388e-11,
            5.552547658044705e-11,
            2.2779318901667937e-10,
            -1.4096823894916484e-11,
            1.9008320304628008e-11,
            -3.830597508698399e-11,
            -6.541952987535088e-11,
            5.134464925005081e-11,
            2.2138839063817058e-11,
            9.370577254438195e-11
           ],
           "yaxis": "y"
          }
         ],
         "name": "100.0"
        }
       ],
       "layout": {
        "coloraxis": {
         "colorbar": {
          "title": {
           "text": "Particle"
          }
         },
         "colorscale": [
          [
           0,
           "#0d0887"
          ],
          [
           0.1111111111111111,
           "#46039f"
          ],
          [
           0.2222222222222222,
           "#7201a8"
          ],
          [
           0.3333333333333333,
           "#9c179e"
          ],
          [
           0.4444444444444444,
           "#bd3786"
          ],
          [
           0.5555555555555556,
           "#d8576b"
          ],
          [
           0.6666666666666666,
           "#ed7953"
          ],
          [
           0.7777777777777778,
           "#fb9f3a"
          ],
          [
           0.8888888888888888,
           "#fdca26"
          ],
          [
           1,
           "#f0f921"
          ]
         ]
        },
        "height": 600,
        "legend": {
         "itemsizing": "constant",
         "tracegroupgap": 0
        },
        "margin": {
         "t": 60
        },
        "sliders": [
         {
          "active": 0,
          "currentvalue": {
           "prefix": "Evolution="
          },
          "len": 0.9,
          "pad": {
           "b": 10,
           "t": 60
          },
          "steps": [
           {
            "args": [
             [
              "0.0"
             ],
             {
              "frame": {
               "duration": 0,
               "redraw": false
              },
              "fromcurrent": true,
              "mode": "immediate",
              "transition": {
               "duration": 0,
               "easing": "linear"
              }
             }
            ],
            "label": "0.0",
            "method": "animate"
           },
           {
            "args": [
             [
              "1.0"
             ],
             {
              "frame": {
               "duration": 0,
               "redraw": false
              },
              "fromcurrent": true,
              "mode": "immediate",
              "transition": {
               "duration": 0,
               "easing": "linear"
              }
             }
            ],
            "label": "1.0",
            "method": "animate"
           },
           {
            "args": [
             [
              "2.0"
             ],
             {
              "frame": {
               "duration": 0,
               "redraw": false
              },
              "fromcurrent": true,
              "mode": "immediate",
              "transition": {
               "duration": 0,
               "easing": "linear"
              }
             }
            ],
            "label": "2.0",
            "method": "animate"
           },
           {
            "args": [
             [
              "3.0"
             ],
             {
              "frame": {
               "duration": 0,
               "redraw": false
              },
              "fromcurrent": true,
              "mode": "immediate",
              "transition": {
               "duration": 0,
               "easing": "linear"
              }
             }
            ],
            "label": "3.0",
            "method": "animate"
           },
           {
            "args": [
             [
              "4.0"
             ],
             {
              "frame": {
               "duration": 0,
               "redraw": false
              },
              "fromcurrent": true,
              "mode": "immediate",
              "transition": {
               "duration": 0,
               "easing": "linear"
              }
             }
            ],
            "label": "4.0",
            "method": "animate"
           },
           {
            "args": [
             [
              "5.0"
             ],
             {
              "frame": {
               "duration": 0,
               "redraw": false
              },
              "fromcurrent": true,
              "mode": "immediate",
              "transition": {
               "duration": 0,
               "easing": "linear"
              }
             }
            ],
            "label": "5.0",
            "method": "animate"
           },
           {
            "args": [
             [
              "6.0"
             ],
             {
              "frame": {
               "duration": 0,
               "redraw": false
              },
              "fromcurrent": true,
              "mode": "immediate",
              "transition": {
               "duration": 0,
               "easing": "linear"
              }
             }
            ],
            "label": "6.0",
            "method": "animate"
           },
           {
            "args": [
             [
              "7.0"
             ],
             {
              "frame": {
               "duration": 0,
               "redraw": false
              },
              "fromcurrent": true,
              "mode": "immediate",
              "transition": {
               "duration": 0,
               "easing": "linear"
              }
             }
            ],
            "label": "7.0",
            "method": "animate"
           },
           {
            "args": [
             [
              "8.0"
             ],
             {
              "frame": {
               "duration": 0,
               "redraw": false
              },
              "fromcurrent": true,
              "mode": "immediate",
              "transition": {
               "duration": 0,
               "easing": "linear"
              }
             }
            ],
            "label": "8.0",
            "method": "animate"
           },
           {
            "args": [
             [
              "9.0"
             ],
             {
              "frame": {
               "duration": 0,
               "redraw": false
              },
              "fromcurrent": true,
              "mode": "immediate",
              "transition": {
               "duration": 0,
               "easing": "linear"
              }
             }
            ],
            "label": "9.0",
            "method": "animate"
           },
           {
            "args": [
             [
              "10.0"
             ],
             {
              "frame": {
               "duration": 0,
               "redraw": false
              },
              "fromcurrent": true,
              "mode": "immediate",
              "transition": {
               "duration": 0,
               "easing": "linear"
              }
             }
            ],
            "label": "10.0",
            "method": "animate"
           },
           {
            "args": [
             [
              "11.0"
             ],
             {
              "frame": {
               "duration": 0,
               "redraw": false
              },
              "fromcurrent": true,
              "mode": "immediate",
              "transition": {
               "duration": 0,
               "easing": "linear"
              }
             }
            ],
            "label": "11.0",
            "method": "animate"
           },
           {
            "args": [
             [
              "12.0"
             ],
             {
              "frame": {
               "duration": 0,
               "redraw": false
              },
              "fromcurrent": true,
              "mode": "immediate",
              "transition": {
               "duration": 0,
               "easing": "linear"
              }
             }
            ],
            "label": "12.0",
            "method": "animate"
           },
           {
            "args": [
             [
              "13.0"
             ],
             {
              "frame": {
               "duration": 0,
               "redraw": false
              },
              "fromcurrent": true,
              "mode": "immediate",
              "transition": {
               "duration": 0,
               "easing": "linear"
              }
             }
            ],
            "label": "13.0",
            "method": "animate"
           },
           {
            "args": [
             [
              "14.0"
             ],
             {
              "frame": {
               "duration": 0,
               "redraw": false
              },
              "fromcurrent": true,
              "mode": "immediate",
              "transition": {
               "duration": 0,
               "easing": "linear"
              }
             }
            ],
            "label": "14.0",
            "method": "animate"
           },
           {
            "args": [
             [
              "15.0"
             ],
             {
              "frame": {
               "duration": 0,
               "redraw": false
              },
              "fromcurrent": true,
              "mode": "immediate",
              "transition": {
               "duration": 0,
               "easing": "linear"
              }
             }
            ],
            "label": "15.0",
            "method": "animate"
           },
           {
            "args": [
             [
              "16.0"
             ],
             {
              "frame": {
               "duration": 0,
               "redraw": false
              },
              "fromcurrent": true,
              "mode": "immediate",
              "transition": {
               "duration": 0,
               "easing": "linear"
              }
             }
            ],
            "label": "16.0",
            "method": "animate"
           },
           {
            "args": [
             [
              "17.0"
             ],
             {
              "frame": {
               "duration": 0,
               "redraw": false
              },
              "fromcurrent": true,
              "mode": "immediate",
              "transition": {
               "duration": 0,
               "easing": "linear"
              }
             }
            ],
            "label": "17.0",
            "method": "animate"
           },
           {
            "args": [
             [
              "18.0"
             ],
             {
              "frame": {
               "duration": 0,
               "redraw": false
              },
              "fromcurrent": true,
              "mode": "immediate",
              "transition": {
               "duration": 0,
               "easing": "linear"
              }
             }
            ],
            "label": "18.0",
            "method": "animate"
           },
           {
            "args": [
             [
              "19.0"
             ],
             {
              "frame": {
               "duration": 0,
               "redraw": false
              },
              "fromcurrent": true,
              "mode": "immediate",
              "transition": {
               "duration": 0,
               "easing": "linear"
              }
             }
            ],
            "label": "19.0",
            "method": "animate"
           },
           {
            "args": [
             [
              "20.0"
             ],
             {
              "frame": {
               "duration": 0,
               "redraw": false
              },
              "fromcurrent": true,
              "mode": "immediate",
              "transition": {
               "duration": 0,
               "easing": "linear"
              }
             }
            ],
            "label": "20.0",
            "method": "animate"
           },
           {
            "args": [
             [
              "21.0"
             ],
             {
              "frame": {
               "duration": 0,
               "redraw": false
              },
              "fromcurrent": true,
              "mode": "immediate",
              "transition": {
               "duration": 0,
               "easing": "linear"
              }
             }
            ],
            "label": "21.0",
            "method": "animate"
           },
           {
            "args": [
             [
              "22.0"
             ],
             {
              "frame": {
               "duration": 0,
               "redraw": false
              },
              "fromcurrent": true,
              "mode": "immediate",
              "transition": {
               "duration": 0,
               "easing": "linear"
              }
             }
            ],
            "label": "22.0",
            "method": "animate"
           },
           {
            "args": [
             [
              "23.0"
             ],
             {
              "frame": {
               "duration": 0,
               "redraw": false
              },
              "fromcurrent": true,
              "mode": "immediate",
              "transition": {
               "duration": 0,
               "easing": "linear"
              }
             }
            ],
            "label": "23.0",
            "method": "animate"
           },
           {
            "args": [
             [
              "24.0"
             ],
             {
              "frame": {
               "duration": 0,
               "redraw": false
              },
              "fromcurrent": true,
              "mode": "immediate",
              "transition": {
               "duration": 0,
               "easing": "linear"
              }
             }
            ],
            "label": "24.0",
            "method": "animate"
           },
           {
            "args": [
             [
              "25.0"
             ],
             {
              "frame": {
               "duration": 0,
               "redraw": false
              },
              "fromcurrent": true,
              "mode": "immediate",
              "transition": {
               "duration": 0,
               "easing": "linear"
              }
             }
            ],
            "label": "25.0",
            "method": "animate"
           },
           {
            "args": [
             [
              "26.0"
             ],
             {
              "frame": {
               "duration": 0,
               "redraw": false
              },
              "fromcurrent": true,
              "mode": "immediate",
              "transition": {
               "duration": 0,
               "easing": "linear"
              }
             }
            ],
            "label": "26.0",
            "method": "animate"
           },
           {
            "args": [
             [
              "27.0"
             ],
             {
              "frame": {
               "duration": 0,
               "redraw": false
              },
              "fromcurrent": true,
              "mode": "immediate",
              "transition": {
               "duration": 0,
               "easing": "linear"
              }
             }
            ],
            "label": "27.0",
            "method": "animate"
           },
           {
            "args": [
             [
              "28.0"
             ],
             {
              "frame": {
               "duration": 0,
               "redraw": false
              },
              "fromcurrent": true,
              "mode": "immediate",
              "transition": {
               "duration": 0,
               "easing": "linear"
              }
             }
            ],
            "label": "28.0",
            "method": "animate"
           },
           {
            "args": [
             [
              "29.0"
             ],
             {
              "frame": {
               "duration": 0,
               "redraw": false
              },
              "fromcurrent": true,
              "mode": "immediate",
              "transition": {
               "duration": 0,
               "easing": "linear"
              }
             }
            ],
            "label": "29.0",
            "method": "animate"
           },
           {
            "args": [
             [
              "30.0"
             ],
             {
              "frame": {
               "duration": 0,
               "redraw": false
              },
              "fromcurrent": true,
              "mode": "immediate",
              "transition": {
               "duration": 0,
               "easing": "linear"
              }
             }
            ],
            "label": "30.0",
            "method": "animate"
           },
           {
            "args": [
             [
              "31.0"
             ],
             {
              "frame": {
               "duration": 0,
               "redraw": false
              },
              "fromcurrent": true,
              "mode": "immediate",
              "transition": {
               "duration": 0,
               "easing": "linear"
              }
             }
            ],
            "label": "31.0",
            "method": "animate"
           },
           {
            "args": [
             [
              "32.0"
             ],
             {
              "frame": {
               "duration": 0,
               "redraw": false
              },
              "fromcurrent": true,
              "mode": "immediate",
              "transition": {
               "duration": 0,
               "easing": "linear"
              }
             }
            ],
            "label": "32.0",
            "method": "animate"
           },
           {
            "args": [
             [
              "33.0"
             ],
             {
              "frame": {
               "duration": 0,
               "redraw": false
              },
              "fromcurrent": true,
              "mode": "immediate",
              "transition": {
               "duration": 0,
               "easing": "linear"
              }
             }
            ],
            "label": "33.0",
            "method": "animate"
           },
           {
            "args": [
             [
              "34.0"
             ],
             {
              "frame": {
               "duration": 0,
               "redraw": false
              },
              "fromcurrent": true,
              "mode": "immediate",
              "transition": {
               "duration": 0,
               "easing": "linear"
              }
             }
            ],
            "label": "34.0",
            "method": "animate"
           },
           {
            "args": [
             [
              "35.0"
             ],
             {
              "frame": {
               "duration": 0,
               "redraw": false
              },
              "fromcurrent": true,
              "mode": "immediate",
              "transition": {
               "duration": 0,
               "easing": "linear"
              }
             }
            ],
            "label": "35.0",
            "method": "animate"
           },
           {
            "args": [
             [
              "36.0"
             ],
             {
              "frame": {
               "duration": 0,
               "redraw": false
              },
              "fromcurrent": true,
              "mode": "immediate",
              "transition": {
               "duration": 0,
               "easing": "linear"
              }
             }
            ],
            "label": "36.0",
            "method": "animate"
           },
           {
            "args": [
             [
              "37.0"
             ],
             {
              "frame": {
               "duration": 0,
               "redraw": false
              },
              "fromcurrent": true,
              "mode": "immediate",
              "transition": {
               "duration": 0,
               "easing": "linear"
              }
             }
            ],
            "label": "37.0",
            "method": "animate"
           },
           {
            "args": [
             [
              "38.0"
             ],
             {
              "frame": {
               "duration": 0,
               "redraw": false
              },
              "fromcurrent": true,
              "mode": "immediate",
              "transition": {
               "duration": 0,
               "easing": "linear"
              }
             }
            ],
            "label": "38.0",
            "method": "animate"
           },
           {
            "args": [
             [
              "39.0"
             ],
             {
              "frame": {
               "duration": 0,
               "redraw": false
              },
              "fromcurrent": true,
              "mode": "immediate",
              "transition": {
               "duration": 0,
               "easing": "linear"
              }
             }
            ],
            "label": "39.0",
            "method": "animate"
           },
           {
            "args": [
             [
              "40.0"
             ],
             {
              "frame": {
               "duration": 0,
               "redraw": false
              },
              "fromcurrent": true,
              "mode": "immediate",
              "transition": {
               "duration": 0,
               "easing": "linear"
              }
             }
            ],
            "label": "40.0",
            "method": "animate"
           },
           {
            "args": [
             [
              "41.0"
             ],
             {
              "frame": {
               "duration": 0,
               "redraw": false
              },
              "fromcurrent": true,
              "mode": "immediate",
              "transition": {
               "duration": 0,
               "easing": "linear"
              }
             }
            ],
            "label": "41.0",
            "method": "animate"
           },
           {
            "args": [
             [
              "42.0"
             ],
             {
              "frame": {
               "duration": 0,
               "redraw": false
              },
              "fromcurrent": true,
              "mode": "immediate",
              "transition": {
               "duration": 0,
               "easing": "linear"
              }
             }
            ],
            "label": "42.0",
            "method": "animate"
           },
           {
            "args": [
             [
              "43.0"
             ],
             {
              "frame": {
               "duration": 0,
               "redraw": false
              },
              "fromcurrent": true,
              "mode": "immediate",
              "transition": {
               "duration": 0,
               "easing": "linear"
              }
             }
            ],
            "label": "43.0",
            "method": "animate"
           },
           {
            "args": [
             [
              "44.0"
             ],
             {
              "frame": {
               "duration": 0,
               "redraw": false
              },
              "fromcurrent": true,
              "mode": "immediate",
              "transition": {
               "duration": 0,
               "easing": "linear"
              }
             }
            ],
            "label": "44.0",
            "method": "animate"
           },
           {
            "args": [
             [
              "45.0"
             ],
             {
              "frame": {
               "duration": 0,
               "redraw": false
              },
              "fromcurrent": true,
              "mode": "immediate",
              "transition": {
               "duration": 0,
               "easing": "linear"
              }
             }
            ],
            "label": "45.0",
            "method": "animate"
           },
           {
            "args": [
             [
              "46.0"
             ],
             {
              "frame": {
               "duration": 0,
               "redraw": false
              },
              "fromcurrent": true,
              "mode": "immediate",
              "transition": {
               "duration": 0,
               "easing": "linear"
              }
             }
            ],
            "label": "46.0",
            "method": "animate"
           },
           {
            "args": [
             [
              "47.0"
             ],
             {
              "frame": {
               "duration": 0,
               "redraw": false
              },
              "fromcurrent": true,
              "mode": "immediate",
              "transition": {
               "duration": 0,
               "easing": "linear"
              }
             }
            ],
            "label": "47.0",
            "method": "animate"
           },
           {
            "args": [
             [
              "48.0"
             ],
             {
              "frame": {
               "duration": 0,
               "redraw": false
              },
              "fromcurrent": true,
              "mode": "immediate",
              "transition": {
               "duration": 0,
               "easing": "linear"
              }
             }
            ],
            "label": "48.0",
            "method": "animate"
           },
           {
            "args": [
             [
              "49.0"
             ],
             {
              "frame": {
               "duration": 0,
               "redraw": false
              },
              "fromcurrent": true,
              "mode": "immediate",
              "transition": {
               "duration": 0,
               "easing": "linear"
              }
             }
            ],
            "label": "49.0",
            "method": "animate"
           },
           {
            "args": [
             [
              "50.0"
             ],
             {
              "frame": {
               "duration": 0,
               "redraw": false
              },
              "fromcurrent": true,
              "mode": "immediate",
              "transition": {
               "duration": 0,
               "easing": "linear"
              }
             }
            ],
            "label": "50.0",
            "method": "animate"
           },
           {
            "args": [
             [
              "51.0"
             ],
             {
              "frame": {
               "duration": 0,
               "redraw": false
              },
              "fromcurrent": true,
              "mode": "immediate",
              "transition": {
               "duration": 0,
               "easing": "linear"
              }
             }
            ],
            "label": "51.0",
            "method": "animate"
           },
           {
            "args": [
             [
              "52.0"
             ],
             {
              "frame": {
               "duration": 0,
               "redraw": false
              },
              "fromcurrent": true,
              "mode": "immediate",
              "transition": {
               "duration": 0,
               "easing": "linear"
              }
             }
            ],
            "label": "52.0",
            "method": "animate"
           },
           {
            "args": [
             [
              "53.0"
             ],
             {
              "frame": {
               "duration": 0,
               "redraw": false
              },
              "fromcurrent": true,
              "mode": "immediate",
              "transition": {
               "duration": 0,
               "easing": "linear"
              }
             }
            ],
            "label": "53.0",
            "method": "animate"
           },
           {
            "args": [
             [
              "54.0"
             ],
             {
              "frame": {
               "duration": 0,
               "redraw": false
              },
              "fromcurrent": true,
              "mode": "immediate",
              "transition": {
               "duration": 0,
               "easing": "linear"
              }
             }
            ],
            "label": "54.0",
            "method": "animate"
           },
           {
            "args": [
             [
              "55.0"
             ],
             {
              "frame": {
               "duration": 0,
               "redraw": false
              },
              "fromcurrent": true,
              "mode": "immediate",
              "transition": {
               "duration": 0,
               "easing": "linear"
              }
             }
            ],
            "label": "55.0",
            "method": "animate"
           },
           {
            "args": [
             [
              "56.0"
             ],
             {
              "frame": {
               "duration": 0,
               "redraw": false
              },
              "fromcurrent": true,
              "mode": "immediate",
              "transition": {
               "duration": 0,
               "easing": "linear"
              }
             }
            ],
            "label": "56.0",
            "method": "animate"
           },
           {
            "args": [
             [
              "57.0"
             ],
             {
              "frame": {
               "duration": 0,
               "redraw": false
              },
              "fromcurrent": true,
              "mode": "immediate",
              "transition": {
               "duration": 0,
               "easing": "linear"
              }
             }
            ],
            "label": "57.0",
            "method": "animate"
           },
           {
            "args": [
             [
              "58.0"
             ],
             {
              "frame": {
               "duration": 0,
               "redraw": false
              },
              "fromcurrent": true,
              "mode": "immediate",
              "transition": {
               "duration": 0,
               "easing": "linear"
              }
             }
            ],
            "label": "58.0",
            "method": "animate"
           },
           {
            "args": [
             [
              "59.0"
             ],
             {
              "frame": {
               "duration": 0,
               "redraw": false
              },
              "fromcurrent": true,
              "mode": "immediate",
              "transition": {
               "duration": 0,
               "easing": "linear"
              }
             }
            ],
            "label": "59.0",
            "method": "animate"
           },
           {
            "args": [
             [
              "60.0"
             ],
             {
              "frame": {
               "duration": 0,
               "redraw": false
              },
              "fromcurrent": true,
              "mode": "immediate",
              "transition": {
               "duration": 0,
               "easing": "linear"
              }
             }
            ],
            "label": "60.0",
            "method": "animate"
           },
           {
            "args": [
             [
              "61.0"
             ],
             {
              "frame": {
               "duration": 0,
               "redraw": false
              },
              "fromcurrent": true,
              "mode": "immediate",
              "transition": {
               "duration": 0,
               "easing": "linear"
              }
             }
            ],
            "label": "61.0",
            "method": "animate"
           },
           {
            "args": [
             [
              "62.0"
             ],
             {
              "frame": {
               "duration": 0,
               "redraw": false
              },
              "fromcurrent": true,
              "mode": "immediate",
              "transition": {
               "duration": 0,
               "easing": "linear"
              }
             }
            ],
            "label": "62.0",
            "method": "animate"
           },
           {
            "args": [
             [
              "63.0"
             ],
             {
              "frame": {
               "duration": 0,
               "redraw": false
              },
              "fromcurrent": true,
              "mode": "immediate",
              "transition": {
               "duration": 0,
               "easing": "linear"
              }
             }
            ],
            "label": "63.0",
            "method": "animate"
           },
           {
            "args": [
             [
              "64.0"
             ],
             {
              "frame": {
               "duration": 0,
               "redraw": false
              },
              "fromcurrent": true,
              "mode": "immediate",
              "transition": {
               "duration": 0,
               "easing": "linear"
              }
             }
            ],
            "label": "64.0",
            "method": "animate"
           },
           {
            "args": [
             [
              "65.0"
             ],
             {
              "frame": {
               "duration": 0,
               "redraw": false
              },
              "fromcurrent": true,
              "mode": "immediate",
              "transition": {
               "duration": 0,
               "easing": "linear"
              }
             }
            ],
            "label": "65.0",
            "method": "animate"
           },
           {
            "args": [
             [
              "66.0"
             ],
             {
              "frame": {
               "duration": 0,
               "redraw": false
              },
              "fromcurrent": true,
              "mode": "immediate",
              "transition": {
               "duration": 0,
               "easing": "linear"
              }
             }
            ],
            "label": "66.0",
            "method": "animate"
           },
           {
            "args": [
             [
              "67.0"
             ],
             {
              "frame": {
               "duration": 0,
               "redraw": false
              },
              "fromcurrent": true,
              "mode": "immediate",
              "transition": {
               "duration": 0,
               "easing": "linear"
              }
             }
            ],
            "label": "67.0",
            "method": "animate"
           },
           {
            "args": [
             [
              "68.0"
             ],
             {
              "frame": {
               "duration": 0,
               "redraw": false
              },
              "fromcurrent": true,
              "mode": "immediate",
              "transition": {
               "duration": 0,
               "easing": "linear"
              }
             }
            ],
            "label": "68.0",
            "method": "animate"
           },
           {
            "args": [
             [
              "69.0"
             ],
             {
              "frame": {
               "duration": 0,
               "redraw": false
              },
              "fromcurrent": true,
              "mode": "immediate",
              "transition": {
               "duration": 0,
               "easing": "linear"
              }
             }
            ],
            "label": "69.0",
            "method": "animate"
           },
           {
            "args": [
             [
              "70.0"
             ],
             {
              "frame": {
               "duration": 0,
               "redraw": false
              },
              "fromcurrent": true,
              "mode": "immediate",
              "transition": {
               "duration": 0,
               "easing": "linear"
              }
             }
            ],
            "label": "70.0",
            "method": "animate"
           },
           {
            "args": [
             [
              "71.0"
             ],
             {
              "frame": {
               "duration": 0,
               "redraw": false
              },
              "fromcurrent": true,
              "mode": "immediate",
              "transition": {
               "duration": 0,
               "easing": "linear"
              }
             }
            ],
            "label": "71.0",
            "method": "animate"
           },
           {
            "args": [
             [
              "72.0"
             ],
             {
              "frame": {
               "duration": 0,
               "redraw": false
              },
              "fromcurrent": true,
              "mode": "immediate",
              "transition": {
               "duration": 0,
               "easing": "linear"
              }
             }
            ],
            "label": "72.0",
            "method": "animate"
           },
           {
            "args": [
             [
              "73.0"
             ],
             {
              "frame": {
               "duration": 0,
               "redraw": false
              },
              "fromcurrent": true,
              "mode": "immediate",
              "transition": {
               "duration": 0,
               "easing": "linear"
              }
             }
            ],
            "label": "73.0",
            "method": "animate"
           },
           {
            "args": [
             [
              "74.0"
             ],
             {
              "frame": {
               "duration": 0,
               "redraw": false
              },
              "fromcurrent": true,
              "mode": "immediate",
              "transition": {
               "duration": 0,
               "easing": "linear"
              }
             }
            ],
            "label": "74.0",
            "method": "animate"
           },
           {
            "args": [
             [
              "75.0"
             ],
             {
              "frame": {
               "duration": 0,
               "redraw": false
              },
              "fromcurrent": true,
              "mode": "immediate",
              "transition": {
               "duration": 0,
               "easing": "linear"
              }
             }
            ],
            "label": "75.0",
            "method": "animate"
           },
           {
            "args": [
             [
              "76.0"
             ],
             {
              "frame": {
               "duration": 0,
               "redraw": false
              },
              "fromcurrent": true,
              "mode": "immediate",
              "transition": {
               "duration": 0,
               "easing": "linear"
              }
             }
            ],
            "label": "76.0",
            "method": "animate"
           },
           {
            "args": [
             [
              "77.0"
             ],
             {
              "frame": {
               "duration": 0,
               "redraw": false
              },
              "fromcurrent": true,
              "mode": "immediate",
              "transition": {
               "duration": 0,
               "easing": "linear"
              }
             }
            ],
            "label": "77.0",
            "method": "animate"
           },
           {
            "args": [
             [
              "78.0"
             ],
             {
              "frame": {
               "duration": 0,
               "redraw": false
              },
              "fromcurrent": true,
              "mode": "immediate",
              "transition": {
               "duration": 0,
               "easing": "linear"
              }
             }
            ],
            "label": "78.0",
            "method": "animate"
           },
           {
            "args": [
             [
              "79.0"
             ],
             {
              "frame": {
               "duration": 0,
               "redraw": false
              },
              "fromcurrent": true,
              "mode": "immediate",
              "transition": {
               "duration": 0,
               "easing": "linear"
              }
             }
            ],
            "label": "79.0",
            "method": "animate"
           },
           {
            "args": [
             [
              "80.0"
             ],
             {
              "frame": {
               "duration": 0,
               "redraw": false
              },
              "fromcurrent": true,
              "mode": "immediate",
              "transition": {
               "duration": 0,
               "easing": "linear"
              }
             }
            ],
            "label": "80.0",
            "method": "animate"
           },
           {
            "args": [
             [
              "81.0"
             ],
             {
              "frame": {
               "duration": 0,
               "redraw": false
              },
              "fromcurrent": true,
              "mode": "immediate",
              "transition": {
               "duration": 0,
               "easing": "linear"
              }
             }
            ],
            "label": "81.0",
            "method": "animate"
           },
           {
            "args": [
             [
              "82.0"
             ],
             {
              "frame": {
               "duration": 0,
               "redraw": false
              },
              "fromcurrent": true,
              "mode": "immediate",
              "transition": {
               "duration": 0,
               "easing": "linear"
              }
             }
            ],
            "label": "82.0",
            "method": "animate"
           },
           {
            "args": [
             [
              "83.0"
             ],
             {
              "frame": {
               "duration": 0,
               "redraw": false
              },
              "fromcurrent": true,
              "mode": "immediate",
              "transition": {
               "duration": 0,
               "easing": "linear"
              }
             }
            ],
            "label": "83.0",
            "method": "animate"
           },
           {
            "args": [
             [
              "84.0"
             ],
             {
              "frame": {
               "duration": 0,
               "redraw": false
              },
              "fromcurrent": true,
              "mode": "immediate",
              "transition": {
               "duration": 0,
               "easing": "linear"
              }
             }
            ],
            "label": "84.0",
            "method": "animate"
           },
           {
            "args": [
             [
              "85.0"
             ],
             {
              "frame": {
               "duration": 0,
               "redraw": false
              },
              "fromcurrent": true,
              "mode": "immediate",
              "transition": {
               "duration": 0,
               "easing": "linear"
              }
             }
            ],
            "label": "85.0",
            "method": "animate"
           },
           {
            "args": [
             [
              "86.0"
             ],
             {
              "frame": {
               "duration": 0,
               "redraw": false
              },
              "fromcurrent": true,
              "mode": "immediate",
              "transition": {
               "duration": 0,
               "easing": "linear"
              }
             }
            ],
            "label": "86.0",
            "method": "animate"
           },
           {
            "args": [
             [
              "87.0"
             ],
             {
              "frame": {
               "duration": 0,
               "redraw": false
              },
              "fromcurrent": true,
              "mode": "immediate",
              "transition": {
               "duration": 0,
               "easing": "linear"
              }
             }
            ],
            "label": "87.0",
            "method": "animate"
           },
           {
            "args": [
             [
              "88.0"
             ],
             {
              "frame": {
               "duration": 0,
               "redraw": false
              },
              "fromcurrent": true,
              "mode": "immediate",
              "transition": {
               "duration": 0,
               "easing": "linear"
              }
             }
            ],
            "label": "88.0",
            "method": "animate"
           },
           {
            "args": [
             [
              "89.0"
             ],
             {
              "frame": {
               "duration": 0,
               "redraw": false
              },
              "fromcurrent": true,
              "mode": "immediate",
              "transition": {
               "duration": 0,
               "easing": "linear"
              }
             }
            ],
            "label": "89.0",
            "method": "animate"
           },
           {
            "args": [
             [
              "90.0"
             ],
             {
              "frame": {
               "duration": 0,
               "redraw": false
              },
              "fromcurrent": true,
              "mode": "immediate",
              "transition": {
               "duration": 0,
               "easing": "linear"
              }
             }
            ],
            "label": "90.0",
            "method": "animate"
           },
           {
            "args": [
             [
              "91.0"
             ],
             {
              "frame": {
               "duration": 0,
               "redraw": false
              },
              "fromcurrent": true,
              "mode": "immediate",
              "transition": {
               "duration": 0,
               "easing": "linear"
              }
             }
            ],
            "label": "91.0",
            "method": "animate"
           },
           {
            "args": [
             [
              "92.0"
             ],
             {
              "frame": {
               "duration": 0,
               "redraw": false
              },
              "fromcurrent": true,
              "mode": "immediate",
              "transition": {
               "duration": 0,
               "easing": "linear"
              }
             }
            ],
            "label": "92.0",
            "method": "animate"
           },
           {
            "args": [
             [
              "93.0"
             ],
             {
              "frame": {
               "duration": 0,
               "redraw": false
              },
              "fromcurrent": true,
              "mode": "immediate",
              "transition": {
               "duration": 0,
               "easing": "linear"
              }
             }
            ],
            "label": "93.0",
            "method": "animate"
           },
           {
            "args": [
             [
              "94.0"
             ],
             {
              "frame": {
               "duration": 0,
               "redraw": false
              },
              "fromcurrent": true,
              "mode": "immediate",
              "transition": {
               "duration": 0,
               "easing": "linear"
              }
             }
            ],
            "label": "94.0",
            "method": "animate"
           },
           {
            "args": [
             [
              "95.0"
             ],
             {
              "frame": {
               "duration": 0,
               "redraw": false
              },
              "fromcurrent": true,
              "mode": "immediate",
              "transition": {
               "duration": 0,
               "easing": "linear"
              }
             }
            ],
            "label": "95.0",
            "method": "animate"
           },
           {
            "args": [
             [
              "96.0"
             ],
             {
              "frame": {
               "duration": 0,
               "redraw": false
              },
              "fromcurrent": true,
              "mode": "immediate",
              "transition": {
               "duration": 0,
               "easing": "linear"
              }
             }
            ],
            "label": "96.0",
            "method": "animate"
           },
           {
            "args": [
             [
              "97.0"
             ],
             {
              "frame": {
               "duration": 0,
               "redraw": false
              },
              "fromcurrent": true,
              "mode": "immediate",
              "transition": {
               "duration": 0,
               "easing": "linear"
              }
             }
            ],
            "label": "97.0",
            "method": "animate"
           },
           {
            "args": [
             [
              "98.0"
             ],
             {
              "frame": {
               "duration": 0,
               "redraw": false
              },
              "fromcurrent": true,
              "mode": "immediate",
              "transition": {
               "duration": 0,
               "easing": "linear"
              }
             }
            ],
            "label": "98.0",
            "method": "animate"
           },
           {
            "args": [
             [
              "99.0"
             ],
             {
              "frame": {
               "duration": 0,
               "redraw": false
              },
              "fromcurrent": true,
              "mode": "immediate",
              "transition": {
               "duration": 0,
               "easing": "linear"
              }
             }
            ],
            "label": "99.0",
            "method": "animate"
           },
           {
            "args": [
             [
              "100.0"
             ],
             {
              "frame": {
               "duration": 0,
               "redraw": false
              },
              "fromcurrent": true,
              "mode": "immediate",
              "transition": {
               "duration": 0,
               "easing": "linear"
              }
             }
            ],
            "label": "100.0",
            "method": "animate"
           }
          ],
          "x": 0.1,
          "xanchor": "left",
          "y": 0,
          "yanchor": "top"
         }
        ],
        "template": {
         "data": {
          "bar": [
           {
            "error_x": {
             "color": "#2a3f5f"
            },
            "error_y": {
             "color": "#2a3f5f"
            },
            "marker": {
             "line": {
              "color": "#E5ECF6",
              "width": 0.5
             }
            },
            "type": "bar"
           }
          ],
          "barpolar": [
           {
            "marker": {
             "line": {
              "color": "#E5ECF6",
              "width": 0.5
             }
            },
            "type": "barpolar"
           }
          ],
          "carpet": [
           {
            "aaxis": {
             "endlinecolor": "#2a3f5f",
             "gridcolor": "white",
             "linecolor": "white",
             "minorgridcolor": "white",
             "startlinecolor": "#2a3f5f"
            },
            "baxis": {
             "endlinecolor": "#2a3f5f",
             "gridcolor": "white",
             "linecolor": "white",
             "minorgridcolor": "white",
             "startlinecolor": "#2a3f5f"
            },
            "type": "carpet"
           }
          ],
          "choropleth": [
           {
            "colorbar": {
             "outlinewidth": 0,
             "ticks": ""
            },
            "type": "choropleth"
           }
          ],
          "contour": [
           {
            "colorbar": {
             "outlinewidth": 0,
             "ticks": ""
            },
            "colorscale": [
             [
              0,
              "#0d0887"
             ],
             [
              0.1111111111111111,
              "#46039f"
             ],
             [
              0.2222222222222222,
              "#7201a8"
             ],
             [
              0.3333333333333333,
              "#9c179e"
             ],
             [
              0.4444444444444444,
              "#bd3786"
             ],
             [
              0.5555555555555556,
              "#d8576b"
             ],
             [
              0.6666666666666666,
              "#ed7953"
             ],
             [
              0.7777777777777778,
              "#fb9f3a"
             ],
             [
              0.8888888888888888,
              "#fdca26"
             ],
             [
              1,
              "#f0f921"
             ]
            ],
            "type": "contour"
           }
          ],
          "contourcarpet": [
           {
            "colorbar": {
             "outlinewidth": 0,
             "ticks": ""
            },
            "type": "contourcarpet"
           }
          ],
          "heatmap": [
           {
            "colorbar": {
             "outlinewidth": 0,
             "ticks": ""
            },
            "colorscale": [
             [
              0,
              "#0d0887"
             ],
             [
              0.1111111111111111,
              "#46039f"
             ],
             [
              0.2222222222222222,
              "#7201a8"
             ],
             [
              0.3333333333333333,
              "#9c179e"
             ],
             [
              0.4444444444444444,
              "#bd3786"
             ],
             [
              0.5555555555555556,
              "#d8576b"
             ],
             [
              0.6666666666666666,
              "#ed7953"
             ],
             [
              0.7777777777777778,
              "#fb9f3a"
             ],
             [
              0.8888888888888888,
              "#fdca26"
             ],
             [
              1,
              "#f0f921"
             ]
            ],
            "type": "heatmap"
           }
          ],
          "heatmapgl": [
           {
            "colorbar": {
             "outlinewidth": 0,
             "ticks": ""
            },
            "colorscale": [
             [
              0,
              "#0d0887"
             ],
             [
              0.1111111111111111,
              "#46039f"
             ],
             [
              0.2222222222222222,
              "#7201a8"
             ],
             [
              0.3333333333333333,
              "#9c179e"
             ],
             [
              0.4444444444444444,
              "#bd3786"
             ],
             [
              0.5555555555555556,
              "#d8576b"
             ],
             [
              0.6666666666666666,
              "#ed7953"
             ],
             [
              0.7777777777777778,
              "#fb9f3a"
             ],
             [
              0.8888888888888888,
              "#fdca26"
             ],
             [
              1,
              "#f0f921"
             ]
            ],
            "type": "heatmapgl"
           }
          ],
          "histogram": [
           {
            "marker": {
             "colorbar": {
              "outlinewidth": 0,
              "ticks": ""
             }
            },
            "type": "histogram"
           }
          ],
          "histogram2d": [
           {
            "colorbar": {
             "outlinewidth": 0,
             "ticks": ""
            },
            "colorscale": [
             [
              0,
              "#0d0887"
             ],
             [
              0.1111111111111111,
              "#46039f"
             ],
             [
              0.2222222222222222,
              "#7201a8"
             ],
             [
              0.3333333333333333,
              "#9c179e"
             ],
             [
              0.4444444444444444,
              "#bd3786"
             ],
             [
              0.5555555555555556,
              "#d8576b"
             ],
             [
              0.6666666666666666,
              "#ed7953"
             ],
             [
              0.7777777777777778,
              "#fb9f3a"
             ],
             [
              0.8888888888888888,
              "#fdca26"
             ],
             [
              1,
              "#f0f921"
             ]
            ],
            "type": "histogram2d"
           }
          ],
          "histogram2dcontour": [
           {
            "colorbar": {
             "outlinewidth": 0,
             "ticks": ""
            },
            "colorscale": [
             [
              0,
              "#0d0887"
             ],
             [
              0.1111111111111111,
              "#46039f"
             ],
             [
              0.2222222222222222,
              "#7201a8"
             ],
             [
              0.3333333333333333,
              "#9c179e"
             ],
             [
              0.4444444444444444,
              "#bd3786"
             ],
             [
              0.5555555555555556,
              "#d8576b"
             ],
             [
              0.6666666666666666,
              "#ed7953"
             ],
             [
              0.7777777777777778,
              "#fb9f3a"
             ],
             [
              0.8888888888888888,
              "#fdca26"
             ],
             [
              1,
              "#f0f921"
             ]
            ],
            "type": "histogram2dcontour"
           }
          ],
          "mesh3d": [
           {
            "colorbar": {
             "outlinewidth": 0,
             "ticks": ""
            },
            "type": "mesh3d"
           }
          ],
          "parcoords": [
           {
            "line": {
             "colorbar": {
              "outlinewidth": 0,
              "ticks": ""
             }
            },
            "type": "parcoords"
           }
          ],
          "pie": [
           {
            "automargin": true,
            "type": "pie"
           }
          ],
          "scatter": [
           {
            "marker": {
             "colorbar": {
              "outlinewidth": 0,
              "ticks": ""
             }
            },
            "type": "scatter"
           }
          ],
          "scatter3d": [
           {
            "line": {
             "colorbar": {
              "outlinewidth": 0,
              "ticks": ""
             }
            },
            "marker": {
             "colorbar": {
              "outlinewidth": 0,
              "ticks": ""
             }
            },
            "type": "scatter3d"
           }
          ],
          "scattercarpet": [
           {
            "marker": {
             "colorbar": {
              "outlinewidth": 0,
              "ticks": ""
             }
            },
            "type": "scattercarpet"
           }
          ],
          "scattergeo": [
           {
            "marker": {
             "colorbar": {
              "outlinewidth": 0,
              "ticks": ""
             }
            },
            "type": "scattergeo"
           }
          ],
          "scattergl": [
           {
            "marker": {
             "colorbar": {
              "outlinewidth": 0,
              "ticks": ""
             }
            },
            "type": "scattergl"
           }
          ],
          "scattermapbox": [
           {
            "marker": {
             "colorbar": {
              "outlinewidth": 0,
              "ticks": ""
             }
            },
            "type": "scattermapbox"
           }
          ],
          "scatterpolar": [
           {
            "marker": {
             "colorbar": {
              "outlinewidth": 0,
              "ticks": ""
             }
            },
            "type": "scatterpolar"
           }
          ],
          "scatterpolargl": [
           {
            "marker": {
             "colorbar": {
              "outlinewidth": 0,
              "ticks": ""
             }
            },
            "type": "scatterpolargl"
           }
          ],
          "scatterternary": [
           {
            "marker": {
             "colorbar": {
              "outlinewidth": 0,
              "ticks": ""
             }
            },
            "type": "scatterternary"
           }
          ],
          "surface": [
           {
            "colorbar": {
             "outlinewidth": 0,
             "ticks": ""
            },
            "colorscale": [
             [
              0,
              "#0d0887"
             ],
             [
              0.1111111111111111,
              "#46039f"
             ],
             [
              0.2222222222222222,
              "#7201a8"
             ],
             [
              0.3333333333333333,
              "#9c179e"
             ],
             [
              0.4444444444444444,
              "#bd3786"
             ],
             [
              0.5555555555555556,
              "#d8576b"
             ],
             [
              0.6666666666666666,
              "#ed7953"
             ],
             [
              0.7777777777777778,
              "#fb9f3a"
             ],
             [
              0.8888888888888888,
              "#fdca26"
             ],
             [
              1,
              "#f0f921"
             ]
            ],
            "type": "surface"
           }
          ],
          "table": [
           {
            "cells": {
             "fill": {
              "color": "#EBF0F8"
             },
             "line": {
              "color": "white"
             }
            },
            "header": {
             "fill": {
              "color": "#C8D4E3"
             },
             "line": {
              "color": "white"
             }
            },
            "type": "table"
           }
          ]
         },
         "layout": {
          "annotationdefaults": {
           "arrowcolor": "#2a3f5f",
           "arrowhead": 0,
           "arrowwidth": 1
          },
          "coloraxis": {
           "colorbar": {
            "outlinewidth": 0,
            "ticks": ""
           }
          },
          "colorscale": {
           "diverging": [
            [
             0,
             "#8e0152"
            ],
            [
             0.1,
             "#c51b7d"
            ],
            [
             0.2,
             "#de77ae"
            ],
            [
             0.3,
             "#f1b6da"
            ],
            [
             0.4,
             "#fde0ef"
            ],
            [
             0.5,
             "#f7f7f7"
            ],
            [
             0.6,
             "#e6f5d0"
            ],
            [
             0.7,
             "#b8e186"
            ],
            [
             0.8,
             "#7fbc41"
            ],
            [
             0.9,
             "#4d9221"
            ],
            [
             1,
             "#276419"
            ]
           ],
           "sequential": [
            [
             0,
             "#0d0887"
            ],
            [
             0.1111111111111111,
             "#46039f"
            ],
            [
             0.2222222222222222,
             "#7201a8"
            ],
            [
             0.3333333333333333,
             "#9c179e"
            ],
            [
             0.4444444444444444,
             "#bd3786"
            ],
            [
             0.5555555555555556,
             "#d8576b"
            ],
            [
             0.6666666666666666,
             "#ed7953"
            ],
            [
             0.7777777777777778,
             "#fb9f3a"
            ],
            [
             0.8888888888888888,
             "#fdca26"
            ],
            [
             1,
             "#f0f921"
            ]
           ],
           "sequentialminus": [
            [
             0,
             "#0d0887"
            ],
            [
             0.1111111111111111,
             "#46039f"
            ],
            [
             0.2222222222222222,
             "#7201a8"
            ],
            [
             0.3333333333333333,
             "#9c179e"
            ],
            [
             0.4444444444444444,
             "#bd3786"
            ],
            [
             0.5555555555555556,
             "#d8576b"
            ],
            [
             0.6666666666666666,
             "#ed7953"
            ],
            [
             0.7777777777777778,
             "#fb9f3a"
            ],
            [
             0.8888888888888888,
             "#fdca26"
            ],
            [
             1,
             "#f0f921"
            ]
           ]
          },
          "colorway": [
           "#636efa",
           "#EF553B",
           "#00cc96",
           "#ab63fa",
           "#FFA15A",
           "#19d3f3",
           "#FF6692",
           "#B6E880",
           "#FF97FF",
           "#FECB52"
          ],
          "font": {
           "color": "#2a3f5f"
          },
          "geo": {
           "bgcolor": "white",
           "lakecolor": "white",
           "landcolor": "#E5ECF6",
           "showlakes": true,
           "showland": true,
           "subunitcolor": "white"
          },
          "hoverlabel": {
           "align": "left"
          },
          "hovermode": "closest",
          "mapbox": {
           "style": "light"
          },
          "paper_bgcolor": "white",
          "plot_bgcolor": "#E5ECF6",
          "polar": {
           "angularaxis": {
            "gridcolor": "white",
            "linecolor": "white",
            "ticks": ""
           },
           "bgcolor": "#E5ECF6",
           "radialaxis": {
            "gridcolor": "white",
            "linecolor": "white",
            "ticks": ""
           }
          },
          "scene": {
           "xaxis": {
            "backgroundcolor": "#E5ECF6",
            "gridcolor": "white",
            "gridwidth": 2,
            "linecolor": "white",
            "showbackground": true,
            "ticks": "",
            "zerolinecolor": "white"
           },
           "yaxis": {
            "backgroundcolor": "#E5ECF6",
            "gridcolor": "white",
            "gridwidth": 2,
            "linecolor": "white",
            "showbackground": true,
            "ticks": "",
            "zerolinecolor": "white"
           },
           "zaxis": {
            "backgroundcolor": "#E5ECF6",
            "gridcolor": "white",
            "gridwidth": 2,
            "linecolor": "white",
            "showbackground": true,
            "ticks": "",
            "zerolinecolor": "white"
           }
          },
          "shapedefaults": {
           "line": {
            "color": "#2a3f5f"
           }
          },
          "ternary": {
           "aaxis": {
            "gridcolor": "white",
            "linecolor": "white",
            "ticks": ""
           },
           "baxis": {
            "gridcolor": "white",
            "linecolor": "white",
            "ticks": ""
           },
           "bgcolor": "#E5ECF6",
           "caxis": {
            "gridcolor": "white",
            "linecolor": "white",
            "ticks": ""
           }
          },
          "title": {
           "x": 0.05
          },
          "xaxis": {
           "automargin": true,
           "gridcolor": "white",
           "linecolor": "white",
           "ticks": "",
           "title": {
            "standoff": 15
           },
           "zerolinecolor": "white",
           "zerolinewidth": 2
          },
          "yaxis": {
           "automargin": true,
           "gridcolor": "white",
           "linecolor": "white",
           "ticks": "",
           "title": {
            "standoff": 15
           },
           "zerolinecolor": "white",
           "zerolinewidth": 2
          }
         }
        },
        "updatemenus": [
         {
          "buttons": [
           {
            "args": [
             null,
             {
              "frame": {
               "duration": 500,
               "redraw": false
              },
              "fromcurrent": true,
              "mode": "immediate",
              "transition": {
               "duration": 500,
               "easing": "linear"
              }
             }
            ],
            "label": "&#9654;",
            "method": "animate"
           },
           {
            "args": [
             [
              null
             ],
             {
              "frame": {
               "duration": 0,
               "redraw": false
              },
              "fromcurrent": true,
              "mode": "immediate",
              "transition": {
               "duration": 0,
               "easing": "linear"
              }
             }
            ],
            "label": "&#9724;",
            "method": "animate"
           }
          ],
          "direction": "left",
          "pad": {
           "r": 10,
           "t": 70
          },
          "showactive": false,
          "type": "buttons",
          "x": 0.1,
          "xanchor": "right",
          "y": 0,
          "yanchor": "top"
         }
        ],
        "xaxis": {
         "anchor": "y",
         "domain": [
          0,
          1
         ],
         "range": [
          -10,
          10
         ],
         "title": {
          "text": "PositionX"
         }
        },
        "yaxis": {
         "anchor": "x",
         "domain": [
          0,
          1
         ],
         "range": [
          -10,
          10
         ],
         "title": {
          "text": "PositionY"
         }
        }
       }
      },
      "text/html": [
       "<div>\n",
       "        \n",
       "        \n",
       "            <div id=\"81fa5165-95f4-4321-8640-02b0821aac39\" class=\"plotly-graph-div\" style=\"height:600px; width:100%;\"></div>\n",
       "            <script type=\"text/javascript\">\n",
       "                require([\"plotly\"], function(Plotly) {\n",
       "                    window.PLOTLYENV=window.PLOTLYENV || {};\n",
       "                    \n",
       "                if (document.getElementById(\"81fa5165-95f4-4321-8640-02b0821aac39\")) {\n",
       "                    Plotly.newPlot(\n",
       "                        '81fa5165-95f4-4321-8640-02b0821aac39',\n",
       "                        [{\"hoverlabel\": {\"namelength\": 0}, \"hovertemplate\": \"Evolution=0.0<br>PositionX=%{x}<br>PositionY=%{y}<br>size=%{marker.size}<br>Particle=%{marker.color}\", \"ids\": [0.0, 1.0, 2.0, 3.0, 4.0, 5.0, 6.0, 7.0, 8.0, 9.0], \"legendgroup\": \"\", \"marker\": {\"color\": [0.0, 1.0, 2.0, 3.0, 4.0, 5.0, 6.0, 7.0, 8.0, 9.0], \"coloraxis\": \"coloraxis\", \"size\": [5, 5, 5, 5, 5, 5, 5, 5, 5, 5], \"sizemode\": \"area\", \"sizeref\": 0.029585798816568046, \"symbol\": \"circle\"}, \"mode\": \"markers\", \"name\": \"\", \"showlegend\": false, \"type\": \"scatter\", \"x\": [-7.7736722477822955, 1.419999582725195, 2.1830793417919097, 3.0941830052089454, 0.5457215916529599, -3.3470510948975774, -1.562070328863518, -3.076453926331329, -9.539681405194091, 2.318806488017948], \"xaxis\": \"x\", \"y\": [-3.027641368060321, -6.321539856235033, -7.687879048081621, 0.5235317648432929, -8.323136929686958, -5.782859309450408, -6.495320443064649, -9.912334646262952, 0.05163804606282696, -4.744467257018156], \"yaxis\": \"y\"}],\n",
       "                        {\"coloraxis\": {\"colorbar\": {\"title\": {\"text\": \"Particle\"}}, \"colorscale\": [[0.0, \"#0d0887\"], [0.1111111111111111, \"#46039f\"], [0.2222222222222222, \"#7201a8\"], [0.3333333333333333, \"#9c179e\"], [0.4444444444444444, \"#bd3786\"], [0.5555555555555556, \"#d8576b\"], [0.6666666666666666, \"#ed7953\"], [0.7777777777777778, \"#fb9f3a\"], [0.8888888888888888, \"#fdca26\"], [1.0, \"#f0f921\"]]}, \"height\": 600, \"legend\": {\"itemsizing\": \"constant\", \"tracegroupgap\": 0}, \"margin\": {\"t\": 60}, \"sliders\": [{\"active\": 0, \"currentvalue\": {\"prefix\": \"Evolution=\"}, \"len\": 0.9, \"pad\": {\"b\": 10, \"t\": 60}, \"steps\": [{\"args\": [[\"0.0\"], {\"frame\": {\"duration\": 0, \"redraw\": false}, \"fromcurrent\": true, \"mode\": \"immediate\", \"transition\": {\"duration\": 0, \"easing\": \"linear\"}}], \"label\": \"0.0\", \"method\": \"animate\"}, {\"args\": [[\"1.0\"], {\"frame\": {\"duration\": 0, \"redraw\": false}, \"fromcurrent\": true, \"mode\": \"immediate\", \"transition\": {\"duration\": 0, \"easing\": \"linear\"}}], \"label\": \"1.0\", \"method\": \"animate\"}, {\"args\": [[\"2.0\"], {\"frame\": {\"duration\": 0, \"redraw\": false}, \"fromcurrent\": true, \"mode\": \"immediate\", \"transition\": {\"duration\": 0, \"easing\": \"linear\"}}], \"label\": \"2.0\", \"method\": \"animate\"}, {\"args\": [[\"3.0\"], {\"frame\": {\"duration\": 0, \"redraw\": false}, \"fromcurrent\": true, \"mode\": \"immediate\", \"transition\": {\"duration\": 0, \"easing\": \"linear\"}}], \"label\": \"3.0\", \"method\": \"animate\"}, {\"args\": [[\"4.0\"], {\"frame\": {\"duration\": 0, \"redraw\": false}, \"fromcurrent\": true, \"mode\": \"immediate\", \"transition\": {\"duration\": 0, \"easing\": \"linear\"}}], \"label\": \"4.0\", \"method\": \"animate\"}, {\"args\": [[\"5.0\"], {\"frame\": {\"duration\": 0, \"redraw\": false}, \"fromcurrent\": true, \"mode\": \"immediate\", \"transition\": {\"duration\": 0, \"easing\": \"linear\"}}], \"label\": \"5.0\", \"method\": \"animate\"}, {\"args\": [[\"6.0\"], {\"frame\": {\"duration\": 0, \"redraw\": false}, \"fromcurrent\": true, \"mode\": \"immediate\", \"transition\": {\"duration\": 0, \"easing\": \"linear\"}}], \"label\": \"6.0\", \"method\": \"animate\"}, {\"args\": [[\"7.0\"], {\"frame\": {\"duration\": 0, \"redraw\": false}, \"fromcurrent\": true, \"mode\": \"immediate\", \"transition\": {\"duration\": 0, \"easing\": \"linear\"}}], \"label\": \"7.0\", \"method\": \"animate\"}, {\"args\": [[\"8.0\"], {\"frame\": {\"duration\": 0, \"redraw\": false}, \"fromcurrent\": true, \"mode\": \"immediate\", \"transition\": {\"duration\": 0, \"easing\": \"linear\"}}], \"label\": \"8.0\", \"method\": \"animate\"}, {\"args\": [[\"9.0\"], {\"frame\": {\"duration\": 0, \"redraw\": false}, \"fromcurrent\": true, \"mode\": \"immediate\", \"transition\": {\"duration\": 0, \"easing\": \"linear\"}}], \"label\": \"9.0\", \"method\": \"animate\"}, {\"args\": [[\"10.0\"], {\"frame\": {\"duration\": 0, \"redraw\": false}, \"fromcurrent\": true, \"mode\": \"immediate\", \"transition\": {\"duration\": 0, \"easing\": \"linear\"}}], \"label\": \"10.0\", \"method\": \"animate\"}, {\"args\": [[\"11.0\"], {\"frame\": {\"duration\": 0, \"redraw\": false}, \"fromcurrent\": true, \"mode\": \"immediate\", \"transition\": {\"duration\": 0, \"easing\": \"linear\"}}], \"label\": \"11.0\", \"method\": \"animate\"}, {\"args\": [[\"12.0\"], {\"frame\": {\"duration\": 0, \"redraw\": false}, \"fromcurrent\": true, \"mode\": \"immediate\", \"transition\": {\"duration\": 0, \"easing\": \"linear\"}}], \"label\": \"12.0\", \"method\": \"animate\"}, {\"args\": [[\"13.0\"], {\"frame\": {\"duration\": 0, \"redraw\": false}, \"fromcurrent\": true, \"mode\": \"immediate\", \"transition\": {\"duration\": 0, \"easing\": \"linear\"}}], \"label\": \"13.0\", \"method\": \"animate\"}, {\"args\": [[\"14.0\"], {\"frame\": {\"duration\": 0, \"redraw\": false}, \"fromcurrent\": true, \"mode\": \"immediate\", \"transition\": {\"duration\": 0, \"easing\": \"linear\"}}], \"label\": \"14.0\", \"method\": \"animate\"}, {\"args\": [[\"15.0\"], {\"frame\": {\"duration\": 0, \"redraw\": false}, \"fromcurrent\": true, \"mode\": \"immediate\", \"transition\": {\"duration\": 0, \"easing\": \"linear\"}}], \"label\": \"15.0\", \"method\": \"animate\"}, {\"args\": [[\"16.0\"], {\"frame\": {\"duration\": 0, \"redraw\": false}, \"fromcurrent\": true, \"mode\": \"immediate\", \"transition\": {\"duration\": 0, \"easing\": \"linear\"}}], \"label\": \"16.0\", \"method\": \"animate\"}, {\"args\": [[\"17.0\"], {\"frame\": {\"duration\": 0, \"redraw\": false}, \"fromcurrent\": true, \"mode\": \"immediate\", \"transition\": {\"duration\": 0, \"easing\": \"linear\"}}], \"label\": \"17.0\", \"method\": \"animate\"}, {\"args\": [[\"18.0\"], {\"frame\": {\"duration\": 0, \"redraw\": false}, \"fromcurrent\": true, \"mode\": \"immediate\", \"transition\": {\"duration\": 0, \"easing\": \"linear\"}}], \"label\": \"18.0\", \"method\": \"animate\"}, {\"args\": [[\"19.0\"], {\"frame\": {\"duration\": 0, \"redraw\": false}, \"fromcurrent\": true, \"mode\": \"immediate\", \"transition\": {\"duration\": 0, \"easing\": \"linear\"}}], \"label\": \"19.0\", \"method\": \"animate\"}, {\"args\": [[\"20.0\"], {\"frame\": {\"duration\": 0, \"redraw\": false}, \"fromcurrent\": true, \"mode\": \"immediate\", \"transition\": {\"duration\": 0, \"easing\": \"linear\"}}], \"label\": \"20.0\", \"method\": \"animate\"}, {\"args\": [[\"21.0\"], {\"frame\": {\"duration\": 0, \"redraw\": false}, \"fromcurrent\": true, \"mode\": \"immediate\", \"transition\": {\"duration\": 0, \"easing\": \"linear\"}}], \"label\": \"21.0\", \"method\": \"animate\"}, {\"args\": [[\"22.0\"], {\"frame\": {\"duration\": 0, \"redraw\": false}, \"fromcurrent\": true, \"mode\": \"immediate\", \"transition\": {\"duration\": 0, \"easing\": \"linear\"}}], \"label\": \"22.0\", \"method\": \"animate\"}, {\"args\": [[\"23.0\"], {\"frame\": {\"duration\": 0, \"redraw\": false}, \"fromcurrent\": true, \"mode\": \"immediate\", \"transition\": {\"duration\": 0, \"easing\": \"linear\"}}], \"label\": \"23.0\", \"method\": \"animate\"}, {\"args\": [[\"24.0\"], {\"frame\": {\"duration\": 0, \"redraw\": false}, \"fromcurrent\": true, \"mode\": \"immediate\", \"transition\": {\"duration\": 0, \"easing\": \"linear\"}}], \"label\": \"24.0\", \"method\": \"animate\"}, {\"args\": [[\"25.0\"], {\"frame\": {\"duration\": 0, \"redraw\": false}, \"fromcurrent\": true, \"mode\": \"immediate\", \"transition\": {\"duration\": 0, \"easing\": \"linear\"}}], \"label\": \"25.0\", \"method\": \"animate\"}, {\"args\": [[\"26.0\"], {\"frame\": {\"duration\": 0, \"redraw\": false}, \"fromcurrent\": true, \"mode\": \"immediate\", \"transition\": {\"duration\": 0, \"easing\": \"linear\"}}], \"label\": \"26.0\", \"method\": \"animate\"}, {\"args\": [[\"27.0\"], {\"frame\": {\"duration\": 0, \"redraw\": false}, \"fromcurrent\": true, \"mode\": \"immediate\", \"transition\": {\"duration\": 0, \"easing\": \"linear\"}}], \"label\": \"27.0\", \"method\": \"animate\"}, {\"args\": [[\"28.0\"], {\"frame\": {\"duration\": 0, \"redraw\": false}, \"fromcurrent\": true, \"mode\": \"immediate\", \"transition\": {\"duration\": 0, \"easing\": \"linear\"}}], \"label\": \"28.0\", \"method\": \"animate\"}, {\"args\": [[\"29.0\"], {\"frame\": {\"duration\": 0, \"redraw\": false}, \"fromcurrent\": true, \"mode\": \"immediate\", \"transition\": {\"duration\": 0, \"easing\": \"linear\"}}], \"label\": \"29.0\", \"method\": \"animate\"}, {\"args\": [[\"30.0\"], {\"frame\": {\"duration\": 0, \"redraw\": false}, \"fromcurrent\": true, \"mode\": \"immediate\", \"transition\": {\"duration\": 0, \"easing\": \"linear\"}}], \"label\": \"30.0\", \"method\": \"animate\"}, {\"args\": [[\"31.0\"], {\"frame\": {\"duration\": 0, \"redraw\": false}, \"fromcurrent\": true, \"mode\": \"immediate\", \"transition\": {\"duration\": 0, \"easing\": \"linear\"}}], \"label\": \"31.0\", \"method\": \"animate\"}, {\"args\": [[\"32.0\"], {\"frame\": {\"duration\": 0, \"redraw\": false}, \"fromcurrent\": true, \"mode\": \"immediate\", \"transition\": {\"duration\": 0, \"easing\": \"linear\"}}], \"label\": \"32.0\", \"method\": \"animate\"}, {\"args\": [[\"33.0\"], {\"frame\": {\"duration\": 0, \"redraw\": false}, \"fromcurrent\": true, \"mode\": \"immediate\", \"transition\": {\"duration\": 0, \"easing\": \"linear\"}}], \"label\": \"33.0\", \"method\": \"animate\"}, {\"args\": [[\"34.0\"], {\"frame\": {\"duration\": 0, \"redraw\": false}, \"fromcurrent\": true, \"mode\": \"immediate\", \"transition\": {\"duration\": 0, \"easing\": \"linear\"}}], \"label\": \"34.0\", \"method\": \"animate\"}, {\"args\": [[\"35.0\"], {\"frame\": {\"duration\": 0, \"redraw\": false}, \"fromcurrent\": true, \"mode\": \"immediate\", \"transition\": {\"duration\": 0, \"easing\": \"linear\"}}], \"label\": \"35.0\", \"method\": \"animate\"}, {\"args\": [[\"36.0\"], {\"frame\": {\"duration\": 0, \"redraw\": false}, \"fromcurrent\": true, \"mode\": \"immediate\", \"transition\": {\"duration\": 0, \"easing\": \"linear\"}}], \"label\": \"36.0\", \"method\": \"animate\"}, {\"args\": [[\"37.0\"], {\"frame\": {\"duration\": 0, \"redraw\": false}, \"fromcurrent\": true, \"mode\": \"immediate\", \"transition\": {\"duration\": 0, \"easing\": \"linear\"}}], \"label\": \"37.0\", \"method\": \"animate\"}, {\"args\": [[\"38.0\"], {\"frame\": {\"duration\": 0, \"redraw\": false}, \"fromcurrent\": true, \"mode\": \"immediate\", \"transition\": {\"duration\": 0, \"easing\": \"linear\"}}], \"label\": \"38.0\", \"method\": \"animate\"}, {\"args\": [[\"39.0\"], {\"frame\": {\"duration\": 0, \"redraw\": false}, \"fromcurrent\": true, \"mode\": \"immediate\", \"transition\": {\"duration\": 0, \"easing\": \"linear\"}}], \"label\": \"39.0\", \"method\": \"animate\"}, {\"args\": [[\"40.0\"], {\"frame\": {\"duration\": 0, \"redraw\": false}, \"fromcurrent\": true, \"mode\": \"immediate\", \"transition\": {\"duration\": 0, \"easing\": \"linear\"}}], \"label\": \"40.0\", \"method\": \"animate\"}, {\"args\": [[\"41.0\"], {\"frame\": {\"duration\": 0, \"redraw\": false}, \"fromcurrent\": true, \"mode\": \"immediate\", \"transition\": {\"duration\": 0, \"easing\": \"linear\"}}], \"label\": \"41.0\", \"method\": \"animate\"}, {\"args\": [[\"42.0\"], {\"frame\": {\"duration\": 0, \"redraw\": false}, \"fromcurrent\": true, \"mode\": \"immediate\", \"transition\": {\"duration\": 0, \"easing\": \"linear\"}}], \"label\": \"42.0\", \"method\": \"animate\"}, {\"args\": [[\"43.0\"], {\"frame\": {\"duration\": 0, \"redraw\": false}, \"fromcurrent\": true, \"mode\": \"immediate\", \"transition\": {\"duration\": 0, \"easing\": \"linear\"}}], \"label\": \"43.0\", \"method\": \"animate\"}, {\"args\": [[\"44.0\"], {\"frame\": {\"duration\": 0, \"redraw\": false}, \"fromcurrent\": true, \"mode\": \"immediate\", \"transition\": {\"duration\": 0, \"easing\": \"linear\"}}], \"label\": \"44.0\", \"method\": \"animate\"}, {\"args\": [[\"45.0\"], {\"frame\": {\"duration\": 0, \"redraw\": false}, \"fromcurrent\": true, \"mode\": \"immediate\", \"transition\": {\"duration\": 0, \"easing\": \"linear\"}}], \"label\": \"45.0\", \"method\": \"animate\"}, {\"args\": [[\"46.0\"], {\"frame\": {\"duration\": 0, \"redraw\": false}, \"fromcurrent\": true, \"mode\": \"immediate\", \"transition\": {\"duration\": 0, \"easing\": \"linear\"}}], \"label\": \"46.0\", \"method\": \"animate\"}, {\"args\": [[\"47.0\"], {\"frame\": {\"duration\": 0, \"redraw\": false}, \"fromcurrent\": true, \"mode\": \"immediate\", \"transition\": {\"duration\": 0, \"easing\": \"linear\"}}], \"label\": \"47.0\", \"method\": \"animate\"}, {\"args\": [[\"48.0\"], {\"frame\": {\"duration\": 0, \"redraw\": false}, \"fromcurrent\": true, \"mode\": \"immediate\", \"transition\": {\"duration\": 0, \"easing\": \"linear\"}}], \"label\": \"48.0\", \"method\": \"animate\"}, {\"args\": [[\"49.0\"], {\"frame\": {\"duration\": 0, \"redraw\": false}, \"fromcurrent\": true, \"mode\": \"immediate\", \"transition\": {\"duration\": 0, \"easing\": \"linear\"}}], \"label\": \"49.0\", \"method\": \"animate\"}, {\"args\": [[\"50.0\"], {\"frame\": {\"duration\": 0, \"redraw\": false}, \"fromcurrent\": true, \"mode\": \"immediate\", \"transition\": {\"duration\": 0, \"easing\": \"linear\"}}], \"label\": \"50.0\", \"method\": \"animate\"}, {\"args\": [[\"51.0\"], {\"frame\": {\"duration\": 0, \"redraw\": false}, \"fromcurrent\": true, \"mode\": \"immediate\", \"transition\": {\"duration\": 0, \"easing\": \"linear\"}}], \"label\": \"51.0\", \"method\": \"animate\"}, {\"args\": [[\"52.0\"], {\"frame\": {\"duration\": 0, \"redraw\": false}, \"fromcurrent\": true, \"mode\": \"immediate\", \"transition\": {\"duration\": 0, \"easing\": \"linear\"}}], \"label\": \"52.0\", \"method\": \"animate\"}, {\"args\": [[\"53.0\"], {\"frame\": {\"duration\": 0, \"redraw\": false}, \"fromcurrent\": true, \"mode\": \"immediate\", \"transition\": {\"duration\": 0, \"easing\": \"linear\"}}], \"label\": \"53.0\", \"method\": \"animate\"}, {\"args\": [[\"54.0\"], {\"frame\": {\"duration\": 0, \"redraw\": false}, \"fromcurrent\": true, \"mode\": \"immediate\", \"transition\": {\"duration\": 0, \"easing\": \"linear\"}}], \"label\": \"54.0\", \"method\": \"animate\"}, {\"args\": [[\"55.0\"], {\"frame\": {\"duration\": 0, \"redraw\": false}, \"fromcurrent\": true, \"mode\": \"immediate\", \"transition\": {\"duration\": 0, \"easing\": \"linear\"}}], \"label\": \"55.0\", \"method\": \"animate\"}, {\"args\": [[\"56.0\"], {\"frame\": {\"duration\": 0, \"redraw\": false}, \"fromcurrent\": true, \"mode\": \"immediate\", \"transition\": {\"duration\": 0, \"easing\": \"linear\"}}], \"label\": \"56.0\", \"method\": \"animate\"}, {\"args\": [[\"57.0\"], {\"frame\": {\"duration\": 0, \"redraw\": false}, \"fromcurrent\": true, \"mode\": \"immediate\", \"transition\": {\"duration\": 0, \"easing\": \"linear\"}}], \"label\": \"57.0\", \"method\": \"animate\"}, {\"args\": [[\"58.0\"], {\"frame\": {\"duration\": 0, \"redraw\": false}, \"fromcurrent\": true, \"mode\": \"immediate\", \"transition\": {\"duration\": 0, \"easing\": \"linear\"}}], \"label\": \"58.0\", \"method\": \"animate\"}, {\"args\": [[\"59.0\"], {\"frame\": {\"duration\": 0, \"redraw\": false}, \"fromcurrent\": true, \"mode\": \"immediate\", \"transition\": {\"duration\": 0, \"easing\": \"linear\"}}], \"label\": \"59.0\", \"method\": \"animate\"}, {\"args\": [[\"60.0\"], {\"frame\": {\"duration\": 0, \"redraw\": false}, \"fromcurrent\": true, \"mode\": \"immediate\", \"transition\": {\"duration\": 0, \"easing\": \"linear\"}}], \"label\": \"60.0\", \"method\": \"animate\"}, {\"args\": [[\"61.0\"], {\"frame\": {\"duration\": 0, \"redraw\": false}, \"fromcurrent\": true, \"mode\": \"immediate\", \"transition\": {\"duration\": 0, \"easing\": \"linear\"}}], \"label\": \"61.0\", \"method\": \"animate\"}, {\"args\": [[\"62.0\"], {\"frame\": {\"duration\": 0, \"redraw\": false}, \"fromcurrent\": true, \"mode\": \"immediate\", \"transition\": {\"duration\": 0, \"easing\": \"linear\"}}], \"label\": \"62.0\", \"method\": \"animate\"}, {\"args\": [[\"63.0\"], {\"frame\": {\"duration\": 0, \"redraw\": false}, \"fromcurrent\": true, \"mode\": \"immediate\", \"transition\": {\"duration\": 0, \"easing\": \"linear\"}}], \"label\": \"63.0\", \"method\": \"animate\"}, {\"args\": [[\"64.0\"], {\"frame\": {\"duration\": 0, \"redraw\": false}, \"fromcurrent\": true, \"mode\": \"immediate\", \"transition\": {\"duration\": 0, \"easing\": \"linear\"}}], \"label\": \"64.0\", \"method\": \"animate\"}, {\"args\": [[\"65.0\"], {\"frame\": {\"duration\": 0, \"redraw\": false}, \"fromcurrent\": true, \"mode\": \"immediate\", \"transition\": {\"duration\": 0, \"easing\": \"linear\"}}], \"label\": \"65.0\", \"method\": \"animate\"}, {\"args\": [[\"66.0\"], {\"frame\": {\"duration\": 0, \"redraw\": false}, \"fromcurrent\": true, \"mode\": \"immediate\", \"transition\": {\"duration\": 0, \"easing\": \"linear\"}}], \"label\": \"66.0\", \"method\": \"animate\"}, {\"args\": [[\"67.0\"], {\"frame\": {\"duration\": 0, \"redraw\": false}, \"fromcurrent\": true, \"mode\": \"immediate\", \"transition\": {\"duration\": 0, \"easing\": \"linear\"}}], \"label\": \"67.0\", \"method\": \"animate\"}, {\"args\": [[\"68.0\"], {\"frame\": {\"duration\": 0, \"redraw\": false}, \"fromcurrent\": true, \"mode\": \"immediate\", \"transition\": {\"duration\": 0, \"easing\": \"linear\"}}], \"label\": \"68.0\", \"method\": \"animate\"}, {\"args\": [[\"69.0\"], {\"frame\": {\"duration\": 0, \"redraw\": false}, \"fromcurrent\": true, \"mode\": \"immediate\", \"transition\": {\"duration\": 0, \"easing\": \"linear\"}}], \"label\": \"69.0\", \"method\": \"animate\"}, {\"args\": [[\"70.0\"], {\"frame\": {\"duration\": 0, \"redraw\": false}, \"fromcurrent\": true, \"mode\": \"immediate\", \"transition\": {\"duration\": 0, \"easing\": \"linear\"}}], \"label\": \"70.0\", \"method\": \"animate\"}, {\"args\": [[\"71.0\"], {\"frame\": {\"duration\": 0, \"redraw\": false}, \"fromcurrent\": true, \"mode\": \"immediate\", \"transition\": {\"duration\": 0, \"easing\": \"linear\"}}], \"label\": \"71.0\", \"method\": \"animate\"}, {\"args\": [[\"72.0\"], {\"frame\": {\"duration\": 0, \"redraw\": false}, \"fromcurrent\": true, \"mode\": \"immediate\", \"transition\": {\"duration\": 0, \"easing\": \"linear\"}}], \"label\": \"72.0\", \"method\": \"animate\"}, {\"args\": [[\"73.0\"], {\"frame\": {\"duration\": 0, \"redraw\": false}, \"fromcurrent\": true, \"mode\": \"immediate\", \"transition\": {\"duration\": 0, \"easing\": \"linear\"}}], \"label\": \"73.0\", \"method\": \"animate\"}, {\"args\": [[\"74.0\"], {\"frame\": {\"duration\": 0, \"redraw\": false}, \"fromcurrent\": true, \"mode\": \"immediate\", \"transition\": {\"duration\": 0, \"easing\": \"linear\"}}], \"label\": \"74.0\", \"method\": \"animate\"}, {\"args\": [[\"75.0\"], {\"frame\": {\"duration\": 0, \"redraw\": false}, \"fromcurrent\": true, \"mode\": \"immediate\", \"transition\": {\"duration\": 0, \"easing\": \"linear\"}}], \"label\": \"75.0\", \"method\": \"animate\"}, {\"args\": [[\"76.0\"], {\"frame\": {\"duration\": 0, \"redraw\": false}, \"fromcurrent\": true, \"mode\": \"immediate\", \"transition\": {\"duration\": 0, \"easing\": \"linear\"}}], \"label\": \"76.0\", \"method\": \"animate\"}, {\"args\": [[\"77.0\"], {\"frame\": {\"duration\": 0, \"redraw\": false}, \"fromcurrent\": true, \"mode\": \"immediate\", \"transition\": {\"duration\": 0, \"easing\": \"linear\"}}], \"label\": \"77.0\", \"method\": \"animate\"}, {\"args\": [[\"78.0\"], {\"frame\": {\"duration\": 0, \"redraw\": false}, \"fromcurrent\": true, \"mode\": \"immediate\", \"transition\": {\"duration\": 0, \"easing\": \"linear\"}}], \"label\": \"78.0\", \"method\": \"animate\"}, {\"args\": [[\"79.0\"], {\"frame\": {\"duration\": 0, \"redraw\": false}, \"fromcurrent\": true, \"mode\": \"immediate\", \"transition\": {\"duration\": 0, \"easing\": \"linear\"}}], \"label\": \"79.0\", \"method\": \"animate\"}, {\"args\": [[\"80.0\"], {\"frame\": {\"duration\": 0, \"redraw\": false}, \"fromcurrent\": true, \"mode\": \"immediate\", \"transition\": {\"duration\": 0, \"easing\": \"linear\"}}], \"label\": \"80.0\", \"method\": \"animate\"}, {\"args\": [[\"81.0\"], {\"frame\": {\"duration\": 0, \"redraw\": false}, \"fromcurrent\": true, \"mode\": \"immediate\", \"transition\": {\"duration\": 0, \"easing\": \"linear\"}}], \"label\": \"81.0\", \"method\": \"animate\"}, {\"args\": [[\"82.0\"], {\"frame\": {\"duration\": 0, \"redraw\": false}, \"fromcurrent\": true, \"mode\": \"immediate\", \"transition\": {\"duration\": 0, \"easing\": \"linear\"}}], \"label\": \"82.0\", \"method\": \"animate\"}, {\"args\": [[\"83.0\"], {\"frame\": {\"duration\": 0, \"redraw\": false}, \"fromcurrent\": true, \"mode\": \"immediate\", \"transition\": {\"duration\": 0, \"easing\": \"linear\"}}], \"label\": \"83.0\", \"method\": \"animate\"}, {\"args\": [[\"84.0\"], {\"frame\": {\"duration\": 0, \"redraw\": false}, \"fromcurrent\": true, \"mode\": \"immediate\", \"transition\": {\"duration\": 0, \"easing\": \"linear\"}}], \"label\": \"84.0\", \"method\": \"animate\"}, {\"args\": [[\"85.0\"], {\"frame\": {\"duration\": 0, \"redraw\": false}, \"fromcurrent\": true, \"mode\": \"immediate\", \"transition\": {\"duration\": 0, \"easing\": \"linear\"}}], \"label\": \"85.0\", \"method\": \"animate\"}, {\"args\": [[\"86.0\"], {\"frame\": {\"duration\": 0, \"redraw\": false}, \"fromcurrent\": true, \"mode\": \"immediate\", \"transition\": {\"duration\": 0, \"easing\": \"linear\"}}], \"label\": \"86.0\", \"method\": \"animate\"}, {\"args\": [[\"87.0\"], {\"frame\": {\"duration\": 0, \"redraw\": false}, \"fromcurrent\": true, \"mode\": \"immediate\", \"transition\": {\"duration\": 0, \"easing\": \"linear\"}}], \"label\": \"87.0\", \"method\": \"animate\"}, {\"args\": [[\"88.0\"], {\"frame\": {\"duration\": 0, \"redraw\": false}, \"fromcurrent\": true, \"mode\": \"immediate\", \"transition\": {\"duration\": 0, \"easing\": \"linear\"}}], \"label\": \"88.0\", \"method\": \"animate\"}, {\"args\": [[\"89.0\"], {\"frame\": {\"duration\": 0, \"redraw\": false}, \"fromcurrent\": true, \"mode\": \"immediate\", \"transition\": {\"duration\": 0, \"easing\": \"linear\"}}], \"label\": \"89.0\", \"method\": \"animate\"}, {\"args\": [[\"90.0\"], {\"frame\": {\"duration\": 0, \"redraw\": false}, \"fromcurrent\": true, \"mode\": \"immediate\", \"transition\": {\"duration\": 0, \"easing\": \"linear\"}}], \"label\": \"90.0\", \"method\": \"animate\"}, {\"args\": [[\"91.0\"], {\"frame\": {\"duration\": 0, \"redraw\": false}, \"fromcurrent\": true, \"mode\": \"immediate\", \"transition\": {\"duration\": 0, \"easing\": \"linear\"}}], \"label\": \"91.0\", \"method\": \"animate\"}, {\"args\": [[\"92.0\"], {\"frame\": {\"duration\": 0, \"redraw\": false}, \"fromcurrent\": true, \"mode\": \"immediate\", \"transition\": {\"duration\": 0, \"easing\": \"linear\"}}], \"label\": \"92.0\", \"method\": \"animate\"}, {\"args\": [[\"93.0\"], {\"frame\": {\"duration\": 0, \"redraw\": false}, \"fromcurrent\": true, \"mode\": \"immediate\", \"transition\": {\"duration\": 0, \"easing\": \"linear\"}}], \"label\": \"93.0\", \"method\": \"animate\"}, {\"args\": [[\"94.0\"], {\"frame\": {\"duration\": 0, \"redraw\": false}, \"fromcurrent\": true, \"mode\": \"immediate\", \"transition\": {\"duration\": 0, \"easing\": \"linear\"}}], \"label\": \"94.0\", \"method\": \"animate\"}, {\"args\": [[\"95.0\"], {\"frame\": {\"duration\": 0, \"redraw\": false}, \"fromcurrent\": true, \"mode\": \"immediate\", \"transition\": {\"duration\": 0, \"easing\": \"linear\"}}], \"label\": \"95.0\", \"method\": \"animate\"}, {\"args\": [[\"96.0\"], {\"frame\": {\"duration\": 0, \"redraw\": false}, \"fromcurrent\": true, \"mode\": \"immediate\", \"transition\": {\"duration\": 0, \"easing\": \"linear\"}}], \"label\": \"96.0\", \"method\": \"animate\"}, {\"args\": [[\"97.0\"], {\"frame\": {\"duration\": 0, \"redraw\": false}, \"fromcurrent\": true, \"mode\": \"immediate\", \"transition\": {\"duration\": 0, \"easing\": \"linear\"}}], \"label\": \"97.0\", \"method\": \"animate\"}, {\"args\": [[\"98.0\"], {\"frame\": {\"duration\": 0, \"redraw\": false}, \"fromcurrent\": true, \"mode\": \"immediate\", \"transition\": {\"duration\": 0, \"easing\": \"linear\"}}], \"label\": \"98.0\", \"method\": \"animate\"}, {\"args\": [[\"99.0\"], {\"frame\": {\"duration\": 0, \"redraw\": false}, \"fromcurrent\": true, \"mode\": \"immediate\", \"transition\": {\"duration\": 0, \"easing\": \"linear\"}}], \"label\": \"99.0\", \"method\": \"animate\"}, {\"args\": [[\"100.0\"], {\"frame\": {\"duration\": 0, \"redraw\": false}, \"fromcurrent\": true, \"mode\": \"immediate\", \"transition\": {\"duration\": 0, \"easing\": \"linear\"}}], \"label\": \"100.0\", \"method\": \"animate\"}], \"x\": 0.1, \"xanchor\": \"left\", \"y\": 0, \"yanchor\": \"top\"}], \"template\": {\"data\": {\"bar\": [{\"error_x\": {\"color\": \"#2a3f5f\"}, \"error_y\": {\"color\": \"#2a3f5f\"}, \"marker\": {\"line\": {\"color\": \"#E5ECF6\", \"width\": 0.5}}, \"type\": \"bar\"}], \"barpolar\": [{\"marker\": {\"line\": {\"color\": \"#E5ECF6\", \"width\": 0.5}}, \"type\": \"barpolar\"}], \"carpet\": [{\"aaxis\": {\"endlinecolor\": \"#2a3f5f\", \"gridcolor\": \"white\", \"linecolor\": \"white\", \"minorgridcolor\": \"white\", \"startlinecolor\": \"#2a3f5f\"}, \"baxis\": {\"endlinecolor\": \"#2a3f5f\", \"gridcolor\": \"white\", \"linecolor\": \"white\", \"minorgridcolor\": \"white\", \"startlinecolor\": \"#2a3f5f\"}, \"type\": \"carpet\"}], \"choropleth\": [{\"colorbar\": {\"outlinewidth\": 0, \"ticks\": \"\"}, \"type\": \"choropleth\"}], \"contour\": [{\"colorbar\": {\"outlinewidth\": 0, \"ticks\": \"\"}, \"colorscale\": [[0.0, \"#0d0887\"], [0.1111111111111111, \"#46039f\"], [0.2222222222222222, \"#7201a8\"], [0.3333333333333333, \"#9c179e\"], [0.4444444444444444, \"#bd3786\"], [0.5555555555555556, \"#d8576b\"], [0.6666666666666666, \"#ed7953\"], [0.7777777777777778, \"#fb9f3a\"], [0.8888888888888888, \"#fdca26\"], [1.0, \"#f0f921\"]], \"type\": \"contour\"}], \"contourcarpet\": [{\"colorbar\": {\"outlinewidth\": 0, \"ticks\": \"\"}, \"type\": \"contourcarpet\"}], \"heatmap\": [{\"colorbar\": {\"outlinewidth\": 0, \"ticks\": \"\"}, \"colorscale\": [[0.0, \"#0d0887\"], [0.1111111111111111, \"#46039f\"], [0.2222222222222222, \"#7201a8\"], [0.3333333333333333, \"#9c179e\"], [0.4444444444444444, \"#bd3786\"], [0.5555555555555556, \"#d8576b\"], [0.6666666666666666, \"#ed7953\"], [0.7777777777777778, \"#fb9f3a\"], [0.8888888888888888, \"#fdca26\"], [1.0, \"#f0f921\"]], \"type\": \"heatmap\"}], \"heatmapgl\": [{\"colorbar\": {\"outlinewidth\": 0, \"ticks\": \"\"}, \"colorscale\": [[0.0, \"#0d0887\"], [0.1111111111111111, \"#46039f\"], [0.2222222222222222, \"#7201a8\"], [0.3333333333333333, \"#9c179e\"], [0.4444444444444444, \"#bd3786\"], [0.5555555555555556, \"#d8576b\"], [0.6666666666666666, \"#ed7953\"], [0.7777777777777778, \"#fb9f3a\"], [0.8888888888888888, \"#fdca26\"], [1.0, \"#f0f921\"]], \"type\": \"heatmapgl\"}], \"histogram\": [{\"marker\": {\"colorbar\": {\"outlinewidth\": 0, \"ticks\": \"\"}}, \"type\": \"histogram\"}], \"histogram2d\": [{\"colorbar\": {\"outlinewidth\": 0, \"ticks\": \"\"}, \"colorscale\": [[0.0, \"#0d0887\"], [0.1111111111111111, \"#46039f\"], [0.2222222222222222, \"#7201a8\"], [0.3333333333333333, \"#9c179e\"], [0.4444444444444444, \"#bd3786\"], [0.5555555555555556, \"#d8576b\"], [0.6666666666666666, \"#ed7953\"], [0.7777777777777778, \"#fb9f3a\"], [0.8888888888888888, \"#fdca26\"], [1.0, \"#f0f921\"]], \"type\": \"histogram2d\"}], \"histogram2dcontour\": [{\"colorbar\": {\"outlinewidth\": 0, \"ticks\": \"\"}, \"colorscale\": [[0.0, \"#0d0887\"], [0.1111111111111111, \"#46039f\"], [0.2222222222222222, \"#7201a8\"], [0.3333333333333333, \"#9c179e\"], [0.4444444444444444, \"#bd3786\"], [0.5555555555555556, \"#d8576b\"], [0.6666666666666666, \"#ed7953\"], [0.7777777777777778, \"#fb9f3a\"], [0.8888888888888888, \"#fdca26\"], [1.0, \"#f0f921\"]], \"type\": \"histogram2dcontour\"}], \"mesh3d\": [{\"colorbar\": {\"outlinewidth\": 0, \"ticks\": \"\"}, \"type\": \"mesh3d\"}], \"parcoords\": [{\"line\": {\"colorbar\": {\"outlinewidth\": 0, \"ticks\": \"\"}}, \"type\": \"parcoords\"}], \"pie\": [{\"automargin\": true, \"type\": \"pie\"}], \"scatter\": [{\"marker\": {\"colorbar\": {\"outlinewidth\": 0, \"ticks\": \"\"}}, \"type\": \"scatter\"}], \"scatter3d\": [{\"line\": {\"colorbar\": {\"outlinewidth\": 0, \"ticks\": \"\"}}, \"marker\": {\"colorbar\": {\"outlinewidth\": 0, \"ticks\": \"\"}}, \"type\": \"scatter3d\"}], \"scattercarpet\": [{\"marker\": {\"colorbar\": {\"outlinewidth\": 0, \"ticks\": \"\"}}, \"type\": \"scattercarpet\"}], \"scattergeo\": [{\"marker\": {\"colorbar\": {\"outlinewidth\": 0, \"ticks\": \"\"}}, \"type\": \"scattergeo\"}], \"scattergl\": [{\"marker\": {\"colorbar\": {\"outlinewidth\": 0, \"ticks\": \"\"}}, \"type\": \"scattergl\"}], \"scattermapbox\": [{\"marker\": {\"colorbar\": {\"outlinewidth\": 0, \"ticks\": \"\"}}, \"type\": \"scattermapbox\"}], \"scatterpolar\": [{\"marker\": {\"colorbar\": {\"outlinewidth\": 0, \"ticks\": \"\"}}, \"type\": \"scatterpolar\"}], \"scatterpolargl\": [{\"marker\": {\"colorbar\": {\"outlinewidth\": 0, \"ticks\": \"\"}}, \"type\": \"scatterpolargl\"}], \"scatterternary\": [{\"marker\": {\"colorbar\": {\"outlinewidth\": 0, \"ticks\": \"\"}}, \"type\": \"scatterternary\"}], \"surface\": [{\"colorbar\": {\"outlinewidth\": 0, \"ticks\": \"\"}, \"colorscale\": [[0.0, \"#0d0887\"], [0.1111111111111111, \"#46039f\"], [0.2222222222222222, \"#7201a8\"], [0.3333333333333333, \"#9c179e\"], [0.4444444444444444, \"#bd3786\"], [0.5555555555555556, \"#d8576b\"], [0.6666666666666666, \"#ed7953\"], [0.7777777777777778, \"#fb9f3a\"], [0.8888888888888888, \"#fdca26\"], [1.0, \"#f0f921\"]], \"type\": \"surface\"}], \"table\": [{\"cells\": {\"fill\": {\"color\": \"#EBF0F8\"}, \"line\": {\"color\": \"white\"}}, \"header\": {\"fill\": {\"color\": \"#C8D4E3\"}, \"line\": {\"color\": \"white\"}}, \"type\": \"table\"}]}, \"layout\": {\"annotationdefaults\": {\"arrowcolor\": \"#2a3f5f\", \"arrowhead\": 0, \"arrowwidth\": 1}, \"coloraxis\": {\"colorbar\": {\"outlinewidth\": 0, \"ticks\": \"\"}}, \"colorscale\": {\"diverging\": [[0, \"#8e0152\"], [0.1, \"#c51b7d\"], [0.2, \"#de77ae\"], [0.3, \"#f1b6da\"], [0.4, \"#fde0ef\"], [0.5, \"#f7f7f7\"], [0.6, \"#e6f5d0\"], [0.7, \"#b8e186\"], [0.8, \"#7fbc41\"], [0.9, \"#4d9221\"], [1, \"#276419\"]], \"sequential\": [[0.0, \"#0d0887\"], [0.1111111111111111, \"#46039f\"], [0.2222222222222222, \"#7201a8\"], [0.3333333333333333, \"#9c179e\"], [0.4444444444444444, \"#bd3786\"], [0.5555555555555556, \"#d8576b\"], [0.6666666666666666, \"#ed7953\"], [0.7777777777777778, \"#fb9f3a\"], [0.8888888888888888, \"#fdca26\"], [1.0, \"#f0f921\"]], \"sequentialminus\": [[0.0, \"#0d0887\"], [0.1111111111111111, \"#46039f\"], [0.2222222222222222, \"#7201a8\"], [0.3333333333333333, \"#9c179e\"], [0.4444444444444444, \"#bd3786\"], [0.5555555555555556, \"#d8576b\"], [0.6666666666666666, \"#ed7953\"], [0.7777777777777778, \"#fb9f3a\"], [0.8888888888888888, \"#fdca26\"], [1.0, \"#f0f921\"]]}, \"colorway\": [\"#636efa\", \"#EF553B\", \"#00cc96\", \"#ab63fa\", \"#FFA15A\", \"#19d3f3\", \"#FF6692\", \"#B6E880\", \"#FF97FF\", \"#FECB52\"], \"font\": {\"color\": \"#2a3f5f\"}, \"geo\": {\"bgcolor\": \"white\", \"lakecolor\": \"white\", \"landcolor\": \"#E5ECF6\", \"showlakes\": true, \"showland\": true, \"subunitcolor\": \"white\"}, \"hoverlabel\": {\"align\": \"left\"}, \"hovermode\": \"closest\", \"mapbox\": {\"style\": \"light\"}, \"paper_bgcolor\": \"white\", \"plot_bgcolor\": \"#E5ECF6\", \"polar\": {\"angularaxis\": {\"gridcolor\": \"white\", \"linecolor\": \"white\", \"ticks\": \"\"}, \"bgcolor\": \"#E5ECF6\", \"radialaxis\": {\"gridcolor\": \"white\", \"linecolor\": \"white\", \"ticks\": \"\"}}, \"scene\": {\"xaxis\": {\"backgroundcolor\": \"#E5ECF6\", \"gridcolor\": \"white\", \"gridwidth\": 2, \"linecolor\": \"white\", \"showbackground\": true, \"ticks\": \"\", \"zerolinecolor\": \"white\"}, \"yaxis\": {\"backgroundcolor\": \"#E5ECF6\", \"gridcolor\": \"white\", \"gridwidth\": 2, \"linecolor\": \"white\", \"showbackground\": true, \"ticks\": \"\", \"zerolinecolor\": \"white\"}, \"zaxis\": {\"backgroundcolor\": \"#E5ECF6\", \"gridcolor\": \"white\", \"gridwidth\": 2, \"linecolor\": \"white\", \"showbackground\": true, \"ticks\": \"\", \"zerolinecolor\": \"white\"}}, \"shapedefaults\": {\"line\": {\"color\": \"#2a3f5f\"}}, \"ternary\": {\"aaxis\": {\"gridcolor\": \"white\", \"linecolor\": \"white\", \"ticks\": \"\"}, \"baxis\": {\"gridcolor\": \"white\", \"linecolor\": \"white\", \"ticks\": \"\"}, \"bgcolor\": \"#E5ECF6\", \"caxis\": {\"gridcolor\": \"white\", \"linecolor\": \"white\", \"ticks\": \"\"}}, \"title\": {\"x\": 0.05}, \"xaxis\": {\"automargin\": true, \"gridcolor\": \"white\", \"linecolor\": \"white\", \"ticks\": \"\", \"title\": {\"standoff\": 15}, \"zerolinecolor\": \"white\", \"zerolinewidth\": 2}, \"yaxis\": {\"automargin\": true, \"gridcolor\": \"white\", \"linecolor\": \"white\", \"ticks\": \"\", \"title\": {\"standoff\": 15}, \"zerolinecolor\": \"white\", \"zerolinewidth\": 2}}}, \"updatemenus\": [{\"buttons\": [{\"args\": [null, {\"frame\": {\"duration\": 500, \"redraw\": false}, \"fromcurrent\": true, \"mode\": \"immediate\", \"transition\": {\"duration\": 500, \"easing\": \"linear\"}}], \"label\": \"&#9654;\", \"method\": \"animate\"}, {\"args\": [[null], {\"frame\": {\"duration\": 0, \"redraw\": false}, \"fromcurrent\": true, \"mode\": \"immediate\", \"transition\": {\"duration\": 0, \"easing\": \"linear\"}}], \"label\": \"&#9724;\", \"method\": \"animate\"}], \"direction\": \"left\", \"pad\": {\"r\": 10, \"t\": 70}, \"showactive\": false, \"type\": \"buttons\", \"x\": 0.1, \"xanchor\": \"right\", \"y\": 0, \"yanchor\": \"top\"}], \"xaxis\": {\"anchor\": \"y\", \"domain\": [0.0, 1.0], \"range\": [-10, 10], \"title\": {\"text\": \"PositionX\"}}, \"yaxis\": {\"anchor\": \"x\", \"domain\": [0.0, 1.0], \"range\": [-10, 10], \"title\": {\"text\": \"PositionY\"}}},\n",
       "                        {\"responsive\": true}\n",
       "                    ).then(function(){\n",
       "                            Plotly.addFrames('81fa5165-95f4-4321-8640-02b0821aac39', [{\"data\": [{\"legendgroup\": \"\", \"hoverlabel\": {\"namelength\": 0}, \"name\": \"\", \"mode\": \"markers\", \"marker\": {\"sizemode\": \"area\", \"coloraxis\": \"coloraxis\", \"sizeref\": 0.029585798816568046, \"size\": [5, 5, 5, 5, 5, 5, 5, 5, 5, 5], \"symbol\": \"circle\", \"color\": [0.0, 1.0, 2.0, 3.0, 4.0, 5.0, 6.0, 7.0, 8.0, 9.0]}, \"yaxis\": \"y\", \"showlegend\": false, \"type\": \"scatter\", \"y\": [-3.027641368060321, -6.321539856235033, -7.687879048081621, 0.5235317648432929, -8.323136929686958, -5.782859309450408, -6.495320443064649, -9.912334646262952, 0.05163804606282696, -4.744467257018156], \"x\": [-7.7736722477822955, 1.419999582725195, 2.1830793417919097, 3.0941830052089454, 0.5457215916529599, -3.3470510948975774, -1.562070328863518, -3.076453926331329, -9.539681405194091, 2.318806488017948], \"hovertemplate\": \"Evolution=0.0<br>PositionX=%{x}<br>PositionY=%{y}<br>size=%{marker.size}<br>Particle=%{marker.color}\", \"xaxis\": \"x\", \"ids\": [0.0, 1.0, 2.0, 3.0, 4.0, 5.0, 6.0, 7.0, 8.0, 9.0]}], \"name\": \"0.0\"}, {\"data\": [{\"legendgroup\": \"\", \"hoverlabel\": {\"namelength\": 0}, \"name\": \"\", \"mode\": \"markers\", \"marker\": {\"sizemode\": \"area\", \"coloraxis\": \"coloraxis\", \"sizeref\": 0.029585798816568046, \"size\": [5, 5, 5, 5, 5, 5, 5, 5, 5, 5], \"symbol\": \"circle\", \"color\": [0.0, 1.0, 2.0, 3.0, 4.0, 5.0, 6.0, 7.0, 8.0, 9.0]}, \"yaxis\": \"y\", \"showlegend\": false, \"type\": \"scatter\", \"y\": [-0.3903764784678616, -4.097267791524158, -2.013099622343445, 0.5235317648432929, -6.452974358617308, -5.782859309450408, -3.923487204694541, -8.055379393737198, 0.05163804606282696, -4.744467257018156], \"x\": [4.148078965467184, 1.419999582725195, 2.1830793417919097, 3.0941830052089454, 1.5616146892840428, -3.3470510948975774, -4.509244363880825, 4.525800542184584, -9.539681405194091, 2.318806488017948], \"hovertemplate\": \"Evolution=1.0<br>PositionX=%{x}<br>PositionY=%{y}<br>size=%{marker.size}<br>Particle=%{marker.color}\", \"xaxis\": \"x\", \"ids\": [0.0, 1.0, 2.0, 3.0, 4.0, 5.0, 6.0, 7.0, 8.0, 9.0]}], \"name\": \"1.0\"}, {\"data\": [{\"legendgroup\": \"\", \"hoverlabel\": {\"namelength\": 0}, \"name\": \"\", \"mode\": \"markers\", \"marker\": {\"sizemode\": \"area\", \"coloraxis\": \"coloraxis\", \"sizeref\": 0.029585798816568046, \"size\": [5, 5, 5, 5, 5, 5, 5, 5, 5, 5], \"symbol\": \"circle\", \"color\": [0.0, 1.0, 2.0, 3.0, 4.0, 5.0, 6.0, 7.0, 8.0, 9.0]}, \"yaxis\": \"y\", \"showlegend\": false, \"type\": \"scatter\", \"y\": [-0.3903764784678616, -4.097267791524158, -2.013099622343445, 0.5235317648432929, -6.452974358617308, -5.782859309450408, -3.923487204694541, -3.466533083038964, 0.05163804606282696, -4.744467257018156], \"x\": [4.148078965467184, 1.419999582725195, 2.1830793417919097, 3.0941830052089454, -0.06471885079343798, -3.3470510948975774, -4.509244363880825, -5.036192344009944, -9.539681405194091, 2.318806488017948], \"hovertemplate\": \"Evolution=2.0<br>PositionX=%{x}<br>PositionY=%{y}<br>size=%{marker.size}<br>Particle=%{marker.color}\", \"xaxis\": \"x\", \"ids\": [0.0, 1.0, 2.0, 3.0, 4.0, 5.0, 6.0, 7.0, 8.0, 9.0]}], \"name\": \"2.0\"}, {\"data\": [{\"legendgroup\": \"\", \"hoverlabel\": {\"namelength\": 0}, \"name\": \"\", \"mode\": \"markers\", \"marker\": {\"sizemode\": \"area\", \"coloraxis\": \"coloraxis\", \"sizeref\": 0.029585798816568046, \"size\": [5, 5, 5, 5, 5, 5, 5, 5, 5, 5], \"symbol\": \"circle\", \"color\": [0.0, 1.0, 2.0, 3.0, 4.0, 5.0, 6.0, 7.0, 8.0, 9.0]}, \"yaxis\": \"y\", \"showlegend\": false, \"type\": \"scatter\", \"y\": [-0.3903764784678616, -4.097267791524158, -2.013099622343445, 0.5235317648432929, -6.452974358617308, -5.782859309450408, -3.923487204694541, -3.466533083038964, -4.518115732489024, -4.744467257018156], \"x\": [4.148078965467184, 1.419999582725195, 1.0323113241296964, 3.0941830052089454, -0.06471885079343798, -3.3470510948975774, -3.456741416008752, 0.9705961300788184, -5.569313851441271, 2.318806488017948], \"hovertemplate\": \"Evolution=3.0<br>PositionX=%{x}<br>PositionY=%{y}<br>size=%{marker.size}<br>Particle=%{marker.color}\", \"xaxis\": \"x\", \"ids\": [0.0, 1.0, 2.0, 3.0, 4.0, 5.0, 6.0, 7.0, 8.0, 9.0]}], \"name\": \"3.0\"}, {\"data\": [{\"legendgroup\": \"\", \"hoverlabel\": {\"namelength\": 0}, \"name\": \"\", \"mode\": \"markers\", \"marker\": {\"sizemode\": \"area\", \"coloraxis\": \"coloraxis\", \"sizeref\": 0.029585798816568046, \"size\": [5, 5, 5, 5, 5, 5, 5, 5, 5, 5], \"symbol\": \"circle\", \"color\": [0.0, 1.0, 2.0, 3.0, 4.0, 5.0, 6.0, 7.0, 8.0, 9.0]}, \"yaxis\": \"y\", \"showlegend\": false, \"type\": \"scatter\", \"y\": [-0.3903764784678616, -4.097267791524158, -2.013099622343445, 0.5235317648432929, 0.6104220582581013, -5.782859309450408, -3.923487204694541, -3.466533083038964, -4.518115732489024, -4.744467257018156], \"x\": [-4.099988997952877, 1.419999582725195, 1.0323113241296964, 3.0941830052089454, 0.6558125058419719, 1.450857179750634, 1.3957814651432683, 0.9705961300788184, -5.569313851441271, -0.6705699919732513], \"hovertemplate\": \"Evolution=4.0<br>PositionX=%{x}<br>PositionY=%{y}<br>size=%{marker.size}<br>Particle=%{marker.color}\", \"xaxis\": \"x\", \"ids\": [0.0, 1.0, 2.0, 3.0, 4.0, 5.0, 6.0, 7.0, 8.0, 9.0]}], \"name\": \"4.0\"}, {\"data\": [{\"legendgroup\": \"\", \"hoverlabel\": {\"namelength\": 0}, \"name\": \"\", \"mode\": \"markers\", \"marker\": {\"sizemode\": \"area\", \"coloraxis\": \"coloraxis\", \"sizeref\": 0.029585798816568046, \"size\": [5, 5, 5, 5, 5, 5, 5, 5, 5, 5], \"symbol\": \"circle\", \"color\": [0.0, 1.0, 2.0, 3.0, 4.0, 5.0, 6.0, 7.0, 8.0, 9.0]}, \"yaxis\": \"y\", \"showlegend\": false, \"type\": \"scatter\", \"y\": [-0.3903764784678616, -4.097267791524158, -1.5478265731639018, 0.5235317648432929, 0.6104220582581013, -5.782859309450408, -3.923487204694541, -3.466533083038964, -1.7021373187686348, -4.325744852351947], \"x\": [-4.099988997952877, 1.419999582725195, -1.0680923289275823, 0.8076095978065081, 0.6558125058419719, 1.450857179750634, 1.3957814651432683, 0.9705961300788184, -3.911739588809015, -0.6705699919732513], \"hovertemplate\": \"Evolution=5.0<br>PositionX=%{x}<br>PositionY=%{y}<br>size=%{marker.size}<br>Particle=%{marker.color}\", \"xaxis\": \"x\", \"ids\": [0.0, 1.0, 2.0, 3.0, 4.0, 5.0, 6.0, 7.0, 8.0, 9.0]}], \"name\": \"5.0\"}, {\"data\": [{\"legendgroup\": \"\", \"hoverlabel\": {\"namelength\": 0}, \"name\": \"\", \"mode\": \"markers\", \"marker\": {\"sizemode\": \"area\", \"coloraxis\": \"coloraxis\", \"sizeref\": 0.029585798816568046, \"size\": [5, 5, 5, 5, 5, 5, 5, 5, 5, 5], \"symbol\": \"circle\", \"color\": [0.0, 1.0, 2.0, 3.0, 4.0, 5.0, 6.0, 7.0, 8.0, 9.0]}, \"yaxis\": \"y\", \"showlegend\": false, \"type\": \"scatter\", \"y\": [-1.8303131600478366, -4.097267791524158, -1.5478265731639018, 0.5235317648432929, 0.6104220582581013, 1.7982523740234209, 2.562009335491825, 0.4198576137781407, -1.7021373187686348, -4.325744852351947], \"x\": [1.1897031362481196, 1.419999582725195, -1.0680923289275823, 0.8076095978065081, 0.6558125058419719, 1.450857179750634, 0.6502177856880849, 0.9705961300788184, -3.911739588809015, -0.6705699919732513], \"hovertemplate\": \"Evolution=6.0<br>PositionX=%{x}<br>PositionY=%{y}<br>size=%{marker.size}<br>Particle=%{marker.color}\", \"xaxis\": \"x\", \"ids\": [0.0, 1.0, 2.0, 3.0, 4.0, 5.0, 6.0, 7.0, 8.0, 9.0]}], \"name\": \"6.0\"}, {\"data\": [{\"legendgroup\": \"\", \"hoverlabel\": {\"namelength\": 0}, \"name\": \"\", \"mode\": \"markers\", \"marker\": {\"sizemode\": \"area\", \"coloraxis\": \"coloraxis\", \"sizeref\": 0.029585798816568046, \"size\": [5, 5, 5, 5, 5, 5, 5, 5, 5, 5], \"symbol\": \"circle\", \"color\": [0.0, 1.0, 2.0, 3.0, 4.0, 5.0, 6.0, 7.0, 8.0, 9.0]}, \"yaxis\": \"y\", \"showlegend\": false, \"type\": \"scatter\", \"y\": [0.3764124670707365, -1.753974394301211, -1.5478265731639018, 0.5235317648432929, 0.6104220582581013, 1.7982523740234209, -0.3001107270118468, 0.4198576137781407, -1.7021373187686348, 1.5263301664882278], \"x\": [1.1897031362481196, -3.83024632267286, -1.0680923289275823, 0.8076095978065081, 0.6558125058419719, 1.450857179750634, 0.6502177856880849, 0.9705961300788184, 0.8946975840965503, -0.28763317767896035], \"hovertemplate\": \"Evolution=7.0<br>PositionX=%{x}<br>PositionY=%{y}<br>size=%{marker.size}<br>Particle=%{marker.color}\", \"xaxis\": \"x\", \"ids\": [0.0, 1.0, 2.0, 3.0, 4.0, 5.0, 6.0, 7.0, 8.0, 9.0]}], \"name\": \"7.0\"}, {\"data\": [{\"legendgroup\": \"\", \"hoverlabel\": {\"namelength\": 0}, \"name\": \"\", \"mode\": \"markers\", \"marker\": {\"sizemode\": \"area\", \"coloraxis\": \"coloraxis\", \"sizeref\": 0.029585798816568046, \"size\": [5, 5, 5, 5, 5, 5, 5, 5, 5, 5], \"symbol\": \"circle\", \"color\": [0.0, 1.0, 2.0, 3.0, 4.0, 5.0, 6.0, 7.0, 8.0, 9.0]}, \"yaxis\": \"y\", \"showlegend\": false, \"type\": \"scatter\", \"y\": [-0.48682910689051395, -0.9945902968088582, 1.4744930909556517, 0.5235317648432929, 0.6104220582581013, 1.7982523740234209, -0.3001107270118468, 0.4198576137781407, -1.7021373187686348, 1.5263301664882278], \"x\": [-1.0301430559364482, -1.6972069828064718, -0.2061399115428052, 0.8076095978065081, 0.6558125058419719, 1.450857179750634, 0.6502177856880849, 0.9705961300788184, 0.8946975840965503, -0.28763317767896035], \"hovertemplate\": \"Evolution=8.0<br>PositionX=%{x}<br>PositionY=%{y}<br>size=%{marker.size}<br>Particle=%{marker.color}\", \"xaxis\": \"x\", \"ids\": [0.0, 1.0, 2.0, 3.0, 4.0, 5.0, 6.0, 7.0, 8.0, 9.0]}], \"name\": \"8.0\"}, {\"data\": [{\"legendgroup\": \"\", \"hoverlabel\": {\"namelength\": 0}, \"name\": \"\", \"mode\": \"markers\", \"marker\": {\"sizemode\": \"area\", \"coloraxis\": \"coloraxis\", \"sizeref\": 0.029585798816568046, \"size\": [5, 5, 5, 5, 5, 5, 5, 5, 5, 5], \"symbol\": \"circle\", \"color\": [0.0, 1.0, 2.0, 3.0, 4.0, 5.0, 6.0, 7.0, 8.0, 9.0]}, \"yaxis\": \"y\", \"showlegend\": false, \"type\": \"scatter\", \"y\": [-0.4505754080152866, -0.9945902968088582, 1.4744930909556517, 0.5235317648432929, 0.6104220582581013, 0.6737382087373128, -0.3001107270118468, 0.4198576137781407, -0.7226831266788267, 1.5263301664882278], \"x\": [0.6178632328508379, 1.0141401232238394, -0.2061399115428052, 0.8076095978065081, 0.6558125058419719, 1.3041280935138302, 0.6502177856880849, 0.9705961300788184, -0.2699039877647227, -0.28763317767896035], \"hovertemplate\": \"Evolution=9.0<br>PositionX=%{x}<br>PositionY=%{y}<br>size=%{marker.size}<br>Particle=%{marker.color}\", \"xaxis\": \"x\", \"ids\": [0.0, 1.0, 2.0, 3.0, 4.0, 5.0, 6.0, 7.0, 8.0, 9.0]}], \"name\": \"9.0\"}, {\"data\": [{\"legendgroup\": \"\", \"hoverlabel\": {\"namelength\": 0}, \"name\": \"\", \"mode\": \"markers\", \"marker\": {\"sizemode\": \"area\", \"coloraxis\": \"coloraxis\", \"sizeref\": 0.029585798816568046, \"size\": [5, 5, 5, 5, 5, 5, 5, 5, 5, 5], \"symbol\": \"circle\", \"color\": [0.0, 1.0, 2.0, 3.0, 4.0, 5.0, 6.0, 7.0, 8.0, 9.0]}, \"yaxis\": \"y\", \"showlegend\": false, \"type\": \"scatter\", \"y\": [-0.4505754080152866, -0.9945902968088582, -0.5827690508812884, 0.6403288381825663, 0.6104220582581013, 0.5494503026095809, -0.3001107270118468, 0.4198576137781407, -0.7226831266788267, 1.5263301664882278], \"x\": [0.2369707669099339, 0.8412698467104829, -0.2061399115428052, -0.3511338966878006, 0.6558125058419719, 0.7668629647384305, 0.6502177856880849, 0.5540792364974356, -0.2699039877647227, -0.28763317767896035], \"hovertemplate\": \"Evolution=10.0<br>PositionX=%{x}<br>PositionY=%{y}<br>size=%{marker.size}<br>Particle=%{marker.color}\", \"xaxis\": \"x\", \"ids\": [0.0, 1.0, 2.0, 3.0, 4.0, 5.0, 6.0, 7.0, 8.0, 9.0]}], \"name\": \"10.0\"}, {\"data\": [{\"legendgroup\": \"\", \"hoverlabel\": {\"namelength\": 0}, \"name\": \"\", \"mode\": \"markers\", \"marker\": {\"sizemode\": \"area\", \"coloraxis\": \"coloraxis\", \"sizeref\": 0.029585798816568046, \"size\": [5, 5, 5, 5, 5, 5, 5, 5, 5, 5], \"symbol\": \"circle\", \"color\": [0.0, 1.0, 2.0, 3.0, 4.0, 5.0, 6.0, 7.0, 8.0, 9.0]}, \"yaxis\": \"y\", \"showlegend\": false, \"type\": \"scatter\", \"y\": [0.10644963845675015, -0.9945902968088582, -0.5827690508812884, -0.14625206296729398, 0.6104220582581013, 0.5494503026095809, -0.3001107270118468, 0.4198576137781407, -0.7226831266788267, -0.4874868286413081], \"x\": [0.2369707669099339, 0.8412698467104829, -0.2061399115428052, 0.06757779835681776, 0.6558125058419719, 0.7668629647384305, -0.40200053136006875, 0.5540792364974356, -0.2699039877647227, -0.15527327687053705], \"hovertemplate\": \"Evolution=11.0<br>PositionX=%{x}<br>PositionY=%{y}<br>size=%{marker.size}<br>Particle=%{marker.color}\", \"xaxis\": \"x\", \"ids\": [0.0, 1.0, 2.0, 3.0, 4.0, 5.0, 6.0, 7.0, 8.0, 9.0]}], \"name\": \"11.0\"}, {\"data\": [{\"legendgroup\": \"\", \"hoverlabel\": {\"namelength\": 0}, \"name\": \"\", \"mode\": \"markers\", \"marker\": {\"sizemode\": \"area\", \"coloraxis\": \"coloraxis\", \"sizeref\": 0.029585798816568046, \"size\": [5, 5, 5, 5, 5, 5, 5, 5, 5, 5], \"symbol\": \"circle\", \"color\": [0.0, 1.0, 2.0, 3.0, 4.0, 5.0, 6.0, 7.0, 8.0, 9.0]}, \"yaxis\": \"y\", \"showlegend\": false, \"type\": \"scatter\", \"y\": [0.10644963845675015, -0.9945902968088582, -0.12949334417483976, 0.07982305085465302, -0.6750420155588366, 0.5494503026095809, -0.3001107270118468, 0.4198576137781407, -0.7226831266788267, -0.4874868286413081], \"x\": [-0.09974804742230775, 0.3736332417304833, -0.29057499374639134, 0.06757779835681776, -0.2444706704285886, -0.29057499374639134, -0.40200053136006875, 0.5540792364974356, -0.2699039877647227, -0.15527327687053705], \"hovertemplate\": \"Evolution=12.0<br>PositionX=%{x}<br>PositionY=%{y}<br>size=%{marker.size}<br>Particle=%{marker.color}\", \"xaxis\": \"x\", \"ids\": [0.0, 1.0, 2.0, 3.0, 4.0, 5.0, 6.0, 7.0, 8.0, 9.0]}], \"name\": \"12.0\"}, {\"data\": [{\"legendgroup\": \"\", \"hoverlabel\": {\"namelength\": 0}, \"name\": \"\", \"mode\": \"markers\", \"marker\": {\"sizemode\": \"area\", \"coloraxis\": \"coloraxis\", \"sizeref\": 0.029585798816568046, \"size\": [5, 5, 5, 5, 5, 5, 5, 5, 5, 5], \"symbol\": \"circle\", \"color\": [0.0, 1.0, 2.0, 3.0, 4.0, 5.0, 6.0, 7.0, 8.0, 9.0]}, \"yaxis\": \"y\", \"showlegend\": false, \"type\": \"scatter\", \"y\": [0.10644963845675015, -0.2737889267920967, -0.12949334417483976, 0.07982305085465302, 0.09200698790157563, 0.5494503026095809, -0.3001107270118468, 0.4198576137781407, -0.7226831266788267, -0.21677184039734043], \"x\": [-0.09974804742230775, -0.07572977736781838, -0.24147415772271819, 0.06757779835681776, -0.2444706704285886, -0.29057499374639134, -0.40200053136006875, -0.05985980370849525, -0.2699039877647227, -0.15527327687053705], \"hovertemplate\": \"Evolution=13.0<br>PositionX=%{x}<br>PositionY=%{y}<br>size=%{marker.size}<br>Particle=%{marker.color}\", \"xaxis\": \"x\", \"ids\": [0.0, 1.0, 2.0, 3.0, 4.0, 5.0, 6.0, 7.0, 8.0, 9.0]}], \"name\": \"13.0\"}, {\"data\": [{\"legendgroup\": \"\", \"hoverlabel\": {\"namelength\": 0}, \"name\": \"\", \"mode\": \"markers\", \"marker\": {\"sizemode\": \"area\", \"coloraxis\": \"coloraxis\", \"sizeref\": 0.029585798816568046, \"size\": [5, 5, 5, 5, 5, 5, 5, 5, 5, 5], \"symbol\": \"circle\", \"color\": [0.0, 1.0, 2.0, 3.0, 4.0, 5.0, 6.0, 7.0, 8.0, 9.0]}, \"yaxis\": \"y\", \"showlegend\": false, \"type\": \"scatter\", \"y\": [0.10644963845675015, 0.22379875632142945, 0.06478019514949696, 0.07982305085465302, 0.036746542274679994, 0.5494503026095809, 0.35449852983114327, -0.00548564056385048, -0.2535345319382436, -0.21677184039734043], \"x\": [-0.09974804742230775, -0.07572977736781838, -0.2231116746670736, 0.06757779835681776, -0.2444706704285886, -0.29057499374639134, -0.05025118484242333, -0.22132154866821008, -0.2699039877647227, 0.06899284563846247], \"hovertemplate\": \"Evolution=14.0<br>PositionX=%{x}<br>PositionY=%{y}<br>size=%{marker.size}<br>Particle=%{marker.color}\", \"xaxis\": \"x\", \"ids\": [0.0, 1.0, 2.0, 3.0, 4.0, 5.0, 6.0, 7.0, 8.0, 9.0]}], \"name\": \"14.0\"}, {\"data\": [{\"legendgroup\": \"\", \"hoverlabel\": {\"namelength\": 0}, \"name\": \"\", \"mode\": \"markers\", \"marker\": {\"sizemode\": \"area\", \"coloraxis\": \"coloraxis\", \"sizeref\": 0.029585798816568046, \"size\": [5, 5, 5, 5, 5, 5, 5, 5, 5, 5], \"symbol\": \"circle\", \"color\": [0.0, 1.0, 2.0, 3.0, 4.0, 5.0, 6.0, 7.0, 8.0, 9.0]}, \"yaxis\": \"y\", \"showlegend\": false, \"type\": \"scatter\", \"y\": [0.10644963845675015, 0.06580622441724454, 0.06478019514949696, 0.07982305085465302, 0.036746542274679994, 0.5494503026095809, 0.35449852983114327, -0.00548564056385048, -0.030888101031494974, -0.21677184039734043], \"x\": [-0.09974804742230775, 0.05689830047606026, -0.2231116746670736, 0.06757779835681776, -0.2444706704285886, -0.1004782086577606, -0.05025118484242333, -0.22132154866821008, -0.040833555822687204, 0.06899284563846247], \"hovertemplate\": \"Evolution=15.0<br>PositionX=%{x}<br>PositionY=%{y}<br>size=%{marker.size}<br>Particle=%{marker.color}\", \"xaxis\": \"x\", \"ids\": [0.0, 1.0, 2.0, 3.0, 4.0, 5.0, 6.0, 7.0, 8.0, 9.0]}], \"name\": \"15.0\"}, {\"data\": [{\"legendgroup\": \"\", \"hoverlabel\": {\"namelength\": 0}, \"name\": \"\", \"mode\": \"markers\", \"marker\": {\"sizemode\": \"area\", \"coloraxis\": \"coloraxis\", \"sizeref\": 0.029585798816568046, \"size\": [5, 5, 5, 5, 5, 5, 5, 5, 5, 5], \"symbol\": \"circle\", \"color\": [0.0, 1.0, 2.0, 3.0, 4.0, 5.0, 6.0, 7.0, 8.0, 9.0]}, \"yaxis\": \"y\", \"showlegend\": false, \"type\": \"scatter\", \"y\": [0.10644963845675015, 0.06580622441724454, 0.06478019514949696, 0.07982305085465302, -0.20581213425958883, 0.14849192059877558, 0.03198890276415706, -0.00548564056385048, -0.030888101031494974, 0.06658778535772386], \"x\": [-0.09974804742230775, 0.05689830047606026, -0.2231116746670736, 0.06757779835681776, 0.12719981359726068, 0.03812055255700749, 0.15871685777901096, -0.22132154866821008, -0.04021144231702238, -0.06594706773035583], \"hovertemplate\": \"Evolution=16.0<br>PositionX=%{x}<br>PositionY=%{y}<br>size=%{marker.size}<br>Particle=%{marker.color}\", \"xaxis\": \"x\", \"ids\": [0.0, 1.0, 2.0, 3.0, 4.0, 5.0, 6.0, 7.0, 8.0, 9.0]}], \"name\": \"16.0\"}, {\"data\": [{\"legendgroup\": \"\", \"hoverlabel\": {\"namelength\": 0}, \"name\": \"\", \"mode\": \"markers\", \"marker\": {\"sizemode\": \"area\", \"coloraxis\": \"coloraxis\", \"sizeref\": 0.029585798816568046, \"size\": [5, 5, 5, 5, 5, 5, 5, 5, 5, 5], \"symbol\": \"circle\", \"color\": [0.0, 1.0, 2.0, 3.0, 4.0, 5.0, 6.0, 7.0, 8.0, 9.0]}, \"yaxis\": \"y\", \"showlegend\": false, \"type\": \"scatter\", \"y\": [0.031085107660043604, 0.06580622441724454, 0.1191508686905724, 0.052765868353458784, -0.20581213425958883, 0.14849192059877558, 0.03198890276415706, -0.00548564056385048, -0.030888101031494974, 0.06658778535772386], \"x\": [0.0804456110634845, 0.05689830047606026, -0.1903031005979016, 0.06757779835681776, 0.12719981359726068, 0.03812055255700749, 0.15871685777901096, -0.22132154866821008, -0.04021144231702238, -0.06594706773035583], \"hovertemplate\": \"Evolution=17.0<br>PositionX=%{x}<br>PositionY=%{y}<br>size=%{marker.size}<br>Particle=%{marker.color}\", \"xaxis\": \"x\", \"ids\": [0.0, 1.0, 2.0, 3.0, 4.0, 5.0, 6.0, 7.0, 8.0, 9.0]}], \"name\": \"17.0\"}, {\"data\": [{\"legendgroup\": \"\", \"hoverlabel\": {\"namelength\": 0}, \"name\": \"\", \"mode\": \"markers\", \"marker\": {\"sizemode\": \"area\", \"coloraxis\": \"coloraxis\", \"sizeref\": 0.029585798816568046, \"size\": [5, 5, 5, 5, 5, 5, 5, 5, 5, 5], \"symbol\": \"circle\", \"color\": [0.0, 1.0, 2.0, 3.0, 4.0, 5.0, 6.0, 7.0, 8.0, 9.0]}, \"yaxis\": \"y\", \"showlegend\": false, \"type\": \"scatter\", \"y\": [0.031085107660043604, 0.06580622441724454, 0.1191508686905724, 0.052765868353458784, -0.20581213425958883, 0.06297550710992635, 0.03198890276415706, 0.06703968290978059, -0.030888101031494974, 0.06658778535772386], \"x\": [0.0804456110634845, 0.007249271666564326, -0.1903031005979016, 0.06757779835681776, 0.12719981359726068, 0.03812055255700749, 0.15871685777901096, -0.0268114443725926, -0.04021144231702238, -0.01724985991525324], \"hovertemplate\": \"Evolution=18.0<br>PositionX=%{x}<br>PositionY=%{y}<br>size=%{marker.size}<br>Particle=%{marker.color}\", \"xaxis\": \"x\", \"ids\": [0.0, 1.0, 2.0, 3.0, 4.0, 5.0, 6.0, 7.0, 8.0, 9.0]}], \"name\": \"18.0\"}, {\"data\": [{\"legendgroup\": \"\", \"hoverlabel\": {\"namelength\": 0}, \"name\": \"\", \"mode\": \"markers\", \"marker\": {\"sizemode\": \"area\", \"coloraxis\": \"coloraxis\", \"sizeref\": 0.029585798816568046, \"size\": [5, 5, 5, 5, 5, 5, 5, 5, 5, 5], \"symbol\": \"circle\", \"color\": [0.0, 1.0, 2.0, 3.0, 4.0, 5.0, 6.0, 7.0, 8.0, 9.0]}, \"yaxis\": \"y\", \"showlegend\": false, \"type\": \"scatter\", \"y\": [0.031085107660043604, 0.06580622441724454, 0.07029125842627054, 0.052765868353458784, 0.10655649007313402, 0.06297550710992635, 0.03198890276415706, -0.01674904043045236, -0.030888101031494974, 0.06658778535772386], \"x\": [0.0804456110634845, 0.007249271666564326, -0.1903031005979016, 0.06757779835681776, -0.1363894266314488, 0.03812055255700749, 0.15871685777901096, -0.0268114443725926, -0.04021144231702238, -0.01724985991525324], \"hovertemplate\": \"Evolution=19.0<br>PositionX=%{x}<br>PositionY=%{y}<br>size=%{marker.size}<br>Particle=%{marker.color}\", \"xaxis\": \"x\", \"ids\": [0.0, 1.0, 2.0, 3.0, 4.0, 5.0, 6.0, 7.0, 8.0, 9.0]}], \"name\": \"19.0\"}, {\"data\": [{\"legendgroup\": \"\", \"hoverlabel\": {\"namelength\": 0}, \"name\": \"\", \"mode\": \"markers\", \"marker\": {\"sizemode\": \"area\", \"coloraxis\": \"coloraxis\", \"sizeref\": 0.029585798816568046, \"size\": [5, 5, 5, 5, 5, 5, 5, 5, 5, 5], \"symbol\": \"circle\", \"color\": [0.0, 1.0, 2.0, 3.0, 4.0, 5.0, 6.0, 7.0, 8.0, 9.0]}, \"yaxis\": \"y\", \"showlegend\": false, \"type\": \"scatter\", \"y\": [0.015216544688361783, 0.06580622441724454, 0.08175142414218592, 0.052765868353458784, -0.05525707262879968, -0.02758942077715995, 0.10111303107782854, -0.01674904043045236, -0.030888101031494974, 0.06658778535772386], \"x\": [0.08229510080700395, 0.007249271666564326, -0.013913257586674176, 0.06757779835681776, -0.13297559339282417, -0.020377538019259234, 0.09130815534861111, -0.0268114443725926, -0.04021144231702238, -0.01724985991525324], \"hovertemplate\": \"Evolution=20.0<br>PositionX=%{x}<br>PositionY=%{y}<br>size=%{marker.size}<br>Particle=%{marker.color}\", \"xaxis\": \"x\", \"ids\": [0.0, 1.0, 2.0, 3.0, 4.0, 5.0, 6.0, 7.0, 8.0, 9.0]}], \"name\": \"20.0\"}, {\"data\": [{\"legendgroup\": \"\", \"hoverlabel\": {\"namelength\": 0}, \"name\": \"\", \"mode\": \"markers\", \"marker\": {\"sizemode\": \"area\", \"coloraxis\": \"coloraxis\", \"sizeref\": 0.029585798816568046, \"size\": [5, 5, 5, 5, 5, 5, 5, 5, 5, 5], \"symbol\": \"circle\", \"color\": [0.0, 1.0, 2.0, 3.0, 4.0, 5.0, 6.0, 7.0, 8.0, 9.0]}, \"yaxis\": \"y\", \"showlegend\": false, \"type\": \"scatter\", \"y\": [0.015216544688361783, -0.014905308472087903, 0.08175142414218592, 0.052765868353458784, -0.05525707262879968, -0.02758942077715995, -0.015079428063490316, -0.01674904043045236, -0.030888101031494974, -0.026610440004115096], \"x\": [0.08229510080700395, 0.007249271666564326, -0.013913257586674176, 0.06757779835681776, -0.13297559339282417, -0.020377538019259234, -0.08899792520478567, -0.0268114443725926, -0.04021144231702238, 0.028400480470083873], \"hovertemplate\": \"Evolution=21.0<br>PositionX=%{x}<br>PositionY=%{y}<br>size=%{marker.size}<br>Particle=%{marker.color}\", \"xaxis\": \"x\", \"ids\": [0.0, 1.0, 2.0, 3.0, 4.0, 5.0, 6.0, 7.0, 8.0, 9.0]}], \"name\": \"21.0\"}, {\"data\": [{\"legendgroup\": \"\", \"hoverlabel\": {\"namelength\": 0}, \"name\": \"\", \"mode\": \"markers\", \"marker\": {\"sizemode\": \"area\", \"coloraxis\": \"coloraxis\", \"sizeref\": 0.029585798816568046, \"size\": [5, 5, 5, 5, 5, 5, 5, 5, 5, 5], \"symbol\": \"circle\", \"color\": [0.0, 1.0, 2.0, 3.0, 4.0, 5.0, 6.0, 7.0, 8.0, 9.0]}, \"yaxis\": \"y\", \"showlegend\": false, \"type\": \"scatter\", \"y\": [-0.02652338020841389, -0.014905308472087903, -0.07403173446134818, 0.01438173850488076, -0.05525707262879968, -0.003553894233381663, -0.015079428063490316, -0.01674904043045236, -0.030888101031494974, -0.026610440004115096], \"x\": [0.07652407890575888, 0.007249271666564326, -0.013913257586674176, 0.06757779835681776, 0.018487760520412386, -0.020377538019259234, -0.08899792520478567, -0.0268114443725926, -0.04021144231702238, 0.028400480470083873], \"hovertemplate\": \"Evolution=22.0<br>PositionX=%{x}<br>PositionY=%{y}<br>size=%{marker.size}<br>Particle=%{marker.color}\", \"xaxis\": \"x\", \"ids\": [0.0, 1.0, 2.0, 3.0, 4.0, 5.0, 6.0, 7.0, 8.0, 9.0]}], \"name\": \"22.0\"}, {\"data\": [{\"legendgroup\": \"\", \"hoverlabel\": {\"namelength\": 0}, \"name\": \"\", \"mode\": \"markers\", \"marker\": {\"sizemode\": \"area\", \"coloraxis\": \"coloraxis\", \"sizeref\": 0.029585798816568046, \"size\": [5, 5, 5, 5, 5, 5, 5, 5, 5, 5], \"symbol\": \"circle\", \"color\": [0.0, 1.0, 2.0, 3.0, 4.0, 5.0, 6.0, 7.0, 8.0, 9.0]}, \"yaxis\": \"y\", \"showlegend\": false, \"type\": \"scatter\", \"y\": [-0.027089794270740257, -0.014905308472087903, -0.03535786782873523, 0.01438173850488076, -0.05525707262879968, -0.003553894233381663, -0.015079428063490316, -0.01674904043045236, 0.015216544688361783, -0.026610440004115096], \"x\": [0.03659887308528171, 0.007249271666564326, 0.011722411941034884, -0.05997976601211242, 0.018487760520412386, -0.020377538019259234, -0.08899792520478567, -0.0268114443725926, 0.03648455794072123, 0.028400480470083873], \"hovertemplate\": \"Evolution=23.0<br>PositionX=%{x}<br>PositionY=%{y}<br>size=%{marker.size}<br>Particle=%{marker.color}\", \"xaxis\": \"x\", \"ids\": [0.0, 1.0, 2.0, 3.0, 4.0, 5.0, 6.0, 7.0, 8.0, 9.0]}], \"name\": \"23.0\"}, {\"data\": [{\"legendgroup\": \"\", \"hoverlabel\": {\"namelength\": 0}, \"name\": \"\", \"mode\": \"markers\", \"marker\": {\"sizemode\": \"area\", \"coloraxis\": \"coloraxis\", \"sizeref\": 0.029585798816568046, \"size\": [5, 5, 5, 5, 5, 5, 5, 5, 5, 5], \"symbol\": \"circle\", \"color\": [0.0, 1.0, 2.0, 3.0, 4.0, 5.0, 6.0, 7.0, 8.0, 9.0]}, \"yaxis\": \"y\", \"showlegend\": false, \"type\": \"scatter\", \"y\": [-0.027089794270740257, -0.014905308472087903, -0.03535786782873523, 0.01438173850488076, -0.05525707262879968, -0.003553894233381663, -0.015079428063490316, -0.01674904043045236, 0.015216544688361783, -0.026610440004115096], \"x\": [0.03659887308528171, 0.007249271666564326, 0.011722411941034884, -0.05997976601211242, 0.018487760520412386, -0.020377538019259234, -0.08899792520478567, -0.0268114443725926, 0.03648455794072123, 0.028400480470083873], \"hovertemplate\": \"Evolution=24.0<br>PositionX=%{x}<br>PositionY=%{y}<br>size=%{marker.size}<br>Particle=%{marker.color}\", \"xaxis\": \"x\", \"ids\": [0.0, 1.0, 2.0, 3.0, 4.0, 5.0, 6.0, 7.0, 8.0, 9.0]}], \"name\": \"24.0\"}, {\"data\": [{\"legendgroup\": \"\", \"hoverlabel\": {\"namelength\": 0}, \"name\": \"\", \"mode\": \"markers\", \"marker\": {\"sizemode\": \"area\", \"coloraxis\": \"coloraxis\", \"sizeref\": 0.029585798816568046, \"size\": [5, 5, 5, 5, 5, 5, 5, 5, 5, 5], \"symbol\": \"circle\", \"color\": [0.0, 1.0, 2.0, 3.0, 4.0, 5.0, 6.0, 7.0, 8.0, 9.0]}, \"yaxis\": \"y\", \"showlegend\": false, \"type\": \"scatter\", \"y\": [-0.04259323256352217, -0.014905308472087903, -0.03285256118579458, 0.01438173850488076, -0.05525707262879968, -0.0005384622618950022, -0.015079428063490316, -0.01674904043045236, 0.015216544688361783, -0.026610440004115096], \"x\": [-0.003247520686573045, 0.007249271666564326, 0.002288679492518493, 0.02180975723136254, 0.018487760520412386, -0.020377538019259234, -0.08899792520478567, -0.0268114443725926, 0.01968750223868774, 0.028400480470083873], \"hovertemplate\": \"Evolution=25.0<br>PositionX=%{x}<br>PositionY=%{y}<br>size=%{marker.size}<br>Particle=%{marker.color}\", \"xaxis\": \"x\", \"ids\": [0.0, 1.0, 2.0, 3.0, 4.0, 5.0, 6.0, 7.0, 8.0, 9.0]}], \"name\": \"25.0\"}, {\"data\": [{\"legendgroup\": \"\", \"hoverlabel\": {\"namelength\": 0}, \"name\": \"\", \"mode\": \"markers\", \"marker\": {\"sizemode\": \"area\", \"coloraxis\": \"coloraxis\", \"sizeref\": 0.029585798816568046, \"size\": [5, 5, 5, 5, 5, 5, 5, 5, 5, 5], \"symbol\": \"circle\", \"color\": [0.0, 1.0, 2.0, 3.0, 4.0, 5.0, 6.0, 7.0, 8.0, 9.0]}, \"yaxis\": \"y\", \"showlegend\": false, \"type\": \"scatter\", \"y\": [-0.04052648934461414, -0.014905308472087903, -0.03285256118579458, 0.01438173850488076, -0.0058108404624518, -0.0005384622618950022, -0.015079428063490316, -0.01674904043045236, 0.015216544688361783, -0.015599388842119845], \"x\": [-0.003247520686573045, 0.007249271666564326, 0.002288679492518493, 0.02180975723136254, 0.028252510905030833, -0.020377538019259234, -0.08899792520478567, -0.0268114443725926, 0.01968750223868774, -0.02659665330532094], \"hovertemplate\": \"Evolution=26.0<br>PositionX=%{x}<br>PositionY=%{y}<br>size=%{marker.size}<br>Particle=%{marker.color}\", \"xaxis\": \"x\", \"ids\": [0.0, 1.0, 2.0, 3.0, 4.0, 5.0, 6.0, 7.0, 8.0, 9.0]}], \"name\": \"26.0\"}, {\"data\": [{\"legendgroup\": \"\", \"hoverlabel\": {\"namelength\": 0}, \"name\": \"\", \"mode\": \"markers\", \"marker\": {\"sizemode\": \"area\", \"coloraxis\": \"coloraxis\", \"sizeref\": 0.029585798816568046, \"size\": [5, 5, 5, 5, 5, 5, 5, 5, 5, 5], \"symbol\": \"circle\", \"color\": [0.0, 1.0, 2.0, 3.0, 4.0, 5.0, 6.0, 7.0, 8.0, 9.0]}, \"yaxis\": \"y\", \"showlegend\": false, \"type\": \"scatter\", \"y\": [-0.02045436395093613, -0.014905308472087903, -0.03285256118579458, 0.01438173850488076, -0.0058108404624518, -0.01649193640753596, -0.015079428063490316, -0.01674904043045236, 0.015216544688361783, -0.015599388842119845], \"x\": [0.020972268122631726, 0.007249271666564326, 0.002288679492518493, 0.02180975723136254, 0.028252510905030833, 0.005451890686511578, -0.08899792520478567, -0.0268114443725926, 0.01968750223868774, -0.02659665330532094], \"hovertemplate\": \"Evolution=27.0<br>PositionX=%{x}<br>PositionY=%{y}<br>size=%{marker.size}<br>Particle=%{marker.color}\", \"xaxis\": \"x\", \"ids\": [0.0, 1.0, 2.0, 3.0, 4.0, 5.0, 6.0, 7.0, 8.0, 9.0]}], \"name\": \"27.0\"}, {\"data\": [{\"legendgroup\": \"\", \"hoverlabel\": {\"namelength\": 0}, \"name\": \"\", \"mode\": \"markers\", \"marker\": {\"sizemode\": \"area\", \"coloraxis\": \"coloraxis\", \"sizeref\": 0.029585798816568046, \"size\": [5, 5, 5, 5, 5, 5, 5, 5, 5, 5], \"symbol\": \"circle\", \"color\": [0.0, 1.0, 2.0, 3.0, 4.0, 5.0, 6.0, 7.0, 8.0, 9.0]}, \"yaxis\": \"y\", \"showlegend\": false, \"type\": \"scatter\", \"y\": [0.009834504500062709, -0.014905308472087903, -0.014459034689379846, 0.01438173850488076, -0.0058108404624518, -0.01649193640753596, -0.02003696085919562, -0.01674904043045236, 0.015216544688361783, -0.015599388842119845], \"x\": [0.011308137612129286, 0.007249271666564326, -0.008775000329351933, 0.02180975723136254, -0.0043086481829104455, 0.005451890686511578, 0.019911140626294326, -0.0268114443725926, 0.007990352416375556, -0.02659665330532094], \"hovertemplate\": \"Evolution=28.0<br>PositionX=%{x}<br>PositionY=%{y}<br>size=%{marker.size}<br>Particle=%{marker.color}\", \"xaxis\": \"x\", \"ids\": [0.0, 1.0, 2.0, 3.0, 4.0, 5.0, 6.0, 7.0, 8.0, 9.0]}], \"name\": \"28.0\"}, {\"data\": [{\"legendgroup\": \"\", \"hoverlabel\": {\"namelength\": 0}, \"name\": \"\", \"mode\": \"markers\", \"marker\": {\"sizemode\": \"area\", \"coloraxis\": \"coloraxis\", \"sizeref\": 0.029585798816568046, \"size\": [5, 5, 5, 5, 5, 5, 5, 5, 5, 5], \"symbol\": \"circle\", \"color\": [0.0, 1.0, 2.0, 3.0, 4.0, 5.0, 6.0, 7.0, 8.0, 9.0]}, \"yaxis\": \"y\", \"showlegend\": false, \"type\": \"scatter\", \"y\": [0.009834504500062709, -0.005003285188808106, -0.014459034689379846, 0.015087992676903582, -0.0058108404624518, -0.01649193640753596, -0.004585882097067595, 0.012623467584970596, 0.015216544688361783, -0.015599388842119845], \"x\": [0.011308137612129286, 0.007249271666564326, -0.008775000329351933, -0.008141315113176532, -0.0043086481829104455, 0.005451890686511578, 0.019911140626294326, -0.0030349328656938436, 0.007990352416375556, -0.02659665330532094], \"hovertemplate\": \"Evolution=29.0<br>PositionX=%{x}<br>PositionY=%{y}<br>size=%{marker.size}<br>Particle=%{marker.color}\", \"xaxis\": \"x\", \"ids\": [0.0, 1.0, 2.0, 3.0, 4.0, 5.0, 6.0, 7.0, 8.0, 9.0]}], \"name\": \"29.0\"}, {\"data\": [{\"legendgroup\": \"\", \"hoverlabel\": {\"namelength\": 0}, \"name\": \"\", \"mode\": \"markers\", \"marker\": {\"sizemode\": \"area\", \"coloraxis\": \"coloraxis\", \"sizeref\": 0.029585798816568046, \"size\": [5, 5, 5, 5, 5, 5, 5, 5, 5, 5], \"symbol\": \"circle\", \"color\": [0.0, 1.0, 2.0, 3.0, 4.0, 5.0, 6.0, 7.0, 8.0, 9.0]}, \"yaxis\": \"y\", \"showlegend\": false, \"type\": \"scatter\", \"y\": [0.009834504500062709, -0.005003285188808106, 0.011066767046029203, 0.00014199265321827512, -0.0058108404624518, -0.01649193640753596, -0.011764061657250089, 0.012623467584970596, 0.004940230310228687, 0.013639918444048653], \"x\": [0.011308137612129286, 0.007249271666564326, -0.008775000329351933, -0.008141315113176532, -0.0043086481829104455, 0.005451890686511578, 0.013464026684469707, 0.0002413612596872134, 0.00016413505092403857, -0.02659665330532094], \"hovertemplate\": \"Evolution=30.0<br>PositionX=%{x}<br>PositionY=%{y}<br>size=%{marker.size}<br>Particle=%{marker.color}\", \"xaxis\": \"x\", \"ids\": [0.0, 1.0, 2.0, 3.0, 4.0, 5.0, 6.0, 7.0, 8.0, 9.0]}], \"name\": \"30.0\"}, {\"data\": [{\"legendgroup\": \"\", \"hoverlabel\": {\"namelength\": 0}, \"name\": \"\", \"mode\": \"markers\", \"marker\": {\"sizemode\": \"area\", \"coloraxis\": \"coloraxis\", \"sizeref\": 0.029585798816568046, \"size\": [5, 5, 5, 5, 5, 5, 5, 5, 5, 5], \"symbol\": \"circle\", \"color\": [0.0, 1.0, 2.0, 3.0, 4.0, 5.0, 6.0, 7.0, 8.0, 9.0]}, \"yaxis\": \"y\", \"showlegend\": false, \"type\": \"scatter\", \"y\": [0.009834504500062709, -0.005003285188808106, 0.011066767046029203, 0.00014199265321827512, -0.00036623277632075353, 0.00916406007403623, -0.011764061657250089, 0.012623467584970596, 0.004940230310228687, 0.013639918444048653], \"x\": [0.011308137612129286, 0.007249271666564326, -0.008644976174002863, -0.008141315113176532, -0.0043086481829104455, 0.010177395129373181, 0.013464026684469707, 0.0002413612596872134, 0.00016413505092403857, -0.0021250545125790984], \"hovertemplate\": \"Evolution=31.0<br>PositionX=%{x}<br>PositionY=%{y}<br>size=%{marker.size}<br>Particle=%{marker.color}\", \"xaxis\": \"x\", \"ids\": [0.0, 1.0, 2.0, 3.0, 4.0, 5.0, 6.0, 7.0, 8.0, 9.0]}], \"name\": \"31.0\"}, {\"data\": [{\"legendgroup\": \"\", \"hoverlabel\": {\"namelength\": 0}, \"name\": \"\", \"mode\": \"markers\", \"marker\": {\"sizemode\": \"area\", \"coloraxis\": \"coloraxis\", \"sizeref\": 0.029585798816568046, \"size\": [5, 5, 5, 5, 5, 5, 5, 5, 5, 5], \"symbol\": \"circle\", \"color\": [0.0, 1.0, 2.0, 3.0, 4.0, 5.0, 6.0, 7.0, 8.0, 9.0]}, \"yaxis\": \"y\", \"showlegend\": false, \"type\": \"scatter\", \"y\": [0.00651082853076151, -0.005003285188808106, -0.0052124886997429705, 0.00014199265321827512, -0.00036623277632075353, 0.00916406007403623, -0.006606970242196914, -0.002511238890056445, 0.004940230310228687, 0.013639918444048653], \"x\": [0.011308137612129286, 0.007249271666564326, -0.008644976174002863, -0.008141315113176532, -0.0043086481829104455, 0.010177395129373181, -0.008499986369342318, 0.0002413612596872134, 0.00016413505092403857, -0.0021250545125790984], \"hovertemplate\": \"Evolution=32.0<br>PositionX=%{x}<br>PositionY=%{y}<br>size=%{marker.size}<br>Particle=%{marker.color}\", \"xaxis\": \"x\", \"ids\": [0.0, 1.0, 2.0, 3.0, 4.0, 5.0, 6.0, 7.0, 8.0, 9.0]}], \"name\": \"32.0\"}, {\"data\": [{\"legendgroup\": \"\", \"hoverlabel\": {\"namelength\": 0}, \"name\": \"\", \"mode\": \"markers\", \"marker\": {\"sizemode\": \"area\", \"coloraxis\": \"coloraxis\", \"sizeref\": 0.029585798816568046, \"size\": [5, 5, 5, 5, 5, 5, 5, 5, 5, 5], \"symbol\": \"circle\", \"color\": [0.0, 1.0, 2.0, 3.0, 4.0, 5.0, 6.0, 7.0, 8.0, 9.0]}, \"yaxis\": \"y\", \"showlegend\": false, \"type\": \"scatter\", \"y\": [0.00651082853076151, -0.005188479566537068, -0.0020959365317879362, 0.00014199265321827512, -0.00036623277632075353, 0.0014926175580615379, 0.008668160694530257, -0.002511238890056445, 0.004940230310228687, 0.013639918444048653], \"x\": [0.011308137612129286, -1.0469270725952003e-05, -0.008644976174002863, -0.008141315113176532, -0.0043086481829104455, -0.003698146396331494, 0.0014175137952410453, 0.0002413612596872134, 0.00016413505092403857, -0.0021250545125790984], \"hovertemplate\": \"Evolution=33.0<br>PositionX=%{x}<br>PositionY=%{y}<br>size=%{marker.size}<br>Particle=%{marker.color}\", \"xaxis\": \"x\", \"ids\": [0.0, 1.0, 2.0, 3.0, 4.0, 5.0, 6.0, 7.0, 8.0, 9.0]}], \"name\": \"33.0\"}, {\"data\": [{\"legendgroup\": \"\", \"hoverlabel\": {\"namelength\": 0}, \"name\": \"\", \"mode\": \"markers\", \"marker\": {\"sizemode\": \"area\", \"coloraxis\": \"coloraxis\", \"sizeref\": 0.029585798816568046, \"size\": [5, 5, 5, 5, 5, 5, 5, 5, 5, 5], \"symbol\": \"circle\", \"color\": [0.0, 1.0, 2.0, 3.0, 4.0, 5.0, 6.0, 7.0, 8.0, 9.0]}, \"yaxis\": \"y\", \"showlegend\": false, \"type\": \"scatter\", \"y\": [0.00651082853076151, -0.005188479566537068, -0.0020959365317879362, 0.00014199265321827512, -0.00036623277632075353, 0.0014926175580615379, -0.004749168075062656, -0.002511238890056445, 0.004940230310228687, 0.013639918444048653], \"x\": [-0.0005522400327683083, -1.0469270725952003e-05, -0.008644976174002863, -0.008141315113176532, -0.0043086481829104455, -0.003698146396331494, 0.0014175137952410453, 0.0002413612596872134, 0.00016413505092403857, -0.0021250545125790984], \"hovertemplate\": \"Evolution=34.0<br>PositionX=%{x}<br>PositionY=%{y}<br>size=%{marker.size}<br>Particle=%{marker.color}\", \"xaxis\": \"x\", \"ids\": [0.0, 1.0, 2.0, 3.0, 4.0, 5.0, 6.0, 7.0, 8.0, 9.0]}], \"name\": \"34.0\"}, {\"data\": [{\"legendgroup\": \"\", \"hoverlabel\": {\"namelength\": 0}, \"name\": \"\", \"mode\": \"markers\", \"marker\": {\"sizemode\": \"area\", \"coloraxis\": \"coloraxis\", \"sizeref\": 0.029585798816568046, \"size\": [5, 5, 5, 5, 5, 5, 5, 5, 5, 5], \"symbol\": \"circle\", \"color\": [0.0, 1.0, 2.0, 3.0, 4.0, 5.0, 6.0, 7.0, 8.0, 9.0]}, \"yaxis\": \"y\", \"showlegend\": false, \"type\": \"scatter\", \"y\": [-0.0020494749961526763, -0.005188479566537068, -0.0020959365317879362, -0.006307444159040174, -0.00036623277632075353, 0.0014926175580615379, -0.004749168075062656, -0.002511238890056445, -0.00010011549494828766, 0.007131697959599639], \"x\": [-0.005278234124100787, -1.0469270725952003e-05, -0.008644976174002863, 0.000577606997050964, 0.0013473429370571945, -0.003698146396331494, 0.0014175137952410453, 0.0002413612596872134, -0.0019077281964050333, -0.002698945938151707], \"hovertemplate\": \"Evolution=35.0<br>PositionX=%{x}<br>PositionY=%{y}<br>size=%{marker.size}<br>Particle=%{marker.color}\", \"xaxis\": \"x\", \"ids\": [0.0, 1.0, 2.0, 3.0, 4.0, 5.0, 6.0, 7.0, 8.0, 9.0]}], \"name\": \"35.0\"}, {\"data\": [{\"legendgroup\": \"\", \"hoverlabel\": {\"namelength\": 0}, \"name\": \"\", \"mode\": \"markers\", \"marker\": {\"sizemode\": \"area\", \"coloraxis\": \"coloraxis\", \"sizeref\": 0.029585798816568046, \"size\": [5, 5, 5, 5, 5, 5, 5, 5, 5, 5], \"symbol\": \"circle\", \"color\": [0.0, 1.0, 2.0, 3.0, 4.0, 5.0, 6.0, 7.0, 8.0, 9.0]}, \"yaxis\": \"y\", \"showlegend\": false, \"type\": \"scatter\", \"y\": [-0.0020494749961526763, -0.0003670111417090269, 0.0003736529655584322, -0.006307444159040174, -0.00036623277632075353, 0.0014926175580615379, -0.004737941873847978, -0.002511238890056445, -0.00010011549494828766, -0.00014657703058354758], \"x\": [-0.005278234124100787, -0.0014806228696454121, -0.003110070128554578, 0.000577606997050964, 0.0013473429370571945, -0.003698146396331494, 0.0014175137952410453, 0.0002413612596872134, -0.0019077281964050333, 0.002061334470040693], \"hovertemplate\": \"Evolution=36.0<br>PositionX=%{x}<br>PositionY=%{y}<br>size=%{marker.size}<br>Particle=%{marker.color}\", \"xaxis\": \"x\", \"ids\": [0.0, 1.0, 2.0, 3.0, 4.0, 5.0, 6.0, 7.0, 8.0, 9.0]}], \"name\": \"36.0\"}, {\"data\": [{\"legendgroup\": \"\", \"hoverlabel\": {\"namelength\": 0}, \"name\": \"\", \"mode\": \"markers\", \"marker\": {\"sizemode\": \"area\", \"coloraxis\": \"coloraxis\", \"sizeref\": 0.029585798816568046, \"size\": [5, 5, 5, 5, 5, 5, 5, 5, 5, 5], \"symbol\": \"circle\", \"color\": [0.0, 1.0, 2.0, 3.0, 4.0, 5.0, 6.0, 7.0, 8.0, 9.0]}, \"yaxis\": \"y\", \"showlegend\": false, \"type\": \"scatter\", \"y\": [-0.0020494749961526763, -0.0003670111417090269, -0.0014395141985768726, -0.00021555646842422952, -0.00036623277632075353, 0.0014926175580615379, 0.0005924254419894981, -0.0002800248539639172, -0.00010011549494828766, -0.00014657703058354758], \"x\": [-0.0004263247675617256, -0.0014806228696454121, -0.0020336137083304027, 0.000577606997050964, 0.0013473429370571945, -0.003698146396331494, -0.0010013063370407852, 0.0022748871334205036, -0.0019077281964050333, 0.002061334470040693], \"hovertemplate\": \"Evolution=37.0<br>PositionX=%{x}<br>PositionY=%{y}<br>size=%{marker.size}<br>Particle=%{marker.color}\", \"xaxis\": \"x\", \"ids\": [0.0, 1.0, 2.0, 3.0, 4.0, 5.0, 6.0, 7.0, 8.0, 9.0]}], \"name\": \"37.0\"}, {\"data\": [{\"legendgroup\": \"\", \"hoverlabel\": {\"namelength\": 0}, \"name\": \"\", \"mode\": \"markers\", \"marker\": {\"sizemode\": \"area\", \"coloraxis\": \"coloraxis\", \"sizeref\": 0.029585798816568046, \"size\": [5, 5, 5, 5, 5, 5, 5, 5, 5, 5], \"symbol\": \"circle\", \"color\": [0.0, 1.0, 2.0, 3.0, 4.0, 5.0, 6.0, 7.0, 8.0, 9.0]}, \"yaxis\": \"y\", \"showlegend\": false, \"type\": \"scatter\", \"y\": [-0.0001323496877181315, -0.0003670111417090269, -0.0014395141985768726, -0.00021555646842422952, -0.00036623277632075353, -0.0010134797257056894, 0.0005924254419894981, -0.00029167298776076487, -0.00010011549494828766, -0.00014657703058354758], \"x\": [-0.0004263247675617256, -0.0008592890712814127, -0.0020336137083304027, 0.000577606997050964, 0.0013473429370571945, -0.003698146396331494, -2.9973194872075486e-05, -0.0018654908396485274, -0.0019077281964050333, 0.002061334470040693], \"hovertemplate\": \"Evolution=38.0<br>PositionX=%{x}<br>PositionY=%{y}<br>size=%{marker.size}<br>Particle=%{marker.color}\", \"xaxis\": \"x\", \"ids\": [0.0, 1.0, 2.0, 3.0, 4.0, 5.0, 6.0, 7.0, 8.0, 9.0]}], \"name\": \"38.0\"}, {\"data\": [{\"legendgroup\": \"\", \"hoverlabel\": {\"namelength\": 0}, \"name\": \"\", \"mode\": \"markers\", \"marker\": {\"sizemode\": \"area\", \"coloraxis\": \"coloraxis\", \"sizeref\": 0.029585798816568046, \"size\": [5, 5, 5, 5, 5, 5, 5, 5, 5, 5], \"symbol\": \"circle\", \"color\": [0.0, 1.0, 2.0, 3.0, 4.0, 5.0, 6.0, 7.0, 8.0, 9.0]}, \"yaxis\": \"y\", \"showlegend\": false, \"type\": \"scatter\", \"y\": [-0.0001323496877181315, -0.0003670111417090269, 0.0003404495240454913, -0.00021555646842422952, -0.00036623277632075353, -0.0002936847977321449, 0.0005924254419894981, -0.00029167298776076487, -0.00010011549494828766, -0.00014657703058354758], \"x\": [-0.0004263247675617256, -0.0008592890712814127, -0.0002718173820201492, 0.000577606997050964, 0.0013473429370571945, 0.0033107555919018048, -2.9973194872075486e-05, -0.0018654908396485274, -0.0019077281964050333, 0.002061334470040693], \"hovertemplate\": \"Evolution=39.0<br>PositionX=%{x}<br>PositionY=%{y}<br>size=%{marker.size}<br>Particle=%{marker.color}\", \"xaxis\": \"x\", \"ids\": [0.0, 1.0, 2.0, 3.0, 4.0, 5.0, 6.0, 7.0, 8.0, 9.0]}], \"name\": \"39.0\"}, {\"data\": [{\"legendgroup\": \"\", \"hoverlabel\": {\"namelength\": 0}, \"name\": \"\", \"mode\": \"markers\", \"marker\": {\"sizemode\": \"area\", \"coloraxis\": \"coloraxis\", \"sizeref\": 0.029585798816568046, \"size\": [5, 5, 5, 5, 5, 5, 5, 5, 5, 5], \"symbol\": \"circle\", \"color\": [0.0, 1.0, 2.0, 3.0, 4.0, 5.0, 6.0, 7.0, 8.0, 9.0]}, \"yaxis\": \"y\", \"showlegend\": false, \"type\": \"scatter\", \"y\": [-0.0001323496877181315, -0.0003670111417090269, 0.0003404495240454913, -0.00021555646842422952, -0.00017040794738639917, -9.429142804986382e-05, 0.0005924254419894981, -0.00029167298776076487, -0.00010011549494828766, -0.00033651510083009906], \"x\": [-0.0004263247675617256, -0.0008592890712814127, -0.0002718173820201492, 0.000577606997050964, 0.0013473429370571945, 0.0007952241507880201, -2.9973194872075486e-05, -0.0018654908396485274, -0.0019077281964050333, -0.0019849818891758218], \"hovertemplate\": \"Evolution=40.0<br>PositionX=%{x}<br>PositionY=%{y}<br>size=%{marker.size}<br>Particle=%{marker.color}\", \"xaxis\": \"x\", \"ids\": [0.0, 1.0, 2.0, 3.0, 4.0, 5.0, 6.0, 7.0, 8.0, 9.0]}], \"name\": \"40.0\"}, {\"data\": [{\"legendgroup\": \"\", \"hoverlabel\": {\"namelength\": 0}, \"name\": \"\", \"mode\": \"markers\", \"marker\": {\"sizemode\": \"area\", \"coloraxis\": \"coloraxis\", \"sizeref\": 0.029585798816568046, \"size\": [5, 5, 5, 5, 5, 5, 5, 5, 5, 5], \"symbol\": \"circle\", \"color\": [0.0, 1.0, 2.0, 3.0, 4.0, 5.0, 6.0, 7.0, 8.0, 9.0]}, \"yaxis\": \"y\", \"showlegend\": false, \"type\": \"scatter\", \"y\": [-0.0001323496877181315, -0.0003670111417090269, -0.0001733199808356111, -0.00026832036185357635, 0.000309699527157, -9.429142804986382e-05, 0.0005924254419894981, -0.00029167298776076487, -0.00010011549494828766, -0.00033651510083009906], \"x\": [-0.0004263247675617256, -0.0008592890712814127, -4.1332365393323064e-06, 0.00047106842393686114, 0.0004914340548265003, 0.0007952241507880201, -2.9973194872075486e-05, -0.0001502653744271384, -0.001253581378596442, 0.0014561515139257224], \"hovertemplate\": \"Evolution=41.0<br>PositionX=%{x}<br>PositionY=%{y}<br>size=%{marker.size}<br>Particle=%{marker.color}\", \"xaxis\": \"x\", \"ids\": [0.0, 1.0, 2.0, 3.0, 4.0, 5.0, 6.0, 7.0, 8.0, 9.0]}], \"name\": \"41.0\"}, {\"data\": [{\"legendgroup\": \"\", \"hoverlabel\": {\"namelength\": 0}, \"name\": \"\", \"mode\": \"markers\", \"marker\": {\"sizemode\": \"area\", \"coloraxis\": \"coloraxis\", \"sizeref\": 0.029585798816568046, \"size\": [5, 5, 5, 5, 5, 5, 5, 5, 5, 5], \"symbol\": \"circle\", \"color\": [0.0, 1.0, 2.0, 3.0, 4.0, 5.0, 6.0, 7.0, 8.0, 9.0]}, \"yaxis\": \"y\", \"showlegend\": false, \"type\": \"scatter\", \"y\": [-0.00036516594229028424, -0.0003670111417090269, -0.0001733199808356111, -0.00026832036185357635, -0.0001895902812047811, -0.0006066756962865898, -0.0002871697109023738, -0.00029167298776076487, -0.00010011549494828766, -0.00016227676511758625], \"x\": [4.349050656582095e-05, -0.0008592890712814127, -4.1332365393323064e-06, 0.00047106842393686114, 0.0004914340548265003, -0.00020429313911709537, -2.9973194872075486e-05, -0.0001502653744271384, -0.0006091447856212514, 0.0012439207465373134], \"hovertemplate\": \"Evolution=42.0<br>PositionX=%{x}<br>PositionY=%{y}<br>size=%{marker.size}<br>Particle=%{marker.color}\", \"xaxis\": \"x\", \"ids\": [0.0, 1.0, 2.0, 3.0, 4.0, 5.0, 6.0, 7.0, 8.0, 9.0]}], \"name\": \"42.0\"}, {\"data\": [{\"legendgroup\": \"\", \"hoverlabel\": {\"namelength\": 0}, \"name\": \"\", \"mode\": \"markers\", \"marker\": {\"sizemode\": \"area\", \"coloraxis\": \"coloraxis\", \"sizeref\": 0.029585798816568046, \"size\": [5, 5, 5, 5, 5, 5, 5, 5, 5, 5], \"symbol\": \"circle\", \"color\": [0.0, 1.0, 2.0, 3.0, 4.0, 5.0, 6.0, 7.0, 8.0, 9.0]}, \"yaxis\": \"y\", \"showlegend\": false, \"type\": \"scatter\", \"y\": [-0.00036516594229028424, -4.709369658029261e-05, -0.0001733199808356111, -0.00026832036185357635, -0.0001895902812047811, -0.0003346699014113564, -0.0002871697109023738, -0.00029167298776076487, -0.00010011549494828766, -9.606317322773803e-05], \"x\": [4.349050656582095e-05, -0.0008592890712814127, -4.1332365393323064e-06, -0.0002777568405549918, -0.0004187911747440009, 0.00020762763536602124, -2.9973194872075486e-05, -0.0001502653744271384, -0.0006091447856212514, 0.0002018482594519124], \"hovertemplate\": \"Evolution=43.0<br>PositionX=%{x}<br>PositionY=%{y}<br>size=%{marker.size}<br>Particle=%{marker.color}\", \"xaxis\": \"x\", \"ids\": [0.0, 1.0, 2.0, 3.0, 4.0, 5.0, 6.0, 7.0, 8.0, 9.0]}], \"name\": \"43.0\"}, {\"data\": [{\"legendgroup\": \"\", \"hoverlabel\": {\"namelength\": 0}, \"name\": \"\", \"mode\": \"markers\", \"marker\": {\"sizemode\": \"area\", \"coloraxis\": \"coloraxis\", \"sizeref\": 0.029585798816568046, \"size\": [5, 5, 5, 5, 5, 5, 5, 5, 5, 5], \"symbol\": \"circle\", \"color\": [0.0, 1.0, 2.0, 3.0, 4.0, 5.0, 6.0, 7.0, 8.0, 9.0]}, \"yaxis\": \"y\", \"showlegend\": false, \"type\": \"scatter\", \"y\": [-0.00036516594229028424, -4.709369658029261e-05, -0.0001733199808356111, -3.2950031100078785e-05, -0.0001895902812047811, -3.688666976516114e-05, -0.0002871697109023738, -0.00029167298776076487, -0.00038722625659808274, -9.606317322773803e-05], \"x\": [4.349050656582095e-05, -0.0008592890712814127, -4.1332365393323064e-06, -0.0002257296579191278, 0.0001685626493959016, 0.00020762763536602124, -2.9973194872075486e-05, -0.0001502653744271384, -0.0002661761015891323, 0.0002018482594519124], \"hovertemplate\": \"Evolution=44.0<br>PositionX=%{x}<br>PositionY=%{y}<br>size=%{marker.size}<br>Particle=%{marker.color}\", \"xaxis\": \"x\", \"ids\": [0.0, 1.0, 2.0, 3.0, 4.0, 5.0, 6.0, 7.0, 8.0, 9.0]}], \"name\": \"44.0\"}, {\"data\": [{\"legendgroup\": \"\", \"hoverlabel\": {\"namelength\": 0}, \"name\": \"\", \"mode\": \"markers\", \"marker\": {\"sizemode\": \"area\", \"coloraxis\": \"coloraxis\", \"sizeref\": 0.029585798816568046, \"size\": [5, 5, 5, 5, 5, 5, 5, 5, 5, 5], \"symbol\": \"circle\", \"color\": [0.0, 1.0, 2.0, 3.0, 4.0, 5.0, 6.0, 7.0, 8.0, 9.0]}, \"yaxis\": \"y\", \"showlegend\": false, \"type\": \"scatter\", \"y\": [-0.00036516594229028424, -0.00029364130709330606, -0.0001733199808356111, -3.2950031100078785e-05, -0.0001895902812047811, 0.00011263151058509356, -9.487033099895155e-05, -0.00029167298776076487, -0.00038722625659808274, -3.9138308194356676e-05], \"x\": [4.349050656582095e-05, 6.641327221543612e-05, -4.1332365393323064e-06, -0.0002257296579191278, 0.0001685626493959016, 8.282522601394559e-06, -2.9973194872075486e-05, -0.0001502653744271384, 0.00013047684570314207, 0.00014748154558848978], \"hovertemplate\": \"Evolution=45.0<br>PositionX=%{x}<br>PositionY=%{y}<br>size=%{marker.size}<br>Particle=%{marker.color}\", \"xaxis\": \"x\", \"ids\": [0.0, 1.0, 2.0, 3.0, 4.0, 5.0, 6.0, 7.0, 8.0, 9.0]}], \"name\": \"45.0\"}, {\"data\": [{\"legendgroup\": \"\", \"hoverlabel\": {\"namelength\": 0}, \"name\": \"\", \"mode\": \"markers\", \"marker\": {\"sizemode\": \"area\", \"coloraxis\": \"coloraxis\", \"sizeref\": 0.029585798816568046, \"size\": [5, 5, 5, 5, 5, 5, 5, 5, 5, 5], \"symbol\": \"circle\", \"color\": [0.0, 1.0, 2.0, 3.0, 4.0, 5.0, 6.0, 7.0, 8.0, 9.0]}, \"yaxis\": \"y\", \"showlegend\": false, \"type\": \"scatter\", \"y\": [-0.00022113767078215564, -0.00029364130709330606, -0.0001733199808356111, -3.2950031100078785e-05, -0.0001895902812047811, 0.00011263151058509356, -9.487033099895155e-05, -0.00029167298776076487, -0.00038722625659808274, -3.9138308194356676e-05], \"x\": [-0.00017884665487988958, 6.641327221543612e-05, -4.1332365393323064e-06, -0.0002257296579191278, 0.0001566324068817333, 8.282522601394559e-06, -2.9973194872075486e-05, -3.231688449809009e-05, 0.00013047684570314207, 4.9698386136184385e-05], \"hovertemplate\": \"Evolution=46.0<br>PositionX=%{x}<br>PositionY=%{y}<br>size=%{marker.size}<br>Particle=%{marker.color}\", \"xaxis\": \"x\", \"ids\": [0.0, 1.0, 2.0, 3.0, 4.0, 5.0, 6.0, 7.0, 8.0, 9.0]}], \"name\": \"46.0\"}, {\"data\": [{\"legendgroup\": \"\", \"hoverlabel\": {\"namelength\": 0}, \"name\": \"\", \"mode\": \"markers\", \"marker\": {\"sizemode\": \"area\", \"coloraxis\": \"coloraxis\", \"sizeref\": 0.029585798816568046, \"size\": [5, 5, 5, 5, 5, 5, 5, 5, 5, 5], \"symbol\": \"circle\", \"color\": [0.0, 1.0, 2.0, 3.0, 4.0, 5.0, 6.0, 7.0, 8.0, 9.0]}, \"yaxis\": \"y\", \"showlegend\": false, \"type\": \"scatter\", \"y\": [-0.00022109661525427003, -0.00014549502496119927, -0.0001733199808356111, -0.00011370537181505598, -0.00011192907903694285, 0.00011263151058509356, 5.495551164668176e-05, -0.0002485459673408233, -0.00025164010588796227, -3.9138308194356676e-05], \"x\": [7.726362856128377e-05, 6.641327221543612e-05, -4.1332365393323064e-06, 0.00013592447511433838, -6.730770412407679e-05, 8.282522601394559e-06, 2.6256884616565276e-05, -3.231688449809009e-05, 0.00018704779586109824, 5.300059505308728e-06], \"hovertemplate\": \"Evolution=47.0<br>PositionX=%{x}<br>PositionY=%{y}<br>size=%{marker.size}<br>Particle=%{marker.color}\", \"xaxis\": \"x\", \"ids\": [0.0, 1.0, 2.0, 3.0, 4.0, 5.0, 6.0, 7.0, 8.0, 9.0]}], \"name\": \"47.0\"}, {\"data\": [{\"legendgroup\": \"\", \"hoverlabel\": {\"namelength\": 0}, \"name\": \"\", \"mode\": \"markers\", \"marker\": {\"sizemode\": \"area\", \"coloraxis\": \"coloraxis\", \"sizeref\": 0.029585798816568046, \"size\": [5, 5, 5, 5, 5, 5, 5, 5, 5, 5], \"symbol\": \"circle\", \"color\": [0.0, 1.0, 2.0, 3.0, 4.0, 5.0, 6.0, 7.0, 8.0, 9.0]}, \"yaxis\": \"y\", \"showlegend\": false, \"type\": \"scatter\", \"y\": [0.00010648098283649377, -2.092939774304335e-05, -0.0001733199808356111, -0.00011370537181505598, -0.00011192907903694285, 0.00011263151058509356, 5.495551164668176e-05, -0.0002485459673408233, -0.00025164010588796227, -3.9138308194356676e-05], \"x\": [7.562196297332838e-05, 2.476565306852236e-05, -4.1332365393323064e-06, 0.00013592447511433838, -6.730770412407679e-05, 8.282522601394559e-06, 2.438716951361038e-06, -3.231688449809009e-05, -9.659458868140448e-05, 5.300059505308728e-06], \"hovertemplate\": \"Evolution=48.0<br>PositionX=%{x}<br>PositionY=%{y}<br>size=%{marker.size}<br>Particle=%{marker.color}\", \"xaxis\": \"x\", \"ids\": [0.0, 1.0, 2.0, 3.0, 4.0, 5.0, 6.0, 7.0, 8.0, 9.0]}], \"name\": \"48.0\"}, {\"data\": [{\"legendgroup\": \"\", \"hoverlabel\": {\"namelength\": 0}, \"name\": \"\", \"mode\": \"markers\", \"marker\": {\"sizemode\": \"area\", \"coloraxis\": \"coloraxis\", \"sizeref\": 0.029585798816568046, \"size\": [5, 5, 5, 5, 5, 5, 5, 5, 5, 5], \"symbol\": \"circle\", \"color\": [0.0, 1.0, 2.0, 3.0, 4.0, 5.0, 6.0, 7.0, 8.0, 9.0]}, \"yaxis\": \"y\", \"showlegend\": false, \"type\": \"scatter\", \"y\": [0.00010648098283649377, -2.092939774304335e-05, -0.0001733199808356111, 6.3615324525930725e-06, -0.00011192907903694285, 0.00011263151058509356, 5.495551164668176e-05, -1.7854133868743458e-05, -0.00025164010588796227, -3.9138308194356676e-05], \"x\": [7.562196297332838e-05, 2.476565306852236e-05, -4.1332365393323064e-06, 5.13367381016083e-05, -6.730770412407679e-05, 8.282522601394559e-06, 2.438716951361038e-06, -3.231688449809009e-05, 2.2738420501103364e-05, 5.300059505308728e-06], \"hovertemplate\": \"Evolution=49.0<br>PositionX=%{x}<br>PositionY=%{y}<br>size=%{marker.size}<br>Particle=%{marker.color}\", \"xaxis\": \"x\", \"ids\": [0.0, 1.0, 2.0, 3.0, 4.0, 5.0, 6.0, 7.0, 8.0, 9.0]}], \"name\": \"49.0\"}, {\"data\": [{\"legendgroup\": \"\", \"hoverlabel\": {\"namelength\": 0}, \"name\": \"\", \"mode\": \"markers\", \"marker\": {\"sizemode\": \"area\", \"coloraxis\": \"coloraxis\", \"sizeref\": 0.029585798816568046, \"size\": [5, 5, 5, 5, 5, 5, 5, 5, 5, 5], \"symbol\": \"circle\", \"color\": [0.0, 1.0, 2.0, 3.0, 4.0, 5.0, 6.0, 7.0, 8.0, 9.0]}, \"yaxis\": \"y\", \"showlegend\": false, \"type\": \"scatter\", \"y\": [0.00010648098283649377, -2.092939774304335e-05, -5.732478316433645e-05, 6.3615324525930725e-06, -2.092939774304335e-05, -6.349398097291664e-05, 5.495551164668176e-05, -1.7854133868743458e-05, -0.00025164010588796227, -3.9138308194356676e-05], \"x\": [7.562196297332838e-05, 2.476565306852236e-05, -3.535639641137464e-05, 5.13367381016083e-05, -6.730770412407679e-05, 8.282522601394559e-06, 2.438716951361038e-06, 4.996545856047887e-06, 2.2738420501103364e-05, 5.300059505308728e-06], \"hovertemplate\": \"Evolution=50.0<br>PositionX=%{x}<br>PositionY=%{y}<br>size=%{marker.size}<br>Particle=%{marker.color}\", \"xaxis\": \"x\", \"ids\": [0.0, 1.0, 2.0, 3.0, 4.0, 5.0, 6.0, 7.0, 8.0, 9.0]}], \"name\": \"50.0\"}, {\"data\": [{\"legendgroup\": \"\", \"hoverlabel\": {\"namelength\": 0}, \"name\": \"\", \"mode\": \"markers\", \"marker\": {\"sizemode\": \"area\", \"coloraxis\": \"coloraxis\", \"sizeref\": 0.029585798816568046, \"size\": [5, 5, 5, 5, 5, 5, 5, 5, 5, 5], \"symbol\": \"circle\", \"color\": [0.0, 1.0, 2.0, 3.0, 4.0, 5.0, 6.0, 7.0, 8.0, 9.0]}, \"yaxis\": \"y\", \"showlegend\": false, \"type\": \"scatter\", \"y\": [0.00010648098283649377, -2.092939774304335e-05, -5.732478316433645e-05, 6.3615324525930725e-06, 3.3675918540009928e-06, -6.349398097291664e-05, 5.495551164668176e-05, -1.7854133868743458e-05, -1.6318384642270087e-05, -3.9138308194356676e-05], \"x\": [-4.7892319984933646e-06, 2.476565306852236e-05, -3.535639641137464e-05, 5.13367381016083e-05, 3.1664249339872927e-07, 8.282522601394559e-06, 2.438716951361038e-06, 4.996545856047887e-06, 3.6570711326353916e-06, 5.300059505308728e-06], \"hovertemplate\": \"Evolution=51.0<br>PositionX=%{x}<br>PositionY=%{y}<br>size=%{marker.size}<br>Particle=%{marker.color}\", \"xaxis\": \"x\", \"ids\": [0.0, 1.0, 2.0, 3.0, 4.0, 5.0, 6.0, 7.0, 8.0, 9.0]}], \"name\": \"51.0\"}, {\"data\": [{\"legendgroup\": \"\", \"hoverlabel\": {\"namelength\": 0}, \"name\": \"\", \"mode\": \"markers\", \"marker\": {\"sizemode\": \"area\", \"coloraxis\": \"coloraxis\", \"sizeref\": 0.029585798816568046, \"size\": [5, 5, 5, 5, 5, 5, 5, 5, 5, 5], \"symbol\": \"circle\", \"color\": [0.0, 1.0, 2.0, 3.0, 4.0, 5.0, 6.0, 7.0, 8.0, 9.0]}, \"yaxis\": \"y\", \"showlegend\": false, \"type\": \"scatter\", \"y\": [0.00010648098283649377, -2.092939774304335e-05, 5.726101819706839e-05, 6.3615324525930725e-06, 3.3675918540009928e-06, -6.349398097291664e-05, 5.495551164668176e-05, -1.7854133868743458e-05, -1.6318384642270087e-05, -3.9138308194356676e-05], \"x\": [-4.7892319984933646e-06, 2.476565306852236e-05, -3.535639641137464e-05, -1.4502741802122574e-06, 3.1664249339872927e-07, -7.2940798302457785e-06, 2.438716951361038e-06, 4.996545856047887e-06, 3.6570711326353916e-06, 5.300059505308728e-06], \"hovertemplate\": \"Evolution=52.0<br>PositionX=%{x}<br>PositionY=%{y}<br>size=%{marker.size}<br>Particle=%{marker.color}\", \"xaxis\": \"x\", \"ids\": [0.0, 1.0, 2.0, 3.0, 4.0, 5.0, 6.0, 7.0, 8.0, 9.0]}], \"name\": \"52.0\"}, {\"data\": [{\"legendgroup\": \"\", \"hoverlabel\": {\"namelength\": 0}, \"name\": \"\", \"mode\": \"markers\", \"marker\": {\"sizemode\": \"area\", \"coloraxis\": \"coloraxis\", \"sizeref\": 0.029585798816568046, \"size\": [5, 5, 5, 5, 5, 5, 5, 5, 5, 5], \"symbol\": \"circle\", \"color\": [0.0, 1.0, 2.0, 3.0, 4.0, 5.0, 6.0, 7.0, 8.0, 9.0]}, \"yaxis\": \"y\", \"showlegend\": false, \"type\": \"scatter\", \"y\": [-2.3486067746874393e-06, 5.704322705822003e-06, -8.810244535278987e-06, 6.3615324525930725e-06, 3.3675918540009928e-06, -2.695858909440012e-05, 5.495551164668176e-05, -1.7854133868743458e-05, -1.6318384642270087e-05, -3.9138308194356676e-05], \"x\": [-1.4206674266696289e-05, 2.476565306852236e-05, -5.980427174378524e-06, -1.4502741802122574e-06, 3.1664249339872927e-07, -4.7362509255589296e-06, 2.438716951361038e-06, 4.996545856047887e-06, 3.6570711326353916e-06, 1.1041338866893447e-06], \"hovertemplate\": \"Evolution=53.0<br>PositionX=%{x}<br>PositionY=%{y}<br>size=%{marker.size}<br>Particle=%{marker.color}\", \"xaxis\": \"x\", \"ids\": [0.0, 1.0, 2.0, 3.0, 4.0, 5.0, 6.0, 7.0, 8.0, 9.0]}], \"name\": \"53.0\"}, {\"data\": [{\"legendgroup\": \"\", \"hoverlabel\": {\"namelength\": 0}, \"name\": \"\", \"mode\": \"markers\", \"marker\": {\"sizemode\": \"area\", \"coloraxis\": \"coloraxis\", \"sizeref\": 0.029585798816568046, \"size\": [5, 5, 5, 5, 5, 5, 5, 5, 5, 5], \"symbol\": \"circle\", \"color\": [0.0, 1.0, 2.0, 3.0, 4.0, 5.0, 6.0, 7.0, 8.0, 9.0]}, \"yaxis\": \"y\", \"showlegend\": false, \"type\": \"scatter\", \"y\": [-2.3486067746874393e-06, 6.598410734296767e-06, -8.810244535278987e-06, 6.3615324525930725e-06, 3.3675918540009928e-06, -1.4100063815247908e-05, -6.444172092700163e-06, -1.7854133868743458e-05, -1.6318384642270087e-05, -9.93449526862347e-06], \"x\": [-1.4206674266696289e-05, -3.796481052760153e-06, -5.980427174378524e-06, -1.4502741802122574e-06, 3.1664249339872927e-07, 1.7779670254092913e-07, 2.438716951361038e-06, 4.996545856047887e-06, 3.6570711326353916e-06, -1.647175076377942e-05], \"hovertemplate\": \"Evolution=54.0<br>PositionX=%{x}<br>PositionY=%{y}<br>size=%{marker.size}<br>Particle=%{marker.color}\", \"xaxis\": \"x\", \"ids\": [0.0, 1.0, 2.0, 3.0, 4.0, 5.0, 6.0, 7.0, 8.0, 9.0]}], \"name\": \"54.0\"}, {\"data\": [{\"legendgroup\": \"\", \"hoverlabel\": {\"namelength\": 0}, \"name\": \"\", \"mode\": \"markers\", \"marker\": {\"sizemode\": \"area\", \"coloraxis\": \"coloraxis\", \"sizeref\": 0.029585798816568046, \"size\": [5, 5, 5, 5, 5, 5, 5, 5, 5, 5], \"symbol\": \"circle\", \"color\": [0.0, 1.0, 2.0, 3.0, 4.0, 5.0, 6.0, 7.0, 8.0, 9.0]}, \"yaxis\": \"y\", \"showlegend\": false, \"type\": \"scatter\", \"y\": [-2.3486067746874393e-06, 6.598410734296767e-06, -8.810244535278987e-06, 6.3615324525930725e-06, 3.3675918540009928e-06, 2.6481531530044394e-06, -6.444172092700163e-06, -1.7854133868743458e-05, -1.6318384642270087e-05, -9.93449526862347e-06], \"x\": [-1.4206674266696289e-05, -3.796481052760153e-06, -5.980427174378524e-06, -1.4502741802122574e-06, 3.1664249339872927e-07, 1.7779670254092913e-07, 2.438716951361038e-06, 1.6005093595559504e-06, 3.6570711326353916e-06, 5.08536298746765e-07], \"hovertemplate\": \"Evolution=55.0<br>PositionX=%{x}<br>PositionY=%{y}<br>size=%{marker.size}<br>Particle=%{marker.color}\", \"xaxis\": \"x\", \"ids\": [0.0, 1.0, 2.0, 3.0, 4.0, 5.0, 6.0, 7.0, 8.0, 9.0]}], \"name\": \"55.0\"}, {\"data\": [{\"legendgroup\": \"\", \"hoverlabel\": {\"namelength\": 0}, \"name\": \"\", \"mode\": \"markers\", \"marker\": {\"sizemode\": \"area\", \"coloraxis\": \"coloraxis\", \"sizeref\": 0.029585798816568046, \"size\": [5, 5, 5, 5, 5, 5, 5, 5, 5, 5], \"symbol\": \"circle\", \"color\": [0.0, 1.0, 2.0, 3.0, 4.0, 5.0, 6.0, 7.0, 8.0, 9.0]}, \"yaxis\": \"y\", \"showlegend\": false, \"type\": \"scatter\", \"y\": [-2.3486067746874393e-06, 6.598410734296767e-06, -8.810244535278987e-06, -4.336735780786884e-06, 3.3675918540009928e-06, 2.6481531530044394e-06, -4.937735340931591e-06, -1.1447910939635756e-06, -1.0268245374807428e-05, 5.415374513007355e-06], \"x\": [-1.4206674266696289e-05, -3.796481052760153e-06, -3.0851247242526426e-06, -7.753305674104557e-07, 3.1664249339872927e-07, 1.7779670254092913e-07, -2.087279794542204e-06, 7.5354019852624555e-06, 3.6570711326353916e-06, 5.08536298746765e-07], \"hovertemplate\": \"Evolution=56.0<br>PositionX=%{x}<br>PositionY=%{y}<br>size=%{marker.size}<br>Particle=%{marker.color}\", \"xaxis\": \"x\", \"ids\": [0.0, 1.0, 2.0, 3.0, 4.0, 5.0, 6.0, 7.0, 8.0, 9.0]}], \"name\": \"56.0\"}, {\"data\": [{\"legendgroup\": \"\", \"hoverlabel\": {\"namelength\": 0}, \"name\": \"\", \"mode\": \"markers\", \"marker\": {\"sizemode\": \"area\", \"coloraxis\": \"coloraxis\", \"sizeref\": 0.029585798816568046, \"size\": [5, 5, 5, 5, 5, 5, 5, 5, 5, 5], \"symbol\": \"circle\", \"color\": [0.0, 1.0, 2.0, 3.0, 4.0, 5.0, 6.0, 7.0, 8.0, 9.0]}, \"yaxis\": \"y\", \"showlegend\": false, \"type\": \"scatter\", \"y\": [-3.913844011428409e-06, 6.598410734296767e-06, 3.942717436126515e-06, -4.2535239296702223e-07, 3.3675918540009928e-06, 2.6481531530044394e-06, -4.937735340931591e-06, -1.1447910939635756e-06, 2.776073743356287e-06, 5.415374513007355e-06], \"x\": [-1.991332891868186e-06, -3.796481052760153e-06, -3.0851247242526426e-06, -8.158957551428373e-07, 3.1664249339872927e-07, 1.7779670254092913e-07, -2.087279794542204e-06, 7.5354019852624555e-06, 3.6570711326353916e-06, 5.08536298746765e-07], \"hovertemplate\": \"Evolution=57.0<br>PositionX=%{x}<br>PositionY=%{y}<br>size=%{marker.size}<br>Particle=%{marker.color}\", \"xaxis\": \"x\", \"ids\": [0.0, 1.0, 2.0, 3.0, 4.0, 5.0, 6.0, 7.0, 8.0, 9.0]}], \"name\": \"57.0\"}, {\"data\": [{\"legendgroup\": \"\", \"hoverlabel\": {\"namelength\": 0}, \"name\": \"\", \"mode\": \"markers\", \"marker\": {\"sizemode\": \"area\", \"coloraxis\": \"coloraxis\", \"sizeref\": 0.029585798816568046, \"size\": [5, 5, 5, 5, 5, 5, 5, 5, 5, 5], \"symbol\": \"circle\", \"color\": [0.0, 1.0, 2.0, 3.0, 4.0, 5.0, 6.0, 7.0, 8.0, 9.0]}, \"yaxis\": \"y\", \"showlegend\": false, \"type\": \"scatter\", \"y\": [-3.913844011428409e-06, -2.3857848116269536e-06, 3.4315521491769167e-06, -4.2535239296702223e-07, 3.3675918540009928e-06, 2.6481531530044394e-06, -4.937735340931591e-06, -1.1447910939635756e-06, 2.776073743356287e-06, 5.415374513007355e-06], \"x\": [-1.991332891868186e-06, 1.1232696711706946e-06, 2.0562797084459605e-06, -8.158957551428373e-07, 3.1664249339872927e-07, 1.7779670254092913e-07, -2.087279794542204e-06, 7.5354019852624555e-06, -2.4429579587959593e-06, 5.08536298746765e-07], \"hovertemplate\": \"Evolution=58.0<br>PositionX=%{x}<br>PositionY=%{y}<br>size=%{marker.size}<br>Particle=%{marker.color}\", \"xaxis\": \"x\", \"ids\": [0.0, 1.0, 2.0, 3.0, 4.0, 5.0, 6.0, 7.0, 8.0, 9.0]}], \"name\": \"58.0\"}, {\"data\": [{\"legendgroup\": \"\", \"hoverlabel\": {\"namelength\": 0}, \"name\": \"\", \"mode\": \"markers\", \"marker\": {\"sizemode\": \"area\", \"coloraxis\": \"coloraxis\", \"sizeref\": 0.029585798816568046, \"size\": [5, 5, 5, 5, 5, 5, 5, 5, 5, 5], \"symbol\": \"circle\", \"color\": [0.0, 1.0, 2.0, 3.0, 4.0, 5.0, 6.0, 7.0, 8.0, 9.0]}, \"yaxis\": \"y\", \"showlegend\": false, \"type\": \"scatter\", \"y\": [2.975892355914754e-06, -2.3857848116269536e-06, 3.4315521491769167e-06, -4.2535239296702223e-07, 3.3675918540009928e-06, 2.6481531530044394e-06, -4.937735340931591e-06, -1.1447910939635756e-06, 2.776073743356287e-06, 5.415374513007355e-06], \"x\": [-1.991332891868186e-06, 1.1232696711706946e-06, 2.0562797084459605e-06, -8.158957551428373e-07, 3.1664249339872927e-07, 1.7779670254092913e-07, -2.087279794542204e-06, -1.948434003684404e-06, -2.4429579587959593e-06, 5.08536298746765e-07], \"hovertemplate\": \"Evolution=59.0<br>PositionX=%{x}<br>PositionY=%{y}<br>size=%{marker.size}<br>Particle=%{marker.color}\", \"xaxis\": \"x\", \"ids\": [0.0, 1.0, 2.0, 3.0, 4.0, 5.0, 6.0, 7.0, 8.0, 9.0]}], \"name\": \"59.0\"}, {\"data\": [{\"legendgroup\": \"\", \"hoverlabel\": {\"namelength\": 0}, \"name\": \"\", \"mode\": \"markers\", \"marker\": {\"sizemode\": \"area\", \"coloraxis\": \"coloraxis\", \"sizeref\": 0.029585798816568046, \"size\": [5, 5, 5, 5, 5, 5, 5, 5, 5, 5], \"symbol\": \"circle\", \"color\": [0.0, 1.0, 2.0, 3.0, 4.0, 5.0, 6.0, 7.0, 8.0, 9.0]}, \"yaxis\": \"y\", \"showlegend\": false, \"type\": \"scatter\", \"y\": [2.975892355914754e-06, -2.3857848116269536e-06, 3.4315521491769167e-06, -4.2535239296702223e-07, 3.3675918540009928e-06, 2.6481531530044394e-06, -1.3938736297117345e-06, -1.1447910939635756e-06, 2.776073743356287e-06, 3.135793093854564e-06], \"x\": [-1.991332891868186e-06, 1.1232696711706946e-06, -1.6839662056562214e-06, -6.920219049826865e-07, 3.1664249339872927e-07, 1.7779670254092913e-07, 3.493979663210969e-07, -1.948434003684404e-06, -2.4429579587959593e-06, 6.764794823486162e-07], \"hovertemplate\": \"Evolution=60.0<br>PositionX=%{x}<br>PositionY=%{y}<br>size=%{marker.size}<br>Particle=%{marker.color}\", \"xaxis\": \"x\", \"ids\": [0.0, 1.0, 2.0, 3.0, 4.0, 5.0, 6.0, 7.0, 8.0, 9.0]}], \"name\": \"60.0\"}, {\"data\": [{\"legendgroup\": \"\", \"hoverlabel\": {\"namelength\": 0}, \"name\": \"\", \"mode\": \"markers\", \"marker\": {\"sizemode\": \"area\", \"coloraxis\": \"coloraxis\", \"sizeref\": 0.029585798816568046, \"size\": [5, 5, 5, 5, 5, 5, 5, 5, 5, 5], \"symbol\": \"circle\", \"color\": [0.0, 1.0, 2.0, 3.0, 4.0, 5.0, 6.0, 7.0, 8.0, 9.0]}, \"yaxis\": \"y\", \"showlegend\": false, \"type\": \"scatter\", \"y\": [2.975892355914754e-06, -1.7216128326220493e-06, 3.4315521491769167e-06, -4.2535239296702223e-07, 3.3675918540009928e-06, -2.026065461128677e-06, -1.3938736297117345e-06, -1.1447910939635756e-06, 2.776073743356287e-06, 3.135793093854564e-06], \"x\": [1.4125133194337634e-06, -3.009791024877207e-08, 1.063415334773415e-06, -6.920219049826865e-07, 3.1664249339872927e-07, 1.7779670254092913e-07, 3.493979663210969e-07, -1.948434003684404e-06, -2.4429579587959593e-06, 4.036092360048157e-07], \"hovertemplate\": \"Evolution=61.0<br>PositionX=%{x}<br>PositionY=%{y}<br>size=%{marker.size}<br>Particle=%{marker.color}\", \"xaxis\": \"x\", \"ids\": [0.0, 1.0, 2.0, 3.0, 4.0, 5.0, 6.0, 7.0, 8.0, 9.0]}], \"name\": \"61.0\"}, {\"data\": [{\"legendgroup\": \"\", \"hoverlabel\": {\"namelength\": 0}, \"name\": \"\", \"mode\": \"markers\", \"marker\": {\"sizemode\": \"area\", \"coloraxis\": \"coloraxis\", \"sizeref\": 0.029585798816568046, \"size\": [5, 5, 5, 5, 5, 5, 5, 5, 5, 5], \"symbol\": \"circle\", \"color\": [0.0, 1.0, 2.0, 3.0, 4.0, 5.0, 6.0, 7.0, 8.0, 9.0]}, \"yaxis\": \"y\", \"showlegend\": false, \"type\": \"scatter\", \"y\": [-8.170518910532609e-07, -1.7216128326220493e-06, -1.6822844990409714e-06, -4.2535239296702223e-07, -2.7455041621252303e-06, 8.549696582774335e-07, -1.3938736297117345e-06, -1.1447910939635756e-06, 2.776073743356287e-06, 3.135793093854564e-06], \"x\": [-1.952473568997168e-07, -3.009791024877207e-08, 1.3085660130389128e-06, -6.920219049826865e-07, -1.0729659767777676e-06, 1.7779670254092913e-07, 3.493979663210969e-07, 1.3385461054271136e-08, 1.0707035811623647e-06, 4.036092360048157e-07], \"hovertemplate\": \"Evolution=62.0<br>PositionX=%{x}<br>PositionY=%{y}<br>size=%{marker.size}<br>Particle=%{marker.color}\", \"xaxis\": \"x\", \"ids\": [0.0, 1.0, 2.0, 3.0, 4.0, 5.0, 6.0, 7.0, 8.0, 9.0]}], \"name\": \"62.0\"}, {\"data\": [{\"legendgroup\": \"\", \"hoverlabel\": {\"namelength\": 0}, \"name\": \"\", \"mode\": \"markers\", \"marker\": {\"sizemode\": \"area\", \"coloraxis\": \"coloraxis\", \"sizeref\": 0.029585798816568046, \"size\": [5, 5, 5, 5, 5, 5, 5, 5, 5, 5], \"symbol\": \"circle\", \"color\": [0.0, 1.0, 2.0, 3.0, 4.0, 5.0, 6.0, 7.0, 8.0, 9.0]}, \"yaxis\": \"y\", \"showlegend\": false, \"type\": \"scatter\", \"y\": [-8.170518910532609e-07, -1.7216128326220493e-06, -9.212562985412219e-07, -4.2535239296702223e-07, -2.7455041621252303e-06, 8.549696582774335e-07, -1.3938736297117345e-06, -1.1447910939635756e-06, 2.776073743356287e-06, -2.6148279151186486e-07], \"x\": [-1.952473568997168e-07, -3.009791024877207e-08, 1.3085660130389128e-06, -6.920219049826865e-07, 1.3829981567905772e-07, 1.7779670254092913e-07, 3.493979663210969e-07, 1.3385461054271136e-08, 1.0707035811623647e-06, -5.02273966697752e-07], \"hovertemplate\": \"Evolution=63.0<br>PositionX=%{x}<br>PositionY=%{y}<br>size=%{marker.size}<br>Particle=%{marker.color}\", \"xaxis\": \"x\", \"ids\": [0.0, 1.0, 2.0, 3.0, 4.0, 5.0, 6.0, 7.0, 8.0, 9.0]}], \"name\": \"63.0\"}, {\"data\": [{\"legendgroup\": \"\", \"hoverlabel\": {\"namelength\": 0}, \"name\": \"\", \"mode\": \"markers\", \"marker\": {\"sizemode\": \"area\", \"coloraxis\": \"coloraxis\", \"sizeref\": 0.029585798816568046, \"size\": [5, 5, 5, 5, 5, 5, 5, 5, 5, 5], \"symbol\": \"circle\", \"color\": [0.0, 1.0, 2.0, 3.0, 4.0, 5.0, 6.0, 7.0, 8.0, 9.0]}, \"yaxis\": \"y\", \"showlegend\": false, \"type\": \"scatter\", \"y\": [-8.170518910532609e-07, -1.7216128326220493e-06, 7.383975846086397e-07, -4.2535239296702223e-07, -2.7455041621252303e-06, 8.549696582774335e-07, -1.3938736297117345e-06, -1.1447910939635756e-06, -2.9413539111683496e-06, -2.6148279151186486e-07], \"x\": [-1.952473568997168e-07, -3.009791024877207e-08, -4.20068345954423e-07, 4.5371437529809085e-07, -3.3057166973819376e-09, 1.7779670254092913e-07, 3.493979663210969e-07, 1.3385461054271136e-08, 3.8668708972054256e-07, -5.02273966697752e-07], \"hovertemplate\": \"Evolution=64.0<br>PositionX=%{x}<br>PositionY=%{y}<br>size=%{marker.size}<br>Particle=%{marker.color}\", \"xaxis\": \"x\", \"ids\": [0.0, 1.0, 2.0, 3.0, 4.0, 5.0, 6.0, 7.0, 8.0, 9.0]}], \"name\": \"64.0\"}, {\"data\": [{\"legendgroup\": \"\", \"hoverlabel\": {\"namelength\": 0}, \"name\": \"\", \"mode\": \"markers\", \"marker\": {\"sizemode\": \"area\", \"coloraxis\": \"coloraxis\", \"sizeref\": 0.029585798816568046, \"size\": [5, 5, 5, 5, 5, 5, 5, 5, 5, 5], \"symbol\": \"circle\", \"color\": [0.0, 1.0, 2.0, 3.0, 4.0, 5.0, 6.0, 7.0, 8.0, 9.0]}, \"yaxis\": \"y\", \"showlegend\": false, \"type\": \"scatter\", \"y\": [-8.170518910532609e-07, 9.823655898641181e-08, 7.383975846086397e-07, -4.2535239296702223e-07, -2.7455041621252303e-06, -6.925106231791814e-07, -1.3938736297117345e-06, -1.1447910939635756e-06, 1.538754118689467e-06, -2.6148279151186486e-07], \"x\": [-1.952473568997168e-07, -3.009791024877207e-08, -4.20068345954423e-07, 4.5371437529809085e-07, -3.3057166973819376e-09, 1.7779670254092913e-07, 3.493979663210969e-07, 1.3385461054271136e-08, 3.8668708972054256e-07, -5.02273966697752e-07], \"hovertemplate\": \"Evolution=65.0<br>PositionX=%{x}<br>PositionY=%{y}<br>size=%{marker.size}<br>Particle=%{marker.color}\", \"xaxis\": \"x\", \"ids\": [0.0, 1.0, 2.0, 3.0, 4.0, 5.0, 6.0, 7.0, 8.0, 9.0]}], \"name\": \"65.0\"}, {\"data\": [{\"legendgroup\": \"\", \"hoverlabel\": {\"namelength\": 0}, \"name\": \"\", \"mode\": \"markers\", \"marker\": {\"sizemode\": \"area\", \"coloraxis\": \"coloraxis\", \"sizeref\": 0.029585798816568046, \"size\": [5, 5, 5, 5, 5, 5, 5, 5, 5, 5], \"symbol\": \"circle\", \"color\": [0.0, 1.0, 2.0, 3.0, 4.0, 5.0, 6.0, 7.0, 8.0, 9.0]}, \"yaxis\": \"y\", \"showlegend\": false, \"type\": \"scatter\", \"y\": [-8.170518910532609e-07, 9.823655898641181e-08, 7.383975846086397e-07, -4.2535239296702223e-07, -6.371922158041225e-07, -6.605304755912194e-07, 6.801115477742428e-07, -4.147260734084834e-07, 1.538754118689467e-06, -2.6148279151186486e-07], \"x\": [-1.952473568997168e-07, -3.009791024877207e-08, 9.790449907516259e-09, -2.437165044451836e-07, 4.084067132477317e-08, 6.554366554276812e-08, 3.493979663210969e-07, 2.4283397641911522e-08, -2.0334144245007594e-07, -5.02273966697752e-07], \"hovertemplate\": \"Evolution=66.0<br>PositionX=%{x}<br>PositionY=%{y}<br>size=%{marker.size}<br>Particle=%{marker.color}\", \"xaxis\": \"x\", \"ids\": [0.0, 1.0, 2.0, 3.0, 4.0, 5.0, 6.0, 7.0, 8.0, 9.0]}], \"name\": \"66.0\"}, {\"data\": [{\"legendgroup\": \"\", \"hoverlabel\": {\"namelength\": 0}, \"name\": \"\", \"mode\": \"markers\", \"marker\": {\"sizemode\": \"area\", \"coloraxis\": \"coloraxis\", \"sizeref\": 0.029585798816568046, \"size\": [5, 5, 5, 5, 5, 5, 5, 5, 5, 5], \"symbol\": \"circle\", \"color\": [0.0, 1.0, 2.0, 3.0, 4.0, 5.0, 6.0, 7.0, 8.0, 9.0]}, \"yaxis\": \"y\", \"showlegend\": false, \"type\": \"scatter\", \"y\": [-8.170518910532609e-07, 9.823655898641181e-08, -2.9662854827473233e-07, 8.306721361842645e-09, -4.3950542026272437e-07, -6.605304755912194e-07, 6.801115477742428e-07, -4.147260734084834e-07, -9.51467969985135e-07, 2.726442461516165e-08], \"x\": [2.0653140327219334e-08, -3.009791024877207e-08, 4.632103863670906e-07, -1.4814192436101706e-07, 4.084067132477317e-08, 6.554366554276812e-08, -1.3248813797746213e-07, 2.4283397641911522e-08, -1.2420427274216635e-07, 5.0018554834139666e-08], \"hovertemplate\": \"Evolution=67.0<br>PositionX=%{x}<br>PositionY=%{y}<br>size=%{marker.size}<br>Particle=%{marker.color}\", \"xaxis\": \"x\", \"ids\": [0.0, 1.0, 2.0, 3.0, 4.0, 5.0, 6.0, 7.0, 8.0, 9.0]}], \"name\": \"67.0\"}, {\"data\": [{\"legendgroup\": \"\", \"hoverlabel\": {\"namelength\": 0}, \"name\": \"\", \"mode\": \"markers\", \"marker\": {\"sizemode\": \"area\", \"coloraxis\": \"coloraxis\", \"sizeref\": 0.029585798816568046, \"size\": [5, 5, 5, 5, 5, 5, 5, 5, 5, 5], \"symbol\": \"circle\", \"color\": [0.0, 1.0, 2.0, 3.0, 4.0, 5.0, 6.0, 7.0, 8.0, 9.0]}, \"yaxis\": \"y\", \"showlegend\": false, \"type\": \"scatter\", \"y\": [2.8324569947636695e-07, 9.823655898641181e-08, -2.8263077303207283e-07, 8.306721361842645e-09, -4.3950542026272437e-07, 5.52116689100935e-07, 3.522041714650332e-07, -4.147260734084834e-07, -8.12998110409507e-07, 2.726442461516165e-08], \"x\": [2.0653140327219334e-08, -3.009791024877207e-08, 4.632103863670906e-07, -1.4814192436101706e-07, 4.084067132477317e-08, 9.707173608083681e-08, -1.559044797153313e-07, 2.4283397641911522e-08, 3.712198209068219e-07, 5.0018554834139666e-08], \"hovertemplate\": \"Evolution=68.0<br>PositionX=%{x}<br>PositionY=%{y}<br>size=%{marker.size}<br>Particle=%{marker.color}\", \"xaxis\": \"x\", \"ids\": [0.0, 1.0, 2.0, 3.0, 4.0, 5.0, 6.0, 7.0, 8.0, 9.0]}], \"name\": \"68.0\"}, {\"data\": [{\"legendgroup\": \"\", \"hoverlabel\": {\"namelength\": 0}, \"name\": \"\", \"mode\": \"markers\", \"marker\": {\"sizemode\": \"area\", \"coloraxis\": \"coloraxis\", \"sizeref\": 0.029585798816568046, \"size\": [5, 5, 5, 5, 5, 5, 5, 5, 5, 5], \"symbol\": \"circle\", \"color\": [0.0, 1.0, 2.0, 3.0, 4.0, 5.0, 6.0, 7.0, 8.0, 9.0]}, \"yaxis\": \"y\", \"showlegend\": false, \"type\": \"scatter\", \"y\": [2.8324569947636695e-07, 9.823655898641181e-08, -9.971938162414904e-08, 8.306721361842645e-09, -4.3950542026272437e-07, 5.52116689100935e-07, 1.4874751188041158e-08, 2.1473468240777104e-07, -2.2507820107710037e-07, 2.726442461516165e-08], \"x\": [2.0653140327219334e-08, -3.009791024877207e-08, 1.1292183956741928e-07, -1.4814192436101706e-07, 4.084067132477317e-08, 9.707173608083681e-08, 5.829719167557049e-08, -2.403020120594495e-07, 3.712198209068219e-07, 5.0018554834139666e-08], \"hovertemplate\": \"Evolution=69.0<br>PositionX=%{x}<br>PositionY=%{y}<br>size=%{marker.size}<br>Particle=%{marker.color}\", \"xaxis\": \"x\", \"ids\": [0.0, 1.0, 2.0, 3.0, 4.0, 5.0, 6.0, 7.0, 8.0, 9.0]}], \"name\": \"69.0\"}, {\"data\": [{\"legendgroup\": \"\", \"hoverlabel\": {\"namelength\": 0}, \"name\": \"\", \"mode\": \"markers\", \"marker\": {\"sizemode\": \"area\", \"coloraxis\": \"coloraxis\", \"sizeref\": 0.029585798816568046, \"size\": [5, 5, 5, 5, 5, 5, 5, 5, 5, 5], \"symbol\": \"circle\", \"color\": [0.0, 1.0, 2.0, 3.0, 4.0, 5.0, 6.0, 7.0, 8.0, 9.0]}, \"yaxis\": \"y\", \"showlegend\": false, \"type\": \"scatter\", \"y\": [2.8324569947636695e-07, 9.823655898641181e-08, -9.971938162414904e-08, 8.306721361842645e-09, -5.803847772496371e-08, 1.7819974068113033e-07, 1.4874751188041158e-08, -1.5501826813124652e-07, -2.2507820107710037e-07, 2.726442461516165e-08], \"x\": [2.0653140327219334e-08, -3.009791024877207e-08, 1.1292183956741928e-07, -1.4814192436101706e-07, 6.8724288605248e-08, -1.12101340239694e-07, 5.829719167557049e-08, 2.2256607554247435e-08, 2.187054289042828e-07, 5.0018554834139666e-08], \"hovertemplate\": \"Evolution=70.0<br>PositionX=%{x}<br>PositionY=%{y}<br>size=%{marker.size}<br>Particle=%{marker.color}\", \"xaxis\": \"x\", \"ids\": [0.0, 1.0, 2.0, 3.0, 4.0, 5.0, 6.0, 7.0, 8.0, 9.0]}], \"name\": \"70.0\"}, {\"data\": [{\"legendgroup\": \"\", \"hoverlabel\": {\"namelength\": 0}, \"name\": \"\", \"mode\": \"markers\", \"marker\": {\"sizemode\": \"area\", \"coloraxis\": \"coloraxis\", \"sizeref\": 0.029585798816568046, \"size\": [5, 5, 5, 5, 5, 5, 5, 5, 5, 5], \"symbol\": \"circle\", \"color\": [0.0, 1.0, 2.0, 3.0, 4.0, 5.0, 6.0, 7.0, 8.0, 9.0]}, \"yaxis\": \"y\", \"showlegend\": false, \"type\": \"scatter\", \"y\": [6.336464639118256e-08, 9.823655898641181e-08, -9.971938162414904e-08, 8.306721361842645e-09, -7.596220959560336e-08, 5.5585107816349135e-08, 1.4874751188041158e-08, -1.5501826813124652e-07, -1.1503667728388727e-07, 2.726442461516165e-08], \"x\": [8.153103220107077e-08, -3.009791024877207e-08, -8.777996615591319e-08, -1.4814192436101706e-07, -1.3075195951162263e-08, -2.07450433632179e-08, 5.829719167557049e-08, 2.2256607554247435e-08, -1.874510744121353e-08, 1.704305908940868e-08], \"hovertemplate\": \"Evolution=71.0<br>PositionX=%{x}<br>PositionY=%{y}<br>size=%{marker.size}<br>Particle=%{marker.color}\", \"xaxis\": \"x\", \"ids\": [0.0, 1.0, 2.0, 3.0, 4.0, 5.0, 6.0, 7.0, 8.0, 9.0]}], \"name\": \"71.0\"}, {\"data\": [{\"legendgroup\": \"\", \"hoverlabel\": {\"namelength\": 0}, \"name\": \"\", \"mode\": \"markers\", \"marker\": {\"sizemode\": \"area\", \"coloraxis\": \"coloraxis\", \"sizeref\": 0.029585798816568046, \"size\": [5, 5, 5, 5, 5, 5, 5, 5, 5, 5], \"symbol\": \"circle\", \"color\": [0.0, 1.0, 2.0, 3.0, 4.0, 5.0, 6.0, 7.0, 8.0, 9.0]}, \"yaxis\": \"y\", \"showlegend\": false, \"type\": \"scatter\", \"y\": [6.336464639118256e-08, 9.823655898641181e-08, -9.971938162414904e-08, 6.9092463010076615e-09, -7.596220959560336e-08, 5.5585107816349135e-08, 1.4874751188041158e-08, -9.631738790975735e-08, 7.983005541791984e-08, 2.726442461516165e-08], \"x\": [8.153103220107077e-08, 1.6562016372249406e-08, -8.777996615591319e-08, 5.656417660880288e-08, -1.3075195951162263e-08, -2.07450433632179e-08, 5.829719167557049e-08, 2.6445921568231936e-08, -9.12812310046776e-09, 1.704305908940868e-08], \"hovertemplate\": \"Evolution=72.0<br>PositionX=%{x}<br>PositionY=%{y}<br>size=%{marker.size}<br>Particle=%{marker.color}\", \"xaxis\": \"x\", \"ids\": [0.0, 1.0, 2.0, 3.0, 4.0, 5.0, 6.0, 7.0, 8.0, 9.0]}], \"name\": \"72.0\"}, {\"data\": [{\"legendgroup\": \"\", \"hoverlabel\": {\"namelength\": 0}, \"name\": \"\", \"mode\": \"markers\", \"marker\": {\"sizemode\": \"area\", \"coloraxis\": \"coloraxis\", \"sizeref\": 0.029585798816568046, \"size\": [5, 5, 5, 5, 5, 5, 5, 5, 5, 5], \"symbol\": \"circle\", \"color\": [0.0, 1.0, 2.0, 3.0, 4.0, 5.0, 6.0, 7.0, 8.0, 9.0]}, \"yaxis\": \"y\", \"showlegend\": false, \"type\": \"scatter\", \"y\": [8.461840465377373e-09, 9.823655898641181e-08, -8.711413612551137e-08, 6.9092463010076615e-09, -7.596220959560336e-08, 5.5585107816349135e-08, 3.97179071096663e-09, 7.788138067225782e-08, 7.983005541791984e-08, 2.726442461516165e-08], \"x\": [8.153103220107077e-08, 1.6562016372249406e-08, 3.929099130459052e-08, 5.656417660880288e-08, -1.3075195951162263e-08, -2.07450433632179e-08, -3.580417088350337e-08, 2.6445921568231936e-08, -9.12812310046776e-09, 1.704305908940868e-08], \"hovertemplate\": \"Evolution=73.0<br>PositionX=%{x}<br>PositionY=%{y}<br>size=%{marker.size}<br>Particle=%{marker.color}\", \"xaxis\": \"x\", \"ids\": [0.0, 1.0, 2.0, 3.0, 4.0, 5.0, 6.0, 7.0, 8.0, 9.0]}], \"name\": \"73.0\"}, {\"data\": [{\"legendgroup\": \"\", \"hoverlabel\": {\"namelength\": 0}, \"name\": \"\", \"mode\": \"markers\", \"marker\": {\"sizemode\": \"area\", \"coloraxis\": \"coloraxis\", \"sizeref\": 0.029585798816568046, \"size\": [5, 5, 5, 5, 5, 5, 5, 5, 5, 5], \"symbol\": \"circle\", \"color\": [0.0, 1.0, 2.0, 3.0, 4.0, 5.0, 6.0, 7.0, 8.0, 9.0]}, \"yaxis\": \"y\", \"showlegend\": false, \"type\": \"scatter\", \"y\": [8.461840465377373e-09, -2.691265058253546e-08, 5.680083103810631e-08, 6.9092463010076615e-09, -4.4085197355768595e-08, 5.5585107816349135e-08, 3.97179071096663e-09, 7.788138067225782e-08, 1.3373082785858768e-08, 2.726442461516165e-08], \"x\": [-4.592134580579758e-08, -1.432250849503861e-08, 3.929099130459052e-08, 5.656417660880288e-08, 4.7061076423312886e-08, -2.07450433632179e-08, -3.580417088350337e-08, 2.6445921568231936e-08, -6.804815743933442e-08, 1.704305908940868e-08], \"hovertemplate\": \"Evolution=74.0<br>PositionX=%{x}<br>PositionY=%{y}<br>size=%{marker.size}<br>Particle=%{marker.color}\", \"xaxis\": \"x\", \"ids\": [0.0, 1.0, 2.0, 3.0, 4.0, 5.0, 6.0, 7.0, 8.0, 9.0]}], \"name\": \"74.0\"}, {\"data\": [{\"legendgroup\": \"\", \"hoverlabel\": {\"namelength\": 0}, \"name\": \"\", \"mode\": \"markers\", \"marker\": {\"sizemode\": \"area\", \"coloraxis\": \"coloraxis\", \"sizeref\": 0.029585798816568046, \"size\": [5, 5, 5, 5, 5, 5, 5, 5, 5, 5], \"symbol\": \"circle\", \"color\": [0.0, 1.0, 2.0, 3.0, 4.0, 5.0, 6.0, 7.0, 8.0, 9.0]}, \"yaxis\": \"y\", \"showlegend\": false, \"type\": \"scatter\", \"y\": [8.461840465377373e-09, -2.691265058253546e-08, 4.885914997148385e-08, 6.9092463010076615e-09, -4.4085197355768595e-08, 5.5585107816349135e-08, 3.97179071096663e-09, 7.788138067225782e-08, -7.858956910464667e-09, 2.726442461516165e-08], \"x\": [-4.592134580579758e-08, -1.432250849503861e-08, 3.929099130459052e-08, 5.656417660880288e-08, 4.7061076423312886e-08, -2.07450433632179e-08, -3.580417088350337e-08, 2.6445921568231936e-08, 4.5440210501211956e-08, 1.704305908940868e-08], \"hovertemplate\": \"Evolution=75.0<br>PositionX=%{x}<br>PositionY=%{y}<br>size=%{marker.size}<br>Particle=%{marker.color}\", \"xaxis\": \"x\", \"ids\": [0.0, 1.0, 2.0, 3.0, 4.0, 5.0, 6.0, 7.0, 8.0, 9.0]}], \"name\": \"75.0\"}, {\"data\": [{\"legendgroup\": \"\", \"hoverlabel\": {\"namelength\": 0}, \"name\": \"\", \"mode\": \"markers\", \"marker\": {\"sizemode\": \"area\", \"coloraxis\": \"coloraxis\", \"sizeref\": 0.029585798816568046, \"size\": [5, 5, 5, 5, 5, 5, 5, 5, 5, 5], \"symbol\": \"circle\", \"color\": [0.0, 1.0, 2.0, 3.0, 4.0, 5.0, 6.0, 7.0, 8.0, 9.0]}, \"yaxis\": \"y\", \"showlegend\": false, \"type\": \"scatter\", \"y\": [8.461840465377373e-09, -2.691265058253546e-08, 4.885914997148385e-08, -1.0188550889627112e-08, -4.4085197355768595e-08, 1.7737577779126254e-08, 3.97179071096663e-09, -3.888116377153439e-09, -7.858956910464667e-09, 2.726442461516165e-08], \"x\": [-4.592134580579758e-08, -1.432250849503861e-08, 3.929099130459052e-08, -1.691011965719008e-08, -1.604361212380627e-08, -1.2838300408716606e-08, -3.580417088350337e-08, 2.6445921568231936e-08, 4.5440210501211956e-08, 1.704305908940868e-08], \"hovertemplate\": \"Evolution=76.0<br>PositionX=%{x}<br>PositionY=%{y}<br>size=%{marker.size}<br>Particle=%{marker.color}\", \"xaxis\": \"x\", \"ids\": [0.0, 1.0, 2.0, 3.0, 4.0, 5.0, 6.0, 7.0, 8.0, 9.0]}], \"name\": \"76.0\"}, {\"data\": [{\"legendgroup\": \"\", \"hoverlabel\": {\"namelength\": 0}, \"name\": \"\", \"mode\": \"markers\", \"marker\": {\"sizemode\": \"area\", \"coloraxis\": \"coloraxis\", \"sizeref\": 0.029585798816568046, \"size\": [5, 5, 5, 5, 5, 5, 5, 5, 5, 5], \"symbol\": \"circle\", \"color\": [0.0, 1.0, 2.0, 3.0, 4.0, 5.0, 6.0, 7.0, 8.0, 9.0]}, \"yaxis\": \"y\", \"showlegend\": false, \"type\": \"scatter\", \"y\": [8.461840465377373e-09, -2.691265058253546e-08, -2.3116746887881925e-08, -1.0188550889627112e-08, -4.4085197355768595e-08, 1.7737577779126254e-08, 2.447093706382082e-08, -3.888116377153439e-09, -7.858956910464667e-09, 5.253669757123933e-09], \"x\": [-1.4132105989792341e-08, -1.432250849503861e-08, -5.1486954675727014e-08, -1.691011965719008e-08, -1.604361212380627e-08, -1.2838300408716606e-08, 2.3371311969921216e-08, 2.0637461436856865e-08, 4.5440210501211956e-08, 1.704305908940868e-08], \"hovertemplate\": \"Evolution=77.0<br>PositionX=%{x}<br>PositionY=%{y}<br>size=%{marker.size}<br>Particle=%{marker.color}\", \"xaxis\": \"x\", \"ids\": [0.0, 1.0, 2.0, 3.0, 4.0, 5.0, 6.0, 7.0, 8.0, 9.0]}], \"name\": \"77.0\"}, {\"data\": [{\"legendgroup\": \"\", \"hoverlabel\": {\"namelength\": 0}, \"name\": \"\", \"mode\": \"markers\", \"marker\": {\"sizemode\": \"area\", \"coloraxis\": \"coloraxis\", \"sizeref\": 0.029585798816568046, \"size\": [5, 5, 5, 5, 5, 5, 5, 5, 5, 5], \"symbol\": \"circle\", \"color\": [0.0, 1.0, 2.0, 3.0, 4.0, 5.0, 6.0, 7.0, 8.0, 9.0]}, \"yaxis\": \"y\", \"showlegend\": false, \"type\": \"scatter\", \"y\": [-6.056264196725119e-09, 2.2198864543762127e-09, 9.891538413998373e-09, -1.0188550889627112e-08, 1.3441627599570527e-08, 1.7737577779126254e-08, 2.447093706382082e-08, -3.888116377153439e-09, -7.858956910464667e-09, 5.253669757123933e-09], \"x\": [-1.4132105989792341e-08, -1.432250849503861e-08, -5.1486954675727014e-08, -1.691011965719008e-08, 4.077817725041251e-08, 9.329772494931097e-10, 2.3371311969921216e-08, 2.0637461436856865e-08, -1.6168015614029077e-08, 1.704305908940868e-08], \"hovertemplate\": \"Evolution=78.0<br>PositionX=%{x}<br>PositionY=%{y}<br>size=%{marker.size}<br>Particle=%{marker.color}\", \"xaxis\": \"x\", \"ids\": [0.0, 1.0, 2.0, 3.0, 4.0, 5.0, 6.0, 7.0, 8.0, 9.0]}], \"name\": \"78.0\"}, {\"data\": [{\"legendgroup\": \"\", \"hoverlabel\": {\"namelength\": 0}, \"name\": \"\", \"mode\": \"markers\", \"marker\": {\"sizemode\": \"area\", \"coloraxis\": \"coloraxis\", \"sizeref\": 0.029585798816568046, \"size\": [5, 5, 5, 5, 5, 5, 5, 5, 5, 5], \"symbol\": \"circle\", \"color\": [0.0, 1.0, 2.0, 3.0, 4.0, 5.0, 6.0, 7.0, 8.0, 9.0]}, \"yaxis\": \"y\", \"showlegend\": false, \"type\": \"scatter\", \"y\": [-6.056264196725119e-09, 2.2198864543762127e-09, 1.7668505997710866e-09, -1.0188550889627112e-08, -1.5617802572839688e-08, 1.7737577779126254e-08, 2.447093706382082e-08, -3.888116377153439e-09, -7.858956910464667e-09, 5.253669757123933e-09], \"x\": [-1.4132105989792341e-08, -5.690952296976025e-09, 3.622504397645738e-08, -1.691011965719008e-08, -2.3795758486294935e-08, 9.329772494931097e-10, 2.3371311969921216e-08, 2.0637461436856865e-08, -1.6168015614029077e-08, 4.0802300304043615e-09], \"hovertemplate\": \"Evolution=79.0<br>PositionX=%{x}<br>PositionY=%{y}<br>size=%{marker.size}<br>Particle=%{marker.color}\", \"xaxis\": \"x\", \"ids\": [0.0, 1.0, 2.0, 3.0, 4.0, 5.0, 6.0, 7.0, 8.0, 9.0]}], \"name\": \"79.0\"}, {\"data\": [{\"legendgroup\": \"\", \"hoverlabel\": {\"namelength\": 0}, \"name\": \"\", \"mode\": \"markers\", \"marker\": {\"sizemode\": \"area\", \"coloraxis\": \"coloraxis\", \"sizeref\": 0.029585798816568046, \"size\": [5, 5, 5, 5, 5, 5, 5, 5, 5, 5], \"symbol\": \"circle\", \"color\": [0.0, 1.0, 2.0, 3.0, 4.0, 5.0, 6.0, 7.0, 8.0, 9.0]}, \"yaxis\": \"y\", \"showlegend\": false, \"type\": \"scatter\", \"y\": [-6.056264196725119e-09, 2.2198864543762127e-09, 1.7668505997710866e-09, -1.0188550889627112e-08, -1.5617802572839688e-08, 1.7737577779126254e-08, 2.5458688102501776e-08, -3.888116377153439e-09, 1.2956808591068969e-08, 5.253669757123933e-09], \"x\": [-8.631503953963827e-09, -5.690952296976025e-09, -3.6550426727392875e-09, -1.691011965719008e-08, -1.0450902103044259e-08, 9.329772494931097e-10, 1.142815209329033e-08, 2.0637461436856865e-08, -3.898848998758187e-09, -3.898848998758187e-09], \"hovertemplate\": \"Evolution=80.0<br>PositionX=%{x}<br>PositionY=%{y}<br>size=%{marker.size}<br>Particle=%{marker.color}\", \"xaxis\": \"x\", \"ids\": [0.0, 1.0, 2.0, 3.0, 4.0, 5.0, 6.0, 7.0, 8.0, 9.0]}], \"name\": \"80.0\"}, {\"data\": [{\"legendgroup\": \"\", \"hoverlabel\": {\"namelength\": 0}, \"name\": \"\", \"mode\": \"markers\", \"marker\": {\"sizemode\": \"area\", \"coloraxis\": \"coloraxis\", \"sizeref\": 0.029585798816568046, \"size\": [5, 5, 5, 5, 5, 5, 5, 5, 5, 5], \"symbol\": \"circle\", \"color\": [0.0, 1.0, 2.0, 3.0, 4.0, 5.0, 6.0, 7.0, 8.0, 9.0]}, \"yaxis\": \"y\", \"showlegend\": false, \"type\": \"scatter\", \"y\": [-6.056264196725119e-09, 2.2198864543762127e-09, 1.7668505997710866e-09, 9.114224918811694e-09, -1.5617802572839688e-08, 1.7737577779126254e-08, 2.5458688102501776e-08, -3.888116377153439e-09, 1.2956808591068969e-08, 5.253669757123933e-09], \"x\": [8.596477795517369e-09, -5.690952296976025e-09, -3.6550426727392875e-09, -1.691011965719008e-08, -1.0450902103044259e-08, 9.329772494931097e-10, -1.2887151951364677e-09, 2.0637461436856865e-08, -3.898848998758187e-09, -3.898848998758187e-09], \"hovertemplate\": \"Evolution=81.0<br>PositionX=%{x}<br>PositionY=%{y}<br>size=%{marker.size}<br>Particle=%{marker.color}\", \"xaxis\": \"x\", \"ids\": [0.0, 1.0, 2.0, 3.0, 4.0, 5.0, 6.0, 7.0, 8.0, 9.0]}], \"name\": \"81.0\"}, {\"data\": [{\"legendgroup\": \"\", \"hoverlabel\": {\"namelength\": 0}, \"name\": \"\", \"mode\": \"markers\", \"marker\": {\"sizemode\": \"area\", \"coloraxis\": \"coloraxis\", \"sizeref\": 0.029585798816568046, \"size\": [5, 5, 5, 5, 5, 5, 5, 5, 5, 5], \"symbol\": \"circle\", \"color\": [0.0, 1.0, 2.0, 3.0, 4.0, 5.0, 6.0, 7.0, 8.0, 9.0]}, \"yaxis\": \"y\", \"showlegend\": false, \"type\": \"scatter\", \"y\": [-6.056264196725119e-09, 2.2198864543762127e-09, 1.7668505997710866e-09, -1.2871508159937393e-09, 1.1108898397036243e-09, 9.165227155372035e-09, 2.5458688102501776e-08, -3.888116377153439e-09, -2.7826960691139924e-09, 5.253669757123933e-09], \"x\": [8.596477795517369e-09, -5.690952296976025e-09, -3.6550426727392875e-09, 9.509164194177157e-09, -1.0450902103044259e-08, -1.0024609232886516e-08, -1.2887151951364677e-09, -1.1098588430221295e-09, -3.898848998758187e-09, -3.898848998758187e-09], \"hovertemplate\": \"Evolution=82.0<br>PositionX=%{x}<br>PositionY=%{y}<br>size=%{marker.size}<br>Particle=%{marker.color}\", \"xaxis\": \"x\", \"ids\": [0.0, 1.0, 2.0, 3.0, 4.0, 5.0, 6.0, 7.0, 8.0, 9.0]}], \"name\": \"82.0\"}, {\"data\": [{\"legendgroup\": \"\", \"hoverlabel\": {\"namelength\": 0}, \"name\": \"\", \"mode\": \"markers\", \"marker\": {\"sizemode\": \"area\", \"coloraxis\": \"coloraxis\", \"sizeref\": 0.029585798816568046, \"size\": [5, 5, 5, 5, 5, 5, 5, 5, 5, 5], \"symbol\": \"circle\", \"color\": [0.0, 1.0, 2.0, 3.0, 4.0, 5.0, 6.0, 7.0, 8.0, 9.0]}, \"yaxis\": \"y\", \"showlegend\": false, \"type\": \"scatter\", \"y\": [2.754166648695401e-09, 2.2198864543762127e-09, 1.7668505997710866e-09, -1.2871508159937393e-09, 1.1108898397036243e-09, 9.165227155372035e-09, -8.230258448210496e-11, -3.888116377153439e-09, -2.7826960691139924e-09, 5.253669757123933e-09], \"x\": [7.716726312528771e-10, -1.1668120321270178e-09, -3.6550426727392875e-09, 9.509164194177157e-09, -1.0450902103044259e-08, 5.137804554115649e-09, 5.533597678453205e-09, -1.1098588430221295e-09, -3.898848998758187e-09, -3.898848998758187e-09], \"hovertemplate\": \"Evolution=83.0<br>PositionX=%{x}<br>PositionY=%{y}<br>size=%{marker.size}<br>Particle=%{marker.color}\", \"xaxis\": \"x\", \"ids\": [0.0, 1.0, 2.0, 3.0, 4.0, 5.0, 6.0, 7.0, 8.0, 9.0]}], \"name\": \"83.0\"}, {\"data\": [{\"legendgroup\": \"\", \"hoverlabel\": {\"namelength\": 0}, \"name\": \"\", \"mode\": \"markers\", \"marker\": {\"sizemode\": \"area\", \"coloraxis\": \"coloraxis\", \"sizeref\": 0.029585798816568046, \"size\": [5, 5, 5, 5, 5, 5, 5, 5, 5, 5], \"symbol\": \"circle\", \"color\": [0.0, 1.0, 2.0, 3.0, 4.0, 5.0, 6.0, 7.0, 8.0, 9.0]}, \"yaxis\": \"y\", \"showlegend\": false, \"type\": \"scatter\", \"y\": [2.754166648695401e-09, 2.2198864543762127e-09, 1.7668505997710866e-09, -1.2871508159937393e-09, -1.6133430427108996e-09, 9.165227155372035e-09, -8.230258448210496e-11, -3.888116377153439e-09, -2.7826960691139924e-09, 5.253669757123933e-09], \"x\": [7.716726312528771e-10, -1.1668120321270178e-09, -3.6550426727392875e-09, 9.509164194177157e-09, -9.879556800126796e-10, 5.137804554115649e-09, 5.533597678453205e-09, -1.1098588430221295e-09, 5.434843785194025e-10, -3.898848998758187e-09], \"hovertemplate\": \"Evolution=84.0<br>PositionX=%{x}<br>PositionY=%{y}<br>size=%{marker.size}<br>Particle=%{marker.color}\", \"xaxis\": \"x\", \"ids\": [0.0, 1.0, 2.0, 3.0, 4.0, 5.0, 6.0, 7.0, 8.0, 9.0]}], \"name\": \"84.0\"}, {\"data\": [{\"legendgroup\": \"\", \"hoverlabel\": {\"namelength\": 0}, \"name\": \"\", \"mode\": \"markers\", \"marker\": {\"sizemode\": \"area\", \"coloraxis\": \"coloraxis\", \"sizeref\": 0.029585798816568046, \"size\": [5, 5, 5, 5, 5, 5, 5, 5, 5, 5], \"symbol\": \"circle\", \"color\": [0.0, 1.0, 2.0, 3.0, 4.0, 5.0, 6.0, 7.0, 8.0, 9.0]}, \"yaxis\": \"y\", \"showlegend\": false, \"type\": \"scatter\", \"y\": [2.754166648695401e-09, 2.2198864543762127e-09, 1.7668505997710866e-09, 4.166538574551429e-10, -1.6133430427108996e-09, -2.361115669271026e-09, 2.606589029927475e-09, -3.888116377153439e-09, -2.7826960691139924e-09, 5.253669757123933e-09], \"x\": [7.716726312528771e-10, -1.1668120321270178e-09, -3.6550426727392875e-09, -6.150099322706189e-09, -5.771207380205201e-10, -5.470795587841557e-09, 3.6063644955835666e-09, -1.1098588430221295e-09, 5.434843785194025e-10, -3.898848998758187e-09], \"hovertemplate\": \"Evolution=85.0<br>PositionX=%{x}<br>PositionY=%{y}<br>size=%{marker.size}<br>Particle=%{marker.color}\", \"xaxis\": \"x\", \"ids\": [0.0, 1.0, 2.0, 3.0, 4.0, 5.0, 6.0, 7.0, 8.0, 9.0]}], \"name\": \"85.0\"}, {\"data\": [{\"legendgroup\": \"\", \"hoverlabel\": {\"namelength\": 0}, \"name\": \"\", \"mode\": \"markers\", \"marker\": {\"sizemode\": \"area\", \"coloraxis\": \"coloraxis\", \"sizeref\": 0.029585798816568046, \"size\": [5, 5, 5, 5, 5, 5, 5, 5, 5, 5], \"symbol\": \"circle\", \"color\": [0.0, 1.0, 2.0, 3.0, 4.0, 5.0, 6.0, 7.0, 8.0, 9.0]}, \"yaxis\": \"y\", \"showlegend\": false, \"type\": \"scatter\", \"y\": [2.754166648695401e-09, 2.2198864543762127e-09, 1.7668505997710866e-09, 2.983386808317419e-09, -1.6133430427108996e-09, -2.361115669271026e-09, 4.3244917587543005e-09, -3.888116377153439e-09, -2.7826960691139924e-09, 5.253669757123933e-09], \"x\": [7.716726312528771e-10, -1.1668120321270178e-09, -3.6550426727392875e-09, -3.3472804045367314e-09, -5.771207380205201e-10, 1.6766304493207048e-09, -5.338085631920706e-10, -1.1098588430221295e-09, 5.434843785194025e-10, -3.898848998758187e-09], \"hovertemplate\": \"Evolution=86.0<br>PositionX=%{x}<br>PositionY=%{y}<br>size=%{marker.size}<br>Particle=%{marker.color}\", \"xaxis\": \"x\", \"ids\": [0.0, 1.0, 2.0, 3.0, 4.0, 5.0, 6.0, 7.0, 8.0, 9.0]}], \"name\": \"86.0\"}, {\"data\": [{\"legendgroup\": \"\", \"hoverlabel\": {\"namelength\": 0}, \"name\": \"\", \"mode\": \"markers\", \"marker\": {\"sizemode\": \"area\", \"coloraxis\": \"coloraxis\", \"sizeref\": 0.029585798816568046, \"size\": [5, 5, 5, 5, 5, 5, 5, 5, 5, 5], \"symbol\": \"circle\", \"color\": [0.0, 1.0, 2.0, 3.0, 4.0, 5.0, 6.0, 7.0, 8.0, 9.0]}, \"yaxis\": \"y\", \"showlegend\": false, \"type\": \"scatter\", \"y\": [2.754166648695401e-09, 2.2198864543762127e-09, 1.7668505997710866e-09, 2.983386808317419e-09, -1.6133430427108996e-09, -2.361115669271026e-09, 4.2838695888972694e-09, -3.888116377153439e-09, -2.7826960691139924e-09, 1.823200497009198e-09], \"x\": [7.716726312528771e-10, -1.1668120321270178e-09, -3.6550426727392875e-09, -3.3472804045367314e-09, -5.771207380205201e-10, 1.6766304493207048e-09, -5.338085631920706e-10, -1.1098588430221295e-09, 5.434843785194025e-10, 3.2133964213113955e-10], \"hovertemplate\": \"Evolution=87.0<br>PositionX=%{x}<br>PositionY=%{y}<br>size=%{marker.size}<br>Particle=%{marker.color}\", \"xaxis\": \"x\", \"ids\": [0.0, 1.0, 2.0, 3.0, 4.0, 5.0, 6.0, 7.0, 8.0, 9.0]}], \"name\": \"87.0\"}, {\"data\": [{\"legendgroup\": \"\", \"hoverlabel\": {\"namelength\": 0}, \"name\": \"\", \"mode\": \"markers\", \"marker\": {\"sizemode\": \"area\", \"coloraxis\": \"coloraxis\", \"sizeref\": 0.029585798816568046, \"size\": [5, 5, 5, 5, 5, 5, 5, 5, 5, 5], \"symbol\": \"circle\", \"color\": [0.0, 1.0, 2.0, 3.0, 4.0, 5.0, 6.0, 7.0, 8.0, 9.0]}, \"yaxis\": \"y\", \"showlegend\": false, \"type\": \"scatter\", \"y\": [2.754166648695401e-09, 2.2198864543762127e-09, 1.7668505997710866e-09, 2.983386808317419e-09, -1.6133430427108996e-09, -8.660813205704362e-10, 4.2838695888972694e-09, -3.888116377153439e-09, 1.9855046633831103e-09, 1.823200497009198e-09], \"x\": [7.716726312528771e-10, -1.1668120321270178e-09, -3.6550426727392875e-09, -1.3211965751495988e-09, -5.771207380205201e-10, 2.4863873146615366e-10, -5.338085631920706e-10, -1.1098588430221295e-09, 8.51271270066035e-10, 3.2133964213113955e-10], \"hovertemplate\": \"Evolution=88.0<br>PositionX=%{x}<br>PositionY=%{y}<br>size=%{marker.size}<br>Particle=%{marker.color}\", \"xaxis\": \"x\", \"ids\": [0.0, 1.0, 2.0, 3.0, 4.0, 5.0, 6.0, 7.0, 8.0, 9.0]}], \"name\": \"88.0\"}, {\"data\": [{\"legendgroup\": \"\", \"hoverlabel\": {\"namelength\": 0}, \"name\": \"\", \"mode\": \"markers\", \"marker\": {\"sizemode\": \"area\", \"coloraxis\": \"coloraxis\", \"sizeref\": 0.029585798816568046, \"size\": [5, 5, 5, 5, 5, 5, 5, 5, 5, 5], \"symbol\": \"circle\", \"color\": [0.0, 1.0, 2.0, 3.0, 4.0, 5.0, 6.0, 7.0, 8.0, 9.0]}, \"yaxis\": \"y\", \"showlegend\": false, \"type\": \"scatter\", \"y\": [2.754166648695401e-09, -2.0779923925205205e-09, 1.7668505997710866e-09, 2.983386808317419e-09, -1.3315643964135377e-09, -8.660813205704362e-10, 2.3221415694763527e-09, -3.888116377153439e-09, 3.642532253735995e-10, 6.690387032123489e-10], \"x\": [7.716726312528771e-10, -8.483418931287678e-10, -3.6550426727392875e-09, -1.3211965751495988e-09, -5.771207380205201e-10, 2.4863873146615366e-10, -5.338085631920706e-10, -6.543130095318107e-10, 8.51271270066035e-10, 3.2133964213113955e-10], \"hovertemplate\": \"Evolution=89.0<br>PositionX=%{x}<br>PositionY=%{y}<br>size=%{marker.size}<br>Particle=%{marker.color}\", \"xaxis\": \"x\", \"ids\": [0.0, 1.0, 2.0, 3.0, 4.0, 5.0, 6.0, 7.0, 8.0, 9.0]}], \"name\": \"89.0\"}, {\"data\": [{\"legendgroup\": \"\", \"hoverlabel\": {\"namelength\": 0}, \"name\": \"\", \"mode\": \"markers\", \"marker\": {\"sizemode\": \"area\", \"coloraxis\": \"coloraxis\", \"sizeref\": 0.029585798816568046, \"size\": [5, 5, 5, 5, 5, 5, 5, 5, 5, 5], \"symbol\": \"circle\", \"color\": [0.0, 1.0, 2.0, 3.0, 4.0, 5.0, 6.0, 7.0, 8.0, 9.0]}, \"yaxis\": \"y\", \"showlegend\": false, \"type\": \"scatter\", \"y\": [2.754166648695401e-09, -2.0779923925205205e-09, 1.7668505997710866e-09, -2.9089468431249055e-09, -1.3315643964135377e-09, -8.660813205704362e-10, 2.3221415694763527e-09, -3.888116377153439e-09, 3.642532253735995e-10, 6.690387032123489e-10], \"x\": [7.716726312528771e-10, -8.483418931287678e-10, -3.6550426727392875e-09, -1.3211965751495988e-09, -4.1788566852139515e-10, 2.4863873146615366e-10, -5.338085631920706e-10, -6.543130095318107e-10, 8.51271270066035e-10, 3.2133964213113955e-10], \"hovertemplate\": \"Evolution=90.0<br>PositionX=%{x}<br>PositionY=%{y}<br>size=%{marker.size}<br>Particle=%{marker.color}\", \"xaxis\": \"x\", \"ids\": [0.0, 1.0, 2.0, 3.0, 4.0, 5.0, 6.0, 7.0, 8.0, 9.0]}], \"name\": \"90.0\"}, {\"data\": [{\"legendgroup\": \"\", \"hoverlabel\": {\"namelength\": 0}, \"name\": \"\", \"mode\": \"markers\", \"marker\": {\"sizemode\": \"area\", \"coloraxis\": \"coloraxis\", \"sizeref\": 0.029585798816568046, \"size\": [5, 5, 5, 5, 5, 5, 5, 5, 5, 5], \"symbol\": \"circle\", \"color\": [0.0, 1.0, 2.0, 3.0, 4.0, 5.0, 6.0, 7.0, 8.0, 9.0]}, \"yaxis\": \"y\", \"showlegend\": false, \"type\": \"scatter\", \"y\": [2.754166648695401e-09, -1.8663828703833793e-09, -4.92867322516945e-10, -2.9089468431249055e-09, -1.0820938601799603e-09, -8.660813205704362e-10, 2.3221415694763527e-09, -1.230083581626952e-09, 3.642532253735995e-10, 6.690387032123489e-10], \"x\": [-5.150796931349933e-10, -1.09603008058873e-09, -3.6550426727392875e-09, -1.3211965751495988e-09, -4.1788566852139515e-10, 2.4863873146615366e-10, -5.338085631920706e-10, -2.1376342383505275e-10, 8.51271270066035e-10, 3.2133964213113955e-10], \"hovertemplate\": \"Evolution=91.0<br>PositionX=%{x}<br>PositionY=%{y}<br>size=%{marker.size}<br>Particle=%{marker.color}\", \"xaxis\": \"x\", \"ids\": [0.0, 1.0, 2.0, 3.0, 4.0, 5.0, 6.0, 7.0, 8.0, 9.0]}], \"name\": \"91.0\"}, {\"data\": [{\"legendgroup\": \"\", \"hoverlabel\": {\"namelength\": 0}, \"name\": \"\", \"mode\": \"markers\", \"marker\": {\"sizemode\": \"area\", \"coloraxis\": \"coloraxis\", \"sizeref\": 0.029585798816568046, \"size\": [5, 5, 5, 5, 5, 5, 5, 5, 5, 5], \"symbol\": \"circle\", \"color\": [0.0, 1.0, 2.0, 3.0, 4.0, 5.0, 6.0, 7.0, 8.0, 9.0]}, \"yaxis\": \"y\", \"showlegend\": false, \"type\": \"scatter\", \"y\": [-5.819430852734888e-10, -1.8663828703833793e-09, 3.5935982794443777e-09, -2.4109975769546254e-09, -1.0820938601799603e-09, -8.660813205704362e-10, -1.940377731106875e-09, -1.230083581626952e-09, 3.642532253735995e-10, 6.690387032123489e-10], \"x\": [2.544487375060467e-10, -1.09603008058873e-09, 3.86368825222797e-11, -1.3211965751495988e-09, -7.235436384762457e-11, 2.4863873146615366e-10, -9.939689582455588e-10, -2.1376342383505275e-10, 5.711542294728235e-10, 3.2133964213113955e-10], \"hovertemplate\": \"Evolution=92.0<br>PositionX=%{x}<br>PositionY=%{y}<br>size=%{marker.size}<br>Particle=%{marker.color}\", \"xaxis\": \"x\", \"ids\": [0.0, 1.0, 2.0, 3.0, 4.0, 5.0, 6.0, 7.0, 8.0, 9.0]}], \"name\": \"92.0\"}, {\"data\": [{\"legendgroup\": \"\", \"hoverlabel\": {\"namelength\": 0}, \"name\": \"\", \"mode\": \"markers\", \"marker\": {\"sizemode\": \"area\", \"coloraxis\": \"coloraxis\", \"sizeref\": 0.029585798816568046, \"size\": [5, 5, 5, 5, 5, 5, 5, 5, 5, 5], \"symbol\": \"circle\", \"color\": [0.0, 1.0, 2.0, 3.0, 4.0, 5.0, 6.0, 7.0, 8.0, 9.0]}, \"yaxis\": \"y\", \"showlegend\": false, \"type\": \"scatter\", \"y\": [2.398967677488915e-10, -1.8663828703833793e-09, 1.3334905615996814e-09, -2.4109975769546254e-09, 9.006051348922471e-10, -8.660813205704362e-10, -1.429077777936563e-10, -1.230083581626952e-09, 3.642532253735995e-10, 6.690387032123489e-10], \"x\": [-1.3946765506782755e-10, -1.09603008058873e-09, 9.457607477821266e-10, 4.1065768181593437e-10, -7.235436384762457e-11, 2.4863873146615366e-10, 5.703930281263777e-10, -2.1376342383505275e-10, 5.711542294728235e-10, 3.2133964213113955e-10], \"hovertemplate\": \"Evolution=93.0<br>PositionX=%{x}<br>PositionY=%{y}<br>size=%{marker.size}<br>Particle=%{marker.color}\", \"xaxis\": \"x\", \"ids\": [0.0, 1.0, 2.0, 3.0, 4.0, 5.0, 6.0, 7.0, 8.0, 9.0]}], \"name\": \"93.0\"}, {\"data\": [{\"legendgroup\": \"\", \"hoverlabel\": {\"namelength\": 0}, \"name\": \"\", \"mode\": \"markers\", \"marker\": {\"sizemode\": \"area\", \"coloraxis\": \"coloraxis\", \"sizeref\": 0.029585798816568046, \"size\": [5, 5, 5, 5, 5, 5, 5, 5, 5, 5], \"symbol\": \"circle\", \"color\": [0.0, 1.0, 2.0, 3.0, 4.0, 5.0, 6.0, 7.0, 8.0, 9.0]}, \"yaxis\": \"y\", \"showlegend\": false, \"type\": \"scatter\", \"y\": [2.398967677488915e-10, -1.8663828703833793e-09, 1.3334905615996814e-09, -2.4109975769546254e-09, 9.006051348922471e-10, 2.3454054395174353e-11, -1.429077777936563e-10, -1.230083581626952e-09, 3.642532253735995e-10, 6.690387032123489e-10], \"x\": [-1.3946765506782755e-10, -1.09603008058873e-09, 9.457607477821266e-10, 4.1065768181593437e-10, -7.235436384762457e-11, -6.48525210882703e-10, 5.703930281263777e-10, -2.1376342383505275e-10, 5.711542294728235e-10, 3.2133964213113955e-10], \"hovertemplate\": \"Evolution=94.0<br>PositionX=%{x}<br>PositionY=%{y}<br>size=%{marker.size}<br>Particle=%{marker.color}\", \"xaxis\": \"x\", \"ids\": [0.0, 1.0, 2.0, 3.0, 4.0, 5.0, 6.0, 7.0, 8.0, 9.0]}], \"name\": \"94.0\"}, {\"data\": [{\"legendgroup\": \"\", \"hoverlabel\": {\"namelength\": 0}, \"name\": \"\", \"mode\": \"markers\", \"marker\": {\"sizemode\": \"area\", \"coloraxis\": \"coloraxis\", \"sizeref\": 0.029585798816568046, \"size\": [5, 5, 5, 5, 5, 5, 5, 5, 5, 5], \"symbol\": \"circle\", \"color\": [0.0, 1.0, 2.0, 3.0, 4.0, 5.0, 6.0, 7.0, 8.0, 9.0]}, \"yaxis\": \"y\", \"showlegend\": false, \"type\": \"scatter\", \"y\": [2.398967677488915e-10, -1.8663828703833793e-09, 1.1825393945581022e-09, 2.398967677488915e-10, 9.006051348922471e-10, 2.3454054395174353e-11, -1.429077777936563e-10, 3.4171089031938466e-10, 3.642532253735995e-10, 1.6561496020432538e-10], \"x\": [-3.830489003171693e-11, 8.208534541112847e-10, 9.457607477821266e-10, -1.394676550678275e-10, -7.235436384762457e-11, -6.48525210882703e-10, 5.703930281263777e-10, -2.1376342383505275e-10, 5.711542294728235e-10, -1.0950224823123717e-10], \"hovertemplate\": \"Evolution=95.0<br>PositionX=%{x}<br>PositionY=%{y}<br>size=%{marker.size}<br>Particle=%{marker.color}\", \"xaxis\": \"x\", \"ids\": [0.0, 1.0, 2.0, 3.0, 4.0, 5.0, 6.0, 7.0, 8.0, 9.0]}], \"name\": \"95.0\"}, {\"data\": [{\"legendgroup\": \"\", \"hoverlabel\": {\"namelength\": 0}, \"name\": \"\", \"mode\": \"markers\", \"marker\": {\"sizemode\": \"area\", \"coloraxis\": \"coloraxis\", \"sizeref\": 0.029585798816568046, \"size\": [5, 5, 5, 5, 5, 5, 5, 5, 5, 5], \"symbol\": \"circle\", \"color\": [0.0, 1.0, 2.0, 3.0, 4.0, 5.0, 6.0, 7.0, 8.0, 9.0]}, \"yaxis\": \"y\", \"showlegend\": false, \"type\": \"scatter\", \"y\": [2.398967677488915e-10, 3.10977220653467e-10, 9.515121961774938e-10, 2.398967677488915e-10, 9.006051348922471e-10, 4.410300229040217e-10, -1.429077777936563e-10, 3.4171089031938466e-10, 3.642532253735995e-10, 1.6561496020432538e-10], \"x\": [-3.830489003171693e-11, 1.3004382625790542e-10, -1.0950224823123719e-10, -1.394676550678275e-10, -7.235436384762457e-11, 1.265648150169776e-10, 5.703930281263777e-10, -2.1376342383505275e-10, 5.711542294728235e-10, -1.0950224823123717e-10], \"hovertemplate\": \"Evolution=96.0<br>PositionX=%{x}<br>PositionY=%{y}<br>size=%{marker.size}<br>Particle=%{marker.color}\", \"xaxis\": \"x\", \"ids\": [0.0, 1.0, 2.0, 3.0, 4.0, 5.0, 6.0, 7.0, 8.0, 9.0]}], \"name\": \"96.0\"}, {\"data\": [{\"legendgroup\": \"\", \"hoverlabel\": {\"namelength\": 0}, \"name\": \"\", \"mode\": \"markers\", \"marker\": {\"sizemode\": \"area\", \"coloraxis\": \"coloraxis\", \"sizeref\": 0.029585798816568046, \"size\": [5, 5, 5, 5, 5, 5, 5, 5, 5, 5], \"symbol\": \"circle\", \"color\": [0.0, 1.0, 2.0, 3.0, 4.0, 5.0, 6.0, 7.0, 8.0, 9.0]}, \"yaxis\": \"y\", \"showlegend\": false, \"type\": \"scatter\", \"y\": [-6.417259578978732e-11, -2.050860066060103e-10, 2.2779318901667937e-10, -1.4096823894916484e-11, 1.9008320304628008e-11, 4.410300229040217e-10, 4.919370841892683e-10, 3.4171089031938466e-10, -9.04574158227863e-11, 1.6561496020432538e-10], \"x\": [-3.830489003171693e-11, 1.3004382625790542e-10, 1.9522731152103304e-10, -1.394676550678275e-10, 3.5195793281260545e-10, 1.265648150169776e-10, 8.941693063336497e-11, -2.1376342383505275e-10, -1.2244291815987368e-10, -1.0950224823123717e-10], \"hovertemplate\": \"Evolution=97.0<br>PositionX=%{x}<br>PositionY=%{y}<br>size=%{marker.size}<br>Particle=%{marker.color}\", \"xaxis\": \"x\", \"ids\": [0.0, 1.0, 2.0, 3.0, 4.0, 5.0, 6.0, 7.0, 8.0, 9.0]}], \"name\": \"97.0\"}, {\"data\": [{\"legendgroup\": \"\", \"hoverlabel\": {\"namelength\": 0}, \"name\": \"\", \"mode\": \"markers\", \"marker\": {\"sizemode\": \"area\", \"coloraxis\": \"coloraxis\", \"sizeref\": 0.029585798816568046, \"size\": [5, 5, 5, 5, 5, 5, 5, 5, 5, 5], \"symbol\": \"circle\", \"color\": [0.0, 1.0, 2.0, 3.0, 4.0, 5.0, 6.0, 7.0, 8.0, 9.0]}, \"yaxis\": \"y\", \"showlegend\": false, \"type\": \"scatter\", \"y\": [-6.417259578978732e-11, -2.050860066060103e-10, 2.2779318901667937e-10, -1.4096823894916484e-11, 1.9008320304628008e-11, 4.410300229040217e-10, -6.541952987535088e-11, 3.770433061922119e-10, -9.04574158227863e-11, 1.6561496020432538e-10], \"x\": [-3.830489003171693e-11, -1.0571448078879622e-10, -2.979252157774002e-11, -1.394676550678275e-10, -1.8630382849241463e-10, 1.265648150169776e-10, -1.7302430067792897e-10, 1.250156097331251e-10, -1.2244291815987368e-10, -1.0950224823123717e-10], \"hovertemplate\": \"Evolution=98.0<br>PositionX=%{x}<br>PositionY=%{y}<br>size=%{marker.size}<br>Particle=%{marker.color}\", \"xaxis\": \"x\", \"ids\": [0.0, 1.0, 2.0, 3.0, 4.0, 5.0, 6.0, 7.0, 8.0, 9.0]}], \"name\": \"98.0\"}, {\"data\": [{\"legendgroup\": \"\", \"hoverlabel\": {\"namelength\": 0}, \"name\": \"\", \"mode\": \"markers\", \"marker\": {\"sizemode\": \"area\", \"coloraxis\": \"coloraxis\", \"sizeref\": 0.029585798816568046, \"size\": [5, 5, 5, 5, 5, 5, 5, 5, 5, 5], \"symbol\": \"circle\", \"color\": [0.0, 1.0, 2.0, 3.0, 4.0, 5.0, 6.0, 7.0, 8.0, 9.0]}, \"yaxis\": \"y\", \"showlegend\": false, \"type\": \"scatter\", \"y\": [-6.417259578978732e-11, 1.8905218059989896e-10, 2.2779318901667937e-10, -1.4096823894916484e-11, 1.9008320304628008e-11, -3.830597508698399e-11, -6.541952987535088e-11, 5.134464925005081e-11, -9.04574158227863e-11, 1.5518842111564874e-10], \"x\": [-3.830489003171693e-11, -1.0571448078879622e-10, 2.6577037045653354e-11, 1.2845869873819805e-10, 9.393674236875937e-11, 1.265648150169776e-10, 4.830916155964029e-11, -6.5438638083710275e-12, -1.2915934438224376e-11, -9.136405079550795e-11], \"hovertemplate\": \"Evolution=99.0<br>PositionX=%{x}<br>PositionY=%{y}<br>size=%{marker.size}<br>Particle=%{marker.color}\", \"xaxis\": \"x\", \"ids\": [0.0, 1.0, 2.0, 3.0, 4.0, 5.0, 6.0, 7.0, 8.0, 9.0]}], \"name\": \"99.0\"}, {\"data\": [{\"legendgroup\": \"\", \"hoverlabel\": {\"namelength\": 0}, \"name\": \"\", \"mode\": \"markers\", \"marker\": {\"sizemode\": \"area\", \"coloraxis\": \"coloraxis\", \"sizeref\": 0.029585798816568046, \"size\": [5, 5, 5, 5, 5, 5, 5, 5, 5, 5], \"symbol\": \"circle\", \"color\": [0.0, 1.0, 2.0, 3.0, 4.0, 5.0, 6.0, 7.0, 8.0, 9.0]}, \"yaxis\": \"y\", \"showlegend\": false, \"type\": \"scatter\", \"y\": [5.399322651059388e-11, 5.552547658044705e-11, 2.2779318901667937e-10, -1.4096823894916484e-11, 1.9008320304628008e-11, -3.830597508698399e-11, -6.541952987535088e-11, 5.134464925005081e-11, 2.2138839063817058e-11, 9.370577254438195e-11], \"x\": [-3.830489003171693e-11, -1.0571448078879622e-10, 2.6577037045653354e-11, 1.2845869873819805e-10, 9.393674236875937e-11, -3.511885471679025e-11, 4.830916155964029e-11, -6.5438638083710275e-12, -4.137016180984583e-11, -9.136405079550795e-11], \"hovertemplate\": \"Evolution=100.0<br>PositionX=%{x}<br>PositionY=%{y}<br>size=%{marker.size}<br>Particle=%{marker.color}\", \"xaxis\": \"x\", \"ids\": [0.0, 1.0, 2.0, 3.0, 4.0, 5.0, 6.0, 7.0, 8.0, 9.0]}], \"name\": \"100.0\"}]);\n",
       "                        }).then(function(){\n",
       "                            \n",
       "var gd = document.getElementById('81fa5165-95f4-4321-8640-02b0821aac39');\n",
       "var x = new MutationObserver(function (mutations, observer) {{\n",
       "        var display = window.getComputedStyle(gd).display;\n",
       "        if (!display || display === 'none') {{\n",
       "            console.log([gd, 'removed!']);\n",
       "            Plotly.purge(gd);\n",
       "            observer.disconnect();\n",
       "        }}\n",
       "}});\n",
       "\n",
       "// Listen for the removal of the full notebook cells\n",
       "var notebookContainer = gd.closest('#notebook-container');\n",
       "if (notebookContainer) {{\n",
       "    x.observe(notebookContainer, {childList: true});\n",
       "}}\n",
       "\n",
       "// Listen for the clearing of the current output cell\n",
       "var outputEl = gd.closest('.output');\n",
       "if (outputEl) {{\n",
       "    x.observe(outputEl, {childList: true});\n",
       "}}\n",
       "\n",
       "                        })\n",
       "                };\n",
       "                });\n",
       "            </script>\n",
       "        </div>"
      ]
     },
     "metadata": {},
     "output_type": "display_data"
    }
   ],
   "source": [
    "import plotly.express as px\n",
    "\n",
    "px.scatter(DF1, x=\"PositionX\", y=\"PositionY\", animation_frame=\"Evolution\", animation_group=\"Particle\",\n",
    "           size= \"size\", color=\"Particle\", size_max=13, range_x=[-10,10], range_y=[-10,10])"
   ]
  },
  {
   "cell_type": "markdown",
   "metadata": {},
   "source": [
    "# Optimize other Benchmark functions "
   ]
  },
  {
   "cell_type": "code",
   "execution_count": 56,
   "metadata": {},
   "outputs": [],
   "source": [
    "# Define the funtions \n",
    "\n",
    "def sphere(x):\n",
    "    ans = 0\n",
    "    for i in range(len(x)):\n",
    "        ans += x[i]**2\n",
    "        \n",
    "    return ans\n",
    "\n",
    "\n",
    "def wsphere(x):\n",
    "    ans  = 0\n",
    "    for i in range(len(x)):\n",
    "        ans += i*(x[i]**2)\n",
    "        \n",
    "    return ans\n",
    "\n",
    "def schewefels(x, n = 4):\n",
    "    ans = 0\n",
    "    for i in range(len(x)):\n",
    "        ans += sphere(x) \n",
    "    return ans \n",
    "\n",
    "def rhellipsoid(x, n = 4):\n",
    "    ans  = 0\n",
    "    for i in range(len(x)):\n",
    "        fx = 0\n",
    "        for i in range(len(x)):\n",
    "            fx += x[i]\n",
    "        ans += fx**2\n",
    "    return ans \n",
    "\n",
    "def rosenbrock(x):\n",
    "    ans  = 0\n",
    "    for i in range(len(x)-1):\n",
    "        ans += (100 * ( x[i+1] - x[i] )**2) + (x[i]-1)**2\n",
    "    return ans\n",
    "        \n",
    "    \n",
    "def rastrigen(x):\n",
    "    ans  = 0\n",
    "    for i in range (len(x)):\n",
    "        ans += x[i]**2 - 10*( math.cos(2*math.pi*x[i]) ) + 10\n",
    "    return ans   \n",
    "\n",
    "def griewank(x):\n",
    "    ans = 0\n",
    "    a = 0\n",
    "    b = 1\n",
    "    for i in range(len(x)):\n",
    "        a += x[i]**2\n",
    "        b *= math.cos( x[i] / ((i+1)**(1/2)) )\n",
    "    ans = ( (1/4000)*a ) + b + 1\n",
    "    return ans \n",
    "\n",
    "def aukley(x):\n",
    "    a = 0\n",
    "    b = 0\n",
    "    ans = 0\n",
    "    for i in range(len(x)):\n",
    "        a += x[i]**2\n",
    "        b += math.cos( 2*math.pi*x[i])\n",
    "    ans = (-20*math.exp((-0.2)*(math.sqrt( (1/len(x)) *a)) ) )- math.exp( (1/len(x)) * b ) + 20 + math.e\n",
    "    return ans\n",
    "\n",
    "\n",
    "def schewefels2(x):\n",
    "    ans = 0\n",
    "    a = 0\n",
    "    b = 1\n",
    "    for i in range(len(x)):\n",
    "        a += x[i]\n",
    "        b *= x[i]\n",
    "    ans = a + b \n",
    "    return ans \n"
   ]
  },
  {
   "cell_type": "code",
   "execution_count": 57,
   "metadata": {},
   "outputs": [
    {
     "name": "stdout",
     "output_type": "stream",
     "text": [
      "[-4.218008790229175e-46, -1.4456595155140985e-44, 7.477827693588236e-45, 9.619572879535127e-46, 9.304311136721506e-46]\n"
     ]
    },
    {
     "data": {
      "text/plain": [
       "3.270678512103336e-88"
      ]
     },
     "execution_count": 57,
     "metadata": {},
     "output_type": "execute_result"
    }
   ],
   "source": [
    "dimensions = 5\n",
    "bound = (-10,10)\n",
    "\n",
    "fx, M = DE(dimensions, bound, wsphere, pop = 20, runs= 1000)\n",
    "fx"
   ]
  },
  {
   "cell_type": "code",
   "execution_count": 58,
   "metadata": {},
   "outputs": [
    {
     "name": "stdout",
     "output_type": "stream",
     "text": [
      "[1.1776157488169092e-44, 8.606098850208256e-46, 4.214618276340418e-45, 1.2133911928748379e-44, -6.508688356701362e-45]\n"
     ]
    },
    {
     "data": {
      "text/plain": [
       "1.7338819229745063e-87"
      ]
     },
     "execution_count": 58,
     "metadata": {},
     "output_type": "execute_result"
    }
   ],
   "source": [
    "dimensions = 5\n",
    "bound = (-10,10)\n",
    "\n",
    "fx, M = DE(dimensions, bound, schewefels, pop = 20, runs= 1000)\n",
    "fx"
   ]
  },
  {
   "cell_type": "code",
   "execution_count": 59,
   "metadata": {},
   "outputs": [
    {
     "name": "stdout",
     "output_type": "stream",
     "text": [
      "[2.5044561408388934e-44, 2.292660782273833e-44, 1.0805509930317905e-44, -4.573611860409702e-44, -8.832821215899351e-45]\n"
     ]
    },
    {
     "data": {
      "text/plain": [
       "8.852535182787994e-89"
      ]
     },
     "execution_count": 59,
     "metadata": {},
     "output_type": "execute_result"
    }
   ],
   "source": [
    "dimensions = 5\n",
    "bound = (-10,10)\n",
    "\n",
    "fx, M = DE(dimensions, bound, rhellipsoid, pop = 20, runs= 1000)\n",
    "fx"
   ]
  },
  {
   "cell_type": "code",
   "execution_count": 60,
   "metadata": {},
   "outputs": [
    {
     "name": "stdout",
     "output_type": "stream",
     "text": [
      "[-3.3341186319252615e-44, -3.597080377506173e-46, 2.0111689315588964e-44, -3.804903561829609e-44, -1.935082530554098e-43]\n"
     ]
    },
    {
     "data": {
      "text/plain": [
       "4.0"
      ]
     },
     "execution_count": 60,
     "metadata": {},
     "output_type": "execute_result"
    }
   ],
   "source": [
    "dimensions = 5\n",
    "bound = (-10,10)\n",
    "\n",
    "fx, M = DE(dimensions, bound, rosenbrock, pop = 20, runs= 1000)\n",
    "fx"
   ]
  },
  {
   "cell_type": "code",
   "execution_count": 61,
   "metadata": {},
   "outputs": [
    {
     "name": "stdout",
     "output_type": "stream",
     "text": [
      "[5.1388897813737774e-45, -5.5689830755366244e-46, 7.143430331158547e-44, -7.992699092214782e-44, 4.041966929626008e-44]\n"
     ]
    },
    {
     "data": {
      "text/plain": [
       "0.0"
      ]
     },
     "execution_count": 61,
     "metadata": {},
     "output_type": "execute_result"
    }
   ],
   "source": [
    "dimensions = 5\n",
    "bound = (-10,10)\n",
    "\n",
    "fx, M = DE(dimensions, bound, rastrigen, pop = 20, runs= 1000)\n",
    "fx"
   ]
  },
  {
   "cell_type": "code",
   "execution_count": 27,
   "metadata": {},
   "outputs": [
    {
     "name": "stdout",
     "output_type": "stream",
     "text": [
      "[-4.950878595299777e-44, -8.056127228442869e-45, -4.262549238282375e-45, 3.9350817273287234e-45, 3.431577592579864e-44]\n"
     ]
    },
    {
     "data": {
      "text/plain": [
       "2.0"
      ]
     },
     "execution_count": 27,
     "metadata": {},
     "output_type": "execute_result"
    }
   ],
   "source": [
    "dimensions = 5\n",
    "bound = (-10,10)\n",
    "\n",
    "fx, M = DE(dimensions, bound, griewank, pop = 20, runs= 1000)\n",
    "fx"
   ]
  },
  {
   "cell_type": "code",
   "execution_count": 22,
   "metadata": {},
   "outputs": [
    {
     "name": "stdout",
     "output_type": "stream",
     "text": [
      "[9.200162999898052e-47, 1.9576310906573923e-45, -1.913823157766957e-45, -7.742700229513765e-46, 2.1785765610848497e-46]\n"
     ]
    },
    {
     "data": {
      "text/plain": [
       "4.440892098500626e-16"
      ]
     },
     "execution_count": 22,
     "metadata": {},
     "output_type": "execute_result"
    }
   ],
   "source": [
    "dimensions = 5\n",
    "bound = (-10,10)\n",
    "\n",
    "fx, M = DE(dimensions, bound, aukley, pop = 20, runs= 1000)\n",
    "fx"
   ]
  },
  {
   "cell_type": "code",
   "execution_count": 23,
   "metadata": {},
   "outputs": [
    {
     "name": "stdout",
     "output_type": "stream",
     "text": [
      "[-3.8174020303556047e-45, 2.3744683598633694e-44, -6.505491703489721e-45, -6.300600043971876e-44, -1.3092882116144903e-46]\n"
     ]
    },
    {
     "data": {
      "text/plain": [
       "-4.971513939609185e-44"
      ]
     },
     "execution_count": 23,
     "metadata": {},
     "output_type": "execute_result"
    }
   ],
   "source": [
    "dimensions = 5\n",
    "bound = (-10,10)\n",
    "\n",
    "fx, M  = DE(dimensions, bound, schewefels2, pop = 20, runs= 1000)\n",
    "fx"
   ]
  },
  {
   "cell_type": "code",
   "execution_count": null,
   "metadata": {},
   "outputs": [],
   "source": []
  },
  {
   "cell_type": "code",
   "execution_count": null,
   "metadata": {},
   "outputs": [],
   "source": []
  }
 ],
 "metadata": {
  "kernelspec": {
   "display_name": "Python [default]",
   "language": "python",
   "name": "python3"
  },
  "language_info": {
   "codemirror_mode": {
    "name": "ipython",
    "version": 3
   },
   "file_extension": ".py",
   "mimetype": "text/x-python",
   "name": "python",
   "nbconvert_exporter": "python",
   "pygments_lexer": "ipython3",
   "version": "3.5.6"
  }
 },
 "nbformat": 4,
 "nbformat_minor": 2
}
